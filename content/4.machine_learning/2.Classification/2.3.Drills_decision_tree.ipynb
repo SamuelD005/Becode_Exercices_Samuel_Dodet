{
 "cells": [
  {
   "cell_type": "markdown",
   "metadata": {},
   "source": [
    "## Exercise 3\n",
    "* **Dataset:** [`Red wine`](https://www.kaggle.com/uciml/red-wine-quality-cortez-et-al-2009)\n",
    "* **Model to use:** [`Decision tree`](https://scikit-learn.org/stable/modules/tree.html)\n",
    "* **Model evaluation:** You can choose."
   ]
  },
  {
   "cell_type": "code",
   "execution_count": 2,
   "metadata": {},
   "outputs": [],
   "source": [
    "# Add you code here.\n",
    "import pandas as pd\n",
    "import numpy as np\n",
    "df = pd.read_csv(\"winequality-red.csv\")\n"
   ]
  },
  {
   "cell_type": "code",
   "execution_count": 3,
   "metadata": {},
   "outputs": [],
   "source": [
    "X=df.drop('quality',axis=1) \n",
    "y=df['quality'] "
   ]
  },
  {
   "cell_type": "code",
   "execution_count": 4,
   "metadata": {},
   "outputs": [],
   "source": [
    "from sklearn.preprocessing import StandardScaler\n",
    "from sklearn.metrics import accuracy_score\n",
    "from sklearn.model_selection import train_test_split\n",
    "from sklearn.metrics import roc_auc_score\n",
    "from sklearn.model_selection import GridSearchCV\n",
    "\n",
    "X_train, X_test, y_train, y_test = train_test_split(X, y, test_size=0.3, random_state=42)"
   ]
  },
  {
   "cell_type": "code",
   "execution_count": 5,
   "metadata": {},
   "outputs": [],
   "source": [
    "#Import Decision Tree\n",
    "from sklearn import tree\n",
    "clf=tree.DecisionTreeClassifier()\n",
    "\n",
    "#Train the model using the training sets y_pred=clf.predict(X_test)\n",
    "predictor = clf.fit(X_train,y_train)\n",
    "\n",
    "y_pred=clf.predict(X_test)\n"
   ]
  },
  {
   "cell_type": "code",
   "execution_count": 6,
   "metadata": {},
   "outputs": [
    {
     "name": "stdout",
     "output_type": "stream",
     "text": [
      "              precision    recall  f1-score   support\n",
      "\n",
      "           3       0.00      0.00      0.00         1\n",
      "           4       0.06      0.06      0.06        17\n",
      "           5       0.66      0.64      0.65       195\n",
      "           6       0.55      0.56      0.56       200\n",
      "           7       0.45      0.49      0.47        61\n",
      "           8       0.25      0.17      0.20         6\n",
      "\n",
      "    accuracy                           0.56       480\n",
      "   macro avg       0.33      0.32      0.32       480\n",
      "weighted avg       0.56      0.56      0.56       480\n",
      "\n"
     ]
    }
   ],
   "source": [
    "from sklearn.metrics import classification_report\n",
    "\n",
    "print(classification_report(y_test,y_pred))"
   ]
  },
  {
   "cell_type": "code",
   "execution_count": 9,
   "metadata": {},
   "outputs": [
    {
     "name": "stdout",
     "output_type": "stream",
     "text": [
      "Model Performance\n",
      "Average Error: 0.5146 degrees.\n",
      "Accuracy = 90.66%.\n",
      "9.341021825396831\n",
      "[5 4 5 6 6 5 5 5 7 6 6 5 6 5 5 7 6 5 7 5 5 6 5 6 6 6 6 6 7 6 5 6 6 5 6 5 6\n",
      " 6 6 6 4 5 6 5 5 5 6 5 5 5 5 5 6 7 5 5 6 6 6 5 6 6 6 5 7 6 6 6 7 5 6 5 6 6\n",
      " 6 5 6 5 5 7 5 7 5 6 7 7 5 6 7 5 7 4 5 5 5 5 5 6 5 5 5 5 6 6 6 7 7 5 7 6 6\n",
      " 4 7 5 4 7 5 5 5 6 6 6 7 5 6 5 6 7 5 6 6 5 5 6 5 6 5 6 6 7 7 6 6 4 5 5 6 6\n",
      " 6 5 6 6 6 5 6 5 6 7 5 5 6 5 7 5 6 6 6 5 6 5 5 4 7 6 7 6 6 5 5 6 4 6 4 6 5\n",
      " 5 6 6 7 6 6 7 5 6 6 5 5 6 5 7 5 6 5 5 7 5 5 6 7 7 8 5 5 7 6 6 6 5 6 5 5 6\n",
      " 6 6 5 5 5 7 5 5 6 4 7 6 5 7 5 7 6 5 5 6 6 7 5 7 6 5 7 5 6 5 6 5 6 6 5 4 6\n",
      " 6 7 5 5 7 5 5 5 5 6 6 5 6 6 6 3 6 6 7 7 6 7 5 5 6 5 7 5 6 6 6 7 6 8 5 5 6\n",
      " 5 7 7 6 5 5 6 6 6 5 6 7 6 7 5 5 5 6 5 6 5 5 8 5 6 6 6 6 4 5 7 6 5 6 5 7 6\n",
      " 6 6 6 6 6 6 4 7 7 5 6 6 6 6 5 6 6 5 6 5 6 6 6 5 5 5 5 6 6 5 6 5 6 6 5 5 6\n",
      " 5 4 6 6 6 6 6 7 5 6 5 6 6 6 5 7 6 5 6 5 5 5 6 6 6 6 5 6 6 6 5 5 4 5 5 6 6\n",
      " 6 6 5 5 6 6 6 5 6 5 7 6 7 6 5 6 5 6 6 5 5 6 5 7 6 6 5 7 5 6 5 5 6 4 6 7 5\n",
      " 6 6 5 5 6 5 5 7 3 5 5 5 7 5 5 5 5 4 5 5 6 5 6 5 6 5 7 5 6 6 5 7 8 6 6 5]\n",
      "803     1\n",
      "124     1\n",
      "350     1\n",
      "682     1\n",
      "1326    0\n",
      "       ..\n",
      "1468    0\n",
      "495     0\n",
      "1325    0\n",
      "514     1\n",
      "576     1\n",
      "Name: quality, Length: 480, dtype: int64\n",
      "803     6\n",
      "124     5\n",
      "350     6\n",
      "682     5\n",
      "1326    6\n",
      "       ..\n",
      "1468    7\n",
      "495     8\n",
      "1325    6\n",
      "514     7\n",
      "576     4\n",
      "Name: quality, Length: 480, dtype: int64\n",
      "<class 'pandas.core.series.Series'>\n"
     ]
    }
   ],
   "source": [
    "def evaluate(model, test_features, test_labels):\n",
    "    predictions = model.predict(test_features)\n",
    "    errors = abs(predictions - test_labels)\n",
    "    mape = 100 * np.mean(errors / test_labels)\n",
    "    accuracy = 100 - mape\n",
    "    print('Model Performance')\n",
    "    print('Average Error: {:0.4f} degrees.'.format(np.mean(errors)))\n",
    "    print('Accuracy = {:0.2f}%.'.format(accuracy))\n",
    "    print(mape)\n",
    "    print(predictions)\n",
    "    print(errors)\n",
    "    print(test_labels)\n",
    "    print(type(test_labels))\n",
    "    return accuracy\n",
    "\n",
    "base_accuracy = evaluate(predictor, X_test, y_test)"
   ]
  },
  {
   "cell_type": "code",
   "execution_count": null,
   "metadata": {},
   "outputs": [],
   "source": []
  }
 ],
 "metadata": {
  "kernelspec": {
   "display_name": "Python 3",
   "language": "python",
   "name": "python3"
  },
  "language_info": {
   "codemirror_mode": {
    "name": "ipython",
    "version": 3
   },
   "file_extension": ".py",
   "mimetype": "text/x-python",
   "name": "python",
   "nbconvert_exporter": "python",
   "pygments_lexer": "ipython3",
   "version": "3.8.5"
  }
 },
 "nbformat": 4,
 "nbformat_minor": 2
}
