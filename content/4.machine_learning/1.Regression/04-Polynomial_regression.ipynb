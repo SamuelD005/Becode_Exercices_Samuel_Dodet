{
 "cells": [
  {
   "cell_type": "markdown",
   "metadata": {},
   "source": [
    "# Polynomial regression\n",
    "Polynomial regression will allow us to build a nonlinear model by adopting and fitting a polynomial.\n",
    "\n",
    "We have seen how to solve a linear problem. But in everyday life, we meet a lot of other models that are not linear, which are made of curves, sinusoids etc...\n",
    "\n",
    "If we observe the contamination rate of a pandemic, the line will not be linear but will probably look like an exponential curve.\n",
    "\n",
    "For example, if you apply a linear model on these data :\n"
   ]
  },
  {
   "cell_type": "markdown",
   "metadata": {},
   "source": [
    "\n",
    "\n",
    "![polynomial](./assets/polynom_1.JPG)\n",
    "\n",
    "\n",
    "We can see that the bias of our predictions will be important.   \n",
    "We cannot say that our model is effective.\n",
    "\n",
    "But the following model already inspires me much more confidence."
   ]
  },
  {
   "cell_type": "markdown",
   "metadata": {},
   "source": [
    "![](./assets/poly_2.jpg)\n",
    "\n",
    "The polynomial can have several degrees, the more degrees it has, the more it will be able to solve complex problems."
   ]
  },
  {
   "cell_type": "markdown",
   "metadata": {},
   "source": [
    "<img src=\"https://upload.wikimedia.org/wikipedia/commons/1/16/Lsf.gif\" />\n",
    "Source <a href=https://upload.wikimedia.org/wikipedia/commons/1/16/Lsf.gif >Wikipedia</a>"
   ]
  },
  {
   "cell_type": "markdown",
   "metadata": {},
   "source": [
    "Although polynomial models allow us to model relationships of non-linear shapes, they belong to the family of linear models. In the term \"linear model\", the adjective \"linear\" refers to the parameters of the model and the fact that their effects are added together. This is indeed the case here. Moreover, linear regression is a polynomial of degree 1. "
   ]
  },
  {
   "cell_type": "markdown",
   "metadata": {},
   "source": [
    "## Variables studied"
   ]
  },
  {
   "cell_type": "code",
   "execution_count": 2,
   "metadata": {},
   "outputs": [],
   "source": [
    "import numpy as np\n",
    "from sklearn.datasets import make_regression\n",
    "import matplotlib.pyplot as plt\n",
    "import pandas as pd"
   ]
  },
  {
   "cell_type": "markdown",
   "metadata": {},
   "source": [
    "First of all, we will load our dataset. This is a fake dataset for the example."
   ]
  },
  {
   "cell_type": "code",
   "execution_count": 3,
   "metadata": {},
   "outputs": [
    {
     "data": {
      "text/html": [
       "<div>\n",
       "<style scoped>\n",
       "    .dataframe tbody tr th:only-of-type {\n",
       "        vertical-align: middle;\n",
       "    }\n",
       "\n",
       "    .dataframe tbody tr th {\n",
       "        vertical-align: top;\n",
       "    }\n",
       "\n",
       "    .dataframe thead th {\n",
       "        text-align: right;\n",
       "    }\n",
       "</style>\n",
       "<table border=\"1\" class=\"dataframe\">\n",
       "  <thead>\n",
       "    <tr style=\"text-align: right;\">\n",
       "      <th></th>\n",
       "      <th>x</th>\n",
       "      <th>y</th>\n",
       "    </tr>\n",
       "  </thead>\n",
       "  <tbody>\n",
       "    <tr>\n",
       "      <th>0</th>\n",
       "      <td>0.302472</td>\n",
       "      <td>-4.306789</td>\n",
       "    </tr>\n",
       "    <tr>\n",
       "      <th>1</th>\n",
       "      <td>-1.270485</td>\n",
       "      <td>-56.483346</td>\n",
       "    </tr>\n",
       "    <tr>\n",
       "      <th>2</th>\n",
       "      <td>1.532779</td>\n",
       "      <td>211.100819</td>\n",
       "    </tr>\n",
       "    <tr>\n",
       "      <th>3</th>\n",
       "      <td>-1.602058</td>\n",
       "      <td>-39.496543</td>\n",
       "    </tr>\n",
       "    <tr>\n",
       "      <th>4</th>\n",
       "      <td>1.139401</td>\n",
       "      <td>168.565071</td>\n",
       "    </tr>\n",
       "  </tbody>\n",
       "</table>\n",
       "</div>"
      ],
      "text/plain": [
       "          x           y\n",
       "0  0.302472   -4.306789\n",
       "1 -1.270485  -56.483346\n",
       "2  1.532779  211.100819\n",
       "3 -1.602058  -39.496543\n",
       "4  1.139401  168.565071"
      ]
     },
     "execution_count": 3,
     "metadata": {},
     "output_type": "execute_result"
    }
   ],
   "source": [
    "df = pd.read_csv(\"./data/poly.csv\")\n",
    "df.head()"
   ]
  },
  {
   "cell_type": "code",
   "execution_count": 4,
   "metadata": {},
   "outputs": [
    {
     "data": {
      "text/plain": [
       "(200, 2)"
      ]
     },
     "execution_count": 4,
     "metadata": {},
     "output_type": "execute_result"
    }
   ],
   "source": [
    "df.shape"
   ]
  },
  {
   "cell_type": "markdown",
   "metadata": {},
   "source": [
    "As you can see we now have 200 rows, 1 feature and 1 target."
   ]
  },
  {
   "cell_type": "markdown",
   "metadata": {},
   "source": [
    "**Exercise :** Create the x and y variables and define which column will be the target and which column will be the feature. \n",
    "Variables x and y must be of type `numpy.ndarray`. Our variable x therefore has one dimension. (200, 1)"
   ]
  },
  {
   "cell_type": "code",
   "execution_count": 5,
   "metadata": {},
   "outputs": [
    {
     "name": "stdout",
     "output_type": "stream",
     "text": [
      "(200,)\n",
      "(200,)\n"
     ]
    },
    {
     "data": {
      "text/plain": [
       "((200, 1), (200, 1))"
      ]
     },
     "execution_count": 5,
     "metadata": {},
     "output_type": "execute_result"
    }
   ],
   "source": [
    "# Verification des dimensions\n",
    "x = df['x'].to_numpy()\n",
    "y = df['y'].to_numpy()\n",
    "print(x.shape)\n",
    "print(y.shape)\n",
    "x= x.reshape(200,1)\n",
    "y = y.reshape(200,1)\n",
    "# redimensionner y\n",
    "x.shape,y.shape"
   ]
  },
  {
   "cell_type": "markdown",
   "metadata": {},
   "source": [
    "### Relationship between variables"
   ]
  },
  {
   "cell_type": "markdown",
   "metadata": {},
   "source": [
    "**Exercise:** Use matplotlib (or other) to display a dataset in scatter plot."
   ]
  },
  {
   "cell_type": "code",
   "execution_count": 8,
   "metadata": {},
   "outputs": [
    {
     "data": {
      "text/plain": [
       "<matplotlib.collections.PathCollection at 0x7ffa9792d7f0>"
      ]
     },
     "execution_count": 8,
     "metadata": {},
     "output_type": "execute_result"
    },
    {
     "data": {
      "image/png": "[encoded data removed]",
      "text/plain": [
       "<Figure size 432x288 with 1 Axes>"
      ]
     },
     "metadata": {
      "needs_background": "light"
     },
     "output_type": "display_data"
    }
   ],
   "source": [
    "plt.scatter(x,y)"
   ]
  },
  {
   "cell_type": "markdown",
   "metadata": {},
   "source": [
    "**Exercise :** Show correlation coefficients."
   ]
  },
  {
   "cell_type": "code",
   "execution_count": 9,
   "metadata": {},
   "outputs": [
    {
     "data": {
      "text/html": [
       "<div>\n",
       "<style scoped>\n",
       "    .dataframe tbody tr th:only-of-type {\n",
       "        vertical-align: middle;\n",
       "    }\n",
       "\n",
       "    .dataframe tbody tr th {\n",
       "        vertical-align: top;\n",
       "    }\n",
       "\n",
       "    .dataframe thead th {\n",
       "        text-align: right;\n",
       "    }\n",
       "</style>\n",
       "<table border=\"1\" class=\"dataframe\">\n",
       "  <thead>\n",
       "    <tr style=\"text-align: right;\">\n",
       "      <th></th>\n",
       "      <th>x</th>\n",
       "      <th>y</th>\n",
       "    </tr>\n",
       "  </thead>\n",
       "  <tbody>\n",
       "    <tr>\n",
       "      <th>x</th>\n",
       "      <td>1.000000</td>\n",
       "      <td>0.911229</td>\n",
       "    </tr>\n",
       "    <tr>\n",
       "      <th>y</th>\n",
       "      <td>0.911229</td>\n",
       "      <td>1.000000</td>\n",
       "    </tr>\n",
       "  </tbody>\n",
       "</table>\n",
       "</div>"
      ],
      "text/plain": [
       "          x         y\n",
       "x  1.000000  0.911229\n",
       "y  0.911229  1.000000"
      ]
     },
     "execution_count": 9,
     "metadata": {},
     "output_type": "execute_result"
    }
   ],
   "source": [
    "df.corr()"
   ]
  },
  {
   "cell_type": "markdown",
   "metadata": {},
   "source": [
    "As we can see, the coefficient of correlation remains important even if the dataset is not perfectly linear."
   ]
  },
  {
   "cell_type": "markdown",
   "metadata": {},
   "source": [
    "### Split the dataset"
   ]
  },
  {
   "cell_type": "markdown",
   "metadata": {},
   "source": [
    "\n",
    "You now know the process!\n",
    "\n",
    "**Exercise :** Import train_test_split from sklearn and split the dataset and create the variables X_train, X_test, y_train, y_test."
   ]
  },
  {
   "cell_type": "code",
   "execution_count": 10,
   "metadata": {},
   "outputs": [
    {
     "data": {
      "text/plain": [
       "array([[ 1.8831507 ],\n",
       "       [ 1.89588918],\n",
       "       [ 1.20237985],\n",
       "       [-0.67433266],\n",
       "       [ 0.39600671],\n",
       "       [ 0.95008842],\n",
       "       [-1.14746865],\n",
       "       [ 0.31694261],\n",
       "       [-1.09306151],\n",
       "       [-1.70627019],\n",
       "       [ 0.82350415],\n",
       "       [ 0.05216508],\n",
       "       [ 0.68159452],\n",
       "       [ 1.49407907],\n",
       "       [-0.74745481],\n",
       "       [ 0.15634897],\n",
       "       [ 1.9507754 ],\n",
       "       [-1.07075262],\n",
       "       [-0.30230275],\n",
       "       [ 0.94725197],\n",
       "       [-0.76991607],\n",
       "       [ 2.38314477],\n",
       "       [ 0.72909056],\n",
       "       [-1.23482582],\n",
       "       [ 0.40015721],\n",
       "       [ 0.94942081],\n",
       "       [-1.37495129],\n",
       "       [ 1.86755896],\n",
       "       [-0.35955316],\n",
       "       [-1.10438334],\n",
       "       [ 0.94447949],\n",
       "       [-1.03424284],\n",
       "       [-1.270485  ],\n",
       "       [ 0.92220667],\n",
       "       [ 0.8644362 ],\n",
       "       [-0.26800337],\n",
       "       [-0.35399391],\n",
       "       [-1.53624369],\n",
       "       [ 1.92294203],\n",
       "       [ 1.46935877],\n",
       "       [ 1.91006495],\n",
       "       [-0.15135721],\n",
       "       [ 1.45427351],\n",
       "       [-1.09940079],\n",
       "       [-0.74475482],\n",
       "       [ 0.97873798],\n",
       "       [-1.22543552],\n",
       "       [ 1.48825219],\n",
       "       [-0.41361898],\n",
       "       [ 0.42833187],\n",
       "       [-0.87079715],\n",
       "       [ 0.40234164],\n",
       "       [-0.50965218],\n",
       "       [-0.49803245],\n",
       "       [ 0.14404357],\n",
       "       [ 0.84436298],\n",
       "       [-0.09845252],\n",
       "       [-1.49125759],\n",
       "       [ 0.97663904],\n",
       "       [ 0.01747916],\n",
       "       [-1.17312341],\n",
       "       [ 1.5430146 ],\n",
       "       [ 0.15494743],\n",
       "       [-0.69456786],\n",
       "       [ 1.33652795],\n",
       "       [-0.86122569],\n",
       "       [ 1.92953205],\n",
       "       [-1.18063218],\n",
       "       [ 0.3563664 ],\n",
       "       [ 0.12898291],\n",
       "       [-0.06824161],\n",
       "       [-1.5447711 ],\n",
       "       [ 2.16323595],\n",
       "       [ 1.76405235],\n",
       "       [-0.15501009],\n",
       "       [ 0.77749036],\n",
       "       [ 1.3263859 ],\n",
       "       [-1.00021535],\n",
       "       [ 1.23029068],\n",
       "       [-0.51080514],\n",
       "       [ 1.22244507],\n",
       "       [-0.85409574],\n",
       "       [-0.4380743 ],\n",
       "       [ 0.44386323],\n",
       "       [-1.25279536],\n",
       "       [-1.16514984],\n",
       "       [ 0.67643329],\n",
       "       [ 0.6536186 ],\n",
       "       [-0.81314628],\n",
       "       [ 0.96939671],\n",
       "       [-0.68954978],\n",
       "       [-0.03928282],\n",
       "       [ 1.05445173],\n",
       "       [-0.4615846 ],\n",
       "       [-0.67246045],\n",
       "       [ 1.53277921],\n",
       "       [ 0.01050002],\n",
       "       [ 0.17742614],\n",
       "       [-0.91282223],\n",
       "       [-0.97727788],\n",
       "       [ 1.18802979],\n",
       "       [-0.14963454],\n",
       "       [ 0.52327666],\n",
       "       [ 1.48051479],\n",
       "       [ 0.67229476],\n",
       "       [ 0.20827498],\n",
       "       [ 0.0519454 ],\n",
       "       [-0.21274028],\n",
       "       [ 0.26705087],\n",
       "       [ 2.26975462],\n",
       "       [-0.6436184 ],\n",
       "       [ 0.03183056],\n",
       "       [ 0.1666735 ],\n",
       "       [ 0.3130677 ],\n",
       "       [-0.80340966],\n",
       "       [-1.1680935 ],\n",
       "       [ 0.29823817],\n",
       "       [-0.89546656],\n",
       "       [-0.38732682],\n",
       "       [-0.18718385],\n",
       "       [ 0.31872765],\n",
       "       [ 0.8024564 ],\n",
       "       [ 0.37816252],\n",
       "       [ 0.76103773],\n",
       "       [ 0.90082649],\n",
       "       [-1.60205766],\n",
       "       [ 0.4393917 ],\n",
       "       [-0.88778575],\n",
       "       [ 1.94362119],\n",
       "       [ 0.3869025 ],\n",
       "       [ 0.06651722],\n",
       "       [-0.739563  ],\n",
       "       [-0.20515826],\n",
       "       [ 0.46278226],\n",
       "       [-0.17154633],\n",
       "       [-1.45436567],\n",
       "       [ 0.46566244],\n",
       "       [-0.68481009],\n",
       "       [ 0.04575852],\n",
       "       [-0.90729836],\n",
       "       [-0.4555325 ],\n",
       "       [ 0.05616534],\n",
       "       [ 0.40746184],\n",
       "       [-1.07993151],\n",
       "       [-1.42001794],\n",
       "       [ 2.2408932 ],\n",
       "       [-0.82643854],\n",
       "       [-1.61389785],\n",
       "       [-0.36274117],\n",
       "       [-1.98079647],\n",
       "       [ 1.84926373],\n",
       "       [ 0.61407937],\n",
       "       [ 0.90604466],\n",
       "       [ 0.62523145],\n",
       "       [-0.43515355],\n",
       "       [-1.04855297],\n",
       "       [ 0.63503144],\n",
       "       [ 0.08755124],\n",
       "       [-1.29285691],\n",
       "       [ 0.92085882]])"
      ]
     },
     "execution_count": 10,
     "metadata": {},
     "output_type": "execute_result"
    }
   ],
   "source": [
    "from sklearn.model_selection import train_test_split\n",
    "X_train, X_test, Y_train, Y_test = train_test_split(x,y, test_size=0.2, train_size=0.8)\n",
    "X_train"
   ]
  },
  {
   "cell_type": "markdown",
   "metadata": {},
   "source": [
    "##  Load and fit the model (with Sklearn)"
   ]
  },
  {
   "cell_type": "markdown",
   "metadata": {},
   "source": [
    "This time there is a little change. \n",
    "We have a single feature in our dataset. The polynomial model is a special case of multiple regression. So we need several features to be able to apply polynomial regression. And these features, we'll have to add them ourselves. By the way, this way of doing things has a name: feature engineering.\n",
    "\n",
    "\n",
    "Let's imagine that we want to have a 2-degree polynomial regression. \n",
    "So we will need to add a feature. \n",
    "This feature is simply an exponent of x.  \n",
    "\n",
    "$[ x, x²]$\n",
    "\n",
    "So x² is the new feature.\n",
    "\n",
    "If you want a 3-degree polynomial model, you will have to add 2 features in this case.\n",
    "\n",
    "$[x, x², x³]$\n",
    "\n",
    "To do this, we will need to create a pipeline. \n",
    "A pipeline is a processing chain that will execute a set of functions and pass arguments between them.\n"
   ]
  },
  {
   "cell_type": "code",
   "execution_count": 11,
   "metadata": {},
   "outputs": [],
   "source": [
    "from sklearn.preprocessing import PolynomialFeatures\n",
    "from sklearn.pipeline import make_pipeline\n",
    "from sklearn.linear_model import LinearRegression"
   ]
  },
  {
   "cell_type": "markdown",
   "metadata": {},
   "source": [
    "First of all, we need to define the number of degrees.   \n",
    "**Exercise:** Create a degree variable with 1 as value. (We will change this value later)"
   ]
  },
  {
   "cell_type": "code",
   "execution_count": 22,
   "metadata": {},
   "outputs": [],
   "source": [
    "degree=4"
   ]
  },
  {
   "cell_type": "markdown",
   "metadata": {},
   "source": [
    "**Exercise :** Create a pipeline with sklearn.This pipeline must contain the ``PolynomialFeatures`` and ``LinearRegression`` classes. Don't forget to set the number of degrees for the ``PolynomialFeatures``\n"
   ]
  },
  {
   "cell_type": "code",
   "execution_count": 23,
   "metadata": {},
   "outputs": [
    {
     "data": {
      "text/plain": [
       "Pipeline(steps=[('polynomialfeatures', PolynomialFeatures(degree=4)),\n",
       "                ('linearregression', LinearRegression())])"
      ]
     },
     "execution_count": 23,
     "metadata": {},
     "output_type": "execute_result"
    }
   ],
   "source": [
    "polyreg=make_pipeline(PolynomialFeatures(degree),LinearRegression())\n",
    "polyreg.fit(x,y)"
   ]
  },
  {
   "cell_type": "markdown",
   "metadata": {},
   "source": [
    "**Exercise :** Fit your model."
   ]
  },
  {
   "cell_type": "code",
   "execution_count": null,
   "metadata": {},
   "outputs": [],
   "source": []
  },
  {
   "cell_type": "markdown",
   "metadata": {},
   "source": [
    "**Exercise :** Use a scatter plot and display your predictions on X_test"
   ]
  },
  {
   "cell_type": "code",
   "execution_count": 24,
   "metadata": {},
   "outputs": [
    {
     "data": {
      "image/png": "[encoded data removed]",
      "text/plain": [
       "<Figure size 432x288 with 1 Axes>"
      ]
     },
     "metadata": {
      "needs_background": "light"
     },
     "output_type": "display_data"
    }
   ],
   "source": [
    "plt.figure()\n",
    "plt.scatter(x,y)\n",
    "plt.scatter(x,polyreg.predict(x),color=\"red\")\n",
    "plt.title(\"Polynomial regression with degree \"+str(degree))\n",
    "plt.show()"
   ]
  },
  {
   "cell_type": "markdown",
   "metadata": {},
   "source": [
    "If you see a straight line it is because we have set the number of degrees to one. This confirms that the linear regression is indeed a polynomial model of degree 1.\n",
    "\n",
    "**Exercise :** Change the number of degrees and train your model again. You must try to fit the curve as well as possible while limiting the number of degrees, to save some resources from your machine."
   ]
  },
  {
   "cell_type": "code",
   "execution_count": null,
   "metadata": {},
   "outputs": [],
   "source": []
  },
  {
   "cell_type": "markdown",
   "metadata": {},
   "source": [
    "## From scratch."
   ]
  },
  {
   "cell_type": "markdown",
   "metadata": {},
   "source": [
    "Again a few changes. This time we'll just have to add new features manually. \n",
    "\n",
    "### Transform to matrix\n",
    "\n",
    "$$\n",
    "\\\\ Y = X . \\theta \\\\\n",
    "$$\n",
    "\n",
    "The $Y$ vector is the same too\n",
    "\n",
    "$$Y =\n",
    "\\begin{bmatrix}\n",
    "y^{(1)}\\\\\n",
    "y^{(2)}\\\\\n",
    "y^{(3)}\\\\\n",
    "... \\\\\n",
    "y^{(m)}\\\\\n",
    "\\end{bmatrix}\n",
    "$$ \n"
   ]
  },
  {
   "cell_type": "markdown",
   "metadata": {},
   "source": [
    "The theta vector will have as many lines as there are characteristics +1 (for the constant). \n",
    "$$ \\theta =\n",
    "\\begin{bmatrix}\n",
    "a\\\\\n",
    "b\\\\\n",
    "c\\\\\n",
    "... \\\\\n",
    "\\end{bmatrix}\n",
    "$$"
   ]
  },
  {
   "cell_type": "markdown",
   "metadata": {},
   "source": [
    "The $X$ initially looks like this : "
   ]
  },
  {
   "cell_type": "markdown",
   "metadata": {},
   "source": [
    "$$ X =\n",
    "\\begin{bmatrix}\n",
    "x^{(1)}\\\\\n",
    "x^{(2)}\\\\\n",
    "x^{(3)}\\\\\n",
    "x^{(m)}\\\\\n",
    "\\end{bmatrix}\n",
    "$$"
   ]
  },
  {
   "cell_type": "markdown",
   "metadata": {},
   "source": [
    "If we want to add a degree to the polynomial, it adds a feature to our $X$. And this feature will contain x²."
   ]
  },
  {
   "cell_type": "markdown",
   "metadata": {},
   "source": [
    "Example of polynomial of degree 2 :"
   ]
  },
  {
   "cell_type": "markdown",
   "metadata": {},
   "source": [
    "$$ X =\n",
    "\\begin{bmatrix}\n",
    "x^{(1)}_1, x^{(1)2}_2\\\\\n",
    "x^{(2)}_1, x^{(2)2}_2\\\\\n",
    "x^{(3)}_1, x^{(3)2}_2\\\\\n",
    "\\dots, \\dots\\\\\n",
    "x^{(m)}_1,x^{(m)k}_2\\\\\n",
    "\\end{bmatrix}\n",
    "$$"
   ]
  },
  {
   "cell_type": "markdown",
   "metadata": {},
   "source": [
    "Example of polynomial of degree 3: (In this case the third feature will be of power 3.)"
   ]
  },
  {
   "cell_type": "markdown",
   "metadata": {},
   "source": [
    "$$ X =\n",
    "\\begin{bmatrix}\n",
    "x^{(1)}_1, x^{(1)2}_2, x^{(1)3}_3\\\\\n",
    "x^{(2)}_1, x^{(2)2}_2, x^{(2)3}_3\\\\\n",
    "x^{(3)}_1, x^{(3)2}_2, x^{(3)3}_3\\\\\n",
    "\\dots, \\dots,\\dots \\\\\n",
    "x^{(m)}_1,x^{(m)2}_2, x^{(m)3}_3\\\\\n",
    "\\end{bmatrix}\n",
    "$$\n",
    "\n",
    "And so on and so forth. Of course, don't forget at the end to add a feature with only 1s."
   ]
  },
  {
   "cell_type": "markdown",
   "metadata": {},
   "source": [
    "$$ X =\n",
    "\\begin{bmatrix}\n",
    "x^{(1)}_1, x^{(1)2}_2, ..., x^{(m)k}_{n}, 1\\\\\n",
    "x^{(2)}_1, x^{(2)2}_2, ..., x^{(m)k}_{n}, 1\\\\\n",
    "x^{(3)}_1, x^{(3)2}_2, ..., x^{(m)k}_{n}, 1\\\\\n",
    "x^{(m)}_1,x^{(m)k}_2, ..., x^{(m)k}_{n}, 1\\\\\n",
    "\\end{bmatrix}\n",
    "$$"
   ]
  },
  {
   "cell_type": "markdown",
   "metadata": {},
   "source": [
    "**Exercise :** Create a matrix for a 3 degrees polynomial $[x, x², x³, 1]$"
   ]
  },
  {
   "cell_type": "code",
   "execution_count": 25,
   "metadata": {},
   "outputs": [
    {
     "name": "stdout",
     "output_type": "stream",
     "text": [
      "(200, 4)\n",
      "[[ 0.3024719   0.09148925  0.02767293  1.        ]\n",
      " [-1.270485    1.61413213 -2.05073066  1.        ]\n",
      " [ 1.53277921  2.34941212  3.60113006  1.        ]\n",
      " [-1.60205766  2.56658873 -4.11182313  1.        ]\n",
      " [ 1.13940068  1.29823392  1.47920862  1.        ]\n",
      " [-0.50965218  0.25974535 -0.13237978  1.        ]\n",
      " [ 0.40746184  0.16602515  0.06764891  1.        ]\n",
      " [ 0.76103773  0.57917842  0.44077663  1.        ]\n",
      " [ 0.44386323  0.19701457  0.08744752  1.        ]\n",
      " [ 0.37816252  0.14300689  0.05407985  1.        ]]\n"
     ]
    }
   ],
   "source": [
    "# Création de la matrice X, inclut le Biais\n",
    "\n",
    "X = np.hstack((x, x**2)) # ajoute le vecteur x^2 a la gauche de la matrice X\n",
    "X = np.hstack((X, x**3))\n",
    "\n",
    "\n",
    "X = np.hstack((X, np.ones(x.shape)))\n",
    "\n",
    "print(X.shape)\n",
    "print(X[:10])"
   ]
  },
  {
   "cell_type": "markdown",
   "metadata": {},
   "source": [
    "**Exercise :** Initialize the random theta vector, with 4 elements (because X has four columns)"
   ]
  },
  {
   "cell_type": "code",
   "execution_count": 26,
   "metadata": {},
   "outputs": [
    {
     "data": {
      "text/plain": [
       "array([[ 0.17709421],\n",
       "       [ 1.32795816],\n",
       "       [-0.70608287],\n",
       "       [ 2.02473466]])"
      ]
     },
     "execution_count": 26,
     "metadata": {},
     "output_type": "execute_result"
    }
   ],
   "source": [
    "theta = np.random.randn(4, 1)\n",
    "theta"
   ]
  },
  {
   "cell_type": "markdown",
   "metadata": {},
   "source": [
    "**Exercise :** Create the model. It is always the same $$Y = X . \\theta $$"
   ]
  },
  {
   "cell_type": "code",
   "execution_count": 27,
   "metadata": {},
   "outputs": [],
   "source": [
    "def model(X, theta):\n",
    "    return X.dot(theta)"
   ]
  },
  {
   "cell_type": "markdown",
   "metadata": {},
   "source": [
    "**Exercise :** Create a MSE function. It is always the same too."
   ]
  },
  {
   "cell_type": "code",
   "execution_count": 28,
   "metadata": {},
   "outputs": [],
   "source": [
    "def cost_function(X, y, theta):\n",
    "    m = len(y)\n",
    "    return 1/(2*m) * np.sum((model(X, theta) - y)**2)"
   ]
  },
  {
   "cell_type": "markdown",
   "metadata": {},
   "source": [
    "**Exercise :** Creat a ``grad`` function. Again, It is always the same."
   ]
  },
  {
   "cell_type": "code",
   "execution_count": 29,
   "metadata": {},
   "outputs": [],
   "source": [
    "def grad(X, y, theta):\n",
    "    m = len(y)\n",
    "    return 1/m * X.T.dot(model(X, theta) - y)"
   ]
  },
  {
   "cell_type": "markdown",
   "metadata": {},
   "source": [
    "**Exercise :** \n",
    "Again...\n",
    "1. Create a `gradient_descent` function that receives as parameter `X`, `y`, `theta`, `learning_rate`, `n_iterations`\n",
    "2. In the function, create a variable `cost_history` with a matrix filled with 0 and which has a length of `n_iterations`. We will use it to display the histogram of the model learning process.\n",
    "3. Create a loop that iterates up to `n_iterations`\n",
    "4. In the loop, update `theta` with the formula of the gradient descent (The example above)\n",
    "5. In the loop, update `cost_history[i]` with the values of `MSE(X,y,theta)`\n",
    "6. Return `theta` and `cost_history`"
   ]
  },
  {
   "cell_type": "code",
   "execution_count": 30,
   "metadata": {},
   "outputs": [],
   "source": [
    "\n",
    "def gradient_descent(X, y, theta, learning_rate, n_iterations):\n",
    "    \n",
    "    cost_history = np.zeros(n_iterations) # création d'un tableau de stockage pour enregistrer l'évolution du Cout du modele\n",
    "    \n",
    "    for i in range(0, n_iterations):\n",
    "        theta = theta - learning_rate * grad(X, y, theta) # mise a jour du parametre theta (formule du gradient descent)\n",
    "        cost_history[i] = cost_function(X, y, theta) # on enregistre la valeur du Cout au tour i dans cost_history[i]\n",
    "        \n",
    "    return theta, cost_history"
   ]
  },
  {
   "cell_type": "markdown",
   "metadata": {},
   "source": [
    "### Train your model "
   ]
  },
  {
   "cell_type": "markdown",
   "metadata": {},
   "source": [
    "**Exercise :** Create variables `n_iterations` and `learning_rate`."
   ]
  },
  {
   "cell_type": "code",
   "execution_count": 31,
   "metadata": {},
   "outputs": [],
   "source": [
    "n_iterations = 1000\n",
    "learning_rate = 0.01\n"
   ]
  },
  {
   "cell_type": "markdown",
   "metadata": {},
   "source": [
    "**Exercise :** Create variables `theta_final`, `cost_history` and instance `gradient_descent()`."
   ]
  },
  {
   "cell_type": "code",
   "execution_count": 32,
   "metadata": {},
   "outputs": [],
   "source": [
    "theta_final, cost_history = gradient_descent(X, y, theta, learning_rate, n_iterations)"
   ]
  },
  {
   "cell_type": "markdown",
   "metadata": {},
   "source": [
    "**Exercise :** Create a `predictions` variable that contains `model(X, theta_final)`.\n"
   ]
  },
  {
   "cell_type": "code",
   "execution_count": 33,
   "metadata": {},
   "outputs": [],
   "source": [
    "predictions = model(X, theta_final)"
   ]
  },
  {
   "cell_type": "markdown",
   "metadata": {},
   "source": [
    "**Exercise :** Project your predictions and the true values of the dataset"
   ]
  },
  {
   "cell_type": "code",
   "execution_count": 34,
   "metadata": {},
   "outputs": [
    {
     "data": {
      "text/plain": [
       "<matplotlib.collections.PathCollection at 0x7ffa980f5f10>"
      ]
     },
     "execution_count": 34,
     "metadata": {},
     "output_type": "execute_result"
    },
    {
     "data": {
      "image/png": "[encoded data removed]",
      "text/plain": [
       "<Figure size 432x288 with 1 Axes>"
      ]
     },
     "metadata": {
      "needs_background": "light"
     },
     "output_type": "display_data"
    }
   ],
   "source": [
    "plt.scatter(x, y)\n",
    "plt.scatter(x, predictions, c='r')"
   ]
  },
  {
   "cell_type": "markdown",
   "metadata": {},
   "source": [
    "It says it looks like this."
   ]
  },
  {
   "cell_type": "markdown",
   "metadata": {},
   "source": [
    "<img src=\"./assets/poly3.JPG\" />"
   ]
  },
  {
   "cell_type": "markdown",
   "metadata": {},
   "source": [
    "**Exercise :** Plot cost_history"
   ]
  },
  {
   "cell_type": "code",
   "execution_count": 35,
   "metadata": {},
   "outputs": [
    {
     "data": {
      "image/png": "[encoded data removed]",
      "text/plain": [
       "<Figure size 432x288 with 1 Axes>"
      ]
     },
     "metadata": {
      "needs_background": "light"
     },
     "output_type": "display_data"
    }
   ],
   "source": [
    "plt.plot(range(1000), cost_history)\n",
    "plt.show()"
   ]
  },
  {
   "cell_type": "code",
   "execution_count": null,
   "metadata": {},
   "outputs": [],
   "source": [
    "def coef_determination(y, pred):\n",
    "    u = ((y - pred)**2).sum()\n",
    "    v = ((y - y.mean())**2).sum()\n",
    "    return 1 - u/v"
   ]
  },
  {
   "cell_type": "code",
   "execution_count": null,
   "metadata": {},
   "outputs": [],
   "source": [
    "coef_determination(y, predictions)"
   ]
  },
  {
   "cell_type": "markdown",
   "metadata": {},
   "source": [
    "**Exercise :** Try to improve your model by adding a degree to your polynomial model."
   ]
  },
  {
   "cell_type": "code",
   "execution_count": null,
   "metadata": {},
   "outputs": [],
   "source": []
  },
  {
   "cell_type": "markdown",
   "metadata": {},
   "source": [
    "Good, you must feel like this now: "
   ]
  },
  {
   "cell_type": "markdown",
   "metadata": {},
   "source": [
    "![](https://media.giphy.com/media/DHqth0hVQoIzS/giphy.gif)"
   ]
  },
  {
   "cell_type": "markdown",
   "metadata": {},
   "source": [
    "## Where to go next ? \n",
    "Linear models might look simple but they can get very complicated.\n",
    "You might look into **Ridge Regression** or **Lasso Regression** if you want to further deepen your knowledge.\n",
    "\n",
    "- [Statquest - Regularization explained (Lasso & Ridge)](https://youtu.be/Q81RR3yKn30)"
   ]
  }
 ],
 "metadata": {
  "kernelspec": {
   "display_name": "Python 3",
   "language": "python",
   "name": "python3"
  },
  "language_info": {
   "codemirror_mode": {
    "name": "ipython",
    "version": 3
   },
   "file_extension": ".py",
   "mimetype": "text/x-python",
   "name": "python",
   "nbconvert_exporter": "python",
   "pygments_lexer": "ipython3",
   "version": "3.8.5"
  }
 },
 "nbformat": 4,
 "nbformat_minor": 4
}
