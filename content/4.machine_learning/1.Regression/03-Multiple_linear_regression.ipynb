{
 "cells": [
  {
   "cell_type": "markdown",
   "metadata": {},
   "source": [
    "# Multiple linear regression."
   ]
  },
  {
   "cell_type": "markdown",
   "metadata": {},
   "source": [
    "Unlike the simple linear regression model, the multiple linear regression model is defined as any linear regression model with at least two explanatory variables. But what do we do when we have several variables? This is what we will see in this chapter. And you will finally be able to measure all the power of linear regression despite its simplicity!\n",
    "\n",
    "\n",
    "## Variables studied"
   ]
  },
  {
   "cell_type": "markdown",
   "metadata": {},
   "source": [
    "First of all, we will load our dataset. This is a fake Dataset for the example. "
   ]
  },
  {
   "cell_type": "code",
   "execution_count": 11,
   "metadata": {},
   "outputs": [
    {
     "data": {
      "text/html": [
       "<div>\n",
       "<style scoped>\n",
       "    .dataframe tbody tr th:only-of-type {\n",
       "        vertical-align: middle;\n",
       "    }\n",
       "\n",
       "    .dataframe tbody tr th {\n",
       "        vertical-align: top;\n",
       "    }\n",
       "\n",
       "    .dataframe thead th {\n",
       "        text-align: right;\n",
       "    }\n",
       "</style>\n",
       "<table border=\"1\" class=\"dataframe\">\n",
       "  <thead>\n",
       "    <tr style=\"text-align: right;\">\n",
       "      <th></th>\n",
       "      <th>x_1</th>\n",
       "      <th>x_2</th>\n",
       "      <th>y</th>\n",
       "    </tr>\n",
       "  </thead>\n",
       "  <tbody>\n",
       "    <tr>\n",
       "      <th>0</th>\n",
       "      <td>1.054452</td>\n",
       "      <td>-1.070753</td>\n",
       "      <td>-81.464433</td>\n",
       "    </tr>\n",
       "    <tr>\n",
       "      <th>1</th>\n",
       "      <td>-0.362741</td>\n",
       "      <td>-0.634322</td>\n",
       "      <td>-78.752795</td>\n",
       "    </tr>\n",
       "    <tr>\n",
       "      <th>2</th>\n",
       "      <td>-0.854096</td>\n",
       "      <td>0.313068</td>\n",
       "      <td>2.218414</td>\n",
       "    </tr>\n",
       "    <tr>\n",
       "      <th>3</th>\n",
       "      <td>1.326386</td>\n",
       "      <td>0.298238</td>\n",
       "      <td>52.234160</td>\n",
       "    </tr>\n",
       "    <tr>\n",
       "      <th>4</th>\n",
       "      <td>-0.461585</td>\n",
       "      <td>-1.315907</td>\n",
       "      <td>-159.639258</td>\n",
       "    </tr>\n",
       "  </tbody>\n",
       "</table>\n",
       "</div>"
      ],
      "text/plain": [
       "        x_1       x_2           y\n",
       "0  1.054452 -1.070753  -81.464433\n",
       "1 -0.362741 -0.634322  -78.752795\n",
       "2 -0.854096  0.313068    2.218414\n",
       "3  1.326386  0.298238   52.234160\n",
       "4 -0.461585 -1.315907 -159.639258"
      ]
     },
     "execution_count": 11,
     "metadata": {},
     "output_type": "execute_result"
    }
   ],
   "source": [
    "import pandas as pd\n",
    "df = pd.read_csv('./data/data_multi.csv')\n",
    "df.head()"
   ]
  },
  {
   "cell_type": "code",
   "execution_count": 12,
   "metadata": {},
   "outputs": [
    {
     "data": {
      "text/html": [
       "<div>\n",
       "<style scoped>\n",
       "    .dataframe tbody tr th:only-of-type {\n",
       "        vertical-align: middle;\n",
       "    }\n",
       "\n",
       "    .dataframe tbody tr th {\n",
       "        vertical-align: top;\n",
       "    }\n",
       "\n",
       "    .dataframe thead th {\n",
       "        text-align: right;\n",
       "    }\n",
       "</style>\n",
       "<table border=\"1\" class=\"dataframe\">\n",
       "  <thead>\n",
       "    <tr style=\"text-align: right;\">\n",
       "      <th></th>\n",
       "      <th>x_1</th>\n",
       "      <th>x_2</th>\n",
       "      <th>y</th>\n",
       "    </tr>\n",
       "  </thead>\n",
       "  <tbody>\n",
       "    <tr>\n",
       "      <th>0</th>\n",
       "      <td>1.054452</td>\n",
       "      <td>-1.070753</td>\n",
       "      <td>-81.464433</td>\n",
       "    </tr>\n",
       "    <tr>\n",
       "      <th>1</th>\n",
       "      <td>-0.362741</td>\n",
       "      <td>-0.634322</td>\n",
       "      <td>-78.752795</td>\n",
       "    </tr>\n",
       "    <tr>\n",
       "      <th>2</th>\n",
       "      <td>-0.854096</td>\n",
       "      <td>0.313068</td>\n",
       "      <td>2.218414</td>\n",
       "    </tr>\n",
       "    <tr>\n",
       "      <th>3</th>\n",
       "      <td>1.326386</td>\n",
       "      <td>0.298238</td>\n",
       "      <td>52.234160</td>\n",
       "    </tr>\n",
       "    <tr>\n",
       "      <th>4</th>\n",
       "      <td>-0.461585</td>\n",
       "      <td>-1.315907</td>\n",
       "      <td>-159.639258</td>\n",
       "    </tr>\n",
       "    <tr>\n",
       "      <th>...</th>\n",
       "      <td>...</td>\n",
       "      <td>...</td>\n",
       "      <td>...</td>\n",
       "    </tr>\n",
       "    <tr>\n",
       "      <th>95</th>\n",
       "      <td>0.823504</td>\n",
       "      <td>0.771791</td>\n",
       "      <td>86.316340</td>\n",
       "    </tr>\n",
       "    <tr>\n",
       "      <th>96</th>\n",
       "      <td>0.976639</td>\n",
       "      <td>0.208275</td>\n",
       "      <td>83.136943</td>\n",
       "    </tr>\n",
       "    <tr>\n",
       "      <th>97</th>\n",
       "      <td>-1.347759</td>\n",
       "      <td>1.883151</td>\n",
       "      <td>157.404615</td>\n",
       "    </tr>\n",
       "    <tr>\n",
       "      <th>98</th>\n",
       "      <td>0.052165</td>\n",
       "      <td>-1.104383</td>\n",
       "      <td>-136.511136</td>\n",
       "    </tr>\n",
       "    <tr>\n",
       "      <th>99</th>\n",
       "      <td>-1.726283</td>\n",
       "      <td>-0.813146</td>\n",
       "      <td>-143.452015</td>\n",
       "    </tr>\n",
       "  </tbody>\n",
       "</table>\n",
       "<p>100 rows × 3 columns</p>\n",
       "</div>"
      ],
      "text/plain": [
       "         x_1       x_2           y\n",
       "0   1.054452 -1.070753  -81.464433\n",
       "1  -0.362741 -0.634322  -78.752795\n",
       "2  -0.854096  0.313068    2.218414\n",
       "3   1.326386  0.298238   52.234160\n",
       "4  -0.461585 -1.315907 -159.639258\n",
       "..       ...       ...         ...\n",
       "95  0.823504  0.771791   86.316340\n",
       "96  0.976639  0.208275   83.136943\n",
       "97 -1.347759  1.883151  157.404615\n",
       "98  0.052165 -1.104383 -136.511136\n",
       "99 -1.726283 -0.813146 -143.452015\n",
       "\n",
       "[100 rows x 3 columns]"
      ]
     },
     "execution_count": 12,
     "metadata": {},
     "output_type": "execute_result"
    }
   ],
   "source": [
    "df"
   ]
  },
  {
   "cell_type": "code",
   "execution_count": 13,
   "metadata": {},
   "outputs": [
    {
     "data": {
      "text/plain": [
       "(100, 3)"
      ]
     },
     "execution_count": 13,
     "metadata": {},
     "output_type": "execute_result"
    }
   ],
   "source": [
    "df.shape"
   ]
  },
  {
   "cell_type": "markdown",
   "metadata": {},
   "source": [
    "As you can see we now have 100 rows, 2 features and 1 target."
   ]
  },
  {
   "cell_type": "markdown",
   "metadata": {},
   "source": [
    "**Exercise :** Create the x and y variables and define which column will be the target and which column will be the feature. \n",
    "Variables x and y must be of type `numpy.ndarray`. Therefore, our variable x has two dimensions this time."
   ]
  },
  {
   "cell_type": "code",
   "execution_count": 14,
   "metadata": {},
   "outputs": [
    {
     "data": {
      "text/html": [
       "<div>\n",
       "<style scoped>\n",
       "    .dataframe tbody tr th:only-of-type {\n",
       "        vertical-align: middle;\n",
       "    }\n",
       "\n",
       "    .dataframe tbody tr th {\n",
       "        vertical-align: top;\n",
       "    }\n",
       "\n",
       "    .dataframe thead th {\n",
       "        text-align: right;\n",
       "    }\n",
       "</style>\n",
       "<table border=\"1\" class=\"dataframe\">\n",
       "  <thead>\n",
       "    <tr style=\"text-align: right;\">\n",
       "      <th></th>\n",
       "      <th>x_1</th>\n",
       "      <th>x_2</th>\n",
       "    </tr>\n",
       "  </thead>\n",
       "  <tbody>\n",
       "    <tr>\n",
       "      <th>0</th>\n",
       "      <td>1.054452</td>\n",
       "      <td>-1.070753</td>\n",
       "    </tr>\n",
       "    <tr>\n",
       "      <th>1</th>\n",
       "      <td>-0.362741</td>\n",
       "      <td>-0.634322</td>\n",
       "    </tr>\n",
       "    <tr>\n",
       "      <th>2</th>\n",
       "      <td>-0.854096</td>\n",
       "      <td>0.313068</td>\n",
       "    </tr>\n",
       "    <tr>\n",
       "      <th>3</th>\n",
       "      <td>1.326386</td>\n",
       "      <td>0.298238</td>\n",
       "    </tr>\n",
       "    <tr>\n",
       "      <th>4</th>\n",
       "      <td>-0.461585</td>\n",
       "      <td>-1.315907</td>\n",
       "    </tr>\n",
       "    <tr>\n",
       "      <th>...</th>\n",
       "      <td>...</td>\n",
       "      <td>...</td>\n",
       "    </tr>\n",
       "    <tr>\n",
       "      <th>95</th>\n",
       "      <td>0.823504</td>\n",
       "      <td>0.771791</td>\n",
       "    </tr>\n",
       "    <tr>\n",
       "      <th>96</th>\n",
       "      <td>0.976639</td>\n",
       "      <td>0.208275</td>\n",
       "    </tr>\n",
       "    <tr>\n",
       "      <th>97</th>\n",
       "      <td>-1.347759</td>\n",
       "      <td>1.883151</td>\n",
       "    </tr>\n",
       "    <tr>\n",
       "      <th>98</th>\n",
       "      <td>0.052165</td>\n",
       "      <td>-1.104383</td>\n",
       "    </tr>\n",
       "    <tr>\n",
       "      <th>99</th>\n",
       "      <td>-1.726283</td>\n",
       "      <td>-0.813146</td>\n",
       "    </tr>\n",
       "  </tbody>\n",
       "</table>\n",
       "<p>100 rows × 2 columns</p>\n",
       "</div>"
      ],
      "text/plain": [
       "         x_1       x_2\n",
       "0   1.054452 -1.070753\n",
       "1  -0.362741 -0.634322\n",
       "2  -0.854096  0.313068\n",
       "3   1.326386  0.298238\n",
       "4  -0.461585 -1.315907\n",
       "..       ...       ...\n",
       "95  0.823504  0.771791\n",
       "96  0.976639  0.208275\n",
       "97 -1.347759  1.883151\n",
       "98  0.052165 -1.104383\n",
       "99 -1.726283 -0.813146\n",
       "\n",
       "[100 rows x 2 columns]"
      ]
     },
     "execution_count": 14,
     "metadata": {},
     "output_type": "execute_result"
    }
   ],
   "source": [
    "x = df.iloc[:,:2]\n",
    "y = df.iloc[:,2:]\n",
    "x\n"
   ]
  },
  {
   "cell_type": "markdown",
   "metadata": {},
   "source": [
    "### Relationship between variables"
   ]
  },
  {
   "cell_type": "markdown",
   "metadata": {},
   "source": [
    "To represent a dataset that has two features, we can use 3D visualization."
   ]
  },
  {
   "cell_type": "markdown",
   "metadata": {},
   "source": [
    "**Exercise :** Use a 3D matplotlib (or other) graph to view the dataset. "
   ]
  },
  {
   "cell_type": "code",
   "execution_count": 15,
   "metadata": {},
   "outputs": [
    {
     "data": {
      "image/png": "[encoded data removed]",
      "text/plain": [
       "<Figure size 432x288 with 1 Axes>"
      ]
     },
     "metadata": {
      "needs_background": "light"
     },
     "output_type": "display_data"
    }
   ],
   "source": [
    "import matplotlib.pyplot as plt\n",
    "\n",
    "fig = plt.figure()\n",
    "ax = fig.add_subplot(projection='3d')\n",
    "ax.scatter(x[\"x_1\"], x[\"x_2\"], y)\n",
    "ax.set_xlabel('X Label')\n",
    "ax.set_ylabel('Y Label')\n",
    "ax.set_zlabel('Z Label')\n",
    "\n",
    "plt.show()\n"
   ]
  },
  {
   "cell_type": "markdown",
   "metadata": {},
   "source": [
    "If you change the camera angle, you should come across something that looks like this: \n",
    "<img src=\"./assets/3dplot.png\" />"
   ]
  },
  {
   "cell_type": "markdown",
   "metadata": {},
   "source": [
    "This appears to be a positive linear correlation. What do you say?  \n",
    "\n",
    "\n",
    "If our dataset has more than two dimensions, then we won't be able to display it in 3D. Unfortunately for us, the human being can only perceive 3 dimensions. In this case, we will have no other choice than to display one scatter plot per variable.\n",
    "\n",
    "And it is there that we realize that the linear regression may be very simple, as soon as we go beyond 3 dimensions, the human being will hardly be able to visualize all the data while the machines are doing very well.\n",
    "\n",
    "**Exercise :** Use ``plt.tight_layout()`` method to display the point clouds for each variable"
   ]
  },
  {
   "cell_type": "markdown",
   "metadata": {},
   "source": [
    "# fig, axes= plt.subplots(nrows=1, ncols=2)\n",
    "plt.tight_layout()\n",
    "axes[0].scatter(df['x_1'],df['y'])\n",
    "axes[1].scatter(df['x_2'],df['y'])\n",
    "plt.show()\n"
   ]
  },
  {
   "cell_type": "markdown",
   "metadata": {},
   "source": [
    "**Exercise :** Show correlation coefficients. "
   ]
  },
  {
   "cell_type": "code",
   "execution_count": 16,
   "metadata": {},
   "outputs": [
    {
     "data": {
      "text/html": [
       "<div>\n",
       "<style scoped>\n",
       "    .dataframe tbody tr th:only-of-type {\n",
       "        vertical-align: middle;\n",
       "    }\n",
       "\n",
       "    .dataframe tbody tr th {\n",
       "        vertical-align: top;\n",
       "    }\n",
       "\n",
       "    .dataframe thead th {\n",
       "        text-align: right;\n",
       "    }\n",
       "</style>\n",
       "<table border=\"1\" class=\"dataframe\">\n",
       "  <thead>\n",
       "    <tr style=\"text-align: right;\">\n",
       "      <th></th>\n",
       "      <th>x_1</th>\n",
       "      <th>x_2</th>\n",
       "      <th>y</th>\n",
       "    </tr>\n",
       "  </thead>\n",
       "  <tbody>\n",
       "    <tr>\n",
       "      <th>x_1</th>\n",
       "      <td>1.000000</td>\n",
       "      <td>-0.024005</td>\n",
       "      <td>0.235650</td>\n",
       "    </tr>\n",
       "    <tr>\n",
       "      <th>x_2</th>\n",
       "      <td>-0.024005</td>\n",
       "      <td>1.000000</td>\n",
       "      <td>0.930299</td>\n",
       "    </tr>\n",
       "    <tr>\n",
       "      <th>y</th>\n",
       "      <td>0.235650</td>\n",
       "      <td>0.930299</td>\n",
       "      <td>1.000000</td>\n",
       "    </tr>\n",
       "  </tbody>\n",
       "</table>\n",
       "</div>"
      ],
      "text/plain": [
       "          x_1       x_2         y\n",
       "x_1  1.000000 -0.024005  0.235650\n",
       "x_2 -0.024005  1.000000  0.930299\n",
       "y    0.235650  0.930299  1.000000"
      ]
     },
     "execution_count": 16,
     "metadata": {},
     "output_type": "execute_result"
    }
   ],
   "source": [
    "import numpy as np\n",
    "df.corr()\n"
   ]
  },
  {
   "cell_type": "markdown",
   "metadata": {},
   "source": [
    "### Split the dataset\n",
    "\n",
    "You now know the process!\n",
    "\n",
    "**Exercise :** Import train_test_split from sklearn and split the dataset and create the variables X_train, X_test, y_train, y_test."
   ]
  },
  {
   "cell_type": "code",
   "execution_count": 17,
   "metadata": {},
   "outputs": [
    {
     "name": "stdout",
     "output_type": "stream",
     "text": [
      "(80, 2)\n"
     ]
    }
   ],
   "source": [
    "from sklearn.model_selection import train_test_split\n",
    "from sklearn import datasets\n",
    "X_train, X_test, y_train, y_test = train_test_split(x,y, random_state=41, test_size=0.2)\n",
    "print(X_train.shape)\n"
   ]
  },
  {
   "cell_type": "markdown",
   "metadata": {},
   "source": [
    "##  Load and fit the model (with Sklearn)"
   ]
  },
  {
   "cell_type": "markdown",
   "metadata": {},
   "source": [
    "Then how to make with the sklearn model ? Well, it's simple, you don't change anything. Sklearn takes care of everything for you.\n",
    "\n",
    "1. Import LinearRegression from sklearn\n",
    "2. Create a regressor variable and instantiate your LinearRegression class.\n",
    "3. Train your model with X_train and y_train\n",
    "4. Display the score of your model with X_train and y_train.\n",
    "5. Use the predict method of your model on your test dataset (X_test).\n",
    "6. Display the score of your model with X_test and y_test."
   ]
  },
  {
   "cell_type": "code",
   "execution_count": 18,
   "metadata": {},
   "outputs": [
    {
     "data": {
      "text/plain": [
       "0.9320499591405434"
      ]
     },
     "execution_count": 18,
     "metadata": {},
     "output_type": "execute_result"
    }
   ],
   "source": [
    "from sklearn.linear_model import LinearRegression\n",
    "reg = LinearRegression().fit(x, y)\n",
    "reg.score(x, y)\n"
   ]
  },
  {
   "cell_type": "code",
   "execution_count": 19,
   "metadata": {},
   "outputs": [
    {
     "data": {
      "text/plain": [
       "0.9324156248795205"
      ]
     },
     "execution_count": 19,
     "metadata": {},
     "output_type": "execute_result"
    }
   ],
   "source": [
    "reg = LinearRegression().fit(X_train, y_train)\n",
    "reg.score(X_train, y_train)\n",
    "\n"
   ]
  },
  {
   "cell_type": "code",
   "execution_count": 20,
   "metadata": {},
   "outputs": [
    {
     "data": {
      "text/plain": [
       "array([[  41.94436502],\n",
       "       [-149.99875293],\n",
       "       [ 151.72261843],\n",
       "       [   9.64118243],\n",
       "       [  14.9430945 ],\n",
       "       [ -80.59993394],\n",
       "       [-103.77354925],\n",
       "       [ -77.77747743],\n",
       "       [  70.79956034],\n",
       "       [ 174.90206339],\n",
       "       [ 246.964269  ],\n",
       "       [-149.58198771],\n",
       "       [ 205.3132378 ],\n",
       "       [   1.20559455],\n",
       "       [  52.89161726],\n",
       "       [-132.86342574],\n",
       "       [ 105.82945556],\n",
       "       [-101.47163512],\n",
       "       [-147.69525846],\n",
       "       [ -46.39952309]])"
      ]
     },
     "execution_count": 20,
     "metadata": {},
     "output_type": "execute_result"
    }
   ],
   "source": [
    "reg.predict(X_test)"
   ]
  },
  {
   "cell_type": "code",
   "execution_count": 21,
   "metadata": {},
   "outputs": [
    {
     "data": {
      "text/plain": [
       "0.9265075117125894"
      ]
     },
     "execution_count": 21,
     "metadata": {},
     "output_type": "execute_result"
    }
   ],
   "source": [
    "reg.score(X_test,y_test)"
   ]
  },
  {
   "cell_type": "markdown",
   "metadata": {},
   "source": [
    "And voilà !"
   ]
  },
  {
   "cell_type": "markdown",
   "metadata": {},
   "source": [
    "## From Scratch \n",
    "You will see that with matrices, it doesn't change much in the way of proceeding. Matrix writing, moreover, remains the same as simple regression. "
   ]
  },
  {
   "cell_type": "markdown",
   "metadata": {},
   "source": [
    "### Transform to matrix"
   ]
  },
  {
   "cell_type": "markdown",
   "metadata": {},
   "source": [
    "$$\n",
    "\\\\ Y = X . \\theta \\\\\n",
    "$$\n",
    "The $Y$ vector is the same too\n",
    "$$ Y =\n",
    "\\begin{bmatrix}\n",
    "y^{(1)}\\\\\n",
    "y^{(2)}\\\\\n",
    "y^{(3)}\\\\\n",
    "... \\\\\n",
    "y^{(m)}\\\\\n",
    "\\end{bmatrix}\n",
    "$$"
   ]
  },
  {
   "cell_type": "markdown",
   "metadata": {},
   "source": [
    "The $X$ matrix will have as many dimensions as there are features +1  (n+1)"
   ]
  },
  {
   "cell_type": "markdown",
   "metadata": {},
   "source": [
    "$$ X =\n",
    "\\begin{bmatrix}\n",
    "x^{(1)}_1, x^{(1)}_2, ..., x^{(m)}_{n}, 1\\\\\n",
    "x^{(2)}_1, x^{(2)}_2, ..., x^{(m)}_{n}, 1\\\\\n",
    "x^{(3)}_1, x^{(3)}_2, ..., x^{(m)}_{n}, 1\\\\\n",
    "x^{(m)}_1,x^{(m)}_2, ..., x^{(m)}_{n}, 1\\\\\n",
    "\\end{bmatrix}\n",
    "$$"
   ]
  },
  {
   "cell_type": "markdown",
   "metadata": {},
   "source": [
    "The theta vector will have as many lines as there are characteristics +1 (for the constant). \n",
    "$$ \\theta =\n",
    "\\begin{bmatrix}\n",
    "a\\\\\n",
    "b\\\\\n",
    "c\\\\\n",
    "... \\\\\n",
    "\\end{bmatrix}\n",
    "$$"
   ]
  },
  {
   "cell_type": "markdown",
   "metadata": {},
   "source": [
    "For our case with our dataset, we can write it like this: "
   ]
  },
  {
   "cell_type": "markdown",
   "metadata": {},
   "source": [
    "$$\n",
    "\\begin{bmatrix}\n",
    "y^{(1)}\\\\\n",
    "y^{(2)}\\\\\n",
    "y^{(3)}\\\\\n",
    "... \\\\\n",
    "y^{(m)}\\\\\n",
    "\\end{bmatrix}\n",
    "=\n",
    "\\begin{bmatrix}\n",
    "x^{(1)}_1, x^{(1)}_2, 1\\\\\n",
    "x^{(2)}_1, x^{(2)}_2, 1\\\\\n",
    "x^{(3)}_1, x^{(3)}_2, 1\\\\\n",
    "x^{(m)}_1,x^{(m)}_2,  1\\\\\n",
    "\\end{bmatrix}\n",
    ".\n",
    "\\begin{bmatrix}\n",
    "a\\\\\n",
    "b\\\\\n",
    "c\\\\\n",
    "\\end{bmatrix}\n",
    "$$"
   ]
  },
  {
   "cell_type": "markdown",
   "metadata": {},
   "source": [
    "**Exercise :** Create a variable X which contains a matrix (100,3) with two column's filled with values of our dataframe and then another one with 1's."
   ]
  },
  {
   "cell_type": "code",
   "execution_count": 22,
   "metadata": {},
   "outputs": [
    {
     "data": {
      "text/html": [
       "<div>\n",
       "<style scoped>\n",
       "    .dataframe tbody tr th:only-of-type {\n",
       "        vertical-align: middle;\n",
       "    }\n",
       "\n",
       "    .dataframe tbody tr th {\n",
       "        vertical-align: top;\n",
       "    }\n",
       "\n",
       "    .dataframe thead th {\n",
       "        text-align: right;\n",
       "    }\n",
       "</style>\n",
       "<table border=\"1\" class=\"dataframe\">\n",
       "  <thead>\n",
       "    <tr style=\"text-align: right;\">\n",
       "      <th></th>\n",
       "      <th>x_1</th>\n",
       "      <th>x_2</th>\n",
       "    </tr>\n",
       "  </thead>\n",
       "  <tbody>\n",
       "    <tr>\n",
       "      <th>0</th>\n",
       "      <td>1.054452</td>\n",
       "      <td>-1.070753</td>\n",
       "    </tr>\n",
       "    <tr>\n",
       "      <th>1</th>\n",
       "      <td>-0.362741</td>\n",
       "      <td>-0.634322</td>\n",
       "    </tr>\n",
       "    <tr>\n",
       "      <th>2</th>\n",
       "      <td>-0.854096</td>\n",
       "      <td>0.313068</td>\n",
       "    </tr>\n",
       "    <tr>\n",
       "      <th>3</th>\n",
       "      <td>1.326386</td>\n",
       "      <td>0.298238</td>\n",
       "    </tr>\n",
       "    <tr>\n",
       "      <th>4</th>\n",
       "      <td>-0.461585</td>\n",
       "      <td>-1.315907</td>\n",
       "    </tr>\n",
       "    <tr>\n",
       "      <th>...</th>\n",
       "      <td>...</td>\n",
       "      <td>...</td>\n",
       "    </tr>\n",
       "    <tr>\n",
       "      <th>95</th>\n",
       "      <td>0.823504</td>\n",
       "      <td>0.771791</td>\n",
       "    </tr>\n",
       "    <tr>\n",
       "      <th>96</th>\n",
       "      <td>0.976639</td>\n",
       "      <td>0.208275</td>\n",
       "    </tr>\n",
       "    <tr>\n",
       "      <th>97</th>\n",
       "      <td>-1.347759</td>\n",
       "      <td>1.883151</td>\n",
       "    </tr>\n",
       "    <tr>\n",
       "      <th>98</th>\n",
       "      <td>0.052165</td>\n",
       "      <td>-1.104383</td>\n",
       "    </tr>\n",
       "    <tr>\n",
       "      <th>99</th>\n",
       "      <td>-1.726283</td>\n",
       "      <td>-0.813146</td>\n",
       "    </tr>\n",
       "  </tbody>\n",
       "</table>\n",
       "<p>100 rows × 2 columns</p>\n",
       "</div>"
      ],
      "text/plain": [
       "         x_1       x_2\n",
       "0   1.054452 -1.070753\n",
       "1  -0.362741 -0.634322\n",
       "2  -0.854096  0.313068\n",
       "3   1.326386  0.298238\n",
       "4  -0.461585 -1.315907\n",
       "..       ...       ...\n",
       "95  0.823504  0.771791\n",
       "96  0.976639  0.208275\n",
       "97 -1.347759  1.883151\n",
       "98  0.052165 -1.104383\n",
       "99 -1.726283 -0.813146\n",
       "\n",
       "[100 rows x 2 columns]"
      ]
     },
     "execution_count": 22,
     "metadata": {},
     "output_type": "execute_result"
    }
   ],
   "source": [
    "x"
   ]
  },
  {
   "cell_type": "code",
   "execution_count": 44,
   "metadata": {},
   "outputs": [
    {
     "data": {
      "text/plain": [
       "array([[ 1.05445173, -1.07075262,  1.        ],\n",
       "       [-0.36274117, -0.63432209,  1.        ],\n",
       "       [-0.85409574,  0.3130677 ,  1.        ],\n",
       "       [ 1.3263859 ,  0.29823817,  1.        ],\n",
       "       [-0.4615846 , -1.31590741,  1.        ],\n",
       "       [ 1.94362119, -1.17312341,  1.        ],\n",
       "       [-1.60205766,  0.62523145,  1.        ],\n",
       "       [-0.40178094,  0.17742614,  1.        ],\n",
       "       [-0.97727788,  1.86755799,  1.        ],\n",
       "       [ 0.37816252,  0.15494743,  1.        ],\n",
       "       [-0.30230275, -0.38732682,  1.        ],\n",
       "       [-0.74745481, -0.41361898,  1.        ],\n",
       "       [-0.18718385,  0.04575852,  1.        ],\n",
       "       [ 0.31872765,  0.92085882,  1.        ],\n",
       "       [-1.53624369,  0.46566244,  1.        ],\n",
       "       [ 0.40015721,  1.76405235,  1.        ],\n",
       "       [-0.82643854, -0.74475482,  1.        ],\n",
       "       [-0.74216502,  0.8644362 ,  1.        ],\n",
       "       [ 0.70657317,  0.3563664 ,  1.        ],\n",
       "       [ 0.90082649, -1.16514984,  1.        ],\n",
       "       [-0.57884966, -0.87079715,  1.        ],\n",
       "       [-0.20829876,  0.57659082,  1.        ],\n",
       "       [ 0.68159452, -1.03424284,  1.        ],\n",
       "       [ 0.8024564 , -0.26800337,  1.        ],\n",
       "       [ 0.77749036, -1.25279536,  1.        ],\n",
       "       [-1.5447711 , -1.00021535,  1.        ],\n",
       "       [ 0.96939671, -1.270485  ,  1.        ],\n",
       "       [ 0.67643329, -0.63584608,  1.        ],\n",
       "       [ 1.78587049,  0.01050002,  1.        ],\n",
       "       [ 1.5430146 , -0.739563  ,  1.        ],\n",
       "       [ 0.05616534, -0.31155253,  1.        ],\n",
       "       [-0.21274028, -1.61389785,  1.        ],\n",
       "       [-0.35955316, -0.67246045,  1.        ],\n",
       "       [-1.23482582,  1.13940068,  1.        ],\n",
       "       [ 0.15634897, -0.34791215,  1.        ],\n",
       "       [ 0.4105985 , -0.10321885,  1.        ],\n",
       "       [-0.15501009,  0.94725197,  1.        ],\n",
       "       [ 1.20237985,  1.23029068,  1.        ],\n",
       "       [ 0.40198936,  0.12691209,  1.        ],\n",
       "       [-1.07993151,  1.12663592,  1.        ],\n",
       "       [ 0.92220667,  0.61407937,  1.        ],\n",
       "       [-0.68954978, -0.80340966,  1.        ],\n",
       "       [-0.17154633,  0.52327666,  1.        ],\n",
       "       [ 0.08755124,  0.94942081,  1.        ],\n",
       "       [ 1.89588918,  1.48825219,  1.        ],\n",
       "       [-0.66347829, -0.09845252,  1.        ],\n",
       "       [ 1.84926373, -0.43515355,  1.        ],\n",
       "       [ 0.33367433,  0.44386323,  1.        ],\n",
       "       [-1.37495129, -0.35399391,  1.        ],\n",
       "       [ 1.46935877,  1.53277921,  1.        ],\n",
       "       [ 0.01747916, -0.4555325 ,  1.        ],\n",
       "       [-1.18063218, -0.51080514,  1.        ],\n",
       "       [ 0.26705087, -1.29285691,  1.        ],\n",
       "       [ 1.11701629, -0.91282223,  1.        ],\n",
       "       [ 1.45427351,  0.14404357,  1.        ],\n",
       "       [ 2.2408932 ,  0.97873798,  1.        ],\n",
       "       [-0.14963454, -0.69456786,  1.        ],\n",
       "       [ 0.90604466,  1.86755896,  1.        ],\n",
       "       [-1.1680935 , -0.03928282,  1.        ],\n",
       "       [-0.65102559,  0.85683061,  1.        ],\n",
       "       [-1.98079647, -0.88778575,  1.        ],\n",
       "       [-0.4380743 , -0.50965218,  1.        ],\n",
       "       [ 0.84436298, -1.22543552,  1.        ],\n",
       "       [ 1.22244507, -0.40317695,  1.        ],\n",
       "       [ 0.63503144,  0.1666735 ,  1.        ],\n",
       "       [ 0.3869025 , -0.89546656,  1.        ],\n",
       "       [-0.20515826,  1.49407907,  1.        ],\n",
       "       [ 0.12898291,  0.72909056,  1.        ],\n",
       "       [ 1.33652795,  2.16323595,  1.        ],\n",
       "       [ 1.9507754 , -1.70627019,  1.        ],\n",
       "       [ 1.48051479,  1.92294203,  1.        ],\n",
       "       [ 0.31694261,  1.18802979,  1.        ],\n",
       "       [-2.22340315, -0.6436184 ,  1.        ],\n",
       "       [ 1.71334272, -0.06824161,  1.        ],\n",
       "       [ 0.3024719 ,  0.06651722,  1.        ],\n",
       "       [ 0.12167502,  0.76103773,  1.        ],\n",
       "       [-1.42001794, -1.04855297,  1.        ],\n",
       "       [ 0.4393917 , -1.49125759,  1.        ],\n",
       "       [-0.17992484,  1.17877957,  1.        ],\n",
       "       [-0.68481009,  0.40234164,  1.        ],\n",
       "       [-1.09940079,  0.37642553,  1.        ],\n",
       "       [-0.15135721,  0.95008842,  1.        ],\n",
       "       [-0.43782004, -1.14746865,  1.        ],\n",
       "       [ 0.0519454 , -0.90729836,  1.        ],\n",
       "       [-1.09306151,  0.39600671,  1.        ],\n",
       "       [ 0.40746184,  0.67229476,  1.        ],\n",
       "       [ 0.53924919, -0.76991607,  1.        ],\n",
       "       [ 1.91006495, -0.86122569,  1.        ],\n",
       "       [ 0.42833187, -0.02818223,  1.        ],\n",
       "       [ 0.6536186 , -2.55298982,  1.        ],\n",
       "       [ 0.94447949,  2.38314477,  1.        ],\n",
       "       [ 0.03183056, -0.67433266,  1.        ],\n",
       "       [ 1.92953205, -0.49803245,  1.        ],\n",
       "       [-1.45436567,  2.26975462,  1.        ],\n",
       "       [ 0.46278226, -1.63019835,  1.        ],\n",
       "       [ 0.82350415,  0.77179055,  1.        ],\n",
       "       [ 0.97663904,  0.20827498,  1.        ],\n",
       "       [-1.34775906,  1.8831507 ,  1.        ],\n",
       "       [ 0.05216508, -1.10438334,  1.        ],\n",
       "       [-1.7262826 , -0.81314628,  1.        ]])"
      ]
     },
     "execution_count": 44,
     "metadata": {},
     "output_type": "execute_result"
    }
   ],
   "source": [
    "x = np.hstack((x, np.ones((x.shape[0],1))))\n",
    "X"
   ]
  },
  {
   "cell_type": "markdown",
   "metadata": {},
   "source": [
    "**Exercise :** Check that your matrix is of shape (100,3) "
   ]
  },
  {
   "cell_type": "code",
   "execution_count": 45,
   "metadata": {},
   "outputs": [
    {
     "data": {
      "text/plain": [
       "(100, 3)"
      ]
     },
     "execution_count": 45,
     "metadata": {},
     "output_type": "execute_result"
    }
   ],
   "source": [
    "X.shape"
   ]
  },
  {
   "cell_type": "markdown",
   "metadata": {},
   "source": [
    "**Exercise :** Create the theta vector with three random values. Your vector must be of dimension \n",
    "(3,1)"
   ]
  },
  {
   "cell_type": "code",
   "execution_count": 46,
   "metadata": {},
   "outputs": [
    {
     "data": {
      "text/plain": [
       "(3, 1)"
      ]
     },
     "execution_count": 46,
     "metadata": {},
     "output_type": "execute_result"
    }
   ],
   "source": [
    "theta = np.random.rand(3)\n",
    "theta = theta.reshape(3,1)\n",
    "theta.shape"
   ]
  },
  {
   "cell_type": "markdown",
   "metadata": {},
   "source": [
    "## Create and fit the model\n",
    "### Define your model"
   ]
  },
  {
   "cell_type": "markdown",
   "metadata": {},
   "source": [
    "**Exercise :** Create a model function that receives as parameter X and theta. The function must return the vector Y. This is exactly the same model as last time. "
   ]
  },
  {
   "cell_type": "code",
   "execution_count": 47,
   "metadata": {},
   "outputs": [
    {
     "data": {
      "text/plain": [
       "array([[ 0.27338132],\n",
       "       [-0.2352238 ],\n",
       "       [ 0.02250245],\n",
       "       [ 1.16308537],\n",
       "       [-0.65893249],\n",
       "       [ 0.68597388],\n",
       "       [-0.20131171],\n",
       "       [ 0.18682069],\n",
       "       [ 0.80520553],\n",
       "       [ 0.58543505],\n",
       "       [-0.06870947],\n",
       "       [-0.31754971],\n",
       "       [ 0.22807701],\n",
       "       [ 0.97174268],\n",
       "       [-0.25364712],\n",
       "       [ 1.47439563],\n",
       "       [-0.53971176],\n",
       "       [ 0.38210399],\n",
       "       [ 0.86826531],\n",
       "       [ 0.14098154],\n",
       "       [-0.47800828],\n",
       "       [ 0.50639318],\n",
       "       [ 0.09686884],\n",
       "       [ 0.57833494],\n",
       "       [ 0.02821934],\n",
       "       [-1.05741776],\n",
       "       [ 0.11966944],\n",
       "       [ 0.3113781 ],\n",
       "       [ 1.24824906],\n",
       "       [ 0.71133732],\n",
       "       [ 0.16144643],\n",
       "       [-0.69032335],\n",
       "       [-0.25433953],\n",
       "       [ 0.2724983 ],\n",
       "       [ 0.19439746],\n",
       "       [ 0.46175552],\n",
       "       [ 0.73657059],\n",
       "       [ 1.60596657],\n",
       "       [ 0.58270051],\n",
       "       [ 0.34713592],\n",
       "       [ 1.12237966],\n",
       "       [-0.49958122],\n",
       "       [ 0.49668435],\n",
       "       [ 0.86553348],\n",
       "       [ 2.11195947],\n",
       "       [-0.10146486],\n",
       "       [ 1.03864914],\n",
       "       [ 0.71953189],\n",
       "       [-0.61560137],\n",
       "       [ 1.91154361],\n",
       "       [ 0.06256078],\n",
       "       [-0.59873709],\n",
       "       [-0.26252189],\n",
       "       [ 0.39245255],\n",
       "       [ 1.14638053],\n",
       "       [ 2.01589057],\n",
       "       [-0.15580945],\n",
       "       [ 1.79733266],\n",
       "       [-0.33503146],\n",
       "       [ 0.42596888],\n",
       "       [-1.22581125],\n",
       "       [-0.20693198],\n",
       "       [ 0.07836567],\n",
       "       [ 0.72587907],\n",
       "       [ 0.72714626],\n",
       "       [ 0.01729487],\n",
       "       [ 1.00831342],\n",
       "       [ 0.76722316],\n",
       "       [ 2.1853291 ],\n",
       "       [ 0.39904129],\n",
       "       [ 2.13015911],\n",
       "       [ 1.11647886],\n",
       "       [-1.22048178],\n",
       "       [ 1.1671074 ],\n",
       "       [ 0.49734446],\n",
       "       [ 0.78079277],\n",
       "       [-1.01805468],\n",
       "       [-0.27991258],\n",
       "       [ 0.84968738],\n",
       "       [ 0.16035858],\n",
       "       [-0.07217702],\n",
       "       [ 0.74004151],\n",
       "       [-0.5545712 ],\n",
       "       [-0.16561052],\n",
       "       [-0.05816076],\n",
       "       [ 0.88295647],\n",
       "       [ 0.16600762],\n",
       "       [ 0.83836065],\n",
       "       [ 0.51201155],\n",
       "       [-0.74597443],\n",
       "       [ 2.09870615],\n",
       "       [-0.04918102],\n",
       "       [ 1.04664908],\n",
       "       [ 0.7731777 ],\n",
       "       [-0.34334879],\n",
       "       [ 1.15637653],\n",
       "       [ 0.92978719],\n",
       "       [ 0.61853957],\n",
       "       [-0.27295653],\n",
       "       [-1.05103678]])"
      ]
     },
     "execution_count": 47,
     "metadata": {},
     "output_type": "execute_result"
    }
   ],
   "source": [
    "def model(X, theta):\n",
    "    return X.dot(theta)\n",
    "model(x,theta)"
   ]
  },
  {
   "cell_type": "markdown",
   "metadata": {},
   "source": [
    "### Cost function"
   ]
  },
  {
   "cell_type": "markdown",
   "metadata": {},
   "source": [
    "Well we have the model, the theta vector, the X matrix. What are we missing? The cost function of course!\n",
    "And you know what? This too is exactly the same MSE function from last time. \n",
    "\n",
    "$$MSE(\\theta) = \\frac {1}{2m}  \\sum _ {i=1}^m (X . \\theta - y)^2$$"
   ]
  },
  {
   "cell_type": "markdown",
   "metadata": {},
   "source": [
    "**Exercise :** Create a MSE function that receives in parameter X, y and theta using the example above."
   ]
  },
  {
   "cell_type": "code",
   "execution_count": 48,
   "metadata": {},
   "outputs": [],
   "source": [
    "def MSE(x, y, theta):\n",
    "    m = len(y)\n",
    "    # Calculating Cost\n",
    "    c = (1/2*m) * np.sum(np.square((X.dot(theta))-y))  \n",
    "    return c    "
   ]
  },
  {
   "cell_type": "code",
   "execution_count": 49,
   "metadata": {},
   "outputs": [
    {
     "data": {
      "text/plain": [
       "y    5.827880e+07\n",
       "dtype: float64"
      ]
     },
     "execution_count": 49,
     "metadata": {},
     "output_type": "execute_result"
    }
   ],
   "source": [
    "MSE(x, y, theta)"
   ]
  },
  {
   "cell_type": "code",
   "execution_count": null,
   "metadata": {},
   "outputs": [],
   "source": []
  },
  {
   "cell_type": "markdown",
   "metadata": {},
   "source": [
    "### Gradient descent\n",
    "It's time to find the minimum of our function. Well again, nothing changes compared to the last time. \n",
    "\n",
    "$$ \\frac {\\partial MSE(\\theta) }{\\partial \\theta}  = \\frac {1}{m} X^T.(X.\\theta - y)$$"
   ]
  },
  {
   "cell_type": "markdown",
   "metadata": {},
   "source": [
    "**Exercise :** Create a grad function that receives as parameter X, y, theta."
   ]
  },
  {
   "cell_type": "code",
   "execution_count": 50,
   "metadata": {},
   "outputs": [],
   "source": [
    "def grad(x, y, theta):\n",
    "    m = len(y)\n",
    "    return 1/m * x.T.dot(model(x, theta) - y)"
   ]
  },
  {
   "cell_type": "code",
   "execution_count": 51,
   "metadata": {},
   "outputs": [
    {
     "data": {
      "text/plain": [
       "array([[ -25.73854223],\n",
       "       [-102.67969483],\n",
       "       [  -1.92572513]])"
      ]
     },
     "execution_count": 51,
     "metadata": {},
     "output_type": "execute_result"
    }
   ],
   "source": [
    "grad(x, y, theta)"
   ]
  },
  {
   "cell_type": "markdown",
   "metadata": {},
   "source": [
    "**Exercise :**\n",
    "\n",
    "1. Create a `gradient_descent` function that receives as parameter `X`, `y`, `theta`, `learning_rate`, `n_iterations`\n",
    "2. In the function, create a variable `cost_history` with a matrix filled with 0 and which has a length of `n_iterations`. We will use it to display the histogram of the model learning process.\n",
    "3. Create a loop that iterates up to `n_iterations`\n",
    "4. In the loop, update `theta` with the formula of the gradient descent (The example above)\n",
    "5. In the loop, update `cost_history[i]` with the values of `MSE(X,y,theta)`\n",
    "6. return `theta` and `cost_history`"
   ]
  },
  {
   "cell_type": "code",
   "execution_count": 52,
   "metadata": {},
   "outputs": [
    {
     "data": {
      "text/plain": [
       "(array([[27.59363968],\n",
       "        [99.50758492],\n",
       "        [-1.54233376]]),\n",
       " array([54968181.84736346, 51859809.19925237, 48941312.67561572,\n",
       "        46201078.54897589, 43628204.24210507, 41212454.73927157,\n",
       "        38944221.67144755, 36814484.91132239, 34814776.52405018,\n",
       "        32937146.92912381, 31174133.1376511 , 29518728.93764465,\n",
       "        27964356.90776195, 26504842.1472748 , 25134387.61694031,\n",
       "        23847550.99191343, 22639222.93391282, 21504606.69554916,\n",
       "        20439198.97507365, 19438771.94482322, 18499356.38135016,\n",
       "        17617225.82964541, 16788881.73801429, 16011039.5040588 ,\n",
       "        15280615.37587583, 14594714.15601184, 13950617.65893498,\n",
       "        13345773.87580778, 12777786.80318083, 12244406.89488982,\n",
       "        11743522.09893815, 11273149.44349206, 10831427.13831743,\n",
       "        10416607.16005327, 10027048.29165657,  9661209.58817345,\n",
       "         9317644.24269999,  8994993.82799998,  8691982.89075185,\n",
       "         8407413.87680979,  8140162.36719021,  7889172.60573925,\n",
       "         7653453.30060522,  7432073.68273645,  7224159.80565406,\n",
       "         7028891.07171546,  6845496.97099071,  6673254.01972534,\n",
       "         6511482.88616183,  6359545.69224181,  6216843.48041489,\n",
       "         6082813.83544054,  5956928.65168966,  5838692.03703438,\n",
       "         5727638.34496088,  5623330.32705313,  5525357.39847629,\n",
       "         5433334.00954085,  5346898.11685224,  5265709.74794886,\n",
       "         5189449.65370542,  5117818.04312854,  5050533.39550162,\n",
       "         4987331.34514426,  4927963.63434214,  4872197.13027527,\n",
       "         4819812.90202815,  4770605.35400545,  4724381.41230178,\n",
       "         4680959.7607858 ,  4640170.12385706,  4601852.59302057,\n",
       "         4565856.99459866,  4532042.29606392,  4500276.04863128,\n",
       "         4470433.86389149,  4442398.92240459,  4416061.51229884,\n",
       "         4391318.59604066,  4368073.40365315,  4346235.05076639,\n",
       "         4325718.17998149,  4306442.62412341,  4288333.09004472,\n",
       "         4271318.86172438,  4255333.52148226,  4240314.68820273,\n",
       "         4226203.77152782,  4212945.74104439,  4200488.9095494 ,\n",
       "         4188784.72953317,  4177787.60207344,  4167454.69738216,\n",
       "         4157745.78629343,  4148623.08202444,  4140051.09158224,\n",
       "         4131996.47622732,  4124427.92044122,  4117316.00887897,\n",
       "         4110633.11081907,  4104353.27165336,  4098452.11098726,\n",
       "         4092906.72694687,  4087695.60631437,  4082798.54013612,\n",
       "         4078196.54446949,  4073871.78595511,  4069807.51192022,\n",
       "         4065987.98473669,  4062398.42017439,  4059024.92950619,\n",
       "         4055854.465136  ,  4052874.76953491,  4050074.32728396,\n",
       "         4047442.32003404,  4044968.58420533,  4042643.5712591 ,\n",
       "         4040458.31038539,  4038404.37345919,  4036473.84212709,\n",
       "         4034659.27689449,  4032953.68809164,  4031350.50860403,\n",
       "         4029843.56825972,  4028427.06977279,  4027095.56614803,\n",
       "         4025843.93945811,  4024667.38090956,  4023561.37211915,\n",
       "         4022521.66752714,  4021544.27787805,  4020625.45470409,\n",
       "         4019761.67575041,  4018949.63128452,  4018186.21123656,\n",
       "         4017468.49311956,  4016793.73068237,  4016159.34325087,\n",
       "         4015562.90571535,  4015002.13912503,  4014474.90185271,\n",
       "         4013979.18129491,  4013513.08607503,  4013074.83871888,\n",
       "         4012662.76877404,  4012275.30634589,  4011910.97602523,\n",
       "         4011568.39118352,  4011246.24861363,  4010943.32349489,\n",
       "         4010658.46466295,  4010390.59016594,  4010138.68308938,\n",
       "         4009901.78763383,  4009679.00542965,  4009469.49207472,\n",
       "         4009272.45388149,  4009087.14482064,  4008912.8636496 ,\n",
       "         4008748.95121449,  4008594.78791518,  4008449.79132344,\n",
       "         4008313.41394498,  4008185.14111671,  4008064.48903084,\n",
       "         4007951.00287843,  4007844.25510486,  4007743.84377065,\n",
       "         4007649.3910112 ,  4007560.54158942,  4007476.96153565,\n",
       "         4007398.33686966,  4007324.37239965,  4007254.79059365,\n",
       "         4007189.33051899,  4007127.74684566,  4007069.80890966,\n",
       "         4007015.29983286,  4006964.01569582,  4006915.76476037,\n",
       "         4006870.36673912,  4006827.6521088 ,  4006787.46146499,\n",
       "         4006749.64491568,  4006714.06151128,  4006680.57870891,\n",
       "         4006649.07186893,  4006619.42378171,  4006591.52422282,\n",
       "         4006565.26953501,  4006540.56223527,  4006517.31064545,\n",
       "         4006495.42854516,  4006474.83484537,  4006455.45328179,\n",
       "         4006437.21212642,  4006420.04391664,  4006403.88520034,\n",
       "         4006388.67629651,  4006374.36107007,  4006360.88672022,\n",
       "         4006348.20358153,  4006336.26493687,  4006325.02684157,\n",
       "         4006314.44795819,  4006304.48940101,  4006295.11459004,\n",
       "         4006286.28911356,  4006277.98059906,  4006270.15859177,\n",
       "         4006262.79444054,  4006255.86119048,  4006249.33348209,\n",
       "         4006243.1874563 ,  4006237.40066534,  4006231.95198878,\n",
       "         4006226.82155469,  4006221.99066546,  4006217.44172806,\n",
       "         4006213.15818844,  4006209.12446986,  4006205.32591494,\n",
       "         4006201.74873105,  4006198.3799391 ,  4006195.20732524,\n",
       "         4006192.21939556,  4006189.40533339,  4006186.75495921,\n",
       "         4006184.25869294,  4006181.90751838,  4006179.69294992,\n",
       "         4006177.60700111,  4006175.64215516,  4006173.79133713,\n",
       "         4006172.04788786,  4006170.40553938,  4006168.85839182,\n",
       "         4006167.40089164,  4006166.02781121,  4006164.73422959,\n",
       "         4006163.51551441,  4006162.36730486,  4006161.28549569,\n",
       "         4006160.26622213,  4006159.30584576,  4006158.40094113,\n",
       "         4006157.54828324,  4006156.74483577,  4006155.98773992,\n",
       "         4006155.27430405,  4006154.60199375,  4006153.96842268,\n",
       "         4006153.37134385,  4006152.80864142,  4006152.27832299,\n",
       "         4006151.77851239,  4006151.30744283,  4006150.86345051,\n",
       "         4006150.44496854,  4006150.0505213 ,  4006149.67871909,\n",
       "         4006149.32825306,  4006148.99789051,  4006148.68647044,\n",
       "         4006148.3928993 ,  4006148.11614713,  4006147.85524376,\n",
       "         4006147.60927536,  4006147.37738115,  4006147.15875028,\n",
       "         4006146.95261891,  4006146.75826751,  4006146.57501824,\n",
       "         4006146.40223251,  4006146.23930872,  4006146.08568009,\n",
       "         4006145.94081263,  4006145.80420322,  4006145.67537787,\n",
       "         4006145.55388993,  4006145.43931858,  4006145.33126729,\n",
       "         4006145.22936243,  4006145.13325192,  4006145.04260398,\n",
       "         4006144.95710596,  4006144.87646323,  4006144.80039813,\n",
       "         4006144.728649  ,  4006144.66096922,  4006144.59712637,\n",
       "         4006144.53690139,  4006144.48008783,  4006144.42649108,\n",
       "         4006144.37592772,  4006144.32822486,  4006144.28321954,\n",
       "         4006144.24075814,  4006144.20069585,  4006144.16289616,\n",
       "         4006144.12723038,  4006144.09357721,  4006144.06182225,\n",
       "         4006144.0318577 ,  4006144.0035819 ,  4006143.97689899,\n",
       "         4006143.95171861,  4006143.92795555,  4006143.90552949,\n",
       "         4006143.88436465,  4006143.86438962,  4006143.84553703,\n",
       "         4006143.82774336,  4006143.81094873,  4006143.79509665,\n",
       "         4006143.78013385,  4006143.76601008,  4006143.75267798,\n",
       "         4006143.74009285,  4006143.72821255,  4006143.71699733,\n",
       "         4006143.7064097 ,  4006143.69641429,  4006143.68697775,\n",
       "         4006143.67806862,  4006143.6696572 ,  4006143.6617155 ,\n",
       "         4006143.65421711,  4006143.64713711,  4006143.640452  ,\n",
       "         4006143.6341396 ,  4006143.62817898,  4006143.6225504 ,\n",
       "         4006143.61723525,  4006143.61221594,  4006143.6074759 ,\n",
       "         4006143.60299949,  4006143.59877193,  4006143.59477931,\n",
       "         4006143.59100848,  4006143.58744703,  4006143.58408326,\n",
       "         4006143.58090612,  4006143.57790518,  4006143.57507062,\n",
       "         4006143.57239314,  4006143.56986397,  4006143.56747486,\n",
       "         4006143.56521799,  4006143.56308599,  4006143.56107191,\n",
       "         4006143.55916918,  4006143.5573716 ,  4006143.55567334,\n",
       "         4006143.55406885,  4006143.55255294,  4006143.55112067,\n",
       "         4006143.54976741,  4006143.54848877,  4006143.5472806 ,\n",
       "         4006143.546139  ,  4006143.54506027,  4006143.54404093,\n",
       "         4006143.54307769,  4006143.54216745,  4006143.54130726,\n",
       "         4006143.54049436,  4006143.53972613,  4006143.5390001 ,\n",
       "         4006143.53831394,  4006143.53766545,  4006143.53705254,\n",
       "         4006143.53647325,  4006143.53592572,  4006143.53540821,\n",
       "         4006143.53491905,  4006143.53445669,  4006143.53401964,\n",
       "         4006143.53360652,  4006143.53321599,  4006143.53284683,\n",
       "         4006143.53249786,  4006143.53216796,  4006143.53185608,\n",
       "         4006143.53156125,  4006143.5312825 ,  4006143.53101898,\n",
       "         4006143.53076983,  4006143.53053428,  4006143.53031156,\n",
       "         4006143.53010099,  4006143.5299019 ,  4006143.52971364,\n",
       "         4006143.52953564,  4006143.52936733,  4006143.52920818,\n",
       "         4006143.52905769,  4006143.52891538,  4006143.52878081,\n",
       "         4006143.52865355,  4006143.52853321,  4006143.5284194 ,\n",
       "         4006143.52831177,  4006143.52820999,  4006143.52811372,\n",
       "         4006143.52802268,  4006143.52793658,  4006143.52785514,\n",
       "         4006143.52777812,  4006143.52770527,  4006143.52763637,\n",
       "         4006143.5275712 ,  4006143.52750955,  4006143.52745124,\n",
       "         4006143.52739609,  4006143.52734392,  4006143.52729457,\n",
       "         4006143.52724788,  4006143.52720372,  4006143.52716195,\n",
       "         4006143.52712243,  4006143.52708504,  4006143.52704967,\n",
       "         4006143.52701621,  4006143.52698456,  4006143.52695461,\n",
       "         4006143.52692628,  4006143.52689947,  4006143.52687411,\n",
       "         4006143.52685012,  4006143.52682741,  4006143.52680593,\n",
       "         4006143.52678561,  4006143.52676638,  4006143.52674818,\n",
       "         4006143.52673096,  4006143.52671467,  4006143.52669925,\n",
       "         4006143.52668466,  4006143.52667086,  4006143.5266578 ,\n",
       "         4006143.52664544,  4006143.52663374,  4006143.52662267,\n",
       "         4006143.52661219,  4006143.52660228,  4006143.5265929 ,\n",
       "         4006143.52658402,  4006143.52657561,  4006143.52656766,\n",
       "         4006143.52656013,  4006143.52655301,  4006143.52654627,\n",
       "         4006143.52653989,  4006143.52653385,  4006143.52652813,\n",
       "         4006143.52652272,  4006143.5265176 ,  4006143.52651275,\n",
       "         4006143.52650817,  4006143.52650382,  4006143.52649971,\n",
       "         4006143.52649582,  4006143.52649214,  4006143.52648865,\n",
       "         4006143.52648535,  4006143.52648223,  4006143.52647927,\n",
       "         4006143.52647647,  4006143.52647382,  4006143.52647131,\n",
       "         4006143.52646894,  4006143.52646669,  4006143.52646456,\n",
       "         4006143.52646255,  4006143.52646064,  4006143.52645883,\n",
       "         4006143.52645712,  4006143.5264555 ,  4006143.52645397,\n",
       "         4006143.52645252,  4006143.52645115,  4006143.52644985,\n",
       "         4006143.52644861,  4006143.52644745,  4006143.52644634,\n",
       "         4006143.5264453 ,  4006143.52644431,  4006143.52644337,\n",
       "         4006143.52644248,  4006143.52644164,  4006143.52644085,\n",
       "         4006143.5264401 ,  4006143.52643938,  4006143.52643871,\n",
       "         4006143.52643807,  4006143.52643746,  4006143.52643689,\n",
       "         4006143.52643635,  4006143.52643583,  4006143.52643535,\n",
       "         4006143.52643488,  4006143.52643445,  4006143.52643403,\n",
       "         4006143.52643364,  4006143.52643327,  4006143.52643292,\n",
       "         4006143.52643259,  4006143.52643227,  4006143.52643197,\n",
       "         4006143.52643169,  4006143.52643142,  4006143.52643117,\n",
       "         4006143.52643093,  4006143.5264307 ,  4006143.52643049,\n",
       "         4006143.52643028,  4006143.52643009,  4006143.52642991,\n",
       "         4006143.52642974,  4006143.52642957,  4006143.52642942,\n",
       "         4006143.52642927,  4006143.52642913,  4006143.526429  ,\n",
       "         4006143.52642887,  4006143.52642875,  4006143.52642864,\n",
       "         4006143.52642854,  4006143.52642844,  4006143.52642834,\n",
       "         4006143.52642825,  4006143.52642817,  4006143.52642808,\n",
       "         4006143.52642801,  4006143.52642794,  4006143.52642786,\n",
       "         4006143.5264278 ,  4006143.52642774,  4006143.52642768,\n",
       "         4006143.52642763,  4006143.52642757,  4006143.52642752,\n",
       "         4006143.52642748,  4006143.52642743,  4006143.52642739,\n",
       "         4006143.52642735,  4006143.52642731,  4006143.52642727,\n",
       "         4006143.52642724,  4006143.52642721,  4006143.52642718,\n",
       "         4006143.52642715,  4006143.52642712,  4006143.52642709,\n",
       "         4006143.52642707,  4006143.52642705,  4006143.52642703,\n",
       "         4006143.526427  ,  4006143.52642698,  4006143.52642697,\n",
       "         4006143.52642695,  4006143.52642693,  4006143.52642691,\n",
       "         4006143.5264269 ,  4006143.52642689,  4006143.52642687,\n",
       "         4006143.52642686,  4006143.52642685,  4006143.52642684,\n",
       "         4006143.52642682,  4006143.52642682,  4006143.5264268 ,\n",
       "         4006143.5264268 ,  4006143.52642679,  4006143.52642678,\n",
       "         4006143.52642677,  4006143.52642676,  4006143.52642676,\n",
       "         4006143.52642675,  4006143.52642674,  4006143.52642674,\n",
       "         4006143.52642673,  4006143.52642673,  4006143.52642672,\n",
       "         4006143.52642672,  4006143.52642671,  4006143.52642671,\n",
       "         4006143.5264267 ,  4006143.5264267 ,  4006143.52642669,\n",
       "         4006143.52642669,  4006143.52642669,  4006143.52642669,\n",
       "         4006143.52642668,  4006143.52642668,  4006143.52642668,\n",
       "         4006143.52642667,  4006143.52642667,  4006143.52642667,\n",
       "         4006143.52642667,  4006143.52642666,  4006143.52642666,\n",
       "         4006143.52642666,  4006143.52642666,  4006143.52642666,\n",
       "         4006143.52642666,  4006143.52642665,  4006143.52642665,\n",
       "         4006143.52642665,  4006143.52642665,  4006143.52642665,\n",
       "         4006143.52642665,  4006143.52642665,  4006143.52642665,\n",
       "         4006143.52642665,  4006143.52642664,  4006143.52642664,\n",
       "         4006143.52642664,  4006143.52642664,  4006143.52642664,\n",
       "         4006143.52642664,  4006143.52642664,  4006143.52642664,\n",
       "         4006143.52642664,  4006143.52642664,  4006143.52642664,\n",
       "         4006143.52642664,  4006143.52642664,  4006143.52642664,\n",
       "         4006143.52642664,  4006143.52642664,  4006143.52642663,\n",
       "         4006143.52642664,  4006143.52642663,  4006143.52642663,\n",
       "         4006143.52642663,  4006143.52642663,  4006143.52642663,\n",
       "         4006143.52642663,  4006143.52642663,  4006143.52642663,\n",
       "         4006143.52642663,  4006143.52642663,  4006143.52642663,\n",
       "         4006143.52642663,  4006143.52642663,  4006143.52642663,\n",
       "         4006143.52642663,  4006143.52642663,  4006143.52642663,\n",
       "         4006143.52642663,  4006143.52642663,  4006143.52642663,\n",
       "         4006143.52642663,  4006143.52642663,  4006143.52642663,\n",
       "         4006143.52642663,  4006143.52642663,  4006143.52642663,\n",
       "         4006143.52642663,  4006143.52642663,  4006143.52642663,\n",
       "         4006143.52642663,  4006143.52642663,  4006143.52642663,\n",
       "         4006143.52642663,  4006143.52642663,  4006143.52642663,\n",
       "         4006143.52642663,  4006143.52642663,  4006143.52642663,\n",
       "         4006143.52642663,  4006143.52642663,  4006143.52642663,\n",
       "         4006143.52642663,  4006143.52642663,  4006143.52642663,\n",
       "         4006143.52642663,  4006143.52642663,  4006143.52642663,\n",
       "         4006143.52642663,  4006143.52642663,  4006143.52642663,\n",
       "         4006143.52642663,  4006143.52642663,  4006143.52642663,\n",
       "         4006143.52642663,  4006143.52642663,  4006143.52642663,\n",
       "         4006143.52642663,  4006143.52642663,  4006143.52642663,\n",
       "         4006143.52642663,  4006143.52642663,  4006143.52642663,\n",
       "         4006143.52642663,  4006143.52642663,  4006143.52642663,\n",
       "         4006143.52642663,  4006143.52642663,  4006143.52642663,\n",
       "         4006143.52642663,  4006143.52642663,  4006143.52642663,\n",
       "         4006143.52642663,  4006143.52642663,  4006143.52642663,\n",
       "         4006143.52642663,  4006143.52642663,  4006143.52642663,\n",
       "         4006143.52642663,  4006143.52642663,  4006143.52642663,\n",
       "         4006143.52642663,  4006143.52642663,  4006143.52642663,\n",
       "         4006143.52642663,  4006143.52642663,  4006143.52642663,\n",
       "         4006143.52642663,  4006143.52642663,  4006143.52642663,\n",
       "         4006143.52642663,  4006143.52642663,  4006143.52642663,\n",
       "         4006143.52642663,  4006143.52642663,  4006143.52642663,\n",
       "         4006143.52642663,  4006143.52642663,  4006143.52642663,\n",
       "         4006143.52642663,  4006143.52642663,  4006143.52642663,\n",
       "         4006143.52642663,  4006143.52642663,  4006143.52642663,\n",
       "         4006143.52642663,  4006143.52642663,  4006143.52642663,\n",
       "         4006143.52642663,  4006143.52642663,  4006143.52642663,\n",
       "         4006143.52642663,  4006143.52642663,  4006143.52642663,\n",
       "         4006143.52642663,  4006143.52642663,  4006143.52642663,\n",
       "         4006143.52642663,  4006143.52642663,  4006143.52642663,\n",
       "         4006143.52642663,  4006143.52642663,  4006143.52642663,\n",
       "         4006143.52642663,  4006143.52642663,  4006143.52642663,\n",
       "         4006143.52642663,  4006143.52642663,  4006143.52642663,\n",
       "         4006143.52642663,  4006143.52642663,  4006143.52642663,\n",
       "         4006143.52642663,  4006143.52642663,  4006143.52642663,\n",
       "         4006143.52642663,  4006143.52642663,  4006143.52642663,\n",
       "         4006143.52642663,  4006143.52642663,  4006143.52642663,\n",
       "         4006143.52642663,  4006143.52642663,  4006143.52642663,\n",
       "         4006143.52642663,  4006143.52642663,  4006143.52642663,\n",
       "         4006143.52642663,  4006143.52642663,  4006143.52642663,\n",
       "         4006143.52642663,  4006143.52642663,  4006143.52642663,\n",
       "         4006143.52642663,  4006143.52642663,  4006143.52642663,\n",
       "         4006143.52642663,  4006143.52642663,  4006143.52642663,\n",
       "         4006143.52642663,  4006143.52642663,  4006143.52642663,\n",
       "         4006143.52642663,  4006143.52642663,  4006143.52642663,\n",
       "         4006143.52642663,  4006143.52642663,  4006143.52642663,\n",
       "         4006143.52642663,  4006143.52642663,  4006143.52642663,\n",
       "         4006143.52642663,  4006143.52642663,  4006143.52642663,\n",
       "         4006143.52642663,  4006143.52642663,  4006143.52642663,\n",
       "         4006143.52642663,  4006143.52642663,  4006143.52642663,\n",
       "         4006143.52642663,  4006143.52642663,  4006143.52642663,\n",
       "         4006143.52642663,  4006143.52642663,  4006143.52642663,\n",
       "         4006143.52642663,  4006143.52642663,  4006143.52642663,\n",
       "         4006143.52642663,  4006143.52642663,  4006143.52642663,\n",
       "         4006143.52642663,  4006143.52642663,  4006143.52642663,\n",
       "         4006143.52642663,  4006143.52642663,  4006143.52642663,\n",
       "         4006143.52642663,  4006143.52642663,  4006143.52642663,\n",
       "         4006143.52642663,  4006143.52642663,  4006143.52642663,\n",
       "         4006143.52642663,  4006143.52642663,  4006143.52642663,\n",
       "         4006143.52642663,  4006143.52642663,  4006143.52642663,\n",
       "         4006143.52642663,  4006143.52642663,  4006143.52642663,\n",
       "         4006143.52642663,  4006143.52642663,  4006143.52642663,\n",
       "         4006143.52642663,  4006143.52642663,  4006143.52642663,\n",
       "         4006143.52642663,  4006143.52642663,  4006143.52642663,\n",
       "         4006143.52642663,  4006143.52642663,  4006143.52642663,\n",
       "         4006143.52642663,  4006143.52642663,  4006143.52642663,\n",
       "         4006143.52642663,  4006143.52642663,  4006143.52642663,\n",
       "         4006143.52642663,  4006143.52642663,  4006143.52642663,\n",
       "         4006143.52642663,  4006143.52642663,  4006143.52642663,\n",
       "         4006143.52642663,  4006143.52642663,  4006143.52642663,\n",
       "         4006143.52642663,  4006143.52642663,  4006143.52642663,\n",
       "         4006143.52642663,  4006143.52642663,  4006143.52642663,\n",
       "         4006143.52642663,  4006143.52642663,  4006143.52642663,\n",
       "         4006143.52642663,  4006143.52642663,  4006143.52642663,\n",
       "         4006143.52642663,  4006143.52642663,  4006143.52642663,\n",
       "         4006143.52642663,  4006143.52642663,  4006143.52642663,\n",
       "         4006143.52642663,  4006143.52642663,  4006143.52642663,\n",
       "         4006143.52642663,  4006143.52642663,  4006143.52642663,\n",
       "         4006143.52642663,  4006143.52642663,  4006143.52642663,\n",
       "         4006143.52642663,  4006143.52642663,  4006143.52642663,\n",
       "         4006143.52642663,  4006143.52642663,  4006143.52642663,\n",
       "         4006143.52642663,  4006143.52642663,  4006143.52642663,\n",
       "         4006143.52642663,  4006143.52642663,  4006143.52642663,\n",
       "         4006143.52642663,  4006143.52642663,  4006143.52642663,\n",
       "         4006143.52642663,  4006143.52642663,  4006143.52642663,\n",
       "         4006143.52642663,  4006143.52642663,  4006143.52642663,\n",
       "         4006143.52642663,  4006143.52642663,  4006143.52642663,\n",
       "         4006143.52642663,  4006143.52642663,  4006143.52642663,\n",
       "         4006143.52642663,  4006143.52642663,  4006143.52642663,\n",
       "         4006143.52642663,  4006143.52642663,  4006143.52642663,\n",
       "         4006143.52642663,  4006143.52642663,  4006143.52642663,\n",
       "         4006143.52642663,  4006143.52642663,  4006143.52642663,\n",
       "         4006143.52642663,  4006143.52642663,  4006143.52642663,\n",
       "         4006143.52642663,  4006143.52642663,  4006143.52642663,\n",
       "         4006143.52642663,  4006143.52642663,  4006143.52642663,\n",
       "         4006143.52642663,  4006143.52642663,  4006143.52642663,\n",
       "         4006143.52642663,  4006143.52642663,  4006143.52642663,\n",
       "         4006143.52642663,  4006143.52642663,  4006143.52642663,\n",
       "         4006143.52642663,  4006143.52642663,  4006143.52642663,\n",
       "         4006143.52642663,  4006143.52642663,  4006143.52642663,\n",
       "         4006143.52642663,  4006143.52642663,  4006143.52642663,\n",
       "         4006143.52642663,  4006143.52642663,  4006143.52642663,\n",
       "         4006143.52642663,  4006143.52642663,  4006143.52642663,\n",
       "         4006143.52642663,  4006143.52642663,  4006143.52642663,\n",
       "         4006143.52642663,  4006143.52642663,  4006143.52642663,\n",
       "         4006143.52642663,  4006143.52642663,  4006143.52642663,\n",
       "         4006143.52642663,  4006143.52642663,  4006143.52642663,\n",
       "         4006143.52642663,  4006143.52642663,  4006143.52642663,\n",
       "         4006143.52642663,  4006143.52642663,  4006143.52642663,\n",
       "         4006143.52642663,  4006143.52642663,  4006143.52642663,\n",
       "         4006143.52642663,  4006143.52642663,  4006143.52642663,\n",
       "         4006143.52642663,  4006143.52642663,  4006143.52642663,\n",
       "         4006143.52642663]))"
      ]
     },
     "execution_count": 52,
     "metadata": {},
     "output_type": "execute_result"
    }
   ],
   "source": [
    "def gradient_descent(x, y, theta, learning_rate, n_iterations):\n",
    "    cost_history = np.zeros(n_iterations)\n",
    "    for n in range(n_iterations):\n",
    "        theta = theta - learning_rate*grad(X, y, theta)\n",
    "        cost_history[n] = MSE(x,y,theta)\n",
    "    return theta, cost_history\n",
    "gradient_descent(x, y, theta,  learning_rate=0.03,  n_iterations=1000)"
   ]
  },
  {
   "cell_type": "markdown",
   "metadata": {},
   "source": [
    "### Train your model "
   ]
  },
  {
   "cell_type": "markdown",
   "metadata": {},
   "source": [
    "**Exercise :** Create variables n_iterations and learning_rate."
   ]
  },
  {
   "cell_type": "code",
   "execution_count": 53,
   "metadata": {},
   "outputs": [],
   "source": [
    "n_iterations = 1000\n",
    "learning_rate = 0.01"
   ]
  },
  {
   "cell_type": "markdown",
   "metadata": {},
   "source": [
    "**Exercise:** Create variables theta_final, cost history and instance gradient_descent()."
   ]
  },
  {
   "cell_type": "code",
   "execution_count": 54,
   "metadata": {},
   "outputs": [
    {
     "name": "stdout",
     "output_type": "stream",
     "text": [
      "[[27.59363968]\n",
      " [99.50758492]\n",
      " [-1.54233376]]\n"
     ]
    },
    {
     "data": {
      "image/png": "[encoded data removed]",
      "text/plain": [
       "<Figure size 432x288 with 1 Axes>"
      ]
     },
     "metadata": {
      "needs_background": "light"
     },
     "output_type": "display_data"
    }
   ],
   "source": [
    "import matplotlib.pyplot as plt\n",
    "theta_final, cost_history = gradient_descent(x, y, theta,  learning_rate=0.03,  n_iterations=1000)\n",
    "plt.plot(cost_history)\n",
    "print(theta_final)"
   ]
  },
  {
   "cell_type": "markdown",
   "metadata": {},
   "source": [
    "**Exercise :** \n",
    "Create a predictions variable that contains model(X, theta_final).\n",
    "\n"
   ]
  },
  {
   "cell_type": "code",
   "execution_count": 145,
   "metadata": {},
   "outputs": [
    {
     "data": {
      "application/vnd.plotly.v1+json": {
       "config": {
        "plotlyServerURL": "https://plot.ly"
       },
       "data": [
        {
         "line": {
          "width": 0
         },
         "name": "Origine",
         "opacity": 0.7,
         "type": "scatter3d",
         "x": [
          1.0544517269311366,
          -0.3627411659871381,
          -0.8540957393017248,
          1.3263858966870303,
          -0.461584604814709,
          1.9436211856492929,
          -1.6020576556067476,
          -0.4017809362082619,
          -0.977277879876411,
          0.3781625196021736,
          -0.3023027505753356,
          -0.7474548114407578,
          -0.1871838500258336,
          0.3187276529430212,
          -1.5362436862772235,
          0.4001572083672233,
          -0.8264385386590144,
          -0.7421650204064419,
          0.7065731681919482,
          0.9008264869541872,
          -0.5788496647644155,
          -0.20829875557799488,
          0.6815945182816271,
          0.8024563957963952,
          0.7774903558319101,
          -1.5447710967776116,
          0.9693967081580112,
          0.6764332949464997,
          1.7858704939058352,
          1.5430145954067358,
          0.05616534222974544,
          -0.2127402802139687,
          -0.3595531615405413,
          -1.2348258203536526,
          0.15634896910398005,
          0.4105985019383723,
          -0.1550100930908342,
          1.2023798487844113,
          0.4019893634447017,
          -1.0799315083634229,
          0.9222066715665268,
          -0.6895497777502005,
          -0.1715463312222481,
          0.0875512413851909,
          1.8958891760305832,
          -0.6634782863621074,
          1.8492637284793416,
          0.33367432737426683,
          -1.3749512934180188,
          1.469358769900285,
          0.017479159025056732,
          -1.180632184122412,
          0.2670508693491829,
          1.117016288095853,
          1.4542735069629749,
          2.2408931992014582,
          -0.14963454032767076,
          0.9060446582753852,
          -1.1680934977411974,
          -0.6510255933001469,
          -1.9807964682239267,
          -0.4380743016111864,
          0.8443629764015471,
          1.2224450703824274,
          0.6350314368921064,
          0.386902497859262,
          -0.20515826376580087,
          0.12898291075741067,
          1.336527949436392,
          1.9507753952317897,
          1.4805147914344243,
          0.3169426119248496,
          -2.2234031522244257,
          1.7133427216493666,
          0.3024718977397814,
          0.1216750164928284,
          -1.4200179371789752,
          0.4393917012645369,
          -0.17992483581235091,
          -0.6848100909403132,
          -1.0994007905841945,
          -0.1513572082976979,
          -0.437820044744434,
          0.05194539579613895,
          -1.0930615087305058,
          0.4074618362411104,
          0.5392491912918173,
          1.9100649530990337,
          0.4283318705304177,
          0.6536185954403606,
          0.9444794869904138,
          0.03183055827435118,
          1.9295320538169856,
          -1.4543656745987648,
          0.4627822555257742,
          0.8235041539637314,
          0.9766390364837128,
          -1.3477590611424464,
          0.052165079260974405,
          -1.7262826023316769
         ],
         "y": [
          -1.0707526215105423,
          -0.6343220936809636,
          0.31306770165090136,
          0.29823817420605603,
          -1.3159074105115212,
          -1.17312340511416,
          0.6252314510271875,
          0.17742614225375286,
          1.867557990149968,
          0.1549474256969163,
          -0.3873268174079523,
          -0.41361898075974735,
          0.04575851730144607,
          0.9208588237808192,
          0.4656624397304598,
          1.764052345967664,
          -0.7447548220484399,
          0.8644361988595057,
          0.3563663971744019,
          -1.1651498407833565,
          -0.8707971491818818,
          0.5765908166149409,
          -1.034242841784465,
          -0.2680033709513804,
          -1.2527953600499262,
          -1.0002153473895647,
          -1.2704849984857336,
          -0.635846078378881,
          0.010500020720820478,
          -0.7395629963913133,
          -0.31155253212737266,
          -1.6138978475579515,
          -0.672460447775951,
          1.1394006845433011,
          -0.3479121493261526,
          -0.10321885179355783,
          0.947251967773748,
          1.2302906807277207,
          0.12691209270361992,
          1.1266359221065072,
          0.6140793703460803,
          -0.8034096641738411,
          0.5232766605317537,
          0.9494208069257608,
          1.4882521937955997,
          -0.0984525244254323,
          -0.43515355172163744,
          0.4438632327454257,
          -0.35399391125348395,
          1.5327792143584575,
          -0.4555325035173432,
          -0.510805137568873,
          -1.2928569097234486,
          -0.9128222254441586,
          0.144043571160878,
          0.9787379841057392,
          -0.6945678597313655,
          1.8675589604265697,
          -0.0392828182274956,
          0.8568306119026912,
          -0.8877857476301128,
          -0.5096521817516535,
          -1.225435518830168,
          -0.4031769469731796,
          0.16667349537252904,
          -0.8954665611936756,
          1.494079073157606,
          0.7290905621775369,
          2.16323594928069,
          -1.7062701906250126,
          1.9229420264803847,
          1.1880297923523018,
          -0.6436184028328905,
          -0.06824160532463124,
          0.06651722238316789,
          0.7610377251469934,
          -1.0485529650670926,
          -1.4912575927056055,
          1.1787795711596507,
          0.402341641177549,
          0.37642553115562943,
          0.9500884175255894,
          -1.1474686524111024,
          -0.9072983643832422,
          0.3960067126616453,
          0.6722947570124355,
          -0.7699160744453164,
          -0.8612256850547025,
          -0.028182228338654868,
          -2.5529898158340787,
          2.383144774863942,
          -0.6743326606573761,
          -0.4980324506923049,
          2.269754623987608,
          -1.6301983469660446,
          0.7717905512136674,
          0.2082749780768603,
          1.8831506970562544,
          -1.1043833394284506,
          -0.813146282044454
         ],
         "z": [
          -81.46443256248759,
          -78.75279510577522,
          2.2184136392232574,
          52.234160224033786,
          -159.63925843891542,
          -51.80600084992328,
          82.4570705195524,
          -10.956508889147338,
          184.08605329429764,
          13.651390240675678,
          -47.357790247299135,
          -71.20407441455643,
          -15.059424544069385,
          116.15762479713148,
          -12.005369689541268,
          170.30565126178405,
          -80.97261983373852,
          70.98764159897524,
          87.31109827301674,
          -104.88568957408053,
          -87.88833348454601,
          40.05238642525474,
          -43.240607406839636,
          -43.83757273191576,
          -83.3523105013808,
          -95.25314681457294,
          -111.16552786166667,
          -38.74985336770853,
          28.782872211197358,
          -30.140956280681024,
          -8.021273814887323,
          -207.6857701872116,
          -117.91250074391169,
          118.36250221153273,
          -17.524686766856505,
          21.27048261832005,
          39.1028792927121,
          221.2526346274449,
          -20.04057411643032,
          15.904741924418225,
          104.32394976731821,
          -76.73337956548664,
          62.812812333927575,
          124.49121048845952,
          194.561908623872,
          -32.33697869561911,
          10.589760412646722,
          30.304104741225338,
          -93.06345087437094,
          162.03717403942767,
          -4.253292479494249,
          -78.93288554297561,
          -82.45604339301636,
          -43.471536304060145,
          7.833634624141452,
          152.4341324657461,
          -89.0739664059911,
          226.95963522917182,
          -34.97257080179781,
          32.04450090367049,
          -143.77843204306228,
          -75.73140901937894,
          -113.97274041910471,
          -53.34974102321321,
          -48.59256646659886,
          -72.93706548652426,
          146.12499132491675,
          97.33802039033027,
          258.23754562654585,
          -117.52036936580065,
          248.97382491272202,
          132.13061829382892,
          -141.2989823110782,
          31.76187434293715,
          -2.684306783039773,
          76.0319091086862,
          -171.02794704273262,
          -118.64138256986449,
          99.20090921751179,
          -43.40340206417726,
          -31.57475870255908,
          106.62850968046152,
          -61.23520248412986,
          -120.4442313533112,
          9.081809653102187,
          18.485980984307034,
          -52.643638383829135,
          -48.81027780714437,
          16.768089681449375,
          -199.18070493600925,
          315.5134692992125,
          -48.21985915023345,
          5.1470288201880665,
          199.43685969361545,
          -130.81313889204358,
          86.31634009364771,
          83.13694266659691,
          157.40461482957974,
          -136.51113579831323,
          -143.45201476038488
         ]
        },
        {
         "line": {
          "width": 0
         },
         "name": "Prediction",
         "opacity": 0.7,
         "type": "scatter3d",
         "x": [
          1.0544517269311366,
          -0.3627411659871381,
          -0.8540957393017248,
          1.3263858966870303,
          -0.461584604814709,
          1.9436211856492929,
          -1.6020576556067476,
          -0.4017809362082619,
          -0.977277879876411,
          0.3781625196021736,
          -0.3023027505753356,
          -0.7474548114407578,
          -0.1871838500258336,
          0.3187276529430212,
          -1.5362436862772235,
          0.4001572083672233,
          -0.8264385386590144,
          -0.7421650204064419,
          0.7065731681919482,
          0.9008264869541872,
          -0.5788496647644155,
          -0.20829875557799488,
          0.6815945182816271,
          0.8024563957963952,
          0.7774903558319101,
          -1.5447710967776116,
          0.9693967081580112,
          0.6764332949464997,
          1.7858704939058352,
          1.5430145954067358,
          0.05616534222974544,
          -0.2127402802139687,
          -0.3595531615405413,
          -1.2348258203536526,
          0.15634896910398005,
          0.4105985019383723,
          -0.1550100930908342,
          1.2023798487844113,
          0.4019893634447017,
          -1.0799315083634229,
          0.9222066715665268,
          -0.6895497777502005,
          -0.1715463312222481,
          0.0875512413851909,
          1.8958891760305832,
          -0.6634782863621074,
          1.8492637284793416,
          0.33367432737426683,
          -1.3749512934180188,
          1.469358769900285,
          0.017479159025056732,
          -1.180632184122412,
          0.2670508693491829,
          1.117016288095853,
          1.4542735069629749,
          2.2408931992014582,
          -0.14963454032767076,
          0.9060446582753852,
          -1.1680934977411974,
          -0.6510255933001469,
          -1.9807964682239267,
          -0.4380743016111864,
          0.8443629764015471,
          1.2224450703824274,
          0.6350314368921064,
          0.386902497859262,
          -0.20515826376580087,
          0.12898291075741067,
          1.336527949436392,
          1.9507753952317897,
          1.4805147914344243,
          0.3169426119248496,
          -2.2234031522244257,
          1.7133427216493666,
          0.3024718977397814,
          0.1216750164928284,
          -1.4200179371789752,
          0.4393917012645369,
          -0.17992483581235091,
          -0.6848100909403132,
          -1.0994007905841945,
          -0.1513572082976979,
          -0.437820044744434,
          0.05194539579613895,
          -1.0930615087305058,
          0.4074618362411104,
          0.5392491912918173,
          1.9100649530990337,
          0.4283318705304177,
          0.6536185954403606,
          0.9444794869904138,
          0.03183055827435118,
          1.9295320538169856,
          -1.4543656745987648,
          0.4627822555257742,
          0.8235041539637314,
          0.9766390364837128,
          -1.3477590611424464,
          0.052165079260974405,
          -1.7262826023316769
         ],
         "y": [
          -1.0707526215105423,
          -0.6343220936809636,
          0.31306770165090136,
          0.29823817420605603,
          -1.3159074105115212,
          -1.17312340511416,
          0.6252314510271875,
          0.17742614225375286,
          1.867557990149968,
          0.1549474256969163,
          -0.3873268174079523,
          -0.41361898075974735,
          0.04575851730144607,
          0.9208588237808192,
          0.4656624397304598,
          1.764052345967664,
          -0.7447548220484399,
          0.8644361988595057,
          0.3563663971744019,
          -1.1651498407833565,
          -0.8707971491818818,
          0.5765908166149409,
          -1.034242841784465,
          -0.2680033709513804,
          -1.2527953600499262,
          -1.0002153473895647,
          -1.2704849984857336,
          -0.635846078378881,
          0.010500020720820478,
          -0.7395629963913133,
          -0.31155253212737266,
          -1.6138978475579515,
          -0.672460447775951,
          1.1394006845433011,
          -0.3479121493261526,
          -0.10321885179355783,
          0.947251967773748,
          1.2302906807277207,
          0.12691209270361992,
          1.1266359221065072,
          0.6140793703460803,
          -0.8034096641738411,
          0.5232766605317537,
          0.9494208069257608,
          1.4882521937955997,
          -0.0984525244254323,
          -0.43515355172163744,
          0.4438632327454257,
          -0.35399391125348395,
          1.5327792143584575,
          -0.4555325035173432,
          -0.510805137568873,
          -1.2928569097234486,
          -0.9128222254441586,
          0.144043571160878,
          0.9787379841057392,
          -0.6945678597313655,
          1.8675589604265697,
          -0.0392828182274956,
          0.8568306119026912,
          -0.8877857476301128,
          -0.5096521817516535,
          -1.225435518830168,
          -0.4031769469731796,
          0.16667349537252904,
          -0.8954665611936756,
          1.494079073157606,
          0.7290905621775369,
          2.16323594928069,
          -1.7062701906250126,
          1.9229420264803847,
          1.1880297923523018,
          -0.6436184028328905,
          -0.06824160532463124,
          0.06651722238316789,
          0.7610377251469934,
          -1.0485529650670926,
          -1.4912575927056055,
          1.1787795711596507,
          0.402341641177549,
          0.37642553115562943,
          0.9500884175255894,
          -1.1474686524111024,
          -0.9072983643832422,
          0.3960067126616453,
          0.6722947570124355,
          -0.7699160744453164,
          -0.8612256850547025,
          -0.028182228338654868,
          -2.5529898158340787,
          2.383144774863942,
          -0.6743326606573761,
          -0.4980324506923049,
          2.269754623987608,
          -1.6301983469660446,
          0.7717905512136674,
          0.2082749780768603,
          1.8831506970562544,
          -1.1043833394284506,
          -0.813146282044454
         ],
         "z": [
          -78.99418015335219,
          -74.67154239261599,
          6.042667066834858,
          64.73444120561552,
          -145.22190142424617,
          -64.64542793463885,
          16.46633625157061,
          5.026314776438058,
          157.32719785628035,
          24.310990673011897,
          -48.42592310583051,
          -63.32555835528491,
          -2.1540979215859917,
          98.88495986468433,
          2.404056265008399,
          185.03604869063415,
          -98.45553471249067,
          63.99659055239892,
          53.415751187506416,
          -92.62649898470407,
          -104.16582410744739,
          50.085105085480855,
          -85.64966761574158,
          -6.068009302245141,
          -104.75118569824706,
          -143.6972044136503,
          -101.21604415802824,
          -46.14858478588481,
          48.781164878481206,
          -32.5570726512587,
          -30.994367587476837,
          -168.00768951397527,
          -78.37862925546659,
          77.76333786186673,
          -31.847994381413862,
          -0.48348529877810953,
          88.43912921328338,
          154.0589569448715,
          22.178731738178538,
          80.76724501379793,
          85.01025994651596,
          -100.51487725105855,
          45.794075326707464,
          95.3480952241049,
          198.86453060615952,
          -29.646887462392318,
          6.184504246452453,
          51.832713731439775,
          -74.70732351441366,
          191.5257805452139,
          -46.388959417596105,
          -84.94925844802701,
          -122.8224970247814,
          -61.55252389739906,
          52.91979328667452,
          157.68391882170673,
          -74.78606563136553,
          209.29501793206254,
          -37.68322321983653,
          65.75464547496597,
          -144.54113346056474,
          -64.34465594484888,
          -100.1834149779412,
          -7.929789239579827,
          32.56577189668283,
          -79.97200051900029,
          141.46880328705498,
          74.56681524027289,
          250.59572183583285,
          -117.50016628785833,
          230.6577749440284,
          125.42124192960156,
          -126.93903208634336,
          38.94447062322935,
          13.422934960070357,
          77.5441488712627,
          -145.06477027421857,
          -137.80935901638625,
          110.79039343532794,
          19.597308370030266,
          5.578392469023103,
          88.82217386462709,
          -127.80521669073518,
          -90.39204026347349,
          7.701792409913398,
          76.59944896393495,
          -63.274975031419075,
          -34.53517765924209,
          7.472556065163814,
          -237.54846864442632,
          261.6602739611969,
          -67.76522729512776,
          2.142472114758994,
          184.18422484783412,
          -150.9895873936798,
          97.98015696310962,
          46.13163198606508,
          148.65586623747183,
          -109.99742828809455,
          -130.09097659040103
         ]
        }
       ],
       "layout": {
        "template": {
         "data": {
          "bar": [
           {
            "error_x": {
             "color": "#2a3f5f"
            },
            "error_y": {
             "color": "#2a3f5f"
            },
            "marker": {
             "line": {
              "color": "#E5ECF6",
              "width": 0.5
             }
            },
            "type": "bar"
           }
          ],
          "barpolar": [
           {
            "marker": {
             "line": {
              "color": "#E5ECF6",
              "width": 0.5
             }
            },
            "type": "barpolar"
           }
          ],
          "carpet": [
           {
            "aaxis": {
             "endlinecolor": "#2a3f5f",
             "gridcolor": "white",
             "linecolor": "white",
             "minorgridcolor": "white",
             "startlinecolor": "#2a3f5f"
            },
            "baxis": {
             "endlinecolor": "#2a3f5f",
             "gridcolor": "white",
             "linecolor": "white",
             "minorgridcolor": "white",
             "startlinecolor": "#2a3f5f"
            },
            "type": "carpet"
           }
          ],
          "choropleth": [
           {
            "colorbar": {
             "outlinewidth": 0,
             "ticks": ""
            },
            "type": "choropleth"
           }
          ],
          "contour": [
           {
            "colorbar": {
             "outlinewidth": 0,
             "ticks": ""
            },
            "colorscale": [
             [
              0,
              "#0d0887"
             ],
             [
              0.1111111111111111,
              "#46039f"
             ],
             [
              0.2222222222222222,
              "#7201a8"
             ],
             [
              0.3333333333333333,
              "#9c179e"
             ],
             [
              0.4444444444444444,
              "#bd3786"
             ],
             [
              0.5555555555555556,
              "#d8576b"
             ],
             [
              0.6666666666666666,
              "#ed7953"
             ],
             [
              0.7777777777777778,
              "#fb9f3a"
             ],
             [
              0.8888888888888888,
              "#fdca26"
             ],
             [
              1,
              "#f0f921"
             ]
            ],
            "type": "contour"
           }
          ],
          "contourcarpet": [
           {
            "colorbar": {
             "outlinewidth": 0,
             "ticks": ""
            },
            "type": "contourcarpet"
           }
          ],
          "heatmap": [
           {
            "colorbar": {
             "outlinewidth": 0,
             "ticks": ""
            },
            "colorscale": [
             [
              0,
              "#0d0887"
             ],
             [
              0.1111111111111111,
              "#46039f"
             ],
             [
              0.2222222222222222,
              "#7201a8"
             ],
             [
              0.3333333333333333,
              "#9c179e"
             ],
             [
              0.4444444444444444,
              "#bd3786"
             ],
             [
              0.5555555555555556,
              "#d8576b"
             ],
             [
              0.6666666666666666,
              "#ed7953"
             ],
             [
              0.7777777777777778,
              "#fb9f3a"
             ],
             [
              0.8888888888888888,
              "#fdca26"
             ],
             [
              1,
              "#f0f921"
             ]
            ],
            "type": "heatmap"
           }
          ],
          "heatmapgl": [
           {
            "colorbar": {
             "outlinewidth": 0,
             "ticks": ""
            },
            "colorscale": [
             [
              0,
              "#0d0887"
             ],
             [
              0.1111111111111111,
              "#46039f"
             ],
             [
              0.2222222222222222,
              "#7201a8"
             ],
             [
              0.3333333333333333,
              "#9c179e"
             ],
             [
              0.4444444444444444,
              "#bd3786"
             ],
             [
              0.5555555555555556,
              "#d8576b"
             ],
             [
              0.6666666666666666,
              "#ed7953"
             ],
             [
              0.7777777777777778,
              "#fb9f3a"
             ],
             [
              0.8888888888888888,
              "#fdca26"
             ],
             [
              1,
              "#f0f921"
             ]
            ],
            "type": "heatmapgl"
           }
          ],
          "histogram": [
           {
            "marker": {
             "colorbar": {
              "outlinewidth": 0,
              "ticks": ""
             }
            },
            "type": "histogram"
           }
          ],
          "histogram2d": [
           {
            "colorbar": {
             "outlinewidth": 0,
             "ticks": ""
            },
            "colorscale": [
             [
              0,
              "#0d0887"
             ],
             [
              0.1111111111111111,
              "#46039f"
             ],
             [
              0.2222222222222222,
              "#7201a8"
             ],
             [
              0.3333333333333333,
              "#9c179e"
             ],
             [
              0.4444444444444444,
              "#bd3786"
             ],
             [
              0.5555555555555556,
              "#d8576b"
             ],
             [
              0.6666666666666666,
              "#ed7953"
             ],
             [
              0.7777777777777778,
              "#fb9f3a"
             ],
             [
              0.8888888888888888,
              "#fdca26"
             ],
             [
              1,
              "#f0f921"
             ]
            ],
            "type": "histogram2d"
           }
          ],
          "histogram2dcontour": [
           {
            "colorbar": {
             "outlinewidth": 0,
             "ticks": ""
            },
            "colorscale": [
             [
              0,
              "#0d0887"
             ],
             [
              0.1111111111111111,
              "#46039f"
             ],
             [
              0.2222222222222222,
              "#7201a8"
             ],
             [
              0.3333333333333333,
              "#9c179e"
             ],
             [
              0.4444444444444444,
              "#bd3786"
             ],
             [
              0.5555555555555556,
              "#d8576b"
             ],
             [
              0.6666666666666666,
              "#ed7953"
             ],
             [
              0.7777777777777778,
              "#fb9f3a"
             ],
             [
              0.8888888888888888,
              "#fdca26"
             ],
             [
              1,
              "#f0f921"
             ]
            ],
            "type": "histogram2dcontour"
           }
          ],
          "mesh3d": [
           {
            "colorbar": {
             "outlinewidth": 0,
             "ticks": ""
            },
            "type": "mesh3d"
           }
          ],
          "parcoords": [
           {
            "line": {
             "colorbar": {
              "outlinewidth": 0,
              "ticks": ""
             }
            },
            "type": "parcoords"
           }
          ],
          "scatter": [
           {
            "marker": {
             "colorbar": {
              "outlinewidth": 0,
              "ticks": ""
             }
            },
            "type": "scatter"
           }
          ],
          "scatter3d": [
           {
            "line": {
             "colorbar": {
              "outlinewidth": 0,
              "ticks": ""
             }
            },
            "marker": {
             "colorbar": {
              "outlinewidth": 0,
              "ticks": ""
             }
            },
            "type": "scatter3d"
           }
          ],
          "scattercarpet": [
           {
            "marker": {
             "colorbar": {
              "outlinewidth": 0,
              "ticks": ""
             }
            },
            "type": "scattercarpet"
           }
          ],
          "scattergeo": [
           {
            "marker": {
             "colorbar": {
              "outlinewidth": 0,
              "ticks": ""
             }
            },
            "type": "scattergeo"
           }
          ],
          "scattergl": [
           {
            "marker": {
             "colorbar": {
              "outlinewidth": 0,
              "ticks": ""
             }
            },
            "type": "scattergl"
           }
          ],
          "scattermapbox": [
           {
            "marker": {
             "colorbar": {
              "outlinewidth": 0,
              "ticks": ""
             }
            },
            "type": "scattermapbox"
           }
          ],
          "scatterpolar": [
           {
            "marker": {
             "colorbar": {
              "outlinewidth": 0,
              "ticks": ""
             }
            },
            "type": "scatterpolar"
           }
          ],
          "scatterpolargl": [
           {
            "marker": {
             "colorbar": {
              "outlinewidth": 0,
              "ticks": ""
             }
            },
            "type": "scatterpolargl"
           }
          ],
          "scatterternary": [
           {
            "marker": {
             "colorbar": {
              "outlinewidth": 0,
              "ticks": ""
             }
            },
            "type": "scatterternary"
           }
          ],
          "surface": [
           {
            "colorbar": {
             "outlinewidth": 0,
             "ticks": ""
            },
            "colorscale": [
             [
              0,
              "#0d0887"
             ],
             [
              0.1111111111111111,
              "#46039f"
             ],
             [
              0.2222222222222222,
              "#7201a8"
             ],
             [
              0.3333333333333333,
              "#9c179e"
             ],
             [
              0.4444444444444444,
              "#bd3786"
             ],
             [
              0.5555555555555556,
              "#d8576b"
             ],
             [
              0.6666666666666666,
              "#ed7953"
             ],
             [
              0.7777777777777778,
              "#fb9f3a"
             ],
             [
              0.8888888888888888,
              "#fdca26"
             ],
             [
              1,
              "#f0f921"
             ]
            ],
            "type": "surface"
           }
          ],
          "table": [
           {
            "cells": {
             "fill": {
              "color": "#EBF0F8"
             },
             "line": {
              "color": "white"
             }
            },
            "header": {
             "fill": {
              "color": "#C8D4E3"
             },
             "line": {
              "color": "white"
             }
            },
            "type": "table"
           }
          ]
         },
         "layout": {
          "annotationdefaults": {
           "arrowcolor": "#2a3f5f",
           "arrowhead": 0,
           "arrowwidth": 1
          },
          "colorscale": {
           "diverging": [
            [
             0,
             "#8e0152"
            ],
            [
             0.1,
             "#c51b7d"
            ],
            [
             0.2,
             "#de77ae"
            ],
            [
             0.3,
             "#f1b6da"
            ],
            [
             0.4,
             "#fde0ef"
            ],
            [
             0.5,
             "#f7f7f7"
            ],
            [
             0.6,
             "#e6f5d0"
            ],
            [
             0.7,
             "#b8e186"
            ],
            [
             0.8,
             "#7fbc41"
            ],
            [
             0.9,
             "#4d9221"
            ],
            [
             1,
             "#276419"
            ]
           ],
           "sequential": [
            [
             0,
             "#0d0887"
            ],
            [
             0.1111111111111111,
             "#46039f"
            ],
            [
             0.2222222222222222,
             "#7201a8"
            ],
            [
             0.3333333333333333,
             "#9c179e"
            ],
            [
             0.4444444444444444,
             "#bd3786"
            ],
            [
             0.5555555555555556,
             "#d8576b"
            ],
            [
             0.6666666666666666,
             "#ed7953"
            ],
            [
             0.7777777777777778,
             "#fb9f3a"
            ],
            [
             0.8888888888888888,
             "#fdca26"
            ],
            [
             1,
             "#f0f921"
            ]
           ],
           "sequentialminus": [
            [
             0,
             "#0d0887"
            ],
            [
             0.1111111111111111,
             "#46039f"
            ],
            [
             0.2222222222222222,
             "#7201a8"
            ],
            [
             0.3333333333333333,
             "#9c179e"
            ],
            [
             0.4444444444444444,
             "#bd3786"
            ],
            [
             0.5555555555555556,
             "#d8576b"
            ],
            [
             0.6666666666666666,
             "#ed7953"
            ],
            [
             0.7777777777777778,
             "#fb9f3a"
            ],
            [
             0.8888888888888888,
             "#fdca26"
            ],
            [
             1,
             "#f0f921"
            ]
           ]
          },
          "colorway": [
           "#636efa",
           "#EF553B",
           "#00cc96",
           "#ab63fa",
           "#FFA15A",
           "#19d3f3",
           "#FF6692",
           "#B6E880",
           "#FF97FF",
           "#FECB52"
          ],
          "font": {
           "color": "#2a3f5f"
          },
          "geo": {
           "bgcolor": "white",
           "lakecolor": "white",
           "landcolor": "#E5ECF6",
           "showlakes": true,
           "showland": true,
           "subunitcolor": "white"
          },
          "hoverlabel": {
           "align": "left"
          },
          "hovermode": "closest",
          "mapbox": {
           "style": "light"
          },
          "paper_bgcolor": "white",
          "plot_bgcolor": "#E5ECF6",
          "polar": {
           "angularaxis": {
            "gridcolor": "white",
            "linecolor": "white",
            "ticks": ""
           },
           "bgcolor": "#E5ECF6",
           "radialaxis": {
            "gridcolor": "white",
            "linecolor": "white",
            "ticks": ""
           }
          },
          "scene": {
           "xaxis": {
            "backgroundcolor": "#E5ECF6",
            "gridcolor": "white",
            "gridwidth": 2,
            "linecolor": "white",
            "showbackground": true,
            "ticks": "",
            "zerolinecolor": "white"
           },
           "yaxis": {
            "backgroundcolor": "#E5ECF6",
            "gridcolor": "white",
            "gridwidth": 2,
            "linecolor": "white",
            "showbackground": true,
            "ticks": "",
            "zerolinecolor": "white"
           },
           "zaxis": {
            "backgroundcolor": "#E5ECF6",
            "gridcolor": "white",
            "gridwidth": 2,
            "linecolor": "white",
            "showbackground": true,
            "ticks": "",
            "zerolinecolor": "white"
           }
          },
          "shapedefaults": {
           "line": {
            "color": "#2a3f5f"
           }
          },
          "ternary": {
           "aaxis": {
            "gridcolor": "white",
            "linecolor": "white",
            "ticks": ""
           },
           "baxis": {
            "gridcolor": "white",
            "linecolor": "white",
            "ticks": ""
           },
           "bgcolor": "#E5ECF6",
           "caxis": {
            "gridcolor": "white",
            "linecolor": "white",
            "ticks": ""
           }
          },
          "title": {
           "x": 0.05
          },
          "xaxis": {
           "automargin": true,
           "gridcolor": "white",
           "linecolor": "white",
           "ticks": "",
           "zerolinecolor": "white",
           "zerolinewidth": 2
          },
          "yaxis": {
           "automargin": true,
           "gridcolor": "white",
           "linecolor": "white",
           "ticks": "",
           "zerolinecolor": "white",
           "zerolinewidth": 2
          }
         }
        },
        "xaxis": {
         "anchor": "y",
         "domain": [
          0,
          0.63
         ]
        },
        "xaxis2": {
         "anchor": "y2",
         "domain": [
          0.73,
          1
         ]
        },
        "yaxis": {
         "anchor": "x",
         "domain": [
          0,
          1
         ]
        },
        "yaxis2": {
         "anchor": "x2",
         "domain": [
          0,
          1
         ]
        }
       }
      },
      "text/html": [
       "<div>\n",
       "        \n",
       "        \n",
       "            <div id=\"f9819b5b-2de6-4bc9-8665-5f419e89f9c0\" class=\"plotly-graph-div\" style=\"height:525px; width:100%;\"></div>\n",
       "            <script type=\"text/javascript\">\n",
       "                require([\"plotly\"], function(Plotly) {\n",
       "                    window.PLOTLYENV=window.PLOTLYENV || {};\n",
       "                    \n",
       "                if (document.getElementById(\"f9819b5b-2de6-4bc9-8665-5f419e89f9c0\")) {\n",
       "                    Plotly.newPlot(\n",
       "                        'f9819b5b-2de6-4bc9-8665-5f419e89f9c0',\n",
       "                        [{\"line\": {\"width\": 0}, \"name\": \"Origine\", \"opacity\": 0.7, \"type\": \"scatter3d\", \"x\": [1.0544517269311366, -0.3627411659871381, -0.8540957393017248, 1.3263858966870303, -0.461584604814709, 1.9436211856492929, -1.6020576556067476, -0.4017809362082619, -0.977277879876411, 0.3781625196021736, -0.3023027505753356, -0.7474548114407578, -0.1871838500258336, 0.3187276529430212, -1.5362436862772235, 0.4001572083672233, -0.8264385386590144, -0.7421650204064419, 0.7065731681919482, 0.9008264869541872, -0.5788496647644155, -0.20829875557799488, 0.6815945182816271, 0.8024563957963952, 0.7774903558319101, -1.5447710967776116, 0.9693967081580112, 0.6764332949464997, 1.7858704939058352, 1.5430145954067358, 0.05616534222974544, -0.2127402802139687, -0.3595531615405413, -1.2348258203536526, 0.15634896910398005, 0.4105985019383723, -0.1550100930908342, 1.2023798487844113, 0.4019893634447017, -1.0799315083634229, 0.9222066715665268, -0.6895497777502005, -0.1715463312222481, 0.0875512413851909, 1.8958891760305832, -0.6634782863621074, 1.8492637284793416, 0.33367432737426683, -1.3749512934180188, 1.469358769900285, 0.017479159025056732, -1.180632184122412, 0.2670508693491829, 1.117016288095853, 1.4542735069629749, 2.2408931992014582, -0.14963454032767076, 0.9060446582753852, -1.1680934977411974, -0.6510255933001469, -1.9807964682239267, -0.4380743016111864, 0.8443629764015471, 1.2224450703824274, 0.6350314368921064, 0.386902497859262, -0.20515826376580087, 0.12898291075741067, 1.336527949436392, 1.9507753952317897, 1.4805147914344243, 0.3169426119248496, -2.2234031522244257, 1.7133427216493666, 0.3024718977397814, 0.1216750164928284, -1.4200179371789752, 0.4393917012645369, -0.17992483581235091, -0.6848100909403132, -1.0994007905841945, -0.1513572082976979, -0.437820044744434, 0.05194539579613895, -1.0930615087305058, 0.4074618362411104, 0.5392491912918173, 1.9100649530990337, 0.4283318705304177, 0.6536185954403606, 0.9444794869904138, 0.03183055827435118, 1.9295320538169856, -1.4543656745987648, 0.4627822555257742, 0.8235041539637314, 0.9766390364837128, -1.3477590611424464, 0.052165079260974405, -1.7262826023316769], \"y\": [-1.0707526215105423, -0.6343220936809636, 0.31306770165090136, 0.29823817420605603, -1.3159074105115212, -1.17312340511416, 0.6252314510271875, 0.17742614225375286, 1.867557990149968, 0.1549474256969163, -0.3873268174079523, -0.41361898075974735, 0.04575851730144607, 0.9208588237808192, 0.4656624397304598, 1.764052345967664, -0.7447548220484399, 0.8644361988595057, 0.3563663971744019, -1.1651498407833565, -0.8707971491818818, 0.5765908166149409, -1.034242841784465, -0.2680033709513804, -1.2527953600499262, -1.0002153473895647, -1.2704849984857336, -0.635846078378881, 0.010500020720820478, -0.7395629963913133, -0.31155253212737266, -1.6138978475579515, -0.672460447775951, 1.1394006845433011, -0.3479121493261526, -0.10321885179355783, 0.947251967773748, 1.2302906807277207, 0.12691209270361992, 1.1266359221065072, 0.6140793703460803, -0.8034096641738411, 0.5232766605317537, 0.9494208069257608, 1.4882521937955997, -0.0984525244254323, -0.43515355172163744, 0.4438632327454257, -0.35399391125348395, 1.5327792143584575, -0.4555325035173432, -0.510805137568873, -1.2928569097234486, -0.9128222254441586, 0.144043571160878, 0.9787379841057392, -0.6945678597313655, 1.8675589604265697, -0.0392828182274956, 0.8568306119026912, -0.8877857476301128, -0.5096521817516535, -1.225435518830168, -0.4031769469731796, 0.16667349537252904, -0.8954665611936756, 1.494079073157606, 0.7290905621775369, 2.16323594928069, -1.7062701906250126, 1.9229420264803847, 1.1880297923523018, -0.6436184028328905, -0.06824160532463124, 0.06651722238316789, 0.7610377251469934, -1.0485529650670926, -1.4912575927056055, 1.1787795711596507, 0.402341641177549, 0.37642553115562943, 0.9500884175255894, -1.1474686524111024, -0.9072983643832422, 0.3960067126616453, 0.6722947570124355, -0.7699160744453164, -0.8612256850547025, -0.028182228338654868, -2.5529898158340787, 2.383144774863942, -0.6743326606573761, -0.4980324506923049, 2.269754623987608, -1.6301983469660446, 0.7717905512136674, 0.2082749780768603, 1.8831506970562544, -1.1043833394284506, -0.813146282044454], \"z\": [-81.46443256248759, -78.75279510577522, 2.2184136392232574, 52.234160224033786, -159.63925843891542, -51.80600084992328, 82.4570705195524, -10.956508889147338, 184.08605329429764, 13.651390240675678, -47.357790247299135, -71.20407441455643, -15.059424544069385, 116.15762479713148, -12.005369689541268, 170.30565126178405, -80.97261983373852, 70.98764159897524, 87.31109827301674, -104.88568957408053, -87.88833348454601, 40.05238642525474, -43.240607406839636, -43.83757273191576, -83.3523105013808, -95.25314681457294, -111.16552786166667, -38.74985336770853, 28.782872211197358, -30.140956280681024, -8.021273814887323, -207.6857701872116, -117.91250074391169, 118.36250221153273, -17.524686766856505, 21.27048261832005, 39.1028792927121, 221.2526346274449, -20.04057411643032, 15.904741924418225, 104.32394976731821, -76.73337956548664, 62.812812333927575, 124.49121048845952, 194.561908623872, -32.33697869561911, 10.589760412646722, 30.304104741225338, -93.06345087437094, 162.03717403942767, -4.253292479494249, -78.93288554297561, -82.45604339301636, -43.471536304060145, 7.833634624141452, 152.4341324657461, -89.0739664059911, 226.95963522917182, -34.97257080179781, 32.04450090367049, -143.77843204306228, -75.73140901937894, -113.97274041910471, -53.34974102321321, -48.59256646659886, -72.93706548652426, 146.12499132491675, 97.33802039033027, 258.23754562654585, -117.52036936580065, 248.97382491272202, 132.13061829382892, -141.2989823110782, 31.76187434293715, -2.684306783039773, 76.0319091086862, -171.02794704273262, -118.64138256986449, 99.20090921751179, -43.40340206417726, -31.57475870255908, 106.62850968046152, -61.23520248412986, -120.4442313533112, 9.081809653102187, 18.485980984307034, -52.643638383829135, -48.81027780714437, 16.768089681449375, -199.18070493600925, 315.5134692992125, -48.21985915023345, 5.1470288201880665, 199.43685969361545, -130.81313889204358, 86.31634009364771, 83.13694266659691, 157.40461482957974, -136.51113579831323, -143.45201476038488]}, {\"line\": {\"width\": 0}, \"name\": \"Prediction\", \"opacity\": 0.7, \"type\": \"scatter3d\", \"x\": [1.0544517269311366, -0.3627411659871381, -0.8540957393017248, 1.3263858966870303, -0.461584604814709, 1.9436211856492929, -1.6020576556067476, -0.4017809362082619, -0.977277879876411, 0.3781625196021736, -0.3023027505753356, -0.7474548114407578, -0.1871838500258336, 0.3187276529430212, -1.5362436862772235, 0.4001572083672233, -0.8264385386590144, -0.7421650204064419, 0.7065731681919482, 0.9008264869541872, -0.5788496647644155, -0.20829875557799488, 0.6815945182816271, 0.8024563957963952, 0.7774903558319101, -1.5447710967776116, 0.9693967081580112, 0.6764332949464997, 1.7858704939058352, 1.5430145954067358, 0.05616534222974544, -0.2127402802139687, -0.3595531615405413, -1.2348258203536526, 0.15634896910398005, 0.4105985019383723, -0.1550100930908342, 1.2023798487844113, 0.4019893634447017, -1.0799315083634229, 0.9222066715665268, -0.6895497777502005, -0.1715463312222481, 0.0875512413851909, 1.8958891760305832, -0.6634782863621074, 1.8492637284793416, 0.33367432737426683, -1.3749512934180188, 1.469358769900285, 0.017479159025056732, -1.180632184122412, 0.2670508693491829, 1.117016288095853, 1.4542735069629749, 2.2408931992014582, -0.14963454032767076, 0.9060446582753852, -1.1680934977411974, -0.6510255933001469, -1.9807964682239267, -0.4380743016111864, 0.8443629764015471, 1.2224450703824274, 0.6350314368921064, 0.386902497859262, -0.20515826376580087, 0.12898291075741067, 1.336527949436392, 1.9507753952317897, 1.4805147914344243, 0.3169426119248496, -2.2234031522244257, 1.7133427216493666, 0.3024718977397814, 0.1216750164928284, -1.4200179371789752, 0.4393917012645369, -0.17992483581235091, -0.6848100909403132, -1.0994007905841945, -0.1513572082976979, -0.437820044744434, 0.05194539579613895, -1.0930615087305058, 0.4074618362411104, 0.5392491912918173, 1.9100649530990337, 0.4283318705304177, 0.6536185954403606, 0.9444794869904138, 0.03183055827435118, 1.9295320538169856, -1.4543656745987648, 0.4627822555257742, 0.8235041539637314, 0.9766390364837128, -1.3477590611424464, 0.052165079260974405, -1.7262826023316769], \"y\": [-1.0707526215105423, -0.6343220936809636, 0.31306770165090136, 0.29823817420605603, -1.3159074105115212, -1.17312340511416, 0.6252314510271875, 0.17742614225375286, 1.867557990149968, 0.1549474256969163, -0.3873268174079523, -0.41361898075974735, 0.04575851730144607, 0.9208588237808192, 0.4656624397304598, 1.764052345967664, -0.7447548220484399, 0.8644361988595057, 0.3563663971744019, -1.1651498407833565, -0.8707971491818818, 0.5765908166149409, -1.034242841784465, -0.2680033709513804, -1.2527953600499262, -1.0002153473895647, -1.2704849984857336, -0.635846078378881, 0.010500020720820478, -0.7395629963913133, -0.31155253212737266, -1.6138978475579515, -0.672460447775951, 1.1394006845433011, -0.3479121493261526, -0.10321885179355783, 0.947251967773748, 1.2302906807277207, 0.12691209270361992, 1.1266359221065072, 0.6140793703460803, -0.8034096641738411, 0.5232766605317537, 0.9494208069257608, 1.4882521937955997, -0.0984525244254323, -0.43515355172163744, 0.4438632327454257, -0.35399391125348395, 1.5327792143584575, -0.4555325035173432, -0.510805137568873, -1.2928569097234486, -0.9128222254441586, 0.144043571160878, 0.9787379841057392, -0.6945678597313655, 1.8675589604265697, -0.0392828182274956, 0.8568306119026912, -0.8877857476301128, -0.5096521817516535, -1.225435518830168, -0.4031769469731796, 0.16667349537252904, -0.8954665611936756, 1.494079073157606, 0.7290905621775369, 2.16323594928069, -1.7062701906250126, 1.9229420264803847, 1.1880297923523018, -0.6436184028328905, -0.06824160532463124, 0.06651722238316789, 0.7610377251469934, -1.0485529650670926, -1.4912575927056055, 1.1787795711596507, 0.402341641177549, 0.37642553115562943, 0.9500884175255894, -1.1474686524111024, -0.9072983643832422, 0.3960067126616453, 0.6722947570124355, -0.7699160744453164, -0.8612256850547025, -0.028182228338654868, -2.5529898158340787, 2.383144774863942, -0.6743326606573761, -0.4980324506923049, 2.269754623987608, -1.6301983469660446, 0.7717905512136674, 0.2082749780768603, 1.8831506970562544, -1.1043833394284506, -0.813146282044454], \"z\": [-78.99418015335219, -74.67154239261599, 6.042667066834858, 64.73444120561552, -145.22190142424617, -64.64542793463885, 16.46633625157061, 5.026314776438058, 157.32719785628035, 24.310990673011897, -48.42592310583051, -63.32555835528491, -2.1540979215859917, 98.88495986468433, 2.404056265008399, 185.03604869063415, -98.45553471249067, 63.99659055239892, 53.415751187506416, -92.62649898470407, -104.16582410744739, 50.085105085480855, -85.64966761574158, -6.068009302245141, -104.75118569824706, -143.6972044136503, -101.21604415802824, -46.14858478588481, 48.781164878481206, -32.5570726512587, -30.994367587476837, -168.00768951397527, -78.37862925546659, 77.76333786186673, -31.847994381413862, -0.48348529877810953, 88.43912921328338, 154.0589569448715, 22.178731738178538, 80.76724501379793, 85.01025994651596, -100.51487725105855, 45.794075326707464, 95.3480952241049, 198.86453060615952, -29.646887462392318, 6.184504246452453, 51.832713731439775, -74.70732351441366, 191.5257805452139, -46.388959417596105, -84.94925844802701, -122.8224970247814, -61.55252389739906, 52.91979328667452, 157.68391882170673, -74.78606563136553, 209.29501793206254, -37.68322321983653, 65.75464547496597, -144.54113346056474, -64.34465594484888, -100.1834149779412, -7.929789239579827, 32.56577189668283, -79.97200051900029, 141.46880328705498, 74.56681524027289, 250.59572183583285, -117.50016628785833, 230.6577749440284, 125.42124192960156, -126.93903208634336, 38.94447062322935, 13.422934960070357, 77.5441488712627, -145.06477027421857, -137.80935901638625, 110.79039343532794, 19.597308370030266, 5.578392469023103, 88.82217386462709, -127.80521669073518, -90.39204026347349, 7.701792409913398, 76.59944896393495, -63.274975031419075, -34.53517765924209, 7.472556065163814, -237.54846864442632, 261.6602739611969, -67.76522729512776, 2.142472114758994, 184.18422484783412, -150.9895873936798, 97.98015696310962, 46.13163198606508, 148.65586623747183, -109.99742828809455, -130.09097659040103]}],\n",
       "                        {\"template\": {\"data\": {\"bar\": [{\"error_x\": {\"color\": \"#2a3f5f\"}, \"error_y\": {\"color\": \"#2a3f5f\"}, \"marker\": {\"line\": {\"color\": \"#E5ECF6\", \"width\": 0.5}}, \"type\": \"bar\"}], \"barpolar\": [{\"marker\": {\"line\": {\"color\": \"#E5ECF6\", \"width\": 0.5}}, \"type\": \"barpolar\"}], \"carpet\": [{\"aaxis\": {\"endlinecolor\": \"#2a3f5f\", \"gridcolor\": \"white\", \"linecolor\": \"white\", \"minorgridcolor\": \"white\", \"startlinecolor\": \"#2a3f5f\"}, \"baxis\": {\"endlinecolor\": \"#2a3f5f\", \"gridcolor\": \"white\", \"linecolor\": \"white\", \"minorgridcolor\": \"white\", \"startlinecolor\": \"#2a3f5f\"}, \"type\": \"carpet\"}], \"choropleth\": [{\"colorbar\": {\"outlinewidth\": 0, \"ticks\": \"\"}, \"type\": \"choropleth\"}], \"contour\": [{\"colorbar\": {\"outlinewidth\": 0, \"ticks\": \"\"}, \"colorscale\": [[0.0, \"#0d0887\"], [0.1111111111111111, \"#46039f\"], [0.2222222222222222, \"#7201a8\"], [0.3333333333333333, \"#9c179e\"], [0.4444444444444444, \"#bd3786\"], [0.5555555555555556, \"#d8576b\"], [0.6666666666666666, \"#ed7953\"], [0.7777777777777778, \"#fb9f3a\"], [0.8888888888888888, \"#fdca26\"], [1.0, \"#f0f921\"]], \"type\": \"contour\"}], \"contourcarpet\": [{\"colorbar\": {\"outlinewidth\": 0, \"ticks\": \"\"}, \"type\": \"contourcarpet\"}], \"heatmap\": [{\"colorbar\": {\"outlinewidth\": 0, \"ticks\": \"\"}, \"colorscale\": [[0.0, \"#0d0887\"], [0.1111111111111111, \"#46039f\"], [0.2222222222222222, \"#7201a8\"], [0.3333333333333333, \"#9c179e\"], [0.4444444444444444, \"#bd3786\"], [0.5555555555555556, \"#d8576b\"], [0.6666666666666666, \"#ed7953\"], [0.7777777777777778, \"#fb9f3a\"], [0.8888888888888888, \"#fdca26\"], [1.0, \"#f0f921\"]], \"type\": \"heatmap\"}], \"heatmapgl\": [{\"colorbar\": {\"outlinewidth\": 0, \"ticks\": \"\"}, \"colorscale\": [[0.0, \"#0d0887\"], [0.1111111111111111, \"#46039f\"], [0.2222222222222222, \"#7201a8\"], [0.3333333333333333, \"#9c179e\"], [0.4444444444444444, \"#bd3786\"], [0.5555555555555556, \"#d8576b\"], [0.6666666666666666, \"#ed7953\"], [0.7777777777777778, \"#fb9f3a\"], [0.8888888888888888, \"#fdca26\"], [1.0, \"#f0f921\"]], \"type\": \"heatmapgl\"}], \"histogram\": [{\"marker\": {\"colorbar\": {\"outlinewidth\": 0, \"ticks\": \"\"}}, \"type\": \"histogram\"}], \"histogram2d\": [{\"colorbar\": {\"outlinewidth\": 0, \"ticks\": \"\"}, \"colorscale\": [[0.0, \"#0d0887\"], [0.1111111111111111, \"#46039f\"], [0.2222222222222222, \"#7201a8\"], [0.3333333333333333, \"#9c179e\"], [0.4444444444444444, \"#bd3786\"], [0.5555555555555556, \"#d8576b\"], [0.6666666666666666, \"#ed7953\"], [0.7777777777777778, \"#fb9f3a\"], [0.8888888888888888, \"#fdca26\"], [1.0, \"#f0f921\"]], \"type\": \"histogram2d\"}], \"histogram2dcontour\": [{\"colorbar\": {\"outlinewidth\": 0, \"ticks\": \"\"}, \"colorscale\": [[0.0, \"#0d0887\"], [0.1111111111111111, \"#46039f\"], [0.2222222222222222, \"#7201a8\"], [0.3333333333333333, \"#9c179e\"], [0.4444444444444444, \"#bd3786\"], [0.5555555555555556, \"#d8576b\"], [0.6666666666666666, \"#ed7953\"], [0.7777777777777778, \"#fb9f3a\"], [0.8888888888888888, \"#fdca26\"], [1.0, \"#f0f921\"]], \"type\": \"histogram2dcontour\"}], \"mesh3d\": [{\"colorbar\": {\"outlinewidth\": 0, \"ticks\": \"\"}, \"type\": \"mesh3d\"}], \"parcoords\": [{\"line\": {\"colorbar\": {\"outlinewidth\": 0, \"ticks\": \"\"}}, \"type\": \"parcoords\"}], \"scatter\": [{\"marker\": {\"colorbar\": {\"outlinewidth\": 0, \"ticks\": \"\"}}, \"type\": \"scatter\"}], \"scatter3d\": [{\"line\": {\"colorbar\": {\"outlinewidth\": 0, \"ticks\": \"\"}}, \"marker\": {\"colorbar\": {\"outlinewidth\": 0, \"ticks\": \"\"}}, \"type\": \"scatter3d\"}], \"scattercarpet\": [{\"marker\": {\"colorbar\": {\"outlinewidth\": 0, \"ticks\": \"\"}}, \"type\": \"scattercarpet\"}], \"scattergeo\": [{\"marker\": {\"colorbar\": {\"outlinewidth\": 0, \"ticks\": \"\"}}, \"type\": \"scattergeo\"}], \"scattergl\": [{\"marker\": {\"colorbar\": {\"outlinewidth\": 0, \"ticks\": \"\"}}, \"type\": \"scattergl\"}], \"scattermapbox\": [{\"marker\": {\"colorbar\": {\"outlinewidth\": 0, \"ticks\": \"\"}}, \"type\": \"scattermapbox\"}], \"scatterpolar\": [{\"marker\": {\"colorbar\": {\"outlinewidth\": 0, \"ticks\": \"\"}}, \"type\": \"scatterpolar\"}], \"scatterpolargl\": [{\"marker\": {\"colorbar\": {\"outlinewidth\": 0, \"ticks\": \"\"}}, \"type\": \"scatterpolargl\"}], \"scatterternary\": [{\"marker\": {\"colorbar\": {\"outlinewidth\": 0, \"ticks\": \"\"}}, \"type\": \"scatterternary\"}], \"surface\": [{\"colorbar\": {\"outlinewidth\": 0, \"ticks\": \"\"}, \"colorscale\": [[0.0, \"#0d0887\"], [0.1111111111111111, \"#46039f\"], [0.2222222222222222, \"#7201a8\"], [0.3333333333333333, \"#9c179e\"], [0.4444444444444444, \"#bd3786\"], [0.5555555555555556, \"#d8576b\"], [0.6666666666666666, \"#ed7953\"], [0.7777777777777778, \"#fb9f3a\"], [0.8888888888888888, \"#fdca26\"], [1.0, \"#f0f921\"]], \"type\": \"surface\"}], \"table\": [{\"cells\": {\"fill\": {\"color\": \"#EBF0F8\"}, \"line\": {\"color\": \"white\"}}, \"header\": {\"fill\": {\"color\": \"#C8D4E3\"}, \"line\": {\"color\": \"white\"}}, \"type\": \"table\"}]}, \"layout\": {\"annotationdefaults\": {\"arrowcolor\": \"#2a3f5f\", \"arrowhead\": 0, \"arrowwidth\": 1}, \"colorscale\": {\"diverging\": [[0, \"#8e0152\"], [0.1, \"#c51b7d\"], [0.2, \"#de77ae\"], [0.3, \"#f1b6da\"], [0.4, \"#fde0ef\"], [0.5, \"#f7f7f7\"], [0.6, \"#e6f5d0\"], [0.7, \"#b8e186\"], [0.8, \"#7fbc41\"], [0.9, \"#4d9221\"], [1, \"#276419\"]], \"sequential\": [[0.0, \"#0d0887\"], [0.1111111111111111, \"#46039f\"], [0.2222222222222222, \"#7201a8\"], [0.3333333333333333, \"#9c179e\"], [0.4444444444444444, \"#bd3786\"], [0.5555555555555556, \"#d8576b\"], [0.6666666666666666, \"#ed7953\"], [0.7777777777777778, \"#fb9f3a\"], [0.8888888888888888, \"#fdca26\"], [1.0, \"#f0f921\"]], \"sequentialminus\": [[0.0, \"#0d0887\"], [0.1111111111111111, \"#46039f\"], [0.2222222222222222, \"#7201a8\"], [0.3333333333333333, \"#9c179e\"], [0.4444444444444444, \"#bd3786\"], [0.5555555555555556, \"#d8576b\"], [0.6666666666666666, \"#ed7953\"], [0.7777777777777778, \"#fb9f3a\"], [0.8888888888888888, \"#fdca26\"], [1.0, \"#f0f921\"]]}, \"colorway\": [\"#636efa\", \"#EF553B\", \"#00cc96\", \"#ab63fa\", \"#FFA15A\", \"#19d3f3\", \"#FF6692\", \"#B6E880\", \"#FF97FF\", \"#FECB52\"], \"font\": {\"color\": \"#2a3f5f\"}, \"geo\": {\"bgcolor\": \"white\", \"lakecolor\": \"white\", \"landcolor\": \"#E5ECF6\", \"showlakes\": true, \"showland\": true, \"subunitcolor\": \"white\"}, \"hoverlabel\": {\"align\": \"left\"}, \"hovermode\": \"closest\", \"mapbox\": {\"style\": \"light\"}, \"paper_bgcolor\": \"white\", \"plot_bgcolor\": \"#E5ECF6\", \"polar\": {\"angularaxis\": {\"gridcolor\": \"white\", \"linecolor\": \"white\", \"ticks\": \"\"}, \"bgcolor\": \"#E5ECF6\", \"radialaxis\": {\"gridcolor\": \"white\", \"linecolor\": \"white\", \"ticks\": \"\"}}, \"scene\": {\"xaxis\": {\"backgroundcolor\": \"#E5ECF6\", \"gridcolor\": \"white\", \"gridwidth\": 2, \"linecolor\": \"white\", \"showbackground\": true, \"ticks\": \"\", \"zerolinecolor\": \"white\"}, \"yaxis\": {\"backgroundcolor\": \"#E5ECF6\", \"gridcolor\": \"white\", \"gridwidth\": 2, \"linecolor\": \"white\", \"showbackground\": true, \"ticks\": \"\", \"zerolinecolor\": \"white\"}, \"zaxis\": {\"backgroundcolor\": \"#E5ECF6\", \"gridcolor\": \"white\", \"gridwidth\": 2, \"linecolor\": \"white\", \"showbackground\": true, \"ticks\": \"\", \"zerolinecolor\": \"white\"}}, \"shapedefaults\": {\"line\": {\"color\": \"#2a3f5f\"}}, \"ternary\": {\"aaxis\": {\"gridcolor\": \"white\", \"linecolor\": \"white\", \"ticks\": \"\"}, \"baxis\": {\"gridcolor\": \"white\", \"linecolor\": \"white\", \"ticks\": \"\"}, \"bgcolor\": \"#E5ECF6\", \"caxis\": {\"gridcolor\": \"white\", \"linecolor\": \"white\", \"ticks\": \"\"}}, \"title\": {\"x\": 0.05}, \"xaxis\": {\"automargin\": true, \"gridcolor\": \"white\", \"linecolor\": \"white\", \"ticks\": \"\", \"zerolinecolor\": \"white\", \"zerolinewidth\": 2}, \"yaxis\": {\"automargin\": true, \"gridcolor\": \"white\", \"linecolor\": \"white\", \"ticks\": \"\", \"zerolinecolor\": \"white\", \"zerolinewidth\": 2}}}, \"xaxis\": {\"anchor\": \"y\", \"domain\": [0.0, 0.63]}, \"xaxis2\": {\"anchor\": \"y2\", \"domain\": [0.73, 1.0]}, \"yaxis\": {\"anchor\": \"x\", \"domain\": [0.0, 1.0]}, \"yaxis2\": {\"anchor\": \"x2\", \"domain\": [0.0, 1.0]}},\n",
       "                        {\"responsive\": true}\n",
       "                    ).then(function(){\n",
       "                            \n",
       "var gd = document.getElementById('f9819b5b-2de6-4bc9-8665-5f419e89f9c0');\n",
       "var x = new MutationObserver(function (mutations, observer) {{\n",
       "        var display = window.getComputedStyle(gd).display;\n",
       "        if (!display || display === 'none') {{\n",
       "            console.log([gd, 'removed!']);\n",
       "            Plotly.purge(gd);\n",
       "            observer.disconnect();\n",
       "        }}\n",
       "}});\n",
       "\n",
       "// Listen for the removal of the full notebook cells\n",
       "var notebookContainer = gd.closest('#notebook-container');\n",
       "if (notebookContainer) {{\n",
       "    x.observe(notebookContainer, {childList: true});\n",
       "}}\n",
       "\n",
       "// Listen for the clearing of the current output cell\n",
       "var outputEl = gd.closest('.output');\n",
       "if (outputEl) {{\n",
       "    x.observe(outputEl, {childList: true});\n",
       "}}\n",
       "\n",
       "                        })\n",
       "                };\n",
       "                });\n",
       "            </script>\n",
       "        </div>"
      ]
     },
     "metadata": {},
     "output_type": "display_data"
    }
   ],
   "source": [
    "import matplotlib.pyplot as plt\n",
    "import pandas as pd\n",
    "import plotly.express as px \n",
    "#from plotly.subplots import make_subplots\n",
    "import plotly.graph_objects as go\n",
    "\n",
    "predictions = model(x, theta_final)\n",
    "#plt.scatter(x, y)\n",
    "#plt.plot(x, predictions, c='r')\n",
    "df[\"predictions\"] = predictions\n",
    "df.head()\n",
    "fig = make_subplots(rows=1, cols=2, column_widths=[0.7, 0.3])\n",
    "\n",
    "\n",
    "fig.add_trace(go.Scatter3d( x=df['x_1'], y=df['x_2'],z = df['y'], name = \"Origine\",opacity=0.7,)) \n",
    "fig.add_trace(go.Scatter3d( x=df['x_1'], y=df['x_2'],z = df['predictions'], name = \"Prediction\",opacity=0.7)) \n",
    "fig.update_traces(line_width=0, selector=dict(type='scatter3d'))\n",
    "#fig.add_trace(go.Scatter3d(data_frame=df, x='x_1', y='x_2',z = 'p)redictions', color = 'y', range_color = [0, 100]))\n",
    "#fig = px.scatter_3d(data_frame=df, x='x_1', y='x_2',z = 'y', color = 'y', range_color = [0, 100]) \n",
    "#fig = px.scatter_3d(data_frame=df, x='x_1', y='x_2',z = 'predictions', color = 'y', range_color = [0, 100])\n",
    "fig.show()\n"
   ]
  },
  {
   "cell_type": "code",
   "execution_count": 105,
   "metadata": {},
   "outputs": [
    {
     "data": {
      "application/vnd.plotly.v1+json": {
       "config": {
        "plotlyServerURL": "https://plot.ly"
       },
       "data": [
        {
         "hoverlabel": {
          "namelength": 0
         },
         "hovertemplate": "x_1=%{x}<br>x_2=%{y}<br>predictions=%{z}<br>y=%{marker.color}",
         "legendgroup": "",
         "marker": {
          "color": [
           -81.46443256248759,
           -78.75279510577522,
           2.2184136392232574,
           52.234160224033786,
           -159.63925843891542,
           -51.80600084992328,
           82.4570705195524,
           -10.956508889147338,
           184.08605329429764,
           13.651390240675678,
           -47.357790247299135,
           -71.20407441455643,
           -15.059424544069385,
           116.15762479713148,
           -12.005369689541268,
           170.30565126178405,
           -80.97261983373852,
           70.98764159897524,
           87.31109827301674,
           -104.88568957408053,
           -87.88833348454601,
           40.05238642525474,
           -43.240607406839636,
           -43.83757273191576,
           -83.3523105013808,
           -95.25314681457294,
           -111.16552786166667,
           -38.74985336770853,
           28.782872211197358,
           -30.140956280681024,
           -8.021273814887323,
           -207.6857701872116,
           -117.91250074391169,
           118.36250221153273,
           -17.524686766856505,
           21.27048261832005,
           39.1028792927121,
           221.2526346274449,
           -20.04057411643032,
           15.904741924418225,
           104.32394976731821,
           -76.73337956548664,
           62.812812333927575,
           124.49121048845952,
           194.561908623872,
           -32.33697869561911,
           10.589760412646722,
           30.304104741225338,
           -93.06345087437094,
           162.03717403942767,
           -4.253292479494249,
           -78.93288554297561,
           -82.45604339301636,
           -43.471536304060145,
           7.833634624141452,
           152.4341324657461,
           -89.0739664059911,
           226.95963522917182,
           -34.97257080179781,
           32.04450090367049,
           -143.77843204306228,
           -75.73140901937894,
           -113.97274041910471,
           -53.34974102321321,
           -48.59256646659886,
           -72.93706548652426,
           146.12499132491675,
           97.33802039033027,
           258.23754562654585,
           -117.52036936580065,
           248.97382491272202,
           132.13061829382892,
           -141.2989823110782,
           31.76187434293715,
           -2.684306783039773,
           76.0319091086862,
           -171.02794704273262,
           -118.64138256986449,
           99.20090921751179,
           -43.40340206417726,
           -31.57475870255908,
           106.62850968046152,
           -61.23520248412986,
           -120.4442313533112,
           9.081809653102187,
           18.485980984307034,
           -52.643638383829135,
           -48.81027780714437,
           16.768089681449375,
           -199.18070493600925,
           315.5134692992125,
           -48.21985915023345,
           5.1470288201880665,
           199.43685969361545,
           -130.81313889204358,
           86.31634009364771,
           83.13694266659691,
           157.40461482957974,
           -136.51113579831323,
           -143.45201476038488
          ],
          "coloraxis": "coloraxis",
          "symbol": "circle"
         },
         "mode": "markers",
         "name": "",
         "scene": "scene",
         "showlegend": false,
         "type": "scatter3d",
         "x": [
          1.0544517269311366,
          -0.3627411659871381,
          -0.8540957393017248,
          1.3263858966870303,
          -0.461584604814709,
          1.9436211856492929,
          -1.6020576556067476,
          -0.4017809362082619,
          -0.977277879876411,
          0.3781625196021736,
          -0.3023027505753356,
          -0.7474548114407578,
          -0.1871838500258336,
          0.3187276529430212,
          -1.5362436862772235,
          0.4001572083672233,
          -0.8264385386590144,
          -0.7421650204064419,
          0.7065731681919482,
          0.9008264869541872,
          -0.5788496647644155,
          -0.20829875557799488,
          0.6815945182816271,
          0.8024563957963952,
          0.7774903558319101,
          -1.5447710967776116,
          0.9693967081580112,
          0.6764332949464997,
          1.7858704939058352,
          1.5430145954067358,
          0.05616534222974544,
          -0.2127402802139687,
          -0.3595531615405413,
          -1.2348258203536526,
          0.15634896910398005,
          0.4105985019383723,
          -0.1550100930908342,
          1.2023798487844113,
          0.4019893634447017,
          -1.0799315083634229,
          0.9222066715665268,
          -0.6895497777502005,
          -0.1715463312222481,
          0.0875512413851909,
          1.8958891760305832,
          -0.6634782863621074,
          1.8492637284793416,
          0.33367432737426683,
          -1.3749512934180188,
          1.469358769900285,
          0.017479159025056732,
          -1.180632184122412,
          0.2670508693491829,
          1.117016288095853,
          1.4542735069629749,
          2.2408931992014582,
          -0.14963454032767076,
          0.9060446582753852,
          -1.1680934977411974,
          -0.6510255933001469,
          -1.9807964682239267,
          -0.4380743016111864,
          0.8443629764015471,
          1.2224450703824274,
          0.6350314368921064,
          0.386902497859262,
          -0.20515826376580087,
          0.12898291075741067,
          1.336527949436392,
          1.9507753952317897,
          1.4805147914344243,
          0.3169426119248496,
          -2.2234031522244257,
          1.7133427216493666,
          0.3024718977397814,
          0.1216750164928284,
          -1.4200179371789752,
          0.4393917012645369,
          -0.17992483581235091,
          -0.6848100909403132,
          -1.0994007905841945,
          -0.1513572082976979,
          -0.437820044744434,
          0.05194539579613895,
          -1.0930615087305058,
          0.4074618362411104,
          0.5392491912918173,
          1.9100649530990337,
          0.4283318705304177,
          0.6536185954403606,
          0.9444794869904138,
          0.03183055827435118,
          1.9295320538169856,
          -1.4543656745987648,
          0.4627822555257742,
          0.8235041539637314,
          0.9766390364837128,
          -1.3477590611424464,
          0.052165079260974405,
          -1.7262826023316769
         ],
         "y": [
          -1.0707526215105423,
          -0.6343220936809636,
          0.31306770165090136,
          0.29823817420605603,
          -1.3159074105115212,
          -1.17312340511416,
          0.6252314510271875,
          0.17742614225375286,
          1.867557990149968,
          0.1549474256969163,
          -0.3873268174079523,
          -0.41361898075974735,
          0.04575851730144607,
          0.9208588237808192,
          0.4656624397304598,
          1.764052345967664,
          -0.7447548220484399,
          0.8644361988595057,
          0.3563663971744019,
          -1.1651498407833565,
          -0.8707971491818818,
          0.5765908166149409,
          -1.034242841784465,
          -0.2680033709513804,
          -1.2527953600499262,
          -1.0002153473895647,
          -1.2704849984857336,
          -0.635846078378881,
          0.010500020720820478,
          -0.7395629963913133,
          -0.31155253212737266,
          -1.6138978475579515,
          -0.672460447775951,
          1.1394006845433011,
          -0.3479121493261526,
          -0.10321885179355783,
          0.947251967773748,
          1.2302906807277207,
          0.12691209270361992,
          1.1266359221065072,
          0.6140793703460803,
          -0.8034096641738411,
          0.5232766605317537,
          0.9494208069257608,
          1.4882521937955997,
          -0.0984525244254323,
          -0.43515355172163744,
          0.4438632327454257,
          -0.35399391125348395,
          1.5327792143584575,
          -0.4555325035173432,
          -0.510805137568873,
          -1.2928569097234486,
          -0.9128222254441586,
          0.144043571160878,
          0.9787379841057392,
          -0.6945678597313655,
          1.8675589604265697,
          -0.0392828182274956,
          0.8568306119026912,
          -0.8877857476301128,
          -0.5096521817516535,
          -1.225435518830168,
          -0.4031769469731796,
          0.16667349537252904,
          -0.8954665611936756,
          1.494079073157606,
          0.7290905621775369,
          2.16323594928069,
          -1.7062701906250126,
          1.9229420264803847,
          1.1880297923523018,
          -0.6436184028328905,
          -0.06824160532463124,
          0.06651722238316789,
          0.7610377251469934,
          -1.0485529650670926,
          -1.4912575927056055,
          1.1787795711596507,
          0.402341641177549,
          0.37642553115562943,
          0.9500884175255894,
          -1.1474686524111024,
          -0.9072983643832422,
          0.3960067126616453,
          0.6722947570124355,
          -0.7699160744453164,
          -0.8612256850547025,
          -0.028182228338654868,
          -2.5529898158340787,
          2.383144774863942,
          -0.6743326606573761,
          -0.4980324506923049,
          2.269754623987608,
          -1.6301983469660446,
          0.7717905512136674,
          0.2082749780768603,
          1.8831506970562544,
          -1.1043833394284506,
          -0.813146282044454
         ],
         "z": [
          -78.99418015335219,
          -74.67154239261599,
          6.042667066834858,
          64.73444120561552,
          -145.22190142424617,
          -64.64542793463885,
          16.46633625157061,
          5.026314776438058,
          157.32719785628035,
          24.310990673011897,
          -48.42592310583051,
          -63.32555835528491,
          -2.1540979215859917,
          98.88495986468433,
          2.404056265008399,
          185.03604869063415,
          -98.45553471249067,
          63.99659055239892,
          53.415751187506416,
          -92.62649898470407,
          -104.16582410744739,
          50.085105085480855,
          -85.64966761574158,
          -6.068009302245141,
          -104.75118569824706,
          -143.6972044136503,
          -101.21604415802824,
          -46.14858478588481,
          48.781164878481206,
          -32.5570726512587,
          -30.994367587476837,
          -168.00768951397527,
          -78.37862925546659,
          77.76333786186673,
          -31.847994381413862,
          -0.48348529877810953,
          88.43912921328338,
          154.0589569448715,
          22.178731738178538,
          80.76724501379793,
          85.01025994651596,
          -100.51487725105855,
          45.794075326707464,
          95.3480952241049,
          198.86453060615952,
          -29.646887462392318,
          6.184504246452453,
          51.832713731439775,
          -74.70732351441366,
          191.5257805452139,
          -46.388959417596105,
          -84.94925844802701,
          -122.8224970247814,
          -61.55252389739906,
          52.91979328667452,
          157.68391882170673,
          -74.78606563136553,
          209.29501793206254,
          -37.68322321983653,
          65.75464547496597,
          -144.54113346056474,
          -64.34465594484888,
          -100.1834149779412,
          -7.929789239579827,
          32.56577189668283,
          -79.97200051900029,
          141.46880328705498,
          74.56681524027289,
          250.59572183583285,
          -117.50016628785833,
          230.6577749440284,
          125.42124192960156,
          -126.93903208634336,
          38.94447062322935,
          13.422934960070357,
          77.5441488712627,
          -145.06477027421857,
          -137.80935901638625,
          110.79039343532794,
          19.597308370030266,
          5.578392469023103,
          88.82217386462709,
          -127.80521669073518,
          -90.39204026347349,
          7.701792409913398,
          76.59944896393495,
          -63.274975031419075,
          -34.53517765924209,
          7.472556065163814,
          -237.54846864442632,
          261.6602739611969,
          -67.76522729512776,
          2.142472114758994,
          184.18422484783412,
          -150.9895873936798,
          97.98015696310962,
          46.13163198606508,
          148.65586623747183,
          -109.99742828809455,
          -130.09097659040103
         ]
        }
       ],
       "layout": {
        "coloraxis": {
         "cmax": 100,
         "cmin": 0,
         "colorbar": {
          "title": {
           "text": "y"
          }
         },
         "colorscale": [
          [
           0,
           "#0d0887"
          ],
          [
           0.1111111111111111,
           "#46039f"
          ],
          [
           0.2222222222222222,
           "#7201a8"
          ],
          [
           0.3333333333333333,
           "#9c179e"
          ],
          [
           0.4444444444444444,
           "#bd3786"
          ],
          [
           0.5555555555555556,
           "#d8576b"
          ],
          [
           0.6666666666666666,
           "#ed7953"
          ],
          [
           0.7777777777777778,
           "#fb9f3a"
          ],
          [
           0.8888888888888888,
           "#fdca26"
          ],
          [
           1,
           "#f0f921"
          ]
         ]
        },
        "height": 600,
        "legend": {
         "tracegroupgap": 0
        },
        "margin": {
         "t": 60
        },
        "scene": {
         "domain": {
          "x": [
           0,
           0.98
          ],
          "y": [
           0,
           1
          ]
         },
         "xaxis": {
          "title": {
           "text": "x_1"
          }
         },
         "yaxis": {
          "title": {
           "text": "x_2"
          }
         },
         "zaxis": {
          "title": {
           "text": "predictions"
          }
         }
        },
        "template": {
         "data": {
          "bar": [
           {
            "error_x": {
             "color": "#2a3f5f"
            },
            "error_y": {
             "color": "#2a3f5f"
            },
            "marker": {
             "line": {
              "color": "#E5ECF6",
              "width": 0.5
             }
            },
            "type": "bar"
           }
          ],
          "barpolar": [
           {
            "marker": {
             "line": {
              "color": "#E5ECF6",
              "width": 0.5
             }
            },
            "type": "barpolar"
           }
          ],
          "carpet": [
           {
            "aaxis": {
             "endlinecolor": "#2a3f5f",
             "gridcolor": "white",
             "linecolor": "white",
             "minorgridcolor": "white",
             "startlinecolor": "#2a3f5f"
            },
            "baxis": {
             "endlinecolor": "#2a3f5f",
             "gridcolor": "white",
             "linecolor": "white",
             "minorgridcolor": "white",
             "startlinecolor": "#2a3f5f"
            },
            "type": "carpet"
           }
          ],
          "choropleth": [
           {
            "colorbar": {
             "outlinewidth": 0,
             "ticks": ""
            },
            "type": "choropleth"
           }
          ],
          "contour": [
           {
            "colorbar": {
             "outlinewidth": 0,
             "ticks": ""
            },
            "colorscale": [
             [
              0,
              "#0d0887"
             ],
             [
              0.1111111111111111,
              "#46039f"
             ],
             [
              0.2222222222222222,
              "#7201a8"
             ],
             [
              0.3333333333333333,
              "#9c179e"
             ],
             [
              0.4444444444444444,
              "#bd3786"
             ],
             [
              0.5555555555555556,
              "#d8576b"
             ],
             [
              0.6666666666666666,
              "#ed7953"
             ],
             [
              0.7777777777777778,
              "#fb9f3a"
             ],
             [
              0.8888888888888888,
              "#fdca26"
             ],
             [
              1,
              "#f0f921"
             ]
            ],
            "type": "contour"
           }
          ],
          "contourcarpet": [
           {
            "colorbar": {
             "outlinewidth": 0,
             "ticks": ""
            },
            "type": "contourcarpet"
           }
          ],
          "heatmap": [
           {
            "colorbar": {
             "outlinewidth": 0,
             "ticks": ""
            },
            "colorscale": [
             [
              0,
              "#0d0887"
             ],
             [
              0.1111111111111111,
              "#46039f"
             ],
             [
              0.2222222222222222,
              "#7201a8"
             ],
             [
              0.3333333333333333,
              "#9c179e"
             ],
             [
              0.4444444444444444,
              "#bd3786"
             ],
             [
              0.5555555555555556,
              "#d8576b"
             ],
             [
              0.6666666666666666,
              "#ed7953"
             ],
             [
              0.7777777777777778,
              "#fb9f3a"
             ],
             [
              0.8888888888888888,
              "#fdca26"
             ],
             [
              1,
              "#f0f921"
             ]
            ],
            "type": "heatmap"
           }
          ],
          "heatmapgl": [
           {
            "colorbar": {
             "outlinewidth": 0,
             "ticks": ""
            },
            "colorscale": [
             [
              0,
              "#0d0887"
             ],
             [
              0.1111111111111111,
              "#46039f"
             ],
             [
              0.2222222222222222,
              "#7201a8"
             ],
             [
              0.3333333333333333,
              "#9c179e"
             ],
             [
              0.4444444444444444,
              "#bd3786"
             ],
             [
              0.5555555555555556,
              "#d8576b"
             ],
             [
              0.6666666666666666,
              "#ed7953"
             ],
             [
              0.7777777777777778,
              "#fb9f3a"
             ],
             [
              0.8888888888888888,
              "#fdca26"
             ],
             [
              1,
              "#f0f921"
             ]
            ],
            "type": "heatmapgl"
           }
          ],
          "histogram": [
           {
            "marker": {
             "colorbar": {
              "outlinewidth": 0,
              "ticks": ""
             }
            },
            "type": "histogram"
           }
          ],
          "histogram2d": [
           {
            "colorbar": {
             "outlinewidth": 0,
             "ticks": ""
            },
            "colorscale": [
             [
              0,
              "#0d0887"
             ],
             [
              0.1111111111111111,
              "#46039f"
             ],
             [
              0.2222222222222222,
              "#7201a8"
             ],
             [
              0.3333333333333333,
              "#9c179e"
             ],
             [
              0.4444444444444444,
              "#bd3786"
             ],
             [
              0.5555555555555556,
              "#d8576b"
             ],
             [
              0.6666666666666666,
              "#ed7953"
             ],
             [
              0.7777777777777778,
              "#fb9f3a"
             ],
             [
              0.8888888888888888,
              "#fdca26"
             ],
             [
              1,
              "#f0f921"
             ]
            ],
            "type": "histogram2d"
           }
          ],
          "histogram2dcontour": [
           {
            "colorbar": {
             "outlinewidth": 0,
             "ticks": ""
            },
            "colorscale": [
             [
              0,
              "#0d0887"
             ],
             [
              0.1111111111111111,
              "#46039f"
             ],
             [
              0.2222222222222222,
              "#7201a8"
             ],
             [
              0.3333333333333333,
              "#9c179e"
             ],
             [
              0.4444444444444444,
              "#bd3786"
             ],
             [
              0.5555555555555556,
              "#d8576b"
             ],
             [
              0.6666666666666666,
              "#ed7953"
             ],
             [
              0.7777777777777778,
              "#fb9f3a"
             ],
             [
              0.8888888888888888,
              "#fdca26"
             ],
             [
              1,
              "#f0f921"
             ]
            ],
            "type": "histogram2dcontour"
           }
          ],
          "mesh3d": [
           {
            "colorbar": {
             "outlinewidth": 0,
             "ticks": ""
            },
            "type": "mesh3d"
           }
          ],
          "parcoords": [
           {
            "line": {
             "colorbar": {
              "outlinewidth": 0,
              "ticks": ""
             }
            },
            "type": "parcoords"
           }
          ],
          "scatter": [
           {
            "marker": {
             "colorbar": {
              "outlinewidth": 0,
              "ticks": ""
             }
            },
            "type": "scatter"
           }
          ],
          "scatter3d": [
           {
            "line": {
             "colorbar": {
              "outlinewidth": 0,
              "ticks": ""
             }
            },
            "marker": {
             "colorbar": {
              "outlinewidth": 0,
              "ticks": ""
             }
            },
            "type": "scatter3d"
           }
          ],
          "scattercarpet": [
           {
            "marker": {
             "colorbar": {
              "outlinewidth": 0,
              "ticks": ""
             }
            },
            "type": "scattercarpet"
           }
          ],
          "scattergeo": [
           {
            "marker": {
             "colorbar": {
              "outlinewidth": 0,
              "ticks": ""
             }
            },
            "type": "scattergeo"
           }
          ],
          "scattergl": [
           {
            "marker": {
             "colorbar": {
              "outlinewidth": 0,
              "ticks": ""
             }
            },
            "type": "scattergl"
           }
          ],
          "scattermapbox": [
           {
            "marker": {
             "colorbar": {
              "outlinewidth": 0,
              "ticks": ""
             }
            },
            "type": "scattermapbox"
           }
          ],
          "scatterpolar": [
           {
            "marker": {
             "colorbar": {
              "outlinewidth": 0,
              "ticks": ""
             }
            },
            "type": "scatterpolar"
           }
          ],
          "scatterpolargl": [
           {
            "marker": {
             "colorbar": {
              "outlinewidth": 0,
              "ticks": ""
             }
            },
            "type": "scatterpolargl"
           }
          ],
          "scatterternary": [
           {
            "marker": {
             "colorbar": {
              "outlinewidth": 0,
              "ticks": ""
             }
            },
            "type": "scatterternary"
           }
          ],
          "surface": [
           {
            "colorbar": {
             "outlinewidth": 0,
             "ticks": ""
            },
            "colorscale": [
             [
              0,
              "#0d0887"
             ],
             [
              0.1111111111111111,
              "#46039f"
             ],
             [
              0.2222222222222222,
              "#7201a8"
             ],
             [
              0.3333333333333333,
              "#9c179e"
             ],
             [
              0.4444444444444444,
              "#bd3786"
             ],
             [
              0.5555555555555556,
              "#d8576b"
             ],
             [
              0.6666666666666666,
              "#ed7953"
             ],
             [
              0.7777777777777778,
              "#fb9f3a"
             ],
             [
              0.8888888888888888,
              "#fdca26"
             ],
             [
              1,
              "#f0f921"
             ]
            ],
            "type": "surface"
           }
          ],
          "table": [
           {
            "cells": {
             "fill": {
              "color": "#EBF0F8"
             },
             "line": {
              "color": "white"
             }
            },
            "header": {
             "fill": {
              "color": "#C8D4E3"
             },
             "line": {
              "color": "white"
             }
            },
            "type": "table"
           }
          ]
         },
         "layout": {
          "annotationdefaults": {
           "arrowcolor": "#2a3f5f",
           "arrowhead": 0,
           "arrowwidth": 1
          },
          "colorscale": {
           "diverging": [
            [
             0,
             "#8e0152"
            ],
            [
             0.1,
             "#c51b7d"
            ],
            [
             0.2,
             "#de77ae"
            ],
            [
             0.3,
             "#f1b6da"
            ],
            [
             0.4,
             "#fde0ef"
            ],
            [
             0.5,
             "#f7f7f7"
            ],
            [
             0.6,
             "#e6f5d0"
            ],
            [
             0.7,
             "#b8e186"
            ],
            [
             0.8,
             "#7fbc41"
            ],
            [
             0.9,
             "#4d9221"
            ],
            [
             1,
             "#276419"
            ]
           ],
           "sequential": [
            [
             0,
             "#0d0887"
            ],
            [
             0.1111111111111111,
             "#46039f"
            ],
            [
             0.2222222222222222,
             "#7201a8"
            ],
            [
             0.3333333333333333,
             "#9c179e"
            ],
            [
             0.4444444444444444,
             "#bd3786"
            ],
            [
             0.5555555555555556,
             "#d8576b"
            ],
            [
             0.6666666666666666,
             "#ed7953"
            ],
            [
             0.7777777777777778,
             "#fb9f3a"
            ],
            [
             0.8888888888888888,
             "#fdca26"
            ],
            [
             1,
             "#f0f921"
            ]
           ],
           "sequentialminus": [
            [
             0,
             "#0d0887"
            ],
            [
             0.1111111111111111,
             "#46039f"
            ],
            [
             0.2222222222222222,
             "#7201a8"
            ],
            [
             0.3333333333333333,
             "#9c179e"
            ],
            [
             0.4444444444444444,
             "#bd3786"
            ],
            [
             0.5555555555555556,
             "#d8576b"
            ],
            [
             0.6666666666666666,
             "#ed7953"
            ],
            [
             0.7777777777777778,
             "#fb9f3a"
            ],
            [
             0.8888888888888888,
             "#fdca26"
            ],
            [
             1,
             "#f0f921"
            ]
           ]
          },
          "colorway": [
           "#636efa",
           "#EF553B",
           "#00cc96",
           "#ab63fa",
           "#FFA15A",
           "#19d3f3",
           "#FF6692",
           "#B6E880",
           "#FF97FF",
           "#FECB52"
          ],
          "font": {
           "color": "#2a3f5f"
          },
          "geo": {
           "bgcolor": "white",
           "lakecolor": "white",
           "landcolor": "#E5ECF6",
           "showlakes": true,
           "showland": true,
           "subunitcolor": "white"
          },
          "hoverlabel": {
           "align": "left"
          },
          "hovermode": "closest",
          "mapbox": {
           "style": "light"
          },
          "paper_bgcolor": "white",
          "plot_bgcolor": "#E5ECF6",
          "polar": {
           "angularaxis": {
            "gridcolor": "white",
            "linecolor": "white",
            "ticks": ""
           },
           "bgcolor": "#E5ECF6",
           "radialaxis": {
            "gridcolor": "white",
            "linecolor": "white",
            "ticks": ""
           }
          },
          "scene": {
           "xaxis": {
            "backgroundcolor": "#E5ECF6",
            "gridcolor": "white",
            "gridwidth": 2,
            "linecolor": "white",
            "showbackground": true,
            "ticks": "",
            "zerolinecolor": "white"
           },
           "yaxis": {
            "backgroundcolor": "#E5ECF6",
            "gridcolor": "white",
            "gridwidth": 2,
            "linecolor": "white",
            "showbackground": true,
            "ticks": "",
            "zerolinecolor": "white"
           },
           "zaxis": {
            "backgroundcolor": "#E5ECF6",
            "gridcolor": "white",
            "gridwidth": 2,
            "linecolor": "white",
            "showbackground": true,
            "ticks": "",
            "zerolinecolor": "white"
           }
          },
          "shapedefaults": {
           "line": {
            "color": "#2a3f5f"
           }
          },
          "ternary": {
           "aaxis": {
            "gridcolor": "white",
            "linecolor": "white",
            "ticks": ""
           },
           "baxis": {
            "gridcolor": "white",
            "linecolor": "white",
            "ticks": ""
           },
           "bgcolor": "#E5ECF6",
           "caxis": {
            "gridcolor": "white",
            "linecolor": "white",
            "ticks": ""
           }
          },
          "title": {
           "x": 0.05
          },
          "xaxis": {
           "automargin": true,
           "gridcolor": "white",
           "linecolor": "white",
           "ticks": "",
           "zerolinecolor": "white",
           "zerolinewidth": 2
          },
          "yaxis": {
           "automargin": true,
           "gridcolor": "white",
           "linecolor": "white",
           "ticks": "",
           "zerolinecolor": "white",
           "zerolinewidth": 2
          }
         }
        }
       }
      },
      "text/html": [
       "<div>\n",
       "        \n",
       "        \n",
       "            <div id=\"56d5e7ce-071b-47ff-9736-5f17348fdc4a\" class=\"plotly-graph-div\" style=\"height:600px; width:100%;\"></div>\n",
       "            <script type=\"text/javascript\">\n",
       "                require([\"plotly\"], function(Plotly) {\n",
       "                    window.PLOTLYENV=window.PLOTLYENV || {};\n",
       "                    \n",
       "                if (document.getElementById(\"56d5e7ce-071b-47ff-9736-5f17348fdc4a\")) {\n",
       "                    Plotly.newPlot(\n",
       "                        '56d5e7ce-071b-47ff-9736-5f17348fdc4a',\n",
       "                        [{\"hoverlabel\": {\"namelength\": 0}, \"hovertemplate\": \"x_1=%{x}<br>x_2=%{y}<br>predictions=%{z}<br>y=%{marker.color}\", \"legendgroup\": \"\", \"marker\": {\"color\": [-81.46443256248759, -78.75279510577522, 2.2184136392232574, 52.234160224033786, -159.63925843891542, -51.80600084992328, 82.4570705195524, -10.956508889147338, 184.08605329429764, 13.651390240675678, -47.357790247299135, -71.20407441455643, -15.059424544069385, 116.15762479713148, -12.005369689541268, 170.30565126178405, -80.97261983373852, 70.98764159897524, 87.31109827301674, -104.88568957408053, -87.88833348454601, 40.05238642525474, -43.240607406839636, -43.83757273191576, -83.3523105013808, -95.25314681457294, -111.16552786166667, -38.74985336770853, 28.782872211197358, -30.140956280681024, -8.021273814887323, -207.6857701872116, -117.91250074391169, 118.36250221153273, -17.524686766856505, 21.27048261832005, 39.1028792927121, 221.2526346274449, -20.04057411643032, 15.904741924418225, 104.32394976731821, -76.73337956548664, 62.812812333927575, 124.49121048845952, 194.561908623872, -32.33697869561911, 10.589760412646722, 30.304104741225338, -93.06345087437094, 162.03717403942767, -4.253292479494249, -78.93288554297561, -82.45604339301636, -43.471536304060145, 7.833634624141452, 152.4341324657461, -89.0739664059911, 226.95963522917182, -34.97257080179781, 32.04450090367049, -143.77843204306228, -75.73140901937894, -113.97274041910471, -53.34974102321321, -48.59256646659886, -72.93706548652426, 146.12499132491675, 97.33802039033027, 258.23754562654585, -117.52036936580065, 248.97382491272202, 132.13061829382892, -141.2989823110782, 31.76187434293715, -2.684306783039773, 76.0319091086862, -171.02794704273262, -118.64138256986449, 99.20090921751179, -43.40340206417726, -31.57475870255908, 106.62850968046152, -61.23520248412986, -120.4442313533112, 9.081809653102187, 18.485980984307034, -52.643638383829135, -48.81027780714437, 16.768089681449375, -199.18070493600925, 315.5134692992125, -48.21985915023345, 5.1470288201880665, 199.43685969361545, -130.81313889204358, 86.31634009364771, 83.13694266659691, 157.40461482957974, -136.51113579831323, -143.45201476038488], \"coloraxis\": \"coloraxis\", \"symbol\": \"circle\"}, \"mode\": \"markers\", \"name\": \"\", \"scene\": \"scene\", \"showlegend\": false, \"type\": \"scatter3d\", \"x\": [1.0544517269311366, -0.3627411659871381, -0.8540957393017248, 1.3263858966870303, -0.461584604814709, 1.9436211856492929, -1.6020576556067476, -0.4017809362082619, -0.977277879876411, 0.3781625196021736, -0.3023027505753356, -0.7474548114407578, -0.1871838500258336, 0.3187276529430212, -1.5362436862772235, 0.4001572083672233, -0.8264385386590144, -0.7421650204064419, 0.7065731681919482, 0.9008264869541872, -0.5788496647644155, -0.20829875557799488, 0.6815945182816271, 0.8024563957963952, 0.7774903558319101, -1.5447710967776116, 0.9693967081580112, 0.6764332949464997, 1.7858704939058352, 1.5430145954067358, 0.05616534222974544, -0.2127402802139687, -0.3595531615405413, -1.2348258203536526, 0.15634896910398005, 0.4105985019383723, -0.1550100930908342, 1.2023798487844113, 0.4019893634447017, -1.0799315083634229, 0.9222066715665268, -0.6895497777502005, -0.1715463312222481, 0.0875512413851909, 1.8958891760305832, -0.6634782863621074, 1.8492637284793416, 0.33367432737426683, -1.3749512934180188, 1.469358769900285, 0.017479159025056732, -1.180632184122412, 0.2670508693491829, 1.117016288095853, 1.4542735069629749, 2.2408931992014582, -0.14963454032767076, 0.9060446582753852, -1.1680934977411974, -0.6510255933001469, -1.9807964682239267, -0.4380743016111864, 0.8443629764015471, 1.2224450703824274, 0.6350314368921064, 0.386902497859262, -0.20515826376580087, 0.12898291075741067, 1.336527949436392, 1.9507753952317897, 1.4805147914344243, 0.3169426119248496, -2.2234031522244257, 1.7133427216493666, 0.3024718977397814, 0.1216750164928284, -1.4200179371789752, 0.4393917012645369, -0.17992483581235091, -0.6848100909403132, -1.0994007905841945, -0.1513572082976979, -0.437820044744434, 0.05194539579613895, -1.0930615087305058, 0.4074618362411104, 0.5392491912918173, 1.9100649530990337, 0.4283318705304177, 0.6536185954403606, 0.9444794869904138, 0.03183055827435118, 1.9295320538169856, -1.4543656745987648, 0.4627822555257742, 0.8235041539637314, 0.9766390364837128, -1.3477590611424464, 0.052165079260974405, -1.7262826023316769], \"y\": [-1.0707526215105423, -0.6343220936809636, 0.31306770165090136, 0.29823817420605603, -1.3159074105115212, -1.17312340511416, 0.6252314510271875, 0.17742614225375286, 1.867557990149968, 0.1549474256969163, -0.3873268174079523, -0.41361898075974735, 0.04575851730144607, 0.9208588237808192, 0.4656624397304598, 1.764052345967664, -0.7447548220484399, 0.8644361988595057, 0.3563663971744019, -1.1651498407833565, -0.8707971491818818, 0.5765908166149409, -1.034242841784465, -0.2680033709513804, -1.2527953600499262, -1.0002153473895647, -1.2704849984857336, -0.635846078378881, 0.010500020720820478, -0.7395629963913133, -0.31155253212737266, -1.6138978475579515, -0.672460447775951, 1.1394006845433011, -0.3479121493261526, -0.10321885179355783, 0.947251967773748, 1.2302906807277207, 0.12691209270361992, 1.1266359221065072, 0.6140793703460803, -0.8034096641738411, 0.5232766605317537, 0.9494208069257608, 1.4882521937955997, -0.0984525244254323, -0.43515355172163744, 0.4438632327454257, -0.35399391125348395, 1.5327792143584575, -0.4555325035173432, -0.510805137568873, -1.2928569097234486, -0.9128222254441586, 0.144043571160878, 0.9787379841057392, -0.6945678597313655, 1.8675589604265697, -0.0392828182274956, 0.8568306119026912, -0.8877857476301128, -0.5096521817516535, -1.225435518830168, -0.4031769469731796, 0.16667349537252904, -0.8954665611936756, 1.494079073157606, 0.7290905621775369, 2.16323594928069, -1.7062701906250126, 1.9229420264803847, 1.1880297923523018, -0.6436184028328905, -0.06824160532463124, 0.06651722238316789, 0.7610377251469934, -1.0485529650670926, -1.4912575927056055, 1.1787795711596507, 0.402341641177549, 0.37642553115562943, 0.9500884175255894, -1.1474686524111024, -0.9072983643832422, 0.3960067126616453, 0.6722947570124355, -0.7699160744453164, -0.8612256850547025, -0.028182228338654868, -2.5529898158340787, 2.383144774863942, -0.6743326606573761, -0.4980324506923049, 2.269754623987608, -1.6301983469660446, 0.7717905512136674, 0.2082749780768603, 1.8831506970562544, -1.1043833394284506, -0.813146282044454], \"z\": [-78.99418015335219, -74.67154239261599, 6.042667066834858, 64.73444120561552, -145.22190142424617, -64.64542793463885, 16.46633625157061, 5.026314776438058, 157.32719785628035, 24.310990673011897, -48.42592310583051, -63.32555835528491, -2.1540979215859917, 98.88495986468433, 2.404056265008399, 185.03604869063415, -98.45553471249067, 63.99659055239892, 53.415751187506416, -92.62649898470407, -104.16582410744739, 50.085105085480855, -85.64966761574158, -6.068009302245141, -104.75118569824706, -143.6972044136503, -101.21604415802824, -46.14858478588481, 48.781164878481206, -32.5570726512587, -30.994367587476837, -168.00768951397527, -78.37862925546659, 77.76333786186673, -31.847994381413862, -0.48348529877810953, 88.43912921328338, 154.0589569448715, 22.178731738178538, 80.76724501379793, 85.01025994651596, -100.51487725105855, 45.794075326707464, 95.3480952241049, 198.86453060615952, -29.646887462392318, 6.184504246452453, 51.832713731439775, -74.70732351441366, 191.5257805452139, -46.388959417596105, -84.94925844802701, -122.8224970247814, -61.55252389739906, 52.91979328667452, 157.68391882170673, -74.78606563136553, 209.29501793206254, -37.68322321983653, 65.75464547496597, -144.54113346056474, -64.34465594484888, -100.1834149779412, -7.929789239579827, 32.56577189668283, -79.97200051900029, 141.46880328705498, 74.56681524027289, 250.59572183583285, -117.50016628785833, 230.6577749440284, 125.42124192960156, -126.93903208634336, 38.94447062322935, 13.422934960070357, 77.5441488712627, -145.06477027421857, -137.80935901638625, 110.79039343532794, 19.597308370030266, 5.578392469023103, 88.82217386462709, -127.80521669073518, -90.39204026347349, 7.701792409913398, 76.59944896393495, -63.274975031419075, -34.53517765924209, 7.472556065163814, -237.54846864442632, 261.6602739611969, -67.76522729512776, 2.142472114758994, 184.18422484783412, -150.9895873936798, 97.98015696310962, 46.13163198606508, 148.65586623747183, -109.99742828809455, -130.09097659040103]}],\n",
       "                        {\"coloraxis\": {\"cmax\": 100, \"cmin\": 0, \"colorbar\": {\"title\": {\"text\": \"y\"}}, \"colorscale\": [[0.0, \"#0d0887\"], [0.1111111111111111, \"#46039f\"], [0.2222222222222222, \"#7201a8\"], [0.3333333333333333, \"#9c179e\"], [0.4444444444444444, \"#bd3786\"], [0.5555555555555556, \"#d8576b\"], [0.6666666666666666, \"#ed7953\"], [0.7777777777777778, \"#fb9f3a\"], [0.8888888888888888, \"#fdca26\"], [1.0, \"#f0f921\"]]}, \"height\": 600, \"legend\": {\"tracegroupgap\": 0}, \"margin\": {\"t\": 60}, \"scene\": {\"domain\": {\"x\": [0.0, 0.98], \"y\": [0.0, 1.0]}, \"xaxis\": {\"title\": {\"text\": \"x_1\"}}, \"yaxis\": {\"title\": {\"text\": \"x_2\"}}, \"zaxis\": {\"title\": {\"text\": \"predictions\"}}}, \"template\": {\"data\": {\"bar\": [{\"error_x\": {\"color\": \"#2a3f5f\"}, \"error_y\": {\"color\": \"#2a3f5f\"}, \"marker\": {\"line\": {\"color\": \"#E5ECF6\", \"width\": 0.5}}, \"type\": \"bar\"}], \"barpolar\": [{\"marker\": {\"line\": {\"color\": \"#E5ECF6\", \"width\": 0.5}}, \"type\": \"barpolar\"}], \"carpet\": [{\"aaxis\": {\"endlinecolor\": \"#2a3f5f\", \"gridcolor\": \"white\", \"linecolor\": \"white\", \"minorgridcolor\": \"white\", \"startlinecolor\": \"#2a3f5f\"}, \"baxis\": {\"endlinecolor\": \"#2a3f5f\", \"gridcolor\": \"white\", \"linecolor\": \"white\", \"minorgridcolor\": \"white\", \"startlinecolor\": \"#2a3f5f\"}, \"type\": \"carpet\"}], \"choropleth\": [{\"colorbar\": {\"outlinewidth\": 0, \"ticks\": \"\"}, \"type\": \"choropleth\"}], \"contour\": [{\"colorbar\": {\"outlinewidth\": 0, \"ticks\": \"\"}, \"colorscale\": [[0.0, \"#0d0887\"], [0.1111111111111111, \"#46039f\"], [0.2222222222222222, \"#7201a8\"], [0.3333333333333333, \"#9c179e\"], [0.4444444444444444, \"#bd3786\"], [0.5555555555555556, \"#d8576b\"], [0.6666666666666666, \"#ed7953\"], [0.7777777777777778, \"#fb9f3a\"], [0.8888888888888888, \"#fdca26\"], [1.0, \"#f0f921\"]], \"type\": \"contour\"}], \"contourcarpet\": [{\"colorbar\": {\"outlinewidth\": 0, \"ticks\": \"\"}, \"type\": \"contourcarpet\"}], \"heatmap\": [{\"colorbar\": {\"outlinewidth\": 0, \"ticks\": \"\"}, \"colorscale\": [[0.0, \"#0d0887\"], [0.1111111111111111, \"#46039f\"], [0.2222222222222222, \"#7201a8\"], [0.3333333333333333, \"#9c179e\"], [0.4444444444444444, \"#bd3786\"], [0.5555555555555556, \"#d8576b\"], [0.6666666666666666, \"#ed7953\"], [0.7777777777777778, \"#fb9f3a\"], [0.8888888888888888, \"#fdca26\"], [1.0, \"#f0f921\"]], \"type\": \"heatmap\"}], \"heatmapgl\": [{\"colorbar\": {\"outlinewidth\": 0, \"ticks\": \"\"}, \"colorscale\": [[0.0, \"#0d0887\"], [0.1111111111111111, \"#46039f\"], [0.2222222222222222, \"#7201a8\"], [0.3333333333333333, \"#9c179e\"], [0.4444444444444444, \"#bd3786\"], [0.5555555555555556, \"#d8576b\"], [0.6666666666666666, \"#ed7953\"], [0.7777777777777778, \"#fb9f3a\"], [0.8888888888888888, \"#fdca26\"], [1.0, \"#f0f921\"]], \"type\": \"heatmapgl\"}], \"histogram\": [{\"marker\": {\"colorbar\": {\"outlinewidth\": 0, \"ticks\": \"\"}}, \"type\": \"histogram\"}], \"histogram2d\": [{\"colorbar\": {\"outlinewidth\": 0, \"ticks\": \"\"}, \"colorscale\": [[0.0, \"#0d0887\"], [0.1111111111111111, \"#46039f\"], [0.2222222222222222, \"#7201a8\"], [0.3333333333333333, \"#9c179e\"], [0.4444444444444444, \"#bd3786\"], [0.5555555555555556, \"#d8576b\"], [0.6666666666666666, \"#ed7953\"], [0.7777777777777778, \"#fb9f3a\"], [0.8888888888888888, \"#fdca26\"], [1.0, \"#f0f921\"]], \"type\": \"histogram2d\"}], \"histogram2dcontour\": [{\"colorbar\": {\"outlinewidth\": 0, \"ticks\": \"\"}, \"colorscale\": [[0.0, \"#0d0887\"], [0.1111111111111111, \"#46039f\"], [0.2222222222222222, \"#7201a8\"], [0.3333333333333333, \"#9c179e\"], [0.4444444444444444, \"#bd3786\"], [0.5555555555555556, \"#d8576b\"], [0.6666666666666666, \"#ed7953\"], [0.7777777777777778, \"#fb9f3a\"], [0.8888888888888888, \"#fdca26\"], [1.0, \"#f0f921\"]], \"type\": \"histogram2dcontour\"}], \"mesh3d\": [{\"colorbar\": {\"outlinewidth\": 0, \"ticks\": \"\"}, \"type\": \"mesh3d\"}], \"parcoords\": [{\"line\": {\"colorbar\": {\"outlinewidth\": 0, \"ticks\": \"\"}}, \"type\": \"parcoords\"}], \"scatter\": [{\"marker\": {\"colorbar\": {\"outlinewidth\": 0, \"ticks\": \"\"}}, \"type\": \"scatter\"}], \"scatter3d\": [{\"line\": {\"colorbar\": {\"outlinewidth\": 0, \"ticks\": \"\"}}, \"marker\": {\"colorbar\": {\"outlinewidth\": 0, \"ticks\": \"\"}}, \"type\": \"scatter3d\"}], \"scattercarpet\": [{\"marker\": {\"colorbar\": {\"outlinewidth\": 0, \"ticks\": \"\"}}, \"type\": \"scattercarpet\"}], \"scattergeo\": [{\"marker\": {\"colorbar\": {\"outlinewidth\": 0, \"ticks\": \"\"}}, \"type\": \"scattergeo\"}], \"scattergl\": [{\"marker\": {\"colorbar\": {\"outlinewidth\": 0, \"ticks\": \"\"}}, \"type\": \"scattergl\"}], \"scattermapbox\": [{\"marker\": {\"colorbar\": {\"outlinewidth\": 0, \"ticks\": \"\"}}, \"type\": \"scattermapbox\"}], \"scatterpolar\": [{\"marker\": {\"colorbar\": {\"outlinewidth\": 0, \"ticks\": \"\"}}, \"type\": \"scatterpolar\"}], \"scatterpolargl\": [{\"marker\": {\"colorbar\": {\"outlinewidth\": 0, \"ticks\": \"\"}}, \"type\": \"scatterpolargl\"}], \"scatterternary\": [{\"marker\": {\"colorbar\": {\"outlinewidth\": 0, \"ticks\": \"\"}}, \"type\": \"scatterternary\"}], \"surface\": [{\"colorbar\": {\"outlinewidth\": 0, \"ticks\": \"\"}, \"colorscale\": [[0.0, \"#0d0887\"], [0.1111111111111111, \"#46039f\"], [0.2222222222222222, \"#7201a8\"], [0.3333333333333333, \"#9c179e\"], [0.4444444444444444, \"#bd3786\"], [0.5555555555555556, \"#d8576b\"], [0.6666666666666666, \"#ed7953\"], [0.7777777777777778, \"#fb9f3a\"], [0.8888888888888888, \"#fdca26\"], [1.0, \"#f0f921\"]], \"type\": \"surface\"}], \"table\": [{\"cells\": {\"fill\": {\"color\": \"#EBF0F8\"}, \"line\": {\"color\": \"white\"}}, \"header\": {\"fill\": {\"color\": \"#C8D4E3\"}, \"line\": {\"color\": \"white\"}}, \"type\": \"table\"}]}, \"layout\": {\"annotationdefaults\": {\"arrowcolor\": \"#2a3f5f\", \"arrowhead\": 0, \"arrowwidth\": 1}, \"colorscale\": {\"diverging\": [[0, \"#8e0152\"], [0.1, \"#c51b7d\"], [0.2, \"#de77ae\"], [0.3, \"#f1b6da\"], [0.4, \"#fde0ef\"], [0.5, \"#f7f7f7\"], [0.6, \"#e6f5d0\"], [0.7, \"#b8e186\"], [0.8, \"#7fbc41\"], [0.9, \"#4d9221\"], [1, \"#276419\"]], \"sequential\": [[0.0, \"#0d0887\"], [0.1111111111111111, \"#46039f\"], [0.2222222222222222, \"#7201a8\"], [0.3333333333333333, \"#9c179e\"], [0.4444444444444444, \"#bd3786\"], [0.5555555555555556, \"#d8576b\"], [0.6666666666666666, \"#ed7953\"], [0.7777777777777778, \"#fb9f3a\"], [0.8888888888888888, \"#fdca26\"], [1.0, \"#f0f921\"]], \"sequentialminus\": [[0.0, \"#0d0887\"], [0.1111111111111111, \"#46039f\"], [0.2222222222222222, \"#7201a8\"], [0.3333333333333333, \"#9c179e\"], [0.4444444444444444, \"#bd3786\"], [0.5555555555555556, \"#d8576b\"], [0.6666666666666666, \"#ed7953\"], [0.7777777777777778, \"#fb9f3a\"], [0.8888888888888888, \"#fdca26\"], [1.0, \"#f0f921\"]]}, \"colorway\": [\"#636efa\", \"#EF553B\", \"#00cc96\", \"#ab63fa\", \"#FFA15A\", \"#19d3f3\", \"#FF6692\", \"#B6E880\", \"#FF97FF\", \"#FECB52\"], \"font\": {\"color\": \"#2a3f5f\"}, \"geo\": {\"bgcolor\": \"white\", \"lakecolor\": \"white\", \"landcolor\": \"#E5ECF6\", \"showlakes\": true, \"showland\": true, \"subunitcolor\": \"white\"}, \"hoverlabel\": {\"align\": \"left\"}, \"hovermode\": \"closest\", \"mapbox\": {\"style\": \"light\"}, \"paper_bgcolor\": \"white\", \"plot_bgcolor\": \"#E5ECF6\", \"polar\": {\"angularaxis\": {\"gridcolor\": \"white\", \"linecolor\": \"white\", \"ticks\": \"\"}, \"bgcolor\": \"#E5ECF6\", \"radialaxis\": {\"gridcolor\": \"white\", \"linecolor\": \"white\", \"ticks\": \"\"}}, \"scene\": {\"xaxis\": {\"backgroundcolor\": \"#E5ECF6\", \"gridcolor\": \"white\", \"gridwidth\": 2, \"linecolor\": \"white\", \"showbackground\": true, \"ticks\": \"\", \"zerolinecolor\": \"white\"}, \"yaxis\": {\"backgroundcolor\": \"#E5ECF6\", \"gridcolor\": \"white\", \"gridwidth\": 2, \"linecolor\": \"white\", \"showbackground\": true, \"ticks\": \"\", \"zerolinecolor\": \"white\"}, \"zaxis\": {\"backgroundcolor\": \"#E5ECF6\", \"gridcolor\": \"white\", \"gridwidth\": 2, \"linecolor\": \"white\", \"showbackground\": true, \"ticks\": \"\", \"zerolinecolor\": \"white\"}}, \"shapedefaults\": {\"line\": {\"color\": \"#2a3f5f\"}}, \"ternary\": {\"aaxis\": {\"gridcolor\": \"white\", \"linecolor\": \"white\", \"ticks\": \"\"}, \"baxis\": {\"gridcolor\": \"white\", \"linecolor\": \"white\", \"ticks\": \"\"}, \"bgcolor\": \"#E5ECF6\", \"caxis\": {\"gridcolor\": \"white\", \"linecolor\": \"white\", \"ticks\": \"\"}}, \"title\": {\"x\": 0.05}, \"xaxis\": {\"automargin\": true, \"gridcolor\": \"white\", \"linecolor\": \"white\", \"ticks\": \"\", \"zerolinecolor\": \"white\", \"zerolinewidth\": 2}, \"yaxis\": {\"automargin\": true, \"gridcolor\": \"white\", \"linecolor\": \"white\", \"ticks\": \"\", \"zerolinecolor\": \"white\", \"zerolinewidth\": 2}}}},\n",
       "                        {\"responsive\": true}\n",
       "                    ).then(function(){\n",
       "                            \n",
       "var gd = document.getElementById('56d5e7ce-071b-47ff-9736-5f17348fdc4a');\n",
       "var x = new MutationObserver(function (mutations, observer) {{\n",
       "        var display = window.getComputedStyle(gd).display;\n",
       "        if (!display || display === 'none') {{\n",
       "            console.log([gd, 'removed!']);\n",
       "            Plotly.purge(gd);\n",
       "            observer.disconnect();\n",
       "        }}\n",
       "}});\n",
       "\n",
       "// Listen for the removal of the full notebook cells\n",
       "var notebookContainer = gd.closest('#notebook-container');\n",
       "if (notebookContainer) {{\n",
       "    x.observe(notebookContainer, {childList: true});\n",
       "}}\n",
       "\n",
       "// Listen for the clearing of the current output cell\n",
       "var outputEl = gd.closest('.output');\n",
       "if (outputEl) {{\n",
       "    x.observe(outputEl, {childList: true});\n",
       "}}\n",
       "\n",
       "                        })\n",
       "                };\n",
       "                });\n",
       "            </script>\n",
       "        </div>"
      ]
     },
     "metadata": {},
     "output_type": "display_data"
    }
   ],
   "source": [
    "import matplotlib.pyplot as plt\n",
    "import pandas as pd\n",
    "import plotly.express as px \n",
    "\n",
    "predictions = model(x, theta_final)\n",
    "df[\"predictions\"] = predictions\n",
    "\n",
    "fig = px.scatter_3d(data_frame=df, x='x_1', y='x_2',z = 'y', color = 'y', range_color = [0, 100]) \n",
    "fig = px.scatter_3d(data_frame=df, x='x_1', y='x_2',z = 'predictions', color = 'y', range_color = [0, 100])\n",
    "fig.show()"
   ]
  },
  {
   "cell_type": "markdown",
   "metadata": {},
   "source": [
    "**Exercise :** Project in 3d your predictions and the true values of the dataset"
   ]
  },
  {
   "cell_type": "code",
   "execution_count": null,
   "metadata": {},
   "outputs": [],
   "source": []
  },
  {
   "cell_type": "markdown",
   "metadata": {},
   "source": [
    "**Exercise :** Plot cost_history"
   ]
  },
  {
   "cell_type": "code",
   "execution_count": 140,
   "metadata": {},
   "outputs": [
    {
     "data": {
      "text/plain": [
       "[<matplotlib.lines.Line2D at 0x7fd5ad9a0970>]"
      ]
     },
     "execution_count": 140,
     "metadata": {},
     "output_type": "execute_result"
    },
    {
     "data": {
      "image/png": "[encoded data removed]",
      "text/plain": [
       "<Figure size 432x288 with 1 Axes>"
      ]
     },
     "metadata": {
      "needs_background": "light"
     },
     "output_type": "display_data"
    }
   ],
   "source": [
    "plt.plot(range(1000), cost_history)"
   ]
  },
  {
   "cell_type": "markdown",
   "metadata": {},
   "source": [
    "### Evaluation"
   ]
  },
  {
   "cell_type": "code",
   "execution_count": 141,
   "metadata": {},
   "outputs": [],
   "source": [
    "def coef_determination(y, pred):\n",
    "    u = ((y - pred)**2).sum()\n",
    "    v = ((y - y.mean())**2).sum()\n",
    "    return 1 - u/v"
   ]
  },
  {
   "cell_type": "code",
   "execution_count": 142,
   "metadata": {},
   "outputs": [
    {
     "data": {
      "text/plain": [
       "y    0.93205\n",
       "dtype: float64"
      ]
     },
     "execution_count": 142,
     "metadata": {},
     "output_type": "execute_result"
    }
   ],
   "source": [
    "coef_determination(y, predictions)"
   ]
  },
  {
   "cell_type": "markdown",
   "metadata": {},
   "source": [
    "### Congratulations !\n",
    "\n",
    "You are now able to create a multiple variable regression model from scratch, well, from the matrix!"
   ]
  },
  {
   "cell_type": "markdown",
   "metadata": {},
   "source": [
    "<img src=\"https://media.giphy.com/media/W9lzJDwciz6bS/giphy.gif\">"
   ]
  }
 ],
 "metadata": {
  "kernelspec": {
   "display_name": "Python 3",
   "language": "python",
   "name": "python3"
  },
  "language_info": {
   "codemirror_mode": {
    "name": "ipython",
    "version": 3
   },
   "file_extension": ".py",
   "mimetype": "text/x-python",
   "name": "python",
   "nbconvert_exporter": "python",
   "pygments_lexer": "ipython3",
   "version": "3.8.5"
  }
 },
 "nbformat": 4,
 "nbformat_minor": 4
}
