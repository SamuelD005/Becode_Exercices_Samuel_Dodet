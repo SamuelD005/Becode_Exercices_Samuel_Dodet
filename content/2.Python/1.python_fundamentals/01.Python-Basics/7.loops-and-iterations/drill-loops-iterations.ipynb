{
 "cells": [
  {
   "cell_type": "markdown",
   "metadata": {},
   "source": [
    "# Drill loops and iterations"
   ]
  },
  {
   "cell_type": "markdown",
   "metadata": {},
   "source": [
    "### 1. Display all students in the \"students\" list in alphabetical order"
   ]
  },
  {
   "cell_type": "code",
   "execution_count": 1,
   "metadata": {},
   "outputs": [
    {
     "output_type": "stream",
     "name": "stdout",
     "text": [
      "Merouane\nBaptiste\nCaroline\nJoe\nSophie\nNathan\nRaphaël\nAxel\nMathieu\nAdrien\n"
     ]
    }
   ],
   "source": [
    "students =  [\"Merouane\", \"Baptiste\", \"Caroline\", \"Joe\", \"Sophie\", \"Nathan\", \"Raphaël\", \"Axel\", \"Mathieu\", \"Adrien\"]\n",
    "for i in students:\n",
    "    print(i)"
   ]
  },
  {
   "cell_type": "markdown",
   "metadata": {},
   "source": [
    "### 2. Display only those whose first name begins with the letter M"
   ]
  },
  {
   "cell_type": "code",
   "execution_count": 4,
   "metadata": {},
   "outputs": [
    {
     "output_type": "stream",
     "name": "stdout",
     "text": [
      "Merouane\nMathieu\n"
     ]
    }
   ],
   "source": [
    "for i in students:\n",
    "    if i[0] == 'M':\n",
    "        print(i)\n"
   ]
  },
  {
   "cell_type": "markdown",
   "metadata": {},
   "source": [
    "### 3. Display integers from 0 to 15 not included, using a \"for\"loop and the range() instruction."
   ]
  },
  {
   "cell_type": "code",
   "execution_count": 8,
   "metadata": {
    "collapsed": true
   },
   "outputs": [
    {
     "output_type": "stream",
     "name": "stdout",
     "text": [
      "1\n2\n3\n4\n5\n6\n7\n8\n9\n10\n11\n12\n13\n14\n"
     ]
    }
   ],
   "source": [
    "for i in range(1,15):\n",
    "    print(i)"
   ]
  },
  {
   "cell_type": "markdown",
   "metadata": {},
   "source": [
    "### 4. Use the \"break\" instruction to interrupt a \"for\" loop to display integers from 1 to 10 included, when the loop variable is 5"
   ]
  },
  {
   "cell_type": "code",
   "execution_count": 12,
   "metadata": {
    "collapsed": true
   },
   "outputs": [
    {
     "output_type": "stream",
     "name": "stdout",
     "text": [
      "1\n2\n3\n4\n"
     ]
    }
   ],
   "source": [
    "for i in range(1, 11):\n",
    "    \n",
    "    if i >=5 :\n",
    "        break\n",
    "    print(i)"
   ]
  },
  {
   "cell_type": "markdown",
   "metadata": {},
   "source": [
    "### 5. Use the \"continue\" instruction to modify  a \"for\" loop to display intergers from 1 to 10 included,  when the loop variable is 5"
   ]
  },
  {
   "cell_type": "code",
   "execution_count": 13,
   "metadata": {
    "collapsed": true
   },
   "outputs": [
    {
     "output_type": "stream",
     "name": "stdout",
     "text": [
      "1\n2\n3\n4\n6\n7\n8\n9\n10\n"
     ]
    }
   ],
   "source": [
    "for i in range(1, 11):\n",
    "    \n",
    "    if i == 5 :\n",
    "        continue\n",
    "    print(i)"
   ]
  },
  {
   "cell_type": "markdown",
   "metadata": {},
   "source": [
    "### 6. Follow the instructions :"
   ]
  },
  {
   "cell_type": "markdown",
   "metadata": {},
   "source": [
    "- sort and display the list;\n",
    "- add item 12 to the list and display the list;\n",
    "- reverse and display the list;\n",
    "- display the index of element 17;\n",
    "- remove item 38 and display the list;\n",
    "- display the sub-list of the 2nd to 3rd element;\n",
    "- display the sub-list from the beginning to the 2nd element;\n",
    "- display the sub-list of the 3rd element at the end of the list;\n",
    "- display the complete sub-list of the list;\n",
    "- display the last element using a negative indication."
   ]
  },
  {
   "cell_type": "code",
   "execution_count": 25,
   "metadata": {
    "collapsed": true
   },
   "outputs": [
    {
     "output_type": "stream",
     "name": "stdout",
     "text": [
      "[10, 17, 25, 38, 72]\n[10, 17, 25, 38, 72, 12]\n[12, 72, 38, 25, 17, 10]\n[12, 72, 25, 17, 10]\n[72, 25]\n[12, 72]\n[17]\n"
     ]
    }
   ],
   "source": [
    "listOfnum = [17, 38, 10, 25, 72]\n",
    "listOfnum.sort()\n",
    "print(listOfnum)\n",
    "\n",
    "listOfnum.append(12)\n",
    "print(listOfnum)\n",
    "\n",
    "listOfnum.reverse()\n",
    "print(listOfnum)\n",
    "\n",
    "listOfnum.remove(38)\n",
    "print(listOfnum)\n",
    "\n",
    "print(listOfnum[1:3])\n",
    "print(listOfnum[0:2])\n",
    "print(listOfnum[3:])"
   ]
  },
  {
   "cell_type": "markdown",
   "metadata": {},
   "source": [
    "Note that some list methods do not return anything."
   ]
  },
  {
   "cell_type": "markdown",
   "metadata": {},
   "source": [
    "### 7. Write an algorithm that asks the user to enter a number. Then make sure that your program displays all the numbers up to 0, for example, if the user enters the number 3, then your program will display something like this: 3,2,1,0"
   ]
  },
  {
   "cell_type": "code",
   "execution_count": 3,
   "metadata": {
    "collapsed": true
   },
   "outputs": [
    {
     "output_type": "stream",
     "name": "stdout",
     "text": [
      "4\n3\n2\n1\n0\n"
     ]
    }
   ],
   "source": [
    "number = int(input('number?'))\n",
    "for i in range(number, -1, -1):\n",
    "    print(i)"
   ]
  },
  {
   "cell_type": "markdown",
   "metadata": {},
   "source": [
    "### 8.The price is right ! Create a variable that will contain the number to be found. Then create an algorithm that will ask the user to find this price. If the user enters a number that is too high, he will have the sentence: \"It's less\". If he enters a number that is too low, he will have the sentence: \"It's more\". If the user finds the right price he will have the sentence: \"Well done, you won\"."
   ]
  },
  {
   "cell_type": "code",
   "execution_count": 10,
   "metadata": {
    "collapsed": true,
    "tags": []
   },
   "outputs": [
    {
     "output_type": "stream",
     "name": "stdout",
     "text": [
      "It's less\n",
      "It's more\n",
      "Well done, you won\n"
     ]
    }
   ],
   "source": [
    "number_to_find = 34\n",
    "ask_number = int(input('Find the number: '))\n",
    "while ask_number != number_to_find:\n",
    "    if ask_number > number_to_find:\n",
    "        print(\"It's less\")\n",
    "        ask_number = int(input('Find the number: '))\n",
    "    elif ask_number < number_to_find:\n",
    "        print(\"It's more\")\n",
    "        ask_number = int(input('Find the number: '))\n",
    "print(\"Well done, you won\")"
   ]
  },
  {
   "cell_type": "markdown",
   "metadata": {},
   "source": [
    "### 9. Display all students with the sentence \"NAME is a alumni. \""
   ]
  },
  {
   "cell_type": "code",
   "execution_count": 12,
   "metadata": {},
   "outputs": [
    {
     "output_type": "stream",
     "name": "stdout",
     "text": [
      "David\nJustine\nValentin\nAxel\nRedouane\nJulie\nStéphane\nMostapha\nClaudiu\nSon\n"
     ]
    }
   ],
   "source": [
    "allStudents =  [[\"David\", \"Justine\", \"Valentin\",\"Axel\", \"Redouane\"], [\"Julie\", \"Stéphane\", \"Mostapha\", \"Claudiu\", \"Son\"]]\n",
    "for names in allStudents:\n",
    "    for name in names:\n",
    "        print(name)"
   ]
  },
  {
   "cell_type": "markdown",
   "metadata": {},
   "source": [
    "### 10. Display all elements. If the element is part of the first table display - \"*PHP* is a backend language\" - and if the element is part of the second language, display - \"*HTML* is a Frontend language\" ... "
   ]
  },
  {
   "cell_type": "code",
   "execution_count": 13,
   "metadata": {
    "collapsed": true
   },
   "outputs": [
    {
     "output_type": "stream",
     "name": "stdout",
     "text": [
      "PHP is a backend language\nJava is a backend language\nC# is a backend language\nHTML is a frontend language\nCSS is a frontend language\nJavascript is a frontend language\n"
     ]
    }
   ],
   "source": [
    "languages = [[\"PHP\", \"Java\", \"C#\"], [\"HTML\", \"CSS\", \"Javascript\"]]\n",
    "for l in languages[0]:\n",
    "    print(l, 'is a backend language')\n",
    "for l in languages[1]:\n",
    "    print(l, 'is a frontend language')"
   ]
  },
  {
   "cell_type": "markdown",
   "metadata": {},
   "source": [
    "## [Next one](../8.everything-is-object/everything-is-object.ipynb)"
   ]
  }
 ],
 "metadata": {
  "kernelspec": {
   "name": "python392jvsc74a57bd00037eb202785df92b1a2fabe3c5b684ff089ade4d4ac1e3bbb7e9d5cf7095859",
   "display_name": "Python 3.9.2 64-bit ('kethien_env': conda)"
  },
  "language_info": {
   "codemirror_mode": {
    "name": "ipython",
    "version": 3
   },
   "file_extension": ".py",
   "mimetype": "text/x-python",
   "name": "python",
   "nbconvert_exporter": "python",
   "pygments_lexer": "ipython3",
   "version": "3.9.2"
  },
  "metadata": {
   "interpreter": {
    "hash": "0037eb202785df92b1a2fabe3c5b684ff089ade4d4ac1e3bbb7e9d5cf7095859"
   }
  }
 },
 "nbformat": 4,
 "nbformat_minor": 2
}