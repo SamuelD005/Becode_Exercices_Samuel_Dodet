{
 "cells": [
  {
   "cell_type": "markdown",
   "metadata": {},
   "source": [
    "**1. Create a variable ``name`` that contains the value \"Alan Turing\".**"
   ]
  },
  {
   "cell_type": "code",
   "execution_count": 6,
   "metadata": {
    "collapsed": true
   },
   "outputs": [],
   "source": [
    "name = \"Alan Turing\""
   ]
  },
  {
   "cell_type": "markdown",
   "metadata": {},
   "source": [
    "**2. Create a variable ``age`` that contains the value 42.**"
   ]
  },
  {
   "cell_type": "code",
   "execution_count": 7,
   "metadata": {
    "collapsed": true
   },
   "outputs": [],
   "source": [
    "age = 42"
   ]
  },
  {
   "cell_type": "markdown",
   "metadata": {},
   "source": [
    "**3. Create a person variable that contains a list with the following values ``name``, ``age``** and \"mathematician\""
   ]
  },
  {
   "cell_type": "code",
   "execution_count": 8,
   "metadata": {
    "collapsed": true
   },
   "outputs": [],
   "source": [
    "person = [name, age, \"mathematician\"]"
   ]
  },
  {
   "cell_type": "markdown",
   "metadata": {},
   "source": [
    "**4. Create a variable ``text`` that contains \"Hello, my name is Alan Turing and I am 42 years old and I am a mathematician\".  \n",
    "Use the format method and the variable ``person``  to do this.**"
   ]
  },
  {
   "cell_type": "code",
   "execution_count": 13,
   "metadata": {
    "collapsed": true
   },
   "outputs": [],
   "source": [
    "text = \"Hello, my name is {} and I am {} years old and I am a {}.\".format(*person)"
   ]
  },
  {
   "cell_type": "markdown",
   "metadata": {},
   "source": [
    "**5. Create a variable ``typeAge`` that contains type of variable ``age.``**"
   ]
  },
  {
   "cell_type": "code",
   "execution_count": 10,
   "metadata": {
    "collapsed": true
   },
   "outputs": [],
   "source": [
    "typeAge = type(age)"
   ]
  },
  {
   "cell_type": "markdown",
   "metadata": {},
   "source": [
    "## Testing\n",
    "Every good developer tests his code. So we're going to get the right habits now. Do not change the code, execute it."
   ]
  },
  {
   "cell_type": "code",
   "execution_count": 14,
   "metadata": {
    "collapsed": true
   },
   "outputs": [
    {
     "output_type": "stream",
     "name": "stderr",
     "text": [
      "test_age (__main__.TestNotebook) ... ok\n",
      "test_name (__main__.TestNotebook) ... ok\n",
      "test_person (__main__.TestNotebook) ... ok\n",
      "test_text (__main__.TestNotebook) ... ok\n",
      "test_type (__main__.TestNotebook) ... ok\n",
      "\n",
      "----------------------------------------------------------------------\n",
      "Ran 5 tests in 0.007s\n",
      "\n",
      "OK\n"
     ]
    },
    {
     "output_type": "execute_result",
     "data": {
      "text/plain": [
       "<unittest.main.TestProgram at 0x7f16407b5dc0>"
      ]
     },
     "metadata": {},
     "execution_count": 14
    }
   ],
   "source": [
    "import unittest\n",
    " \n",
    "class TestNotebook(unittest.TestCase):\n",
    " \n",
    "    def test_name(self):\n",
    "        self.assertEqual(name, \"Alan Turing\")\n",
    "    \n",
    "    def test_age(self):\n",
    "        self.assertEqual(age, 42)\n",
    "    \n",
    "    def test_person(self):\n",
    "        self.assertEqual(person,[\"Alan Turing\", 42, \"mathematician\"])\n",
    "    \n",
    "    def test_text(self):\n",
    "        self.assertEqual(text,\"Hello, my name is Alan Turing and I am 42 years old and I am a mathematician.\")\n",
    "        \n",
    "    def test_type(self):\n",
    "        self.assertEqual(typeAge,type(int()))\n",
    "    \n",
    "\n",
    "unittest.main(argv=[''], verbosity=2, exit=False)"
   ]
  },
  {
   "cell_type": "markdown",
   "metadata": {},
   "source": [
    "## [Is everything okay? Well, you can move on.](../3.basics-operators/basics-operators.ipynb)"
   ]
  }
 ],
 "metadata": {
  "kernelspec": {
   "name": "python392jvsc74a57bd00037eb202785df92b1a2fabe3c5b684ff089ade4d4ac1e3bbb7e9d5cf7095859",
   "display_name": "Python 3.9.2 64-bit ('kethien_env': conda)"
  },
  "language_info": {
   "codemirror_mode": {
    "name": "ipython",
    "version": 3
   },
   "file_extension": ".py",
   "mimetype": "text/x-python",
   "name": "python",
   "nbconvert_exporter": "python",
   "pygments_lexer": "ipython3",
   "version": "3.9.2"
  },
  "metadata": {
   "interpreter": {
    "hash": "0037eb202785df92b1a2fabe3c5b684ff089ade4d4ac1e3bbb7e9d5cf7095859"
   }
  }
 },
 "nbformat": 4,
 "nbformat_minor": 2
}