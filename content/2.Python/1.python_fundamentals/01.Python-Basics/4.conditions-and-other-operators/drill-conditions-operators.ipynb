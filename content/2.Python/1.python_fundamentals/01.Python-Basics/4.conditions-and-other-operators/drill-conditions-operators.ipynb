{
 "cells": [
  {
   "cell_type": "markdown",
   "metadata": {},
   "source": [
    "# Drill : Basics python syntax\n"
   ]
  },
  {
   "cell_type": "markdown",
   "metadata": {},
   "source": [
    "In some of these exercises, you will have to use methods that you have not seen yet. In this case, search on google for an example of use. Take the right habits to avoid being blocked"
   ]
  },
  {
   "cell_type": "markdown",
   "metadata": {},
   "source": [
    "Run all cells before starting the tests."
   ]
  },
  {
   "cell_type": "markdown",
   "metadata": {},
   "source": [
    "**1. Create a variable ``age`` that contains value 32**"
   ]
  },
  {
   "cell_type": "code",
   "execution_count": 1,
   "metadata": {
    "collapsed": true
   },
   "outputs": [],
   "source": [
    "age = 32"
   ]
  },
  {
   "cell_type": "markdown",
   "metadata": {},
   "source": [
    "**2. Add 10 to variable ``age``**"
   ]
  },
  {
   "cell_type": "code",
   "execution_count": 2,
   "metadata": {
    "collapsed": true
   },
   "outputs": [],
   "source": [
    "age += 10"
   ]
  },
  {
   "cell_type": "markdown",
   "metadata": {},
   "source": [
    "**3. Create a variable ``divAge`` and assign it the value of the age divided by 7**  \n",
    "- ❗ Be careful, it must be an integer."
   ]
  },
  {
   "cell_type": "code",
   "execution_count": 3,
   "metadata": {
    "collapsed": true
   },
   "outputs": [],
   "source": [
    "divAge = age / 7"
   ]
  },
  {
   "cell_type": "markdown",
   "metadata": {},
   "source": [
    "**4. Create a variable ``textDiv`` that contains the character string \"42 divided by 7 equals 6\".**  \n",
    "- You must use the ``age`` and ``divAge`` variables"
   ]
  },
  {
   "cell_type": "code",
   "execution_count": 4,
   "metadata": {
    "collapsed": true
   },
   "outputs": [],
   "source": [
    "textDiv = f\"{age} divided by 7 equals {divAge}\""
   ]
  },
  {
   "cell_type": "markdown",
   "metadata": {},
   "source": [
    "**5. Create a variable ``restDiv`` that contains the rest of the variable ``age`` divided by 7**"
   ]
  },
  {
   "cell_type": "code",
   "execution_count": 5,
   "metadata": {
    "collapsed": true
   },
   "outputs": [],
   "source": [
    "restDiv = age % 7"
   ]
  },
  {
   "cell_type": "markdown",
   "metadata": {},
   "source": [
    "**6. Create a variable ``expDiv`` that contains the value of ``restDiv`` to the 3rd power**"
   ]
  },
  {
   "cell_type": "code",
   "execution_count": 6,
   "metadata": {
    "collapsed": true
   },
   "outputs": [],
   "source": [
    "expDiv = restDiv ** 3"
   ]
  },
  {
   "cell_type": "markdown",
   "metadata": {},
   "source": [
    "**7. Write a program that enters an integer and then displays the value entered and its type.**"
   ]
  },
  {
   "cell_type": "code",
   "execution_count": 7,
   "metadata": {
    "collapsed": true
   },
   "outputs": [
    {
     "output_type": "stream",
     "name": "stdout",
     "text": [
      "3 <class 'int'>\n"
     ]
    }
   ],
   "source": [
    "enters = 3\n",
    "print(enters, type(enters))"
   ]
  },
  {
   "cell_type": "markdown",
   "metadata": {},
   "source": [
    "**8. Use variables to represent the price of materials.**  \n",
    "- 2 bottles of milk at €0.45 each\n",
    "- 3 bottles of raw cider at €3.85 each\n",
    "- 1 bag of flour at 0.9 €\n",
    "- 1 packet of butter at €0.77\n",
    "- 1 jar of nutella at €1.87  \n",
    "\n",
    "**Calculate the sum of all items and store it in a ``orderPrice`` variable**"
   ]
  },
  {
   "source": [
    "price_milk = 0.45\n",
    "price_raw_cider = 3.85\n",
    "price_flour = 0.9\n",
    "price_butter = 0.77\n",
    "price_nutella = 0.87\n",
    "orderPrice = 2 * price_milk + 3 * price_raw_cider + 1 * price_flour + 1 * price_butter + 1 * price_nutella"
   ],
   "cell_type": "code",
   "metadata": {
    "collapsed": true
   },
   "execution_count": 10,
   "outputs": []
  },
  {
   "cell_type": "markdown",
   "metadata": {},
   "source": [
    "**Create a variable ``allowanceMoney`` which has a value of 20 and then create an algorithm that calculates the available money by subtracting the price of the order.**\n",
    "\n",
    "If there is enough money, record the following sentence in the variable ``message`` and subtract the expense from ``allowanceMoney`` : \n",
    "- message = \"You have spent\" + ``orderPrice`` + \"you have left\" + ``allowanceMoney`` \n",
    "\n",
    "If there is not enough money, record the following sentence in the ``message`` variable: \n",
    "- message= \"Sorry you're missing *amountMissing* euros\" \n",
    "\n",
    "If there is 0 left, record the following sentence in the ``message`` variable: \n",
    "- message = \"You are broke!\"\n"
   ]
  },
  {
   "cell_type": "code",
   "execution_count": 18,
   "metadata": {
    "collapsed": true
   },
   "outputs": [
    {
     "output_type": "stream",
     "name": "stdout",
     "text": [
      "You have spent  14.99 + you have 5.01 left.\n"
     ]
    }
   ],
   "source": [
    "message = \"\"\n",
    "# Declare and assign the variable ``allowanceMoney``\n",
    "allowanceMoney = 20\n",
    "if allowanceMoney >= orderPrice:\n",
    "    allowanceMoney -= orderPrice\n",
    "    message = f\"You have spent  {orderPrice} + you have {allowanceMoney} left.\"\n",
    "elif allowanceMoney == 0:\n",
    "    message = \"You are broke!\"\n",
    "else:\n",
    "    message = f\"Sorry you're missing {orderPrice - allowanceMoney} euros\"\n",
    "# Then \n",
    "print(message)"
   ]
  },
  {
   "cell_type": "markdown",
   "metadata": {},
   "source": [
    "**9. Write a program that asks you to enter 2 values and displays the smallest of the 2 values**"
   ]
  },
  {
   "cell_type": "code",
   "execution_count": 22,
   "metadata": {
    "collapsed": true
   },
   "outputs": [
    {
     "output_type": "stream",
     "name": "stdout",
     "text": [
      "the smallest numer is 2\n"
     ]
    }
   ],
   "source": [
    "a = int(input(\"Premier \"))\n",
    "b = int(input(\"Deuxieme \"))\n",
    "smallest = int\n",
    "\n",
    "if a > b:\n",
    "    smallest = b\n",
    "elif a <= b:\n",
    "    smallest = a\n",
    "print(f'the smallest numer is {smallest}')"
   ]
  },
  {
   "cell_type": "markdown",
   "metadata": {},
   "source": [
    "**10. Write a script that asks you to enter 2 strings and displays the largest of the 2 strings (the one with the most characters).**"
   ]
  },
  {
   "cell_type": "code",
   "execution_count": 26,
   "metadata": {
    "collapsed": true
   },
   "outputs": [
    {
     "output_type": "stream",
     "name": "stdout",
     "text": [
      "the string \"wer\" and \"tre\" have the same length\n"
     ]
    }
   ],
   "source": [
    "a = input(\"Premier \")\n",
    "b = input(\"Deuxieme \")\n",
    "\n",
    "if len(a) > len(b):\n",
    "    print(f'the largest string is {a}')\n",
    "elif len(a) < len(b):\n",
    "    print(f'the largest string is {b}')\n",
    "else:\n",
    "    print(f'the string \"{a}\" and \"{b}\" have the same length')"
   ]
  },
  {
   "cell_type": "markdown",
   "metadata": {},
   "source": [
    "**11. Write a script that converts euros into dollars.**\n",
    "- The program will start by asking the user to indicate with a character 'E' or '$' depending on the currency of the amount they are entering.\n",
    "- Then the program will ask you to enter the amount and display the conversion."
   ]
  },
  {
   "cell_type": "code",
   "execution_count": 2,
   "metadata": {},
   "outputs": [
    {
     "output_type": "stream",
     "name": "stdout",
     "text": [
      "123.55 € = 147.08333333333334 $\n"
     ]
    }
   ],
   "source": [
    "symbol = input('€ or $?')\n",
    "conversion = 0.84\n",
    "amount = input(f'amount of {symbol} to convert?')\n",
    "result = float\n",
    "if symbol.lower() == '€' or 'e':\n",
    "    result = float(amount) / conversion\n",
    "    print(f'{amount} € = {result} $')\n",
    "elif symbol.lower() == '$':\n",
    "    result = float(amout) * conversion\n",
    "    print(f'{amount} $ = {result} €')\n",
    "else:\n",
    "    print('Please check your symbol or amount')\n"
   ]
  },
  {
   "source": [
    "**12. Check if the variable ``name`` is in the ``studentsTuring`` list. (Without making a loop)** \n",
    "* If the name is in the list, display \"You are at the turing's\".\n",
    "* Otherwise display: \"You are not part of the turing's\""
   ],
   "cell_type": "markdown",
   "metadata": {}
  },
  {
   "cell_type": "code",
   "execution_count": 5,
   "metadata": {
    "collapsed": true
   },
   "outputs": [],
   "source": [
    "studentsTuring = [\"Redouane\", \"Justine\", \"Ruben\", \"Edouard\"]\n",
    "name = \"Justine\""
   ]
  },
  {
   "cell_type": "code",
   "execution_count": 6,
   "metadata": {
    "collapsed": true
   },
   "outputs": [
    {
     "output_type": "stream",
     "name": "stdout",
     "text": [
      "You are at the turing's\n"
     ]
    }
   ],
   "source": [
    "# Add your code here\n",
    "if name in studentsTuring:\n",
    "    print(\"You are at the turing's\")\n",
    "else:\n",
    "    print(\"You are not part of the turing's\")"
   ]
  },
  {
   "cell_type": "markdown",
   "metadata": {},
   "source": [
    "**13. Calculate the volume of a sphere using the formula *(4π/3) x R³*. The radius is 10.**  \n",
    "- Save the result in a \"volume\" variable.\n"
   ]
  },
  {
   "cell_type": "code",
   "execution_count": 7,
   "metadata": {},
   "outputs": [
    {
     "output_type": "stream",
     "name": "stdout",
     "text": [
      "1333.3333333333333\n"
     ]
    }
   ],
   "source": [
    "radius = 10\n",
    "volume_sphere = (4 / 3) * radius**3\n",
    "print(volume_sphere)"
   ]
  },
  {
   "cell_type": "markdown",
   "metadata": {
    "collapsed": true
   },
   "source": [
    "## [Ok, you can move here](../5.built-in-functions/built-in-functions.ipynb)"
   ]
  }
 ],
 "metadata": {
  "kernelspec": {
   "name": "python392jvsc74a57bd00037eb202785df92b1a2fabe3c5b684ff089ade4d4ac1e3bbb7e9d5cf7095859",
   "display_name": "Python 3.9.2 64-bit ('kethien_env': conda)"
  },
  "language_info": {
   "codemirror_mode": {
    "name": "ipython",
    "version": 3
   },
   "file_extension": ".py",
   "mimetype": "text/x-python",
   "name": "python",
   "nbconvert_exporter": "python",
   "pygments_lexer": "ipython3",
   "version": "3.9.2"
  },
  "metadata": {
   "interpreter": {
    "hash": "0037eb202785df92b1a2fabe3c5b684ff089ade4d4ac1e3bbb7e9d5cf7095859"
   }
  }
 },
 "nbformat": 4,
 "nbformat_minor": 2
}