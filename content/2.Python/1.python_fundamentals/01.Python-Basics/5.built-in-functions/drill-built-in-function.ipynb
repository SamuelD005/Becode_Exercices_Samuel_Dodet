{
 "cells": [
  {
   "cell_type": "markdown",
   "metadata": {
    "collapsed": true
   },
   "source": [
    "# Drill : built-in functions\n",
    "Use the native python functions to do these exercises."
   ]
  },
  {
   "cell_type": "markdown",
   "metadata": {},
   "source": [
    "### 1. Create a variable ``countAlpha`` that contains the number of characters contained in the string \"Hello world!\"."
   ]
  },
  {
   "cell_type": "code",
   "execution_count": 1,
   "metadata": {},
   "outputs": [],
   "source": [
    "countAlpha = len(\"Hello world!\")"
   ]
  },
  {
   "cell_type": "markdown",
   "metadata": {},
   "source": [
    "### 2. Create a variable ``countFloat`` and cast the variable countAlpha in float"
   ]
  },
  {
   "cell_type": "code",
   "execution_count": 2,
   "metadata": {},
   "outputs": [
    {
     "output_type": "stream",
     "name": "stdout",
     "text": [
      "12.0\n"
     ]
    }
   ],
   "source": [
    "countFloat = float(countAlpha)\n",
    "print(countFloat)"
   ]
  },
  {
   "cell_type": "markdown",
   "metadata": {},
   "source": [
    "### 3. Round the variable ``pi`` value to -10² and save it in a variable ``roundPi``."
   ]
  },
  {
   "cell_type": "code",
   "execution_count": 3,
   "metadata": {
    "collapsed": true
   },
   "outputs": [
    {
     "output_type": "stream",
     "name": "stdout",
     "text": [
      "3.14\n"
     ]
    }
   ],
   "source": [
    "import math\n",
    "\n",
    "roundPi = round(math.pi, 2)\n",
    "print (roundPi)"
   ]
  },
  {
   "cell_type": "markdown",
   "metadata": {},
   "source": [
    "### 4. Create a variable ``reversedText`` which contains the character string \"Hello world !\" backwards.\n",
    "The result must be a ``list()`` value."
   ]
  },
  {
   "cell_type": "code",
   "execution_count": 4,
   "metadata": {},
   "outputs": [
    {
     "output_type": "stream",
     "name": "stdout",
     "text": [
      "! dlrow olleH\n"
     ]
    }
   ],
   "source": [
    "reversedText = list(\"Hello world !\")\n",
    "reversedText.reverse()\n",
    "print(''.join(reversedText))"
   ]
  },
  {
   "cell_type": "markdown",
   "metadata": {},
   "source": [
    "### 5. Create a variable age  and ask the user to enter his age. Then display it and display its type. "
   ]
  },
  {
   "cell_type": "code",
   "execution_count": 5,
   "metadata": {
    "collapsed": true
   },
   "outputs": [
    {
     "output_type": "stream",
     "name": "stdout",
     "text": [
      "Your age is 36.\nThe type of variable age is <class 'str'>\n"
     ]
    }
   ],
   "source": [
    "age = input(\"What's your age?\")\n",
    "print(f\"Your age is {age}.\\nThe type of variable age is {type(age)}\")"
   ]
  },
  {
   "cell_type": "markdown",
   "metadata": {},
   "source": [
    "### 6. Create a variable `sortNum` that contains the sorted ``num`` list.\n"
   ]
  },
  {
   "cell_type": "code",
   "execution_count": 6,
   "metadata": {},
   "outputs": [
    {
     "output_type": "stream",
     "name": "stdout",
     "text": [
      "[1, 2, 3, 4, 6, 7, 8]\n"
     ]
    }
   ],
   "source": [
    "num = [2, 8, 1, 4, 6, 3, 7] \n",
    "sortNum = num\n",
    "sortNum.sort()\n",
    "print(sortNum)"
   ]
  },
  {
   "cell_type": "markdown",
   "metadata": {},
   "source": [
    "### 7. Create a variable ``sumOfList`` which contains the sum of all the elements in the list ``num``"
   ]
  },
  {
   "cell_type": "code",
   "execution_count": 7,
   "metadata": {},
   "outputs": [
    {
     "output_type": "stream",
     "name": "stdout",
     "text": [
      "31\n"
     ]
    }
   ],
   "source": [
    "num = [2, 8, 1, 4, 6, 3, 7] \n",
    "sumOfList = sum(num)\n",
    "print(sumOfList)"
   ]
  },
  {
   "cell_type": "markdown",
   "metadata": {},
   "source": [
    "### 8. Create a variable ``minValue`` that contains a minimum value of list ``num``"
   ]
  },
  {
   "cell_type": "code",
   "execution_count": 8,
   "metadata": {
    "collapsed": true
   },
   "outputs": [
    {
     "output_type": "stream",
     "name": "stdout",
     "text": [
      "1\n"
     ]
    }
   ],
   "source": [
    "num = [2, 8, 1, 4, 6, 3, 7] \n",
    "minValue = min(num)\n",
    "print(minValue)"
   ]
  },
  {
   "cell_type": "markdown",
   "metadata": {},
   "source": [
    "### 9. Create a variable maxValue that contains a maximum value of list num"
   ]
  },
  {
   "cell_type": "code",
   "execution_count": 9,
   "metadata": {
    "collapsed": true
   },
   "outputs": [
    {
     "output_type": "stream",
     "name": "stdout",
     "text": [
      "8\n"
     ]
    }
   ],
   "source": [
    "maxValue = max(num)\n",
    "print(maxValue)"
   ]
  },
  {
   "cell_type": "markdown",
   "metadata": {},
   "source": [
    "### 10. Find a function that will interpret the string of the variable calc\n",
    "Save the result in a variable named ``stringInterpret``"
   ]
  },
  {
   "cell_type": "code",
   "execution_count": 10,
   "metadata": {},
   "outputs": [
    {
     "output_type": "execute_result",
     "data": {
      "text/plain": [
       "3"
      ]
     },
     "metadata": {},
     "execution_count": 10
    }
   ],
   "source": [
    "calc  = \"1 + 2\"\n",
    "eval(calc)"
   ]
  },
  {
   "cell_type": "markdown",
   "metadata": {},
   "source": [
    "## Testing\n",
    "You don't have to modify the code, you just have to execute it"
   ]
  },
  {
   "cell_type": "code",
   "execution_count": 11,
   "metadata": {},
   "outputs": [
    {
     "output_type": "stream",
     "name": "stderr",
     "text": [
      "test_age (__main__.TestNotebook) ... ok\n",
      "test_countAlpha (__main__.TestNotebook) ... ok\n",
      "test_countFloat (__main__.TestNotebook) ... ok\n",
      "test_max (__main__.TestNotebook) ... ok\n",
      "test_min (__main__.TestNotebook) ... ok\n",
      "test_pi (__main__.TestNotebook) ... ok\n",
      "test_reversed (__main__.TestNotebook) ... ok\n",
      "test_sorted (__main__.TestNotebook) ... ok\n",
      "test_sum (__main__.TestNotebook) ... ok\n",
      "\n",
      "----------------------------------------------------------------------\n",
      "Ran 9 tests in 0.014s\n",
      "\n",
      "OK\n"
     ]
    },
    {
     "output_type": "execute_result",
     "data": {
      "text/plain": [
       "<unittest.main.TestProgram at 0x7fed76cdf910>"
      ]
     },
     "metadata": {},
     "execution_count": 11
    }
   ],
   "source": [
    "import unittest\n",
    " \n",
    "class TestNotebook(unittest.TestCase):\n",
    " \n",
    "    def test_countAlpha(self):\n",
    "        self.assertEqual(countAlpha, 12)\n",
    "    \n",
    "    def test_countFloat(self):\n",
    "        self.assertEqual(type(countFloat), type(float()))\n",
    "        \n",
    "    def test_pi(self):\n",
    "        self.assertEqual(3.14, roundPi)\n",
    "    \n",
    "    def test_reversed(self):\n",
    "        self.assertEqual(reversedText, ['!', ' ', 'd', 'l', 'r', 'o', 'w', ' ', 'o', 'l', 'l', 'e', 'H'])\n",
    "    \n",
    "    def test_age(self):\n",
    "        self.assertEqual(type(age), type(str()))\n",
    "        \n",
    "    def test_sorted(self):\n",
    "        self.assertEqual(sortNum, [1, 2, 3, 4, 6, 7, 8])\n",
    "    \n",
    "    def test_sum(self):\n",
    "        self.assertEqual(sumOfList, 31)\n",
    "    \n",
    "    def test_min(self):\n",
    "        self.assertEqual(minValue, 1)\n",
    "    \n",
    "    def test_max(self):\n",
    "        self.assertEqual(maxValue, 8)\n",
    "    \n",
    "unittest.main(argv=[''], verbosity=2, exit=False)"
   ]
  },
  {
   "cell_type": "markdown",
   "metadata": {
    "collapsed": true
   },
   "source": [
    "## [Next one](../6.tuples-dictionaries/tuples-and-dictionaries.ipynb)"
   ]
  }
 ],
 "metadata": {
  "kernelspec": {
   "name": "python392jvsc74a57bd00037eb202785df92b1a2fabe3c5b684ff089ade4d4ac1e3bbb7e9d5cf7095859",
   "display_name": "Python 3.9.2 64-bit ('kethien_env': conda)"
  },
  "language_info": {
   "codemirror_mode": {
    "name": "ipython",
    "version": 3
   },
   "file_extension": ".py",
   "mimetype": "text/x-python",
   "name": "python",
   "nbconvert_exporter": "python",
   "pygments_lexer": "ipython3",
   "version": "3.9.2"
  },
  "metadata": {
   "interpreter": {
    "hash": "0037eb202785df92b1a2fabe3c5b684ff089ade4d4ac1e3bbb7e9d5cf7095859"
   }
  }
 },
 "nbformat": 4,
 "nbformat_minor": 2
}