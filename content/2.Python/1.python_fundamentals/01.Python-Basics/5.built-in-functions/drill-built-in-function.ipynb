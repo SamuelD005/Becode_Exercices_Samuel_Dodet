{
 "cells": [
  {
   "cell_type": "markdown",
   "metadata": {
    "collapsed": true
   },
   "source": [
    "# Drill : built-in functions\n",
    "Use the native python functions to do these exercises."
   ]
  },
  {
   "cell_type": "markdown",
   "metadata": {},
   "source": [
    "### 1. Create a variable ``countAlpha`` that contains the number of characters contained in the string \"Hello world!\"."
   ]
  },
  {
   "cell_type": "code",
   "execution_count": 1,
   "metadata": {},
   "outputs": [],
   "source": [
    "countAlpha = len(\"Hello World!\")
   ]
  },
  {
   "cell_type": "markdown",
   "metadata": {},
   "source": [
    "### 2. Create a variable ``countFloat`` and cast the variable countAlpha in float"
   ]
  },
  {
   "cell_type": "code"   "execution_count": 2,
   "metadata": {},
   "outputs": [],
   "source": [
    "countFloat = float(countAlpha)"
   ]
  },
  {
   "cell_type": "markdown",
   "metadata": {},
   "source": [
    "### 3. Round the variable ``pi`` value to -10² and save it in a variable ``roundPi``."
   ]
  },
  {
   "cell_type": "code",
<<<<<<< HEAD
   "execution_count": 36,
   "metadata": {},
   "outputs": [],
   "source": [
    "import math \n",
    "roundPi = round(math.pi, 2)"
=======
   "execution_count": 5,
   "metadata": {},
   "outputs": [
    {
     "name": "stdout",
     "output_type": "stream",
     "text": [
      "3.14\n"
     ]
    }
   ],
   "source": [
    "import math\n",
    "roundPi = round(math.pi, 2)\n",
    "print(roundPi)"
>>>>>>> upstream/main
   ]
  },
  {
   "cell_type": "markdown",
   "metadata": {},
   "source": [
    "### 4. Create a variable ``reversedText`` which contains the character string \"Hello world !\" backwards.\n",
    "The result must be a ``list()`` value."
   ]
  },
  {
   "cell_type": "code",
<<<<<<< HEAD
   "execution_count": 29,
=======
   "execution_count": 8,
>>>>>>> upstream/main
   "metadata": {},
   "outputs": [
    {
     "name": "stdout",
     "output_type": "stream",
     "text": [
<<<<<<< HEAD
      "['!', ' ', 'd', 'l', 'r', 'o', 'w', ' ', 'o', 'l', 'l', 'e', 'H']\n"
=======
      "['!', ' ', 'd', 'l', 'r', 'o', 'w', ' ', 'o', 'l', 'l', 'e', 'H'] <class 'list'>\n"
>>>>>>> upstream/main
     ]
    }
   ],
   "source": [
<<<<<<< HEAD
    "reversedText=[]\n",
    "hello = \"Hello world !\" \n",
    "for letter in reversed(hello):\n",
    "    reversedText.append(letter)\n",
    "\n",
    "print(reversedText)"
=======
    "reversedText = list(reversed(\"Hello world !\"))\n",
    "print(reversedText, type(reversedText))"
>>>>>>> upstream/main
   ]
  },
  {
   "cell_type": "markdown",
   "metadata": {},
   "source": [
    "### 5. Create a variable age  and ask the user to enter his age. Then display it and display its type. "
   ]
  },
  {
   "cell_type": "code",
<<<<<<< HEAD
   "execution_count": 12,
=======
   "execution_count": 9,
>>>>>>> upstream/main
   "metadata": {},
   "outputs": [
    {
     "name": "stdout",
     "output_type": "stream",
     "text": [
<<<<<<< HEAD
      "ur age : 11\n",
      "11 <class 'str'>\n"
=======
      "Enter your age : 33\n",
      "33\n",
      "<class 'str'>\n"
>>>>>>> upstream/main
     ]
    }
   ],
   "source": [
<<<<<<< HEAD
    "age = input(\"ur age : \")\n",
    "print(age, type(age))"
=======
    "age = input('Enter your age : ')\n",
    "print(age)\n",
    "print(type(age))"
>>>>>>> upstream/main
   ]
  },
  {
   "cell_type": "markdown",
   "metadata": {},
   "source": [
    "### 6. Create a variable `sortNum` that contains the sorted ``num`` list.\n"
   ]
  },
  {
   "cell_type": "code",
<<<<<<< HEAD
   "execution_count": 13,
=======
   "execution_count": 16,
>>>>>>> upstream/main
   "metadata": {},
   "outputs": [
    {
     "name": "stdout",
     "output_type": "stream",
     "text": [
      "[1, 2, 3, 4, 6, 7, 8]\n"
     ]
    }
   ],
   "source": [
    "num = [2, 8, 1, 4, 6, 3, 7] \n",
<<<<<<< HEAD
    "sortNum = sorted(num)\n",
    "print(sortNum)"
=======
    "sortNum = sorted(num)\n"
>>>>>>> upstream/main
   ]
  },
  {
   "cell_type": "markdown",
   "metadata": {},
   "source": [
    "### 7. Create a variable ``sumOfList`` which contains the sum of all the elements in the list ``num``"
   ]
  },
  {
   "cell_type": "code",
<<<<<<< HEAD
   "execution_count": 14,
=======
   "execution_count": 11,
>>>>>>> upstream/main
   "metadata": {},
   "outputs": [
    {
     "name": "stdout",
     "output_type": "stream",
     "text": [
      "31\n"
     ]
    }
   ],
   "source": [
    "num = [2, 8, 1, 4, 6, 3, 7] \n",
<<<<<<< HEAD
    "sumOfList = sum(num)\n",
    "print(sumOfList)"
=======
    "sumOfList = sum(num)\n"
>>>>>>> upstream/main
   ]
  },
  {
   "cell_type": "markdown",
   "metadata": {},
   "source": [
    "### 8. Create a variable ``minValue`` that contains a minimum value of list ``num``"
   ]
  },
  {
   "cell_type": "code",
<<<<<<< HEAD
   "execution_count": 15,
   "metadata": {},
   "outputs": [
    {
     "name": "stdout",
     "output_type": "stream",
     "text": [
      "1\n"
     ]
    }
   ],
   "source": [
    "num = [2, 8, 1, 4, 6, 3, 7] \n",
    "minValue= min(num)\n",
    "print(minValue)\n"
=======
   "execution_count": 12,
   "metadata": {},
   "outputs": [],
   "source": [
    "num = [2, 8, 1, 4, 6, 3, 7] \n",
    "minValue = min(num)"
>>>>>>> upstream/main
   ]
  },
  {
   "cell_type": "markdown",
   "metadata": {},
   "source": [
    "### 9. Create a variable maxValue that contains a maximum value of list num"
   ]
  },
  {
   "cell_type": "code",
<<<<<<< HEAD
   "execution_count": 16,
   "metadata": {},
   "outputs": [
    {
     "name": "stdout",
     "output_type": "stream",
     "text": [
      "8\n"
     ]
    }
   ],
   "source": [
    "num = [2, 8, 1, 4, 6, 3, 7] \n",
    "maxValue= max(num)\n",
    "print(maxValue)"
=======
   "execution_count": 13,
   "metadata": {},
   "outputs": [],
   "source": [
    "maxValue = max(num)"
>>>>>>> upstream/main
   ]
  },
  {
   "cell_type": "markdown",
   "metadata": {},
   "source": [
    "### 10. Find a function that will interpret the string of the variable calc\n",
    "Save the result in a variable named ``stringInterpret``"
   ]
  },
  {
   "cell_type": "code",
<<<<<<< HEAD
   "execution_count": 19,
=======
   "execution_count": 14,
>>>>>>> upstream/main
   "metadata": {},
   "outputs": [
    {
     "name": "stdout",
     "output_type": "stream",
     "text": [
<<<<<<< HEAD
      "1 + 2\n"
=======
      "<class 'int'>\n"
>>>>>>> upstream/main
     ]
    }
   ],
   "source": [
    "calc  = \"1 + 2\"\n",
<<<<<<< HEAD
    "stringInterpret = str(calc)\n",
    "print(stringInterpret)"
=======
    "stringIterpret = eval(calc)\n",
    "print(type(stringIterpret))"
>>>>>>> upstream/main
   ]
  },
  {
   "cell_type": "markdown",
   "metadata": {},
   "source": [
    "## Testing\n",
    "You don't have to modify the code, you just have to execute it"
   ]
  },
  {
   "cell_type": "code",
<<<<<<< HEAD
   "execution_count": 37,
=======
   "execution_count": 17,
>>>>>>> upstream/main
   "metadata": {},
   "outputs": [
    {
     "name": "stderr",
     "output_type": "stream",
     "text": [
      "test_age (__main__.TestNotebook) ... ok\n",
      "test_countAlpha (__main__.TestNotebook) ... ok\n",
      "test_countFloat (__main__.TestNotebook) ... ok\n",
      "test_max (__main__.TestNotebook) ... ok\n",
      "test_min (__main__.TestNotebook) ... ok\n",
      "test_pi (__main__.TestNotebook) ... ok\n",
      "test_reversed (__main__.TestNotebook) ... ok\n",
      "test_sorted (__main__.TestNotebook) ... ok\n",
      "test_sum (__main__.TestNotebook) ... ok\n",
      "\n",
      "----------------------------------------------------------------------\n",
<<<<<<< HEAD
      "Ran 9 tests in 0.043s\n",
=======
      "Ran 9 tests in 0.005s\n",
>>>>>>> upstream/main
      "\n",
      "OK\n"
     ]
    },
    {
     "data": {
      "text/plain": [
<<<<<<< HEAD
       "<unittest.main.TestProgram at 0x7f8ef35456a0>"
      ]
     },
     "execution_count": 37,
=======
       "<unittest.main.TestProgram at 0x7f2de456e4f0>"
      ]
     },
     "execution_count": 17,
>>>>>>> upstream/main
     "metadata": {},
     "output_type": "execute_result"
    }
   ],
   "source": [
    "import unittest\n",
    " \n",
    "class TestNotebook(unittest.TestCase):\n",
    " \n",
    "    def test_countAlpha(self):\n",
    "        self.assertEqual(countAlpha, 12)\n",
    "    \n",
    "    def test_countFloat(self):\n",
    "        self.assertEqual(type(countFloat), type(float()))\n",
    "        \n",
    "    def test_pi(self):\n",
    "        self.assertEqual(3.14, roundPi)\n",
    "    \n",
    "    def test_reversed(self):\n",
    "        self.assertEqual(reversedText, ['!', ' ', 'd', 'l', 'r', 'o', 'w', ' ', 'o', 'l', 'l', 'e', 'H'])\n",
    "    \n",
    "    def test_age(self):\n",
    "        self.assertEqual(type(age), type(str()))\n",
    "        \n",
    "    def test_sorted(self):\n",
    "        self.assertEqual(sortNum, [1, 2, 3, 4, 6, 7, 8])\n",
    "    \n",
    "    def test_sum(self):\n",
    "        self.assertEqual(sumOfList, 31)\n",
    "    \n",
    "    def test_min(self):\n",
    "        self.assertEqual(minValue, 1)\n",
    "    \n",
    "    def test_max(self):\n",
    "        self.assertEqual(maxValue, 8)\n",
    "    \n",
    "unittest.main(argv=[''], verbosity=2, exit=False)"
   ]
  },
  {
   "cell_type": "markdown",
   "metadata": {
    "collapsed": true
   },
   "source": [
    "## [Next one](../6.tuples-dictionaries/tuples-and-dictionaries.ipynb)"
   ]
  }
 ],
 "metadata": {
  "kernelspec": {
   "display_name": "Python 3",
   "language": "python",
   "name": "python3"
  },
  "language_info": {
   "codemirror_mode": {
    "name": "ipython",
    "version": 3
   },
   "file_extension": ".py",
   "mimetype": "text/x-python",
   "name": "python",
   "nbconvert_exporter": "python",
   "pygments_lexer": "ipython3",
   "version": "3.8.3"
  }
 },
 "nbformat": 4,
 "nbformat_minor": 2
}
