{
  "nbformat": 4,
  "nbformat_minor": 0,
  "metadata": {
    "colab": {
      "name": "generator_python.ipynb",
      "provenance": [],
      "collapsed_sections": []
    },
    "kernelspec": {
      "name": "python3",
      "display_name": "Python 3"
    },
    "language_info": {
      "name": "python"
    }
  },
  "cells": [
    {
      "cell_type": "markdown",
      "metadata": {
        "id": "w-DXzJqf8fZY"
      },
      "source": [
        "# Python generator\n",
        "\n",
        "## What is a generator?\n",
        "A generator is a function, or rather correctly an object, which returns a an iterative element. The yield keyword makes it a coroutine. A [coroutine](https://en.wikipedia.org/wiki/Coroutine) is a processing unit for executing non-blocking and asynchronous code. \n",
        "\n",
        "To summarize very briefly because it is not the subject, when we write synchronous code, the code does one task at a time before moving to the next task.\n",
        "\n",
        "Asynchronous code allows you to do several tasks at the same time and especially to do background tasks. "
      ]
    },
    {
      "cell_type": "markdown",
      "metadata": {
        "id": "YdSKH7VbGP4F"
      },
      "source": [
        "Example : "
      ]
    },
    {
      "cell_type": "code",
      "metadata": {
        "id": "nlkw3he48WIV"
      },
      "source": [
        "# Example \n",
        "def async_func():\n",
        "    n = 1\n",
        "    print('This is printed first')\n",
        "    # Generator function contains yield statements\n",
        "    yield n\n",
        "\n",
        "    n += 1\n",
        "    print('This is printed second')\n",
        "    yield n\n",
        "\n",
        "    n += 1\n",
        "    print('This is printed at last')\n",
        "    yield n"
      ],
      "execution_count": null,
      "outputs": []
    },
    {
      "cell_type": "code",
      "metadata": {
        "id": "8KSb1xFS_mcf"
      },
      "source": [
        "# Don't forget to assign the function to a variable\n",
        "example = async_func()"
      ],
      "execution_count": null,
      "outputs": []
    },
    {
      "cell_type": "code",
      "metadata": {
        "colab": {
          "base_uri": "https://localhost:8080/"
        },
        "id": "VeHKnuWO_qjV",
        "outputId": "63287bbf-cd9a-41d6-dc69-5ae1bf872067"
      },
      "source": [
        "next(example)"
      ],
      "execution_count": null,
      "outputs": [
        {
          "output_type": "stream",
          "text": [
            "This is printed first\n"
          ],
          "name": "stdout"
        },
        {
          "output_type": "execute_result",
          "data": {
            "text/plain": [
              "1"
            ]
          },
          "metadata": {
            "tags": []
          },
          "execution_count": 4
        }
      ]
    },
    {
      "cell_type": "code",
      "metadata": {
        "colab": {
          "base_uri": "https://localhost:8080/"
        },
        "id": "rvcqAgiJ_96b",
        "outputId": "a852a84a-eaca-490e-cc16-1d2364902dd1"
      },
      "source": [
        "next(example)"
      ],
      "execution_count": null,
      "outputs": [
        {
          "output_type": "stream",
          "text": [
            "This is printed second\n"
          ],
          "name": "stdout"
        },
        {
          "output_type": "execute_result",
          "data": {
            "text/plain": [
              "2"
            ]
          },
          "metadata": {
            "tags": []
          },
          "execution_count": 5
        }
      ]
    },
    {
      "cell_type": "code",
      "metadata": {
        "colab": {
          "base_uri": "https://localhost:8080/"
        },
        "id": "WB1P_19J_6d6",
        "outputId": "c6b8f736-8474-460c-d550-2b9190fc8b93"
      },
      "source": [
        "print('Hello, I just executed when there is another asynchronous function in memory.')"
      ],
      "execution_count": null,
      "outputs": [
        {
          "output_type": "stream",
          "text": [
            "Hello, I just executed when there is another asynchronous function in memory.\n"
          ],
          "name": "stdout"
        }
      ]
    },
    {
      "cell_type": "code",
      "metadata": {
        "colab": {
          "base_uri": "https://localhost:8080/"
        },
        "id": "8N0_L2aFAkFv",
        "outputId": "71286b73-d263-4ff6-9a68-68a54422281a"
      },
      "source": [
        "next(example)"
      ],
      "execution_count": null,
      "outputs": [
        {
          "output_type": "stream",
          "text": [
            "This is printed at last\n"
          ],
          "name": "stdout"
        },
        {
          "output_type": "execute_result",
          "data": {
            "text/plain": [
              "3"
            ]
          },
          "metadata": {
            "tags": []
          },
          "execution_count": 7
        }
      ]
    },
    {
      "cell_type": "markdown",
      "metadata": {
        "id": "nHUmJ-GDBirq"
      },
      "source": [
        "As you can see, the state of the ``example`` variable has been preserved despite the fact that a piece of code was executed right after. \n",
        "\n",
        "This is due to the use of coroutines. Coroutines allow you to perform a background task while another task is running. \n",
        "\n",
        "If we tried to do this with a normal loop for the same result it wouldn't work. "
      ]
    },
    {
      "cell_type": "code",
      "metadata": {
        "colab": {
          "base_uri": "https://localhost:8080/"
        },
        "id": "0uXy-mEfAuCl",
        "outputId": "cbb474b5-bea3-4908-8d67-180640815b58"
      },
      "source": [
        "# DOESN'T WORK\n",
        "def sync_func():\n",
        "  for i in range(3):\n",
        "    if i == 0 :\n",
        "      print('This is printed first')\n",
        "    elif i == 1:\n",
        "      print('This is printed second')\n",
        "    else:\n",
        "      print('This is printed at last')\n",
        "\n",
        "sync_func()\n",
        "print(\"Hello I am synchronous I run after the loop\")"
      ],
      "execution_count": null,
      "outputs": [
        {
          "output_type": "stream",
          "text": [
            "This is printed first\n",
            "This is printed second\n",
            "This is printed at last\n",
            "Hello I am synchronous I run after the loop\n"
          ],
          "name": "stdout"
        }
      ]
    },
    {
      "cell_type": "markdown",
      "metadata": {
        "id": "y28xqONjHFF3"
      },
      "source": [
        "Let's go back to our generators. Let's imagine that we want to modify a whole list."
      ]
    },
    {
      "cell_type": "code",
      "metadata": {
        "id": "_UgUzfPKDP4w"
      },
      "source": [
        "my_list = [1,2,3,4,5,6,7,8,9]"
      ],
      "execution_count": null,
      "outputs": []
    },
    {
      "cell_type": "markdown",
      "metadata": {
        "id": "HyprEbVRHr51"
      },
      "source": [
        "but instead I want this: "
      ]
    },
    {
      "cell_type": "markdown",
      "metadata": {
        "id": "ARRljWNSHgw3"
      },
      "source": [
        "```python\n",
        "my_list =\n",
        "['Hello number : 1',\n",
        " 'Hello number : 2',\n",
        " 'Hello number : 3',\n",
        " 'Hello number : 4',\n",
        " 'Hello number : 5',\n",
        " 'Hello number : 6',\n",
        " 'Hello number : 7',\n",
        " 'Hello number : 8',\n",
        " 'Hello number : 9']\n",
        "```"
      ]
    },
    {
      "cell_type": "markdown",
      "metadata": {
        "id": "vpPRl0zbIII3"
      },
      "source": [
        "One would be tempted to do this: "
      ]
    },
    {
      "cell_type": "code",
      "metadata": {
        "id": "BtVGnHbZHfa4"
      },
      "source": [
        "def my_function(my_list):\n",
        "  new_list = []\n",
        "  for item in my_list:\n",
        "    new_list.append(f\"Hello number : {item}\")\n",
        "  return new_list"
      ],
      "execution_count": null,
      "outputs": []
    },
    {
      "cell_type": "markdown",
      "metadata": {
        "id": "PxlcQ6RoIhh3"
      },
      "source": [
        "### What is the problem with this method? \n",
        "Well, we have to recreate an additional list to store our result. This is costly in machine resources. It has to recalculate the whole list before returning the result. All this is costly in terms of machine resources.\n",
        "\n",
        "In this case, it's not a big deal because we don't do many iterations."
      ]
    },
    {
      "cell_type": "code",
      "metadata": {
        "id": "7UDjmighIfe_"
      },
      "source": [
        "def my_gen(my_list):\n",
        "  for item in my_list:\n",
        "    yield f\"Hello number : {item}\""
      ],
      "execution_count": null,
      "outputs": []
    },
    {
      "cell_type": "code",
      "metadata": {
        "colab": {
          "base_uri": "https://localhost:8080/",
          "height": 35
        },
        "id": "BucWZRUnW0u5",
        "outputId": "628a8c3e-5bab-4e86-d435-b60a1d928f0f"
      },
      "source": [
        "a = my_gen(my_list)\n",
        "next(a)"
      ],
      "execution_count": null,
      "outputs": [
        {
          "output_type": "execute_result",
          "data": {
            "application/vnd.google.colaboratory.intrinsic+json": {
              "type": "string"
            },
            "text/plain": [
              "'Hello number : 1'"
            ]
          },
          "metadata": {
            "tags": []
          },
          "execution_count": 13
        }
      ]
    },
    {
      "cell_type": "code",
      "metadata": {
        "colab": {
          "base_uri": "https://localhost:8080/",
          "height": 35
        },
        "id": "yzuSNtQrXEoQ",
        "outputId": "de32f693-50e4-4bda-aa16-ec7cd0645b28"
      },
      "source": [
        "next(a)"
      ],
      "execution_count": null,
      "outputs": [
        {
          "output_type": "execute_result",
          "data": {
            "application/vnd.google.colaboratory.intrinsic+json": {
              "type": "string"
            },
            "text/plain": [
              "'Hello number : 2'"
            ]
          },
          "metadata": {
            "tags": []
          },
          "execution_count": 14
        }
      ]
    },
    {
      "cell_type": "markdown",
      "metadata": {
        "id": "Nib_us-YXhXW"
      },
      "source": [
        "The goal is not to use the slow and expensive calculation for the use of the lists.  \n",
        "The purpose is not to use the slow and expensive calculation for the use of lists. It does not make sense to use lists with generators."
      ]
    },
    {
      "cell_type": "code",
      "metadata": {
        "id": "8Jk96xzNW4YZ"
      },
      "source": [
        "### ❌ DON'T DO THAT ❌\n",
        "def my_gen_(my_list):\n",
        "  new_list = []\n",
        "  for item in my_list:\n",
        "    new_list.append(f\"Hello number : {item}\")\n",
        "  yield new_list"
      ],
      "execution_count": null,
      "outputs": []
    },
    {
      "cell_type": "code",
      "metadata": {
        "colab": {
          "base_uri": "https://localhost:8080/"
        },
        "id": "_Tw3cxeDX8M9",
        "outputId": "5f50c078-6f88-4b4e-de54-0acd396e78d0"
      },
      "source": [
        "def my_gen(my_list):\n",
        "  for item in my_list:\n",
        "    yield f\"Hello number : {item}\"\n",
        "\n",
        "### ❌ DON'T DO THAT ❌\n",
        "# As we recreate a list, we lose all the advantages of the generators.\n",
        "result = [i for i in my_gen([1,2,3,4,5,6,7,8,9])] # \n",
        "print(result)"
      ],
      "execution_count": null,
      "outputs": [
        {
          "output_type": "stream",
          "text": [
            "['Hello number : 1', 'Hello number : 2', 'Hello number : 3', 'Hello number : 4', 'Hello number : 5', 'Hello number : 6', 'Hello number : 7', 'Hello number : 8', 'Hello number : 9']\n"
          ],
          "name": "stdout"
        }
      ]
    },
    {
      "cell_type": "code",
      "metadata": {
        "id": "LQC511f3X9Ga",
        "colab": {
          "base_uri": "https://localhost:8080/"
        },
        "outputId": "66a8b9e9-44eb-4030-c361-6066a719d522"
      },
      "source": [
        "### ❌ DON'T DO THAT ❌\n",
        "# As we recreate a list, we lose all the advantages of the generators.\n",
        "result = (i for i in my_gen([1,2,3,4,5,6,7,8,9]))# \n",
        "print(list(result))"
      ],
      "execution_count": null,
      "outputs": [
        {
          "output_type": "stream",
          "text": [
            "['Hello number : 1', 'Hello number : 2', 'Hello number : 3', 'Hello number : 4', 'Hello number : 5', 'Hello number : 6', 'Hello number : 7', 'Hello number : 8', 'Hello number : 9']\n"
          ],
          "name": "stdout"
        }
      ]
    },
    {
      "cell_type": "markdown",
      "metadata": {
        "id": "Gf49FxIDYzbE"
      },
      "source": [
        "## A concrete example. \n",
        "Let's now use a case study that demonstrates the benefits of generators.  For example (totally at random) \n",
        "let's imagine that you want to compute the sequential sequence of fibonnaci. "
      ]
    },
    {
      "cell_type": "markdown",
      "metadata": {
        "id": "xTdyNDQ6ZVtY"
      },
      "source": [
        "### Without generator\n",
        "\n",
        "(This piece of code is copied and pasted from stackoverflow)"
      ]
    },
    {
      "cell_type": "code",
      "metadata": {
        "id": "oEF0wKnkYVR8"
      },
      "source": [
        "## add the last two numbers of the sequence \n",
        "def fibonacci(n):\n",
        "    if n <= 1:\n",
        "        return 1\n",
        "    return fibonacci(n-1) + fibonacci(n-2)\n"
      ],
      "execution_count": null,
      "outputs": []
    },
    {
      "cell_type": "code",
      "metadata": {
        "colab": {
          "base_uri": "https://localhost:8080/"
        },
        "id": "Jv9HEBcsaPIA",
        "outputId": "cfdd09be-9632-4840-b8cc-2c7245c1b3b2"
      },
      "source": [
        "# Loop that calls the fibonnaci function\n",
        "def generate_fibonacci(n):\n",
        "    fibonacci_numbers = [] \n",
        "    for i in range(n):\n",
        "        fibonacci_numbers.append(fibonacci(i))\n",
        "    return fibonacci_numbers\n",
        "  \n",
        "generate_fibonacci(10)"
      ],
      "execution_count": null,
      "outputs": [
        {
          "output_type": "execute_result",
          "data": {
            "text/plain": [
              "[1, 1, 2, 3, 5, 8, 13, 21, 34, 55]"
            ]
          },
          "metadata": {
            "tags": []
          },
          "execution_count": 19
        }
      ]
    },
    {
      "cell_type": "markdown",
      "metadata": {
        "id": "URfWEO9Vcz1J"
      },
      "source": [
        "Now what happens is that you want to calculate the sum of the fibonnaci sequence up to 10000 ?"
      ]
    },
    {
      "cell_type": "code",
      "metadata": {
        "colab": {
          "base_uri": "https://localhost:8080/"
        },
        "id": "CKdOmR6-cqiK",
        "outputId": "10c8c323-c63a-4ef7-dc24-9c7c21b3eacf"
      },
      "source": [
        "sum_numbers = 0\n",
        "for i in generate_fibonacci(40):\n",
        "    if 10000 < i:\n",
        "        break\n",
        "    sum_numbers += i\n",
        "print(sum_numbers)"
      ],
      "execution_count": null,
      "outputs": [
        {
          "output_type": "stream",
          "text": [
            "17710\n"
          ],
          "name": "stdout"
        }
      ]
    },
    {
      "cell_type": "markdown",
      "metadata": {
        "id": "VbbKhs4ddaVV"
      },
      "source": [
        "1 min 17 of calclue time to make "
      ]
    },
    {
      "cell_type": "markdown",
      "metadata": {
        "id": "mJ7AI-F0avXx"
      },
      "source": [
        "## With generator"
      ]
    },
    {
      "cell_type": "code",
      "metadata": {
        "id": "bvUu82-Xaiff"
      },
      "source": [
        "def generate_fibonacci(n):\n",
        "    for i in range(n):\n",
        "        yield fibonacci(i)"
      ],
      "execution_count": null,
      "outputs": []
    },
    {
      "cell_type": "markdown",
      "metadata": {
        "id": "ywzLogEKa-zD"
      },
      "source": [
        "Instead of returning a list, will return a single element. \n",
        "\n",
        "However, this is only a limited solution because you must provide an end condition when the generator stops. Generators are mostly infinite - but we limit the generators in the examples above to a given number because of the for loop"
      ]
    },
    {
      "cell_type": "code",
      "metadata": {
        "id": "AfnyWOoKay6i"
      },
      "source": [
        "def generate_fibonacci():\n",
        "    i = 0\n",
        "    while True:\n",
        "        yield fibonacci(i)\n",
        "        i += 1"
      ],
      "execution_count": null,
      "outputs": []
    },
    {
      "cell_type": "markdown",
      "metadata": {
        "id": "mH47T-5icBuc"
      },
      "source": [
        "Now what happens is that you want to calculate the sum of the fibonnaci sequence up to 10000 ?"
      ]
    },
    {
      "cell_type": "code",
      "metadata": {
        "colab": {
          "base_uri": "https://localhost:8080/"
        },
        "id": "0Wg-hxGPdWSc",
        "outputId": "9925bd94-b881-4409-de97-cda751cdcaf9"
      },
      "source": [
        "sum_numbers = 0\n",
        "for i in generate_fibonacci():\n",
        "    if 10000 < i:\n",
        "        break\n",
        "    sum_numbers += i\n",
        "print(sum_numbers)"
      ],
      "execution_count": null,
      "outputs": [
        {
          "output_type": "stream",
          "text": [
            "17710\n"
          ],
          "name": "stdout"
        }
      ]
    },
    {
      "cell_type": "markdown",
      "metadata": {
        "id": "HKiAFxvOd_ir"
      },
      "source": [
        "the calculation is almost instantaneous."
      ]
    },
    {
      "cell_type": "code",
      "metadata": {
        "id": "Oz9tcIVPdmzZ"
      },
      "source": [
        ""
      ],
      "execution_count": null,
      "outputs": []
    }
  ]
}