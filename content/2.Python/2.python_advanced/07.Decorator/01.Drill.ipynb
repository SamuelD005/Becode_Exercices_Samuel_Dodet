{
 "cells": [
  {
   "cell_type": "markdown",
   "metadata": {},
   "source": [
    "# Drill - Decorators\n",
    "\n",
    "### Exercise 1\n",
    "Create a decorator that limits the execution of a function :\n",
    "\n",
    "When the function is executed too many times, an exception is thrown. The decorator must take one parameter, which is the number of times it is executed."
   ]
  },
  {
   "cell_type": "code",
   "execution_count": 8,
   "metadata": {},
   "outputs": [
    {
     "name": "stdout",
     "output_type": "stream",
     "text": [
      "Executing my_func\n",
      "10\n",
      "('a', 'b', 'c')\n",
      "Executing my_func\n",
      "9\n",
      "('a', 'b', 'c')\n",
      "Executing my_func\n",
      "8\n",
      "('a', 'b', 'c')\n",
      "Executing my_func\n",
      "7\n",
      "('a', 'b', 'c')\n",
      "Executing my_func\n",
      "6\n",
      "('a', 'b', 'c')\n",
      "Executing my_func\n",
      "5\n",
      "('a', 'b', 'c')\n",
      "Executing my_func\n",
      "4\n",
      "('a', 'b', 'c')\n",
      "Executing my_func\n",
      "3\n",
      "('a', 'b', 'c')\n",
      "Executing my_func\n",
      "2\n",
      "('a', 'b', 'c')\n",
      "Executing my_func\n",
      "1\n",
      "('a', 'b', 'c')\n",
      "Executing my_func\n",
      "0\n"
     ]
    },
    {
     "ename": "ValueError",
     "evalue": "called too many times",
     "output_type": "error",
     "traceback": [
      "\u001b[0;31m---------------------------------------------------------------------------\u001b[0m",
      "\u001b[0;31mValueError\u001b[0m                                Traceback (most recent call last)",
      "\u001b[0;32m<ipython-input-8-32098b26a0ae>\u001b[0m in \u001b[0;36m<module>\u001b[0;34m\u001b[0m\n\u001b[1;32m     48\u001b[0m \u001b[0;34m\u001b[0m\u001b[0m\n\u001b[1;32m     49\u001b[0m \u001b[0;32mwhile\u001b[0m \u001b[0;32mTrue\u001b[0m\u001b[0;34m:\u001b[0m\u001b[0;34m\u001b[0m\u001b[0;34m\u001b[0m\u001b[0m\n\u001b[0;32m---> 50\u001b[0;31m     \u001b[0mprint\u001b[0m\u001b[0;34m(\u001b[0m\u001b[0mmy_func\u001b[0m\u001b[0;34m(\u001b[0m\u001b[0;34m\"a\"\u001b[0m\u001b[0;34m,\u001b[0m\u001b[0;34m\"b\"\u001b[0m\u001b[0;34m,\u001b[0m\u001b[0;34m\"c\"\u001b[0m\u001b[0;34m)\u001b[0m\u001b[0;34m)\u001b[0m\u001b[0;34m\u001b[0m\u001b[0;34m\u001b[0m\u001b[0m\n\u001b[0m\u001b[1;32m     51\u001b[0m \u001b[0;34m\u001b[0m\u001b[0m\n",
      "\u001b[0;32m<ipython-input-8-32098b26a0ae>\u001b[0m in \u001b[0;36mwrapper\u001b[0;34m(*args)\u001b[0m\n\u001b[1;32m     33\u001b[0m             \u001b[0mprint\u001b[0m\u001b[0;34m(\u001b[0m\u001b[0mnum\u001b[0m\u001b[0;34m)\u001b[0m\u001b[0;34m\u001b[0m\u001b[0;34m\u001b[0m\u001b[0m\n\u001b[1;32m     34\u001b[0m             \u001b[0;32mif\u001b[0m \u001b[0mnum\u001b[0m \u001b[0;34m<=\u001b[0m \u001b[0;36m0\u001b[0m\u001b[0;34m:\u001b[0m\u001b[0;34m\u001b[0m\u001b[0;34m\u001b[0m\u001b[0m\n\u001b[0;32m---> 35\u001b[0;31m                 \u001b[0;32mraise\u001b[0m \u001b[0mValueError\u001b[0m \u001b[0;34m(\u001b[0m\u001b[0;34m\"called too many times\"\u001b[0m\u001b[0;34m)\u001b[0m\u001b[0;34m\u001b[0m\u001b[0;34m\u001b[0m\u001b[0m\n\u001b[0m\u001b[1;32m     36\u001b[0m             \u001b[0mnum\u001b[0m \u001b[0;34m-=\u001b[0m \u001b[0;36m1\u001b[0m\u001b[0;34m\u001b[0m\u001b[0;34m\u001b[0m\u001b[0m\n\u001b[1;32m     37\u001b[0m             \u001b[0;32mreturn\u001b[0m \u001b[0mfn\u001b[0m\u001b[0;34m(\u001b[0m\u001b[0;34m*\u001b[0m\u001b[0margs\u001b[0m\u001b[0;34m)\u001b[0m\u001b[0;34m\u001b[0m\u001b[0;34m\u001b[0m\u001b[0m\n",
      "\u001b[0;31mValueError\u001b[0m: called too many times"
     ]
    }
   ],
   "source": [
    "# def max_calls(num):\n",
    "    \n",
    "#      \"\"\"Decorator which allows its wrapped function to be called `num` times\"\"\"\n",
    "\n",
    "#      def decorator(func):\n",
    "#         @wraps(func)\n",
    "#         def wrapper(*args, **kwargs):\n",
    "#             calls = getattr(wrapper, 'calls', 0)\n",
    "#             calls += 1\n",
    "\n",
    "#             if calls == num:\n",
    "#                 return None\n",
    "\n",
    "#             setattr(wrapper, 'calls', calls)\n",
    "#             return func(*args, **kwargs)\n",
    "#         setattr(wrapper, 'calls', 0)\n",
    "#         return wrapper\n",
    "#     return decorator\n",
    "# @mac_calls(5)\n",
    "# decorator(wrapper())\n",
    "\n",
    "\n",
    "\n",
    "\n",
    "\n",
    "from functools import wraps\n",
    " \n",
    "def dec(num):  \n",
    "    def inner(fn):\n",
    "        def wrapper(*args):\n",
    "            print(f\"Executing {fn.__name__}\")\n",
    "            nonlocal num \n",
    "            print(num)\n",
    "            if num <= 0:\n",
    "                raise ValueError (\"called too many times\")\n",
    "            num -= 1\n",
    "            return fn(*args)\n",
    "        return wrapper\n",
    "    return inner\n",
    "\n",
    "@dec(10)\n",
    "def my_func(*args):\n",
    "    return args\n",
    "\n",
    "# @dec(10)\n",
    "# def addition(a, b):\n",
    "#     return a + b\n",
    "\n",
    "while True:\n",
    "    print(my_func(\"a\",\"b\",\"c\"))\n",
    "    \n"
   ]
  },
  {
   "cell_type": "markdown",
   "metadata": {},
   "source": [
    "### Exercise 2\n",
    "Create a decorator that controls what a function returns: The decorator must throw an exception if the function returns a string or int."
   ]
  },
  {
   "cell_type": "code",
   "execution_count": 6,
   "metadata": {},
   "outputs": [
    {
     "name": "stdout",
     "output_type": "stream",
     "text": [
      "4.5\n",
      "2.928\n"
     ]
    },
    {
     "ename": "TypeError",
     "evalue": "Can't use strings or integers",
     "output_type": "error",
     "traceback": [
      "\u001b[0;31m---------------------------------------------------------------------------\u001b[0m",
      "\u001b[0;31mTypeError\u001b[0m                                 Traceback (most recent call last)",
      "\u001b[0;32m<ipython-input-6-b34953ec9471>\u001b[0m in \u001b[0;36m<module>\u001b[0;34m\u001b[0m\n\u001b[1;32m     15\u001b[0m \u001b[0mprint\u001b[0m\u001b[0;34m(\u001b[0m\u001b[0mfloat_number\u001b[0m\u001b[0;34m(\u001b[0m\u001b[0;36m4.5\u001b[0m\u001b[0;34m)\u001b[0m\u001b[0;34m)\u001b[0m\u001b[0;34m\u001b[0m\u001b[0;34m\u001b[0m\u001b[0m\n\u001b[1;32m     16\u001b[0m \u001b[0mprint\u001b[0m\u001b[0;34m(\u001b[0m\u001b[0mfloat_number\u001b[0m\u001b[0;34m(\u001b[0m\u001b[0;36m2.928\u001b[0m\u001b[0;34m)\u001b[0m\u001b[0;34m)\u001b[0m\u001b[0;34m\u001b[0m\u001b[0;34m\u001b[0m\u001b[0m\n\u001b[0;32m---> 17\u001b[0;31m \u001b[0mprint\u001b[0m\u001b[0;34m(\u001b[0m\u001b[0mfloat_number\u001b[0m\u001b[0;34m(\u001b[0m\u001b[0;36m1\u001b[0m\u001b[0;34m)\u001b[0m\u001b[0;34m)\u001b[0m\u001b[0;34m\u001b[0m\u001b[0;34m\u001b[0m\u001b[0m\n\u001b[0m",
      "\u001b[0;32m<ipython-input-6-b34953ec9471>\u001b[0m in \u001b[0;36mwrapper\u001b[0;34m(*args)\u001b[0m\n\u001b[1;32m      5\u001b[0m     \u001b[0;32mdef\u001b[0m \u001b[0mwrapper\u001b[0m\u001b[0;34m(\u001b[0m\u001b[0;34m*\u001b[0m\u001b[0margs\u001b[0m\u001b[0;34m)\u001b[0m\u001b[0;34m:\u001b[0m\u001b[0;34m\u001b[0m\u001b[0;34m\u001b[0m\u001b[0m\n\u001b[1;32m      6\u001b[0m         \u001b[0;32mif\u001b[0m \u001b[0mtype\u001b[0m\u001b[0;34m(\u001b[0m\u001b[0;34m*\u001b[0m\u001b[0margs\u001b[0m\u001b[0;34m)\u001b[0m \u001b[0;34m==\u001b[0m \u001b[0mstr\u001b[0m \u001b[0;32mor\u001b[0m \u001b[0mtype\u001b[0m\u001b[0;34m(\u001b[0m\u001b[0;34m*\u001b[0m\u001b[0margs\u001b[0m\u001b[0;34m)\u001b[0m \u001b[0;34m==\u001b[0m \u001b[0mint\u001b[0m\u001b[0;34m:\u001b[0m\u001b[0;34m\u001b[0m\u001b[0;34m\u001b[0m\u001b[0m\n\u001b[0;32m----> 7\u001b[0;31m             \u001b[0;32mraise\u001b[0m \u001b[0mTypeError\u001b[0m\u001b[0;34m(\u001b[0m\u001b[0;34m\"Can't use strings or integers\"\u001b[0m\u001b[0;34m)\u001b[0m\u001b[0;34m\u001b[0m\u001b[0;34m\u001b[0m\u001b[0m\n\u001b[0m\u001b[1;32m      8\u001b[0m         \u001b[0;32mreturn\u001b[0m \u001b[0mf\u001b[0m\u001b[0;34m(\u001b[0m\u001b[0;34m*\u001b[0m\u001b[0margs\u001b[0m\u001b[0;34m)\u001b[0m\u001b[0;34m\u001b[0m\u001b[0;34m\u001b[0m\u001b[0m\n\u001b[1;32m      9\u001b[0m     \u001b[0;32mreturn\u001b[0m \u001b[0mwrapper\u001b[0m\u001b[0;34m\u001b[0m\u001b[0;34m\u001b[0m\u001b[0m\n",
      "\u001b[0;31mTypeError\u001b[0m: Can't use strings or integers"
     ]
    }
   ],
   "source": [
    "from functools import wraps\n",
    "\n",
    "def dec(f):\n",
    "    @wraps(f)\n",
    "    def wrapper(*args):\n",
    "        if type(*args) == str or type(*args) == int:\n",
    "            raise TypeError(\"Can't use strings or integers\")\n",
    "        return f(*args)\n",
    "    return wrapper\n",
    "\n",
    "@dec\n",
    "def float_number(fl):\n",
    "    return fl\n",
    "    \n",
    "print(float_number(4.5))\n",
    "print(float_number(2.928))\n",
    "print(float_number(1))"
   ]
  },
  {
   "cell_type": "markdown",
   "metadata": {},
   "source": [
    "### Exercise 3\n",
    "A decorator that displays the time of the function (basic)"
   ]
  },
  {
   "cell_type": "code",
   "execution_count": 3,
   "metadata": {},
   "outputs": [
    {
     "name": "stdout",
     "output_type": "stream",
     "text": [
      "Elapsed time 6.940124273300171 seconds\n",
      "8310608448060051\n"
     ]
    }
   ],
   "source": [
    "from time import time\n",
    "from functools import wraps\n",
    "\n",
    "def time_test(fn):\n",
    "    @wraps(fn)\n",
    "    def wrapper(*args):\n",
    "        start_time = time()\n",
    "        result = fn(*args)\n",
    "        end_time = time()\n",
    "        print(f\"Elapsed time {end_time - start_time} seconds\")\n",
    "        return result\n",
    "    return wrapper\n",
    "              \n",
    "@time_test\n",
    "def total_while(num):\n",
    "    total = 0\n",
    "    for n in range(num+1):\n",
    "        total += n\n",
    "    return total\n",
    "              \n",
    "print(total_while(128923298))\n",
    "        "
   ]
  },
  {
   "cell_type": "code",
   "execution_count": null,
   "metadata": {},
   "outputs": [],
   "source": []
  }
 ],
 "metadata": {
  "kernelspec": {
   "display_name": "Python 3",
   "language": "python",
   "name": "python3"
  },
  "language_info": {
   "codemirror_mode": {
    "name": "ipython",
    "version": 3
   },
   "file_extension": ".py",
   "mimetype": "text/x-python",
   "name": "python",
   "nbconvert_exporter": "python",
   "pygments_lexer": "ipython3",
   "version": "3.8.5"
  }
 },
 "nbformat": 4,
 "nbformat_minor": 2
}
