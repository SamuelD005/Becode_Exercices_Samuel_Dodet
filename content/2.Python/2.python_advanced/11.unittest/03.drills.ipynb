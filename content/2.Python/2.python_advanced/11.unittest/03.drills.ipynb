{
 "cells": [
  {
   "cell_type": "markdown",
   "metadata": {},
   "source": [
    "# Drills - unit testing\n",
    "Now that you have the basics, let's do some drills!\n",
    "\n",
    "Create a unittest for each of these functions."
   ]
  },
  {
   "cell_type": "markdown",
   "metadata": {},
   "source": [
    "## Custom exception\n",
    "We define here some custom exception."
   ]
  },
  {
   "cell_type": "code",
   "execution_count": 23,
   "metadata": {},
   "outputs": [],
   "source": [
    "class InvalidParamsException(Exception):\n",
    "    \"\"\"Raised when a param is invalid.\"\"\"\n",
    "    pass"
   ]
  },
  {
   "cell_type": "markdown",
   "metadata": {},
   "source": [
    "## Addition\n",
    "Check the result for those params:\n",
    "* [1, 1]\n",
    "* [2, 3]\n",
    "* [5, 2]\n",
    "* [20, 4]\n",
    "* [0, 200]\n",
    "* [2999, 231234]\n",
    "* [0, 0]\n",
    "\n",
    "In addition, create a test that checks that `InvalidParamsException` is raised correctly if you give something else than an int to the function.\n",
    "Check for: `string, float, dict, list`"
   ]
  },
  {
   "cell_type": "code",
   "execution_count": 50,
   "metadata": {},
   "outputs": [],
   "source": [
    "def addition(number_one: int, number_two: int) -> int:\n",
    "    if not isinstance(number_one, int) or not isinstance(number_two, int):\n",
    "        raise InvalidParamsException(\"A parameter is not an int!\")\n",
    "    return number_one + number_two #Raise an erro because number_one was writed 2 times\n"
   ]
  },
  {
   "cell_type": "code",
   "execution_count": 67,
   "metadata": {},
   "outputs": [
    {
     "name": "stdout",
     "output_type": "stream",
     "text": [
      "Code tested. No errors.\n"
     ]
    }
   ],
   "source": [
    "# Add your unit test here\n",
    "import unittest\n",
    "def test_addition():\n",
    "    test_1 = addition(1, 1)\n",
    "    test_2 = addition(2, 1)\n",
    "    test_3 = addition(5, 2)\n",
    "    test_4 = addition(20, 4)\n",
    "    test_5 = addition(0, 200)\n",
    "    test_6 = addition(0, 0)\n",
    "\n",
    "\n",
    "    assert test_1 == 2\n",
    "    assert test_2 == 3\n",
    "    assert test_3 == 7\n",
    "    assert test_4 == 24\n",
    "    assert test_5 == 200\n",
    "    assert test_6 == 0\n",
    "\n",
    "    print(\"Code tested. No errors.\")\n",
    "if __name__ == \"__main__\":\n",
    "    test_addition()"
   ]
  },
  {
   "cell_type": "markdown",
   "metadata": {},
   "source": [
    "## Substraction\n",
    "Check the result for those params:\n",
    "* [1, 1]\n",
    "* [2, 3]\n",
    "* [5, 2]\n",
    "* [20, 4]\n",
    "* [0, 200]\n",
    "* [2999, 231234]\n",
    "* [0, 0]\n",
    "\n",
    "In addition, create a test that checks that `InvalidParamsException` is raised correctly if you give something else than an int to the function. Check for: string, float, dict, list."
   ]
  },
  {
   "cell_type": "code",
   "execution_count": 74,
   "metadata": {},
   "outputs": [],
   "source": [
    "def substraction(number_one: int, number_two: int) -> int:\n",
    "    if not isinstance(number_one, int) or not isinstance(number_two, int):\n",
    "        raise InvalidParamsException(\"A param is not an int!\")\n",
    "    return number_one - number_two #Raise error because n1 wa noted 2 times"
   ]
  },
  {
   "cell_type": "code",
   "execution_count": 5,
   "metadata": {},
   "outputs": [
    {
     "name": "stderr",
     "output_type": "stream",
     "text": [
      "\n",
      "----------------------------------------------------------------------\n",
      "Ran 0 tests in 0.000s\n",
      "\n",
      "OK\n"
     ]
    }
   ],
   "source": [
    "import unittest\n",
    "class Math_test(unittest.TestCase):\n",
    "    def sub_test(self):\n",
    "        test_1 = substraction(1,1)\n",
    "        test_2 = substraction(2,3)\n",
    "        test_3 = substraction(5,2)\n",
    "        test_4 = substraction(20,4)\n",
    "        test_5 = substraction(0,200)\n",
    "        test_6 = substraction(2999,231234)\n",
    "        test_7 = substraction(0,0)\n",
    "        \n",
    "        self.assertTrue(test_1)\n",
    "        self.assertTrue(test_2)\n",
    "        self.assertTrue(test_3)\n",
    "        self.assertTrue(test_4)\n",
    "        self.assertTrue(test_5)\n",
    "        self.assertTrue(test_6)\n",
    "        self.assertTrue(test_7) \n",
    "            \n",
    "        \n",
    "        self.assertEqual(test_1, 0)\n",
    "        self.assertEqual(test_2, -1)\n",
    "        self.assertEqual(test_3, 3)\n",
    "        self.assertEqual(test_4, 16)\n",
    "        self.assertEqual(test_5, -200)\n",
    "        self.assertEqual(test_6, -228235)\n",
    "        self.assertEqual(test_7, 0)\n",
    "    \n",
    "if __name__ == \"__main__\":\n",
    "    unittest.main(argv=[''], exit=False)"
   ]
  },
  {
   "cell_type": "markdown",
   "metadata": {},
   "source": [
    "## Divide\n",
    "Here is a function that returns a float and can take a float or an int as parameter.\n",
    "\n",
    "Create a test that will check the result of those params:\n",
    "* [1, 1]\n",
    "* [2, 3]\n",
    "* [5, 2]\n",
    "* [20, 4]\n",
    "* [0, 200]\n",
    "* [2999, 231234]\n",
    "* [0, 0]\n",
    "* [5, 0]\n",
    "* [5, \"9\"]\n",
    "* [ 5, [1, 2] ]\n",
    "* [2. {\"param2\": 2}]\n",
    "\n",
    "For each param, check that the result is the expected type (a string if one the params is bad else a float)."
   ]
  },
  {
   "cell_type": "code",
   "execution_count": 26,
   "metadata": {},
   "outputs": [],
   "source": [
    "from typing import Union\n",
    "\n",
    "def divide(number_one: Union[int, float], number_two: Union[int, float]) -> Union[float, str]:\n",
    "    try:\n",
    "        result = number_one / number_two\n",
    "    except ZeroDivisionError:\n",
    "        result = \"You can't divide by zero!\"\n",
    "    except Exception as ex:\n",
    "        result = f\"A param is not an int or a float! -> {ex}\"\n",
    "\n",
    "    return result"
   ]
  },
  {
   "cell_type": "code",
   "execution_count": 66,
   "metadata": {},
   "outputs": [
    {
     "name": "stdout",
     "output_type": "stream",
     "text": [
      "Code tested. No errors.\n"
     ]
    },
    {
     "ename": "TypeError",
     "evalue": "'NoneType' object is not callable",
     "output_type": "error",
     "traceback": [
      "\u001b[0;31m---------------------------------------------------------------------------\u001b[0m",
      "\u001b[0;31mTypeError\u001b[0m                                 Traceback (most recent call last)",
      "\u001b[0;32m<ipython-input-66-ea89a83bc568>\u001b[0m in \u001b[0;36m<module>\u001b[0;34m\u001b[0m\n\u001b[1;32m     23\u001b[0m \u001b[0;34m\u001b[0m\u001b[0m\n\u001b[1;32m     24\u001b[0m \u001b[0;32mif\u001b[0m \u001b[0m__name__\u001b[0m \u001b[0;34m==\u001b[0m \u001b[0;34m\"__main__\"\u001b[0m\u001b[0;34m:\u001b[0m\u001b[0;34m\u001b[0m\u001b[0;34m\u001b[0m\u001b[0m\n\u001b[0;32m---> 25\u001b[0;31m     \u001b[0mMathematicsTest\u001b[0m\u001b[0;34m(\u001b[0m\u001b[0mtest_add\u001b[0m\u001b[0;34m(\u001b[0m\u001b[0;34m)\u001b[0m\u001b[0;34m)\u001b[0m\u001b[0;34m\u001b[0m\u001b[0;34m\u001b[0m\u001b[0m\n\u001b[0m\u001b[1;32m     26\u001b[0m \u001b[0;34m\u001b[0m\u001b[0m\n\u001b[1;32m     27\u001b[0m \u001b[0;34m\u001b[0m\u001b[0m\n",
      "\u001b[0;32m<ipython-input-66-ea89a83bc568>\u001b[0m in \u001b[0;36m__init__\u001b[0;34m(self, function)\u001b[0m\n\u001b[1;32m      3\u001b[0m \u001b[0;32mclass\u001b[0m \u001b[0mMathematicsTest\u001b[0m\u001b[0;34m(\u001b[0m\u001b[0;34m)\u001b[0m\u001b[0;34m:\u001b[0m\u001b[0;34m\u001b[0m\u001b[0;34m\u001b[0m\u001b[0m\n\u001b[1;32m      4\u001b[0m     \u001b[0;32mdef\u001b[0m \u001b[0m__init__\u001b[0m\u001b[0;34m(\u001b[0m\u001b[0mself\u001b[0m\u001b[0;34m,\u001b[0m\u001b[0mfunction\u001b[0m\u001b[0;34m)\u001b[0m\u001b[0;34m:\u001b[0m\u001b[0;34m\u001b[0m\u001b[0;34m\u001b[0m\u001b[0m\n\u001b[0;32m----> 5\u001b[0;31m         \u001b[0mself\u001b[0m\u001b[0;34m.\u001b[0m\u001b[0mtest_1\u001b[0m \u001b[0;34m=\u001b[0m \u001b[0mfunction\u001b[0m\u001b[0;34m(\u001b[0m\u001b[0;36m1\u001b[0m\u001b[0;34m,\u001b[0m\u001b[0;36m1\u001b[0m\u001b[0;34m)\u001b[0m\u001b[0;34m\u001b[0m\u001b[0;34m\u001b[0m\u001b[0m\n\u001b[0m\u001b[1;32m      6\u001b[0m         \u001b[0mself\u001b[0m\u001b[0;34m.\u001b[0m\u001b[0mtest_2\u001b[0m \u001b[0;34m=\u001b[0m \u001b[0mfunction\u001b[0m\u001b[0;34m(\u001b[0m\u001b[0;36m2\u001b[0m\u001b[0;34m,\u001b[0m\u001b[0;36m3\u001b[0m\u001b[0;34m)\u001b[0m\u001b[0;34m\u001b[0m\u001b[0;34m\u001b[0m\u001b[0m\n\u001b[1;32m      7\u001b[0m         \u001b[0mself\u001b[0m\u001b[0;34m.\u001b[0m\u001b[0mtest_3\u001b[0m \u001b[0;34m=\u001b[0m \u001b[0mfunction\u001b[0m\u001b[0;34m(\u001b[0m\u001b[0;36m5\u001b[0m\u001b[0;34m,\u001b[0m\u001b[0;36m2\u001b[0m\u001b[0;34m)\u001b[0m\u001b[0;34m\u001b[0m\u001b[0;34m\u001b[0m\u001b[0m\n",
      "\u001b[0;31mTypeError\u001b[0m: 'NoneType' object is not callable"
     ]
    }
   ],
   "source": [
    "#Add your unit test here\n",
    "\n",
    "class MathematicsTest():\n",
    "    def __init__(self,function):\n",
    "        self.test_1 = function(1,1)\n",
    "        self.test_2 = function(2,3)\n",
    "        self.test_3 = function(5,2)\n",
    "        self.test_4 = function(20,4)\n",
    "        self.test_5 = function(0,200)\n",
    "        self.test_6 = function(2999,231234)\n",
    "        self.test_7 = function(0,0)\n",
    "    \n",
    "    def test_add(self,function):\n",
    "        self.assertEqual(test_1, 2)\n",
    "        self.assertEqual(test_2, 5)\n",
    "        self.assertEqual(test_3, 7)\n",
    "        self.assertEqual(test_4, 24)\n",
    "        self.assertEqual(test_5, 200)\n",
    "        self.assertEqual(test_6, 234.233)\n",
    "        self.assertEqual(test_7, 0)\n",
    "    \n",
    "#add_test = MathematicsTest(test_add())\n",
    "\n",
    "if __name__ == \"__main__\":\n",
    "    MathematicsTest(test_add())\n",
    "        \n",
    "    "
   ]
  },
  {
   "cell_type": "markdown",
   "metadata": {},
   "source": [
    "## File handling\n",
    "\n",
    "1. Create a function `create_and_delete_test_file()` that creates a new file named 'test.txt' and add 'this is a text' in it then delete the file.\n",
    "2. Create a test that checks if the file is well created.\n",
    "3. Create a test to check that the content of the file is 'this is a text'. You will need to find a way to prevent the function to delete the file during this specific test.\n",
    "4. Create a test to check that the function deletes the file"
   ]
  },
  {
   "cell_type": "code",
   "execution_count": 124,
   "metadata": {},
   "outputs": [
    {
     "data": {
      "text/plain": [
       "'File not writed'"
      ]
     },
     "execution_count": 124,
     "metadata": {},
     "output_type": "execute_result"
    }
   ],
   "source": [
    "# Create create_and_delete_test_file()\n",
    "import os\n",
    "def create_and_delete_test_file(text=\"this is a test\", file = \"text.txt\"):\n",
    "    try:\n",
    "        with open (file,\"w\")as f:\n",
    "            f.write(text)\n",
    "           \n",
    "    except:\n",
    "        return \"File not writed\"\n",
    "    try:\n",
    "        os.remove(\"text.txt\")\n",
    "        return True\n",
    "    except:\n",
    "        return \"file not deleted\"\n",
    "create_and_delete_test_file()"
   ]
  },
  {
   "cell_type": "code",
   "execution_count": 121,
   "metadata": {},
   "outputs": [
    {
     "name": "stdout",
     "output_type": "stream",
     "text": [
      "OK all good\n"
     ]
    }
   ],
   "source": [
    "# Add your unit test here\n",
    "import unittest\n",
    "\n",
    "def test_create():\n",
    "    test1 = create_and_delete_test_file()\n",
    "    assert test1 == True\n",
    "    \n",
    "    print(\"OK all good\")\n",
    "\n",
    "if __name__ == \"__main__\":\n",
    "    test_create()\n",
    "\n",
    "\n",
    "    \n",
    "self.assertRaises(RaiseError, create_and_delete_test_file,text,file)\n",
    "self.assertRaises(RaiseError2, create_and_delete_test_file,text,file)   \n",
    "    "
   ]
  },
  {
   "cell_type": "code",
   "execution_count": null,
   "metadata": {},
   "outputs": [],
   "source": []
  }
 ],
 "metadata": {
  "kernelspec": {
   "display_name": "Python 3",
   "language": "python",
   "name": "python3"
  },
  "language_info": {
   "codemirror_mode": {
    "name": "ipython",
    "version": 3
   },
   "file_extension": ".py",
   "mimetype": "text/x-python",
   "name": "python",
   "nbconvert_exporter": "python",
   "pygments_lexer": "ipython3",
   "version": "3.8.5"
  }
 },
 "nbformat": 4,
 "nbformat_minor": 4
}
