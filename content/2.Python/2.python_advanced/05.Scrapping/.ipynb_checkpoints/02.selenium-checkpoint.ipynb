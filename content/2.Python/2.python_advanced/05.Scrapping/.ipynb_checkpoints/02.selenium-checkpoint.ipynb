{
 "cells": [
  {
   "cell_type": "markdown",
   "metadata": {},
   "source": [
    "### Today, we will scrape Producthunt with Selenium\n",
    "\n",
    "Selenium is a tool initially created to automate tests on websites. It is therefore very useful when information is accessible by clicking on links. A button for example is an element on which it is very difficult to obtain the link. Beautifull soup then becomes limited.\n",
    "In this case, use Selenium"
   ]
  },
  {
   "cell_type": "markdown",
   "metadata": {},
   "source": [
    "### Load libraries"
   ]
  },
  {
   "cell_type": "code",
   "execution_count": 2,
   "metadata": {},
   "outputs": [],
   "source": [
    "import bs4\n",
    "import requests\n",
    "from bs4 import BeautifulSoup\n",
    "import numpy as np\n",
    "import pandas as pd\n",
    "import json\n",
    "import re\n",
    "import lxml.html\n",
    "import time\n",
    "import random\n",
    "from random import randint\n",
    "import logging\n",
    "import collections\n",
    "from time import gmtime, strftime\n",
    "\n",
    "import re\n",
    "from tabulate import tabulate\n",
    "import os\n",
    "date=strftime(\"%Y-%m-%d\")\n"
   ]
  },
  {
   "cell_type": "markdown",
   "metadata": {},
   "source": [
    "### Install Selenium according to this manual\n",
    "\n",
    "https://selenium-python.readthedocs.io/installation.html#downloading-python-bindings-for-selenium/bin\n",
    "\n",
    "nb: Linux: put your geckodriver (the downloaded extension) in the equivalent path at home to /home/YOURNAME/.local/bin"
   ]
  },
  {
   "cell_type": "markdown",
   "metadata": {},
   "source": [
    "We will simulate a search on the official Phython website"
   ]
  },
  {
   "cell_type": "code",
   "execution_count": 4,
   "metadata": {},
   "outputs": [],
   "source": [
    "import selenium\n",
    "\n",
    "# The selenium.webdriver module provides all the implementations of WebDriver. WebDriver implementations \n",
    "# Currently supported are Firefox, Chrome, IE and Remote. The Keys class provides keys in \n",
    "# the keyboard such as RETURN, F1, ALT etc.\n",
    "from selenium import webdriver\n",
    "from selenium.webdriver.common.keys import Keys\n",
    "# Then, the instance of Firefox WebDriver is created.\n",
    "driver = webdriver.Chrome()\n",
    "# The driver.get method will lead to a page given by the URL. WebDriver will wait until the page is fully completed \n",
    "# loaded (i.e. the \"onload\" event has been triggered) before returning the control to your script. \n",
    "# It should be noted that if your page uses a lot of AJAX when loading, WebDriver may not know \n",
    "# when it was fully charged:\n",
    "driver.get(\"http://www.python.org\")\n",
    "# The following line is a statement confirming that the title contains the word \"Python\"\n",
    "assert \"Python\" in driver.title\n",
    "# WebDriver offers several methods to search for items using one of the methods \n",
    "# find_element_by_by_ * . For example, the input text element can be located by its name attribute by \n",
    "# using the find_element_by_name method \n",
    "elem = driver.find_element_by_name(\"q\")\n",
    "# Then we send keys. This is similar to entering keys using your keyboard. \n",
    "# Special keys can be sent using the imported selenium.webdriver.common.keys Keys class. \n",
    "# For security reasons, we will delete any pre-filled text in the input field \n",
    "# (for example, \"Search\") so that it does not affect our search results:\n",
    "\n",
    "\n",
    "elem.clear()\n",
    "elem.send_keys(\"pycon\")\n",
    "elem.send_keys(Keys.RETURN)\n",
    "\n",
    "#After submitting the page, you should get the result if there is one. To ensure that certain results \n",
    "# are found, make an assertion:\n",
    "assert \"No results found.\" not in driver.page_source\n",
    "driver.close()"
   ]
  },
  {
   "cell_type": "markdown",
   "metadata": {},
   "source": [
    "#### Open the source code of this page (HTML) and check that the search area (field) is called \"q\".\n",
    "\n",
    "input id=\"id-search-field\" name=\"q\" type=\"search\" role=\"textbox\" class=\"search-field placeholder\" placeholder=\"Search\" value=\"\" tabindex=\"1\""
   ]
  },
  {
   "cell_type": "code",
   "execution_count": 13,
   "metadata": {},
   "outputs": [
    {
     "ename": "SyntaxError",
     "evalue": "invalid syntax (<ipython-input-13-c78950b70dc5>, line 1)",
     "output_type": "error",
     "traceback": [
      "\u001b[0;36m  File \u001b[0;32m\"<ipython-input-13-c78950b70dc5>\"\u001b[0;36m, line \u001b[0;32m1\u001b[0m\n\u001b[0;31m    input id=\"id-search-field\" name=\"q\" type=\"search\" role=\"textbox\" class=\"search-field placeholder\" placeholder=\"Search\" value=\"\" tabindex=\"1\"\u001b[0m\n\u001b[0m          ^\u001b[0m\n\u001b[0;31mSyntaxError\u001b[0m\u001b[0;31m:\u001b[0m invalid syntax\n"
     ]
    }
   ],
   "source": []
  },
  {
   "cell_type": "markdown",
   "metadata": {},
   "source": [
    "### Getting a phone number from an ad in the right place"
   ]
  },
  {
   "cell_type": "code",
   "execution_count": 25,
   "metadata": {},
   "outputs": [
    {
     "ename": "ElementClickInterceptedException",
     "evalue": "Message: element click intercepted: Element <button id=\"js-original-send-email\" data-type=\"cldt-email-button\" class=\" sc-btn-bob  cldt-stage-send-btn \" data-tracking=\"go-to-contact-form\" data-lightbox-open=\"contactFormLightbox\" data-leadform-origin=\"main-CTA\">...</button> is not clickable at point (814, 757). Other element would receive the click: <div id=\"gdpr-consent-tool-wrapper\" style=\"position: fixed; width: 100%; height: 100%; top: 0px; left: 0px; z-index: 2147483647; background: rgba(0, 0, 0, 0.5);\">...</div>\n  (Session info: chrome=90.0.4430.72)\n",
     "output_type": "error",
     "traceback": [
      "\u001b[0;31m---------------------------------------------------------------------------\u001b[0m",
      "\u001b[0;31mElementClickInterceptedException\u001b[0m          Traceback (most recent call last)",
      "\u001b[0;32m<ipython-input-25-0ea4ccdcb33c>\u001b[0m in \u001b[0;36m<module>\u001b[0;34m\u001b[0m\n\u001b[1;32m     13\u001b[0m \u001b[0;34m\u001b[0m\u001b[0m\n\u001b[1;32m     14\u001b[0m \u001b[0mpython_button\u001b[0m \u001b[0;34m=\u001b[0m \u001b[0mdriver\u001b[0m\u001b[0;34m.\u001b[0m\u001b[0mfind_elements_by_xpath\u001b[0m\u001b[0;34m(\u001b[0m\u001b[0;34m'//button[@data-lightbox-open=\"contactFormLightbox\"]'\u001b[0m\u001b[0;34m)\u001b[0m\u001b[0;34m[\u001b[0m\u001b[0;36m0\u001b[0m\u001b[0;34m]\u001b[0m\u001b[0;34m\u001b[0m\u001b[0;34m\u001b[0m\u001b[0m\n\u001b[0;32m---> 15\u001b[0;31m \u001b[0mpython_button\u001b[0m\u001b[0;34m.\u001b[0m\u001b[0mclick\u001b[0m\u001b[0;34m(\u001b[0m\u001b[0;34m)\u001b[0m\u001b[0;34m\u001b[0m\u001b[0;34m\u001b[0m\u001b[0m\n\u001b[0m\u001b[1;32m     16\u001b[0m \u001b[0;34m\u001b[0m\u001b[0m\n\u001b[1;32m     17\u001b[0m \u001b[0;31m# And then it's like Beautiful soup\u001b[0m\u001b[0;34m\u001b[0m\u001b[0;34m\u001b[0m\u001b[0;34m\u001b[0m\u001b[0m\n",
      "\u001b[0;32m~/anaconda3/lib/python3.8/site-packages/selenium/webdriver/remote/webelement.py\u001b[0m in \u001b[0;36mclick\u001b[0;34m(self)\u001b[0m\n\u001b[1;32m     78\u001b[0m     \u001b[0;32mdef\u001b[0m \u001b[0mclick\u001b[0m\u001b[0;34m(\u001b[0m\u001b[0mself\u001b[0m\u001b[0;34m)\u001b[0m\u001b[0;34m:\u001b[0m\u001b[0;34m\u001b[0m\u001b[0;34m\u001b[0m\u001b[0m\n\u001b[1;32m     79\u001b[0m         \u001b[0;34m\"\"\"Clicks the element.\"\"\"\u001b[0m\u001b[0;34m\u001b[0m\u001b[0;34m\u001b[0m\u001b[0m\n\u001b[0;32m---> 80\u001b[0;31m         \u001b[0mself\u001b[0m\u001b[0;34m.\u001b[0m\u001b[0m_execute\u001b[0m\u001b[0;34m(\u001b[0m\u001b[0mCommand\u001b[0m\u001b[0;34m.\u001b[0m\u001b[0mCLICK_ELEMENT\u001b[0m\u001b[0;34m)\u001b[0m\u001b[0;34m\u001b[0m\u001b[0;34m\u001b[0m\u001b[0m\n\u001b[0m\u001b[1;32m     81\u001b[0m \u001b[0;34m\u001b[0m\u001b[0m\n\u001b[1;32m     82\u001b[0m     \u001b[0;32mdef\u001b[0m \u001b[0msubmit\u001b[0m\u001b[0;34m(\u001b[0m\u001b[0mself\u001b[0m\u001b[0;34m)\u001b[0m\u001b[0;34m:\u001b[0m\u001b[0;34m\u001b[0m\u001b[0;34m\u001b[0m\u001b[0m\n",
      "\u001b[0;32m~/anaconda3/lib/python3.8/site-packages/selenium/webdriver/remote/webelement.py\u001b[0m in \u001b[0;36m_execute\u001b[0;34m(self, command, params)\u001b[0m\n\u001b[1;32m    631\u001b[0m             \u001b[0mparams\u001b[0m \u001b[0;34m=\u001b[0m \u001b[0;34m{\u001b[0m\u001b[0;34m}\u001b[0m\u001b[0;34m\u001b[0m\u001b[0;34m\u001b[0m\u001b[0m\n\u001b[1;32m    632\u001b[0m         \u001b[0mparams\u001b[0m\u001b[0;34m[\u001b[0m\u001b[0;34m'id'\u001b[0m\u001b[0;34m]\u001b[0m \u001b[0;34m=\u001b[0m \u001b[0mself\u001b[0m\u001b[0;34m.\u001b[0m\u001b[0m_id\u001b[0m\u001b[0;34m\u001b[0m\u001b[0;34m\u001b[0m\u001b[0m\n\u001b[0;32m--> 633\u001b[0;31m         \u001b[0;32mreturn\u001b[0m \u001b[0mself\u001b[0m\u001b[0;34m.\u001b[0m\u001b[0m_parent\u001b[0m\u001b[0;34m.\u001b[0m\u001b[0mexecute\u001b[0m\u001b[0;34m(\u001b[0m\u001b[0mcommand\u001b[0m\u001b[0;34m,\u001b[0m \u001b[0mparams\u001b[0m\u001b[0;34m)\u001b[0m\u001b[0;34m\u001b[0m\u001b[0;34m\u001b[0m\u001b[0m\n\u001b[0m\u001b[1;32m    634\u001b[0m \u001b[0;34m\u001b[0m\u001b[0m\n\u001b[1;32m    635\u001b[0m     \u001b[0;32mdef\u001b[0m \u001b[0mfind_element\u001b[0m\u001b[0;34m(\u001b[0m\u001b[0mself\u001b[0m\u001b[0;34m,\u001b[0m \u001b[0mby\u001b[0m\u001b[0;34m=\u001b[0m\u001b[0mBy\u001b[0m\u001b[0;34m.\u001b[0m\u001b[0mID\u001b[0m\u001b[0;34m,\u001b[0m \u001b[0mvalue\u001b[0m\u001b[0;34m=\u001b[0m\u001b[0;32mNone\u001b[0m\u001b[0;34m)\u001b[0m\u001b[0;34m:\u001b[0m\u001b[0;34m\u001b[0m\u001b[0;34m\u001b[0m\u001b[0m\n",
      "\u001b[0;32m~/anaconda3/lib/python3.8/site-packages/selenium/webdriver/remote/webdriver.py\u001b[0m in \u001b[0;36mexecute\u001b[0;34m(self, driver_command, params)\u001b[0m\n\u001b[1;32m    319\u001b[0m         \u001b[0mresponse\u001b[0m \u001b[0;34m=\u001b[0m \u001b[0mself\u001b[0m\u001b[0;34m.\u001b[0m\u001b[0mcommand_executor\u001b[0m\u001b[0;34m.\u001b[0m\u001b[0mexecute\u001b[0m\u001b[0;34m(\u001b[0m\u001b[0mdriver_command\u001b[0m\u001b[0;34m,\u001b[0m \u001b[0mparams\u001b[0m\u001b[0;34m)\u001b[0m\u001b[0;34m\u001b[0m\u001b[0;34m\u001b[0m\u001b[0m\n\u001b[1;32m    320\u001b[0m         \u001b[0;32mif\u001b[0m \u001b[0mresponse\u001b[0m\u001b[0;34m:\u001b[0m\u001b[0;34m\u001b[0m\u001b[0;34m\u001b[0m\u001b[0m\n\u001b[0;32m--> 321\u001b[0;31m             \u001b[0mself\u001b[0m\u001b[0;34m.\u001b[0m\u001b[0merror_handler\u001b[0m\u001b[0;34m.\u001b[0m\u001b[0mcheck_response\u001b[0m\u001b[0;34m(\u001b[0m\u001b[0mresponse\u001b[0m\u001b[0;34m)\u001b[0m\u001b[0;34m\u001b[0m\u001b[0;34m\u001b[0m\u001b[0m\n\u001b[0m\u001b[1;32m    322\u001b[0m             response['value'] = self._unwrap_value(\n\u001b[1;32m    323\u001b[0m                 response.get('value', None))\n",
      "\u001b[0;32m~/anaconda3/lib/python3.8/site-packages/selenium/webdriver/remote/errorhandler.py\u001b[0m in \u001b[0;36mcheck_response\u001b[0;34m(self, response)\u001b[0m\n\u001b[1;32m    240\u001b[0m                 \u001b[0malert_text\u001b[0m \u001b[0;34m=\u001b[0m \u001b[0mvalue\u001b[0m\u001b[0;34m[\u001b[0m\u001b[0;34m'alert'\u001b[0m\u001b[0;34m]\u001b[0m\u001b[0;34m.\u001b[0m\u001b[0mget\u001b[0m\u001b[0;34m(\u001b[0m\u001b[0;34m'text'\u001b[0m\u001b[0;34m)\u001b[0m\u001b[0;34m\u001b[0m\u001b[0;34m\u001b[0m\u001b[0m\n\u001b[1;32m    241\u001b[0m             \u001b[0;32mraise\u001b[0m \u001b[0mexception_class\u001b[0m\u001b[0;34m(\u001b[0m\u001b[0mmessage\u001b[0m\u001b[0;34m,\u001b[0m \u001b[0mscreen\u001b[0m\u001b[0;34m,\u001b[0m \u001b[0mstacktrace\u001b[0m\u001b[0;34m,\u001b[0m \u001b[0malert_text\u001b[0m\u001b[0;34m)\u001b[0m\u001b[0;34m\u001b[0m\u001b[0;34m\u001b[0m\u001b[0m\n\u001b[0;32m--> 242\u001b[0;31m         \u001b[0;32mraise\u001b[0m \u001b[0mexception_class\u001b[0m\u001b[0;34m(\u001b[0m\u001b[0mmessage\u001b[0m\u001b[0;34m,\u001b[0m \u001b[0mscreen\u001b[0m\u001b[0;34m,\u001b[0m \u001b[0mstacktrace\u001b[0m\u001b[0;34m)\u001b[0m\u001b[0;34m\u001b[0m\u001b[0;34m\u001b[0m\u001b[0m\n\u001b[0m\u001b[1;32m    243\u001b[0m \u001b[0;34m\u001b[0m\u001b[0m\n\u001b[1;32m    244\u001b[0m     \u001b[0;32mdef\u001b[0m \u001b[0m_value_or_default\u001b[0m\u001b[0;34m(\u001b[0m\u001b[0mself\u001b[0m\u001b[0;34m,\u001b[0m \u001b[0mobj\u001b[0m\u001b[0;34m,\u001b[0m \u001b[0mkey\u001b[0m\u001b[0;34m,\u001b[0m \u001b[0mdefault\u001b[0m\u001b[0;34m)\u001b[0m\u001b[0;34m:\u001b[0m\u001b[0;34m\u001b[0m\u001b[0;34m\u001b[0m\u001b[0m\n",
      "\u001b[0;31mElementClickInterceptedException\u001b[0m: Message: element click intercepted: Element <button id=\"js-original-send-email\" data-type=\"cldt-email-button\" class=\" sc-btn-bob  cldt-stage-send-btn \" data-tracking=\"go-to-contact-form\" data-lightbox-open=\"contactFormLightbox\" data-leadform-origin=\"main-CTA\">...</button> is not clickable at point (814, 757). Other element would receive the click: <div id=\"gdpr-consent-tool-wrapper\" style=\"position: fixed; width: 100%; height: 100%; top: 0px; left: 0px; z-index: 2147483647; background: rgba(0, 0, 0, 0.5);\">...</div>\n  (Session info: chrome=90.0.4430.72)\n"
     ]
    }
   ],
   "source": [
    "from selenium import webdriver \n",
    "from selenium.webdriver.support.ui \n",
    "import WebDriverWait from selenium.webdriver.support \n",
    "import expected_conditions as EC \n",
    "from selenium.common.exceptions import TimeoutException \n",
    "from selenium.webdriver.common.by import By \n",
    "import time \n",
    "import random  \n",
    "url='https://www.immoweb.be/fr/recherche/maison/a-vendre?countries=BE'  \n",
    "driver = webdriver.Chrome() \n",
    "driver.implicitly_wait(30) \n",
    "driver.get(url) \n",
    "time.sleep(random.uniform(3.0, 5.0))  \n",
    "python_button = driver.find_elements_by_xpath('//*[@id=\"uc-btn-accept-banner\"]')[0] \n",
    "python_button.click() \n",
    "time.sleep(random.uniform(3.0, 5.0)) \n",
    "python_button = driver.find_elements_by_xpath('//*[@id=\"classified_9307178\"]/div')[0]\n",
    "python_button.click()  \n",
    "# And then it's like Beautiful soup soup=BeautifulSoup(driver.page_source)  \n",
    "driver.close()  \n",
    "# And then it's like Beautiful \n",
    "soup for elem in soup.find_all('div'):     \n",
    "    print(elem.text)"
   ]
  },
  {
   "cell_type": "markdown",
   "metadata": {},
   "source": [
    "### Starting from an ad in the right place, collect all the information available to define the product being sold. Use selenium for the telephone number"
   ]
  },
  {
   "cell_type": "code",
   "execution_count": null,
   "metadata": {},
   "outputs": [],
   "source": []
  },
  {
   "cell_type": "markdown",
   "metadata": {},
   "source": [
    "### API (Application Program Interface)"
   ]
  },
  {
   "cell_type": "markdown",
   "metadata": {},
   "source": [
    "A set of tools and methods that allow different applications to interact with each other. In the case of a web service, we can retrieve data dynamically. By using an API correctly, we can thus obtain in real time, the modifications made on a \"parent\" site.\n",
    "\n",
    "For example, we will retrieve online news, for example from the \"L'équipe\" website."
   ]
  },
  {
   "cell_type": "markdown",
   "metadata": {},
   "source": [
    "Follow the instructions at https://newsapi.org/s/lequipe-api to retrieve an \"API key\" connection key"
   ]
  },
  {
   "cell_type": "markdown",
   "metadata": {},
   "source": [
    "Your API key is: 73bbb95f8ecb49b499113a46481b4af1\n",
    "\n",
    "\n",
    "It is frequent that a key does not work after a while 5mins 30 mins 1 d ...\n",
    "So don't jump up if you get an error message back."
   ]
  },
  {
   "cell_type": "code",
   "execution_count": 18,
   "metadata": {
    "scrolled": true
   },
   "outputs": [
    {
     "name": "stdout",
     "output_type": "stream",
     "text": [
      "{'status': 'ok', 'totalResults': 10, 'articles': [{'source': {'id': 'lequipe', 'name': \"L'equipe\"}, 'author': \"L'EQUIPE\", 'title': \"Orlane Kanor victime d'une rupture du tendon d'Achille et forfait pour les Jeux Olympiques\", 'description': \"L'arrière gauche des Bleues Orlane Kanor (23 ans) s'est blessée samedi lors du stage de l'équipe de France. La Messine souffre d'une rupture du tendon d'Achille gauche et manquera les Jeux Olympiques de Tokyo.\", 'url': 'https://www.lequipe.fr/Handball/Actualites/Orlane-kanor-victime-d-une-rupture-du-tendon-d-achille-et-forfait-pour-les-jeux-olympiques/1244112', 'urlToImage': 'https://medias.lequipe.fr/img-photo-jpg/orlane-kanor-a-l-entrainement-avec-les-bleues-jeudi-dernier-s-boue-l-equipe/1500000001477836/211:125,1835:1207-640-427-75/4c326.jpg', 'publishedAt': '2021-04-19T08:22:00+00:00', 'content': \"Après l'arrière droite de Besançon Aïssatou Kouyaté (genou gauche), après la capitaine Siraba Dembélé (tendon d'Achille droit), une autre joueuse de l'équipe de France voit ses rêves olympiques s'env… [+884 chars]\"}, {'source': {'id': 'lequipe', 'name': \"L'equipe\"}, 'author': \"L'EQUIPE\", 'title': 'Brendan Rodgers (Leicester) : «\\xa0Ne gâchez pas ma joie avec la Super Ligue\\xa0»', 'description': \"L'entraîneur des Foxes a refusé d'évoquer la Super Ligue, dimanche en conférence de presse, préférant se concentrer sur la performance de son équipe, qualifiée pour la finale de la Cup après sa victoire face à Southampton (1-0).\", 'url': 'https://www.lequipe.fr/Football/Actualites/Brendan-rodgers-leicester-ne-gachez-pas-ma-joie-avec-la-super-ligue/1244109', 'urlToImage': 'https://medias.lequipe.fr/img-video-cover/1500000001477826/640/0', 'publishedAt': '2021-04-19T08:07:00+00:00', 'content': \"Brendan Rodgers, entraîneur de Leicester (après la victoire face à Southampton, 1-0) : « Pour être honnête, je n'ai pas envie de parler de la Super Ligue. Je ne me concentre que sur Leicester. Ne gâc… [+322 chars]\"}, {'source': {'id': 'lequipe', 'name': \"L'equipe\"}, 'author': \"L'EQUIPE\", 'title': \"Blaise Matuidi et l'Inter Miami battus d'entrée en MLS\", 'description': \"Le Los Angeles Galaxy et Samuel Grandsir se sont imposés sur le terrain de l'Inter Miami de Blaise Matuidi en MLS.\", 'url': 'https://www.lequipe.fr/Football/Actualites/Blaise-matuidi-et-l-inter-miami-battus-d-entree-en-mls/1244107', 'urlToImage': 'https://medias.lequipe.fr/img-photo-jpg/blaise-matuidi-et-l-inter-miami-battus-par-la-galaxy-en-ouverture-de-la-saison-de-mls-s-roberts-u/1500000001477833/0:0,1403:1403-640-640-75/b4675.jpg', 'publishedAt': '2021-04-19T08:03:00+00:00', 'content': \"Onze Français vont évoluer en MLS cette saison. Pour sa découverte de la compétition, l'ancien milieu de terrain brestois Samuel Grandsir s'est imposé avec le Galaxy de Los Angeles sur le terrain de … [+653 chars]\"}, {'source': {'id': 'lequipe', 'name': \"L'equipe\"}, 'author': \"L'EQUIPE\", 'title': 'Examens médicaux pour Kevin Durant (Brooklyn Nets), touché à une cuisse contre Miami', 'description': 'Rapidement sorti dimanche à Miami, Kevin Durant (Brooklyn Nets) doit passer des examens ce lundi pour connaître la gravité de sa blessure à la cuisse gauche.', 'url': 'https://www.lequipe.fr/Basket/Actualites/Examens-medicaux-pour-kevin-durant-brooklyn-nets-touche-a-une-cuisse-contre-miami/1244106', 'urlToImage': 'https://medias.lequipe.fr/img-photo-jpg/kevin-durant-avec-steve-nash-au-moment-de-sa-sortie-du-terrain-ce-dimanche-j-rassol-usa-today-reu/1500000001477832/0:0,1990:1327-640-427-75/57367.jpg', 'publishedAt': '2021-04-19T07:50:00+00:00', 'content': \"L'ailier texan a été victime d'un coup sur la cuisse gauche lors d'un choc avec Trevor Ariza. Le coach des Nets, Steve Nash, a annoncé à l'issue du match que Durant passera des examens lundi pour sav… [+111 chars]\"}, {'source': {'id': 'lequipe', 'name': \"L'equipe\"}, 'author': \"L'EQUIPE\", 'title': 'Surf\\xa0: Johanne Defay déboulonne Tyler Wright et file en quarts', 'description': \"Johanne Defay s'est qualifiée ce lundi à Narrabeen (Australie) pour les quarts de finale de la 3e manche du circuit pro en éliminant la double championne du monde Tyler Wright.\", 'url': 'https://www.lequipe.fr/Adrenaline/Surf/Actualites/Surf-johanne-defay-deboulonne-tyler-wright-et-file-en-quarts/1244105', 'urlToImage': 'https://medias.lequipe.fr/img-photo-jpg/johanne-defay-ce-lundi-a-narrabeen-c-miers-world-surf-league-via-getty-images/1500000001477829/232:78,1763:1099-640-427-75/62d7c.jpg', 'publishedAt': '2021-04-19T07:34:00+00:00', 'content': 'Après un tour de repêchage parfaitement bien maîtrisé, Johanne Defay a poursuivi sur sa lancée en signant une belle performance en 8es de finale, ce lundi à Narrabeen (Australie), théâtre de la trois… [+1493 chars]'}, {'source': {'id': 'lequipe', 'name': \"L'equipe\"}, 'author': \"L'EQUIPE\", 'title': 'Le projet de Super Ligue  contraire aux valeurs européennes selon un vice-président de la Commission de Bru...', 'description': \"Le projet de Super Ligue porté par une douzaine de clubs parmi les plus riches en Europe est contraire aux valeurs européennes de «\\xa0diversité\\xa0» et d'«\\xa0inclusion\\xa0», a estimé lundi un des vice-présidents de la Commission européenne.\", 'url': 'https://www.lequipe.fr/Football/Actualites/Le-projet-de-super-ligue-contraire-aux-valeurs-europeennes-selon-un-vice-president-de-la-commission-de-bruxelles/1244102', 'urlToImage': 'https://medias.lequipe.fr/img-photo-jpg/real-liverpool-deux-clubs-a-l-origine-de-la-super-ligue-b-cremel-l-equipe/1500000001477822/0:0,1331:1331-640-640-75/fc339.jpg', 'publishedAt': '2021-04-19T07:18:00+00:00', 'content': \"Le projet de Super Ligue porté par une douzaine de clubs parmi les plus riches en Europe est contraire aux valeurs européennes de «\\xa0diversité\\xa0» et d'«\\xa0inclusion\\xa0», a estimé lundi un des vice-présiden… [+445 chars]\"}, {'source': {'id': 'lequipe', 'name': \"L'equipe\"}, 'author': \"L'EQUIPE\", 'title': 'Les fans anglais unis contre la Super Ligue', 'description': 'Les fans des clubs de Premier League concernés par le projet de Super Ligue lancé dimanche ont uni leurs voix pour condamner cette décision.', 'url': 'https://www.lequipe.fr/Football/Actualites/Les-fans-anglais-unis-contre-la-super-ligue/1244099', 'urlToImage': 'https://medias.lequipe.fr/img-photo-jpg/les-fans-de-tottenham-et-de-chelsea-pour-une-fois-sur-la-meme-longueur-d-onde-m-leech-offside-pre/1500000001477821/0:0,1995:1330-640-427-75/a6ee9.jpg', 'publishedAt': '2021-04-19T06:55:00+00:00', 'content': 'Les fans des clubs de Premier League concernés par le projet de Super Ligue (Manchester City et United, Liverpool, Arsenal, Chelsea et Tottenham) lancé dimanche ont uni leurs voix pour condamner cett… [+674 chars]'}, {'source': {'id': 'lequipe', 'name': \"L'equipe\"}, 'author': \"L'EQUIPE\", 'title': 'Stewart Cink remporte le RBC Heritage', 'description': \"Sans grande surprise Stewart Cink s'est imposé au RBC Heritage ce dimanche. Son 70 final lui permettait d'atteindre -19 et de s'imposer avec quatre coups d'avance sur Harold Varner.\", 'url': 'https://www.lequipe.fr/Golf/Actualites/Stewart-cink-remporte-le-rbc-heritage/1244098', 'urlToImage': 'https://medias.lequipe.fr/img-photo-jpg/stewart-cink-est-avec-bryson-dechambeau-le-seul-multiple-vainqueur-cette-saison-p-smith-getty-ima/1500000001477819/251:0,1583:1332-640-640-75/275f3.jpg', 'publishedAt': '2021-04-19T06:45:00+00:00', 'content': \"Le vétéran américain Stewart Cink, 47 ans, a remporté ce dimanche le RBC Heritage à Hilton Head (Caroline du Sud). Avec un total de -19, Cink compte avec quatre coups d'avance sur son compatriote Har… [+1051 chars]\"}, {'source': {'id': 'lequipe', 'name': \"L'equipe\"}, 'author': \"L'EQUIPE\", 'title': 'Super Ligue\\xa0: la FIFA «\\xa0ne peut que désapprouver une Ligue européenne fermée et dissidente\\xa0»', 'description': \"La FIFA a réagi lundi après l'annonce du lancement par douze clubs européens de leur Super Ligue, une compétition privée vouée à supplanter la Ligue des champions.\", 'url': 'https://www.lequipe.fr/Football/Actualites/Super-ligue-la-fifa-ne-peut-que-desapprouver-une-ligue-europeenne-fermee-et-dissidente/1244095', 'urlToImage': 'https://medias.lequipe.fr/img-video-cover/1500000001477824/640/0', 'publishedAt': '2021-04-19T06:28:00+00:00', 'content': \"«\\xa0La FIFA veut clarifier qu'elle se positionne fermement en faveur de la solidarité dans le football et d'un modèle de redistribution équitable\\xa0», écrit dans un communiqué l'instance basée à Zurich. … [+229 chars]\"}, {'source': {'id': 'lequipe', 'name': \"L'equipe\"}, 'author': \"L'EQUIPE\", 'title': 'En NBA, Théo Maledon et Oklahoma City encore battus', 'description': \"Le Thunder a concédé sa dixième défaite de suite, dimanche à Toronto (112-106). Les Sacramento Kings leur ont montré comment faire désormais puisqu'ils ont eux-mêmes stoppé une série de neuf revers en allant gagner à Dallas (107-121).\", 'url': 'https://www.lequipe.fr/Basket/Actualites/En-nba-theo-maledon-et-oklahoma-city-encore-battus/1244094', 'urlToImage': 'https://medias.lequipe.fr/img-photo-jpg/theo-maledon-dimanche-a-toronto-k-klement-usa-today-reuters/1500000001477812/0:0,1997:1331-640-427-75/36ff9.jpg', 'publishedAt': '2021-04-19T06:19:00+00:00', 'content': \"C'est tout sauf une surprise. Avec son effectif très rajeuni, Oklahoma City plonge sans que Théo Maledon ne puisse y faire grand-chose. Le Thunder a toujours été dans le coup à Toronto avec 9 points … [+1590 chars]\"}]}\n"
     ]
    }
   ],
   "source": [
    "import requests\n",
    "key='73bbb95f8ecb49b499113a46481b4af1'\n",
    "url ='https://newsapi.org/v2/top-headlines?sources=lequipe&apiKey='+key\n",
    "response = requests.get(url)\n",
    "\n",
    "# Here the response format is a json file, it is used as a dictionary\n",
    "\n",
    "print (response.json())"
   ]
  },
  {
   "cell_type": "code",
   "execution_count": 19,
   "metadata": {},
   "outputs": [
    {
     "name": "stdout",
     "output_type": "stream",
     "text": [
      "dict_keys(['status', 'totalResults', 'articles'])\n"
     ]
    }
   ],
   "source": [
    "dic=response.json()\n",
    "print(dic.keys())"
   ]
  },
  {
   "cell_type": "code",
   "execution_count": 20,
   "metadata": {
    "scrolled": true
   },
   "outputs": [
    {
     "name": "stdout",
     "output_type": "stream",
     "text": [
      "##############################################\n",
      "clé:  status // values:  ok\n",
      "##############################################\n",
      "clé:  totalResults // values:  10\n",
      "##############################################\n",
      "clé:  articles // values:  [{'source': {'id': 'lequipe', 'name': \"L'equipe\"}, 'author': \"L'EQUIPE\", 'title': \"Orlane Kanor victime d'une rupture du tendon d'Achille et forfait pour les Jeux Olympiques\", 'description': \"L'arrière gauche des Bleues Orlane Kanor (23 ans) s'est blessée samedi lors du stage de l'équipe de France. La Messine souffre d'une rupture du tendon d'Achille gauche et manquera les Jeux Olympiques de Tokyo.\", 'url': 'https://www.lequipe.fr/Handball/Actualites/Orlane-kanor-victime-d-une-rupture-du-tendon-d-achille-et-forfait-pour-les-jeux-olympiques/1244112', 'urlToImage': 'https://medias.lequipe.fr/img-photo-jpg/orlane-kanor-a-l-entrainement-avec-les-bleues-jeudi-dernier-s-boue-l-equipe/1500000001477836/211:125,1835:1207-640-427-75/4c326.jpg', 'publishedAt': '2021-04-19T08:22:00+00:00', 'content': \"Après l'arrière droite de Besançon Aïssatou Kouyaté (genou gauche), après la capitaine Siraba Dembélé (tendon d'Achille droit), une autre joueuse de l'équipe de France voit ses rêves olympiques s'env… [+884 chars]\"}, {'source': {'id': 'lequipe', 'name': \"L'equipe\"}, 'author': \"L'EQUIPE\", 'title': 'Brendan Rodgers (Leicester) : «\\xa0Ne gâchez pas ma joie avec la Super Ligue\\xa0»', 'description': \"L'entraîneur des Foxes a refusé d'évoquer la Super Ligue, dimanche en conférence de presse, préférant se concentrer sur la performance de son équipe, qualifiée pour la finale de la Cup après sa victoire face à Southampton (1-0).\", 'url': 'https://www.lequipe.fr/Football/Actualites/Brendan-rodgers-leicester-ne-gachez-pas-ma-joie-avec-la-super-ligue/1244109', 'urlToImage': 'https://medias.lequipe.fr/img-video-cover/1500000001477826/640/0', 'publishedAt': '2021-04-19T08:07:00+00:00', 'content': \"Brendan Rodgers, entraîneur de Leicester (après la victoire face à Southampton, 1-0) : « Pour être honnête, je n'ai pas envie de parler de la Super Ligue. Je ne me concentre que sur Leicester. Ne gâc… [+322 chars]\"}, {'source': {'id': 'lequipe', 'name': \"L'equipe\"}, 'author': \"L'EQUIPE\", 'title': \"Blaise Matuidi et l'Inter Miami battus d'entrée en MLS\", 'description': \"Le Los Angeles Galaxy et Samuel Grandsir se sont imposés sur le terrain de l'Inter Miami de Blaise Matuidi en MLS.\", 'url': 'https://www.lequipe.fr/Football/Actualites/Blaise-matuidi-et-l-inter-miami-battus-d-entree-en-mls/1244107', 'urlToImage': 'https://medias.lequipe.fr/img-photo-jpg/blaise-matuidi-et-l-inter-miami-battus-par-la-galaxy-en-ouverture-de-la-saison-de-mls-s-roberts-u/1500000001477833/0:0,1403:1403-640-640-75/b4675.jpg', 'publishedAt': '2021-04-19T08:03:00+00:00', 'content': \"Onze Français vont évoluer en MLS cette saison. Pour sa découverte de la compétition, l'ancien milieu de terrain brestois Samuel Grandsir s'est imposé avec le Galaxy de Los Angeles sur le terrain de … [+653 chars]\"}, {'source': {'id': 'lequipe', 'name': \"L'equipe\"}, 'author': \"L'EQUIPE\", 'title': 'Examens médicaux pour Kevin Durant (Brooklyn Nets), touché à une cuisse contre Miami', 'description': 'Rapidement sorti dimanche à Miami, Kevin Durant (Brooklyn Nets) doit passer des examens ce lundi pour connaître la gravité de sa blessure à la cuisse gauche.', 'url': 'https://www.lequipe.fr/Basket/Actualites/Examens-medicaux-pour-kevin-durant-brooklyn-nets-touche-a-une-cuisse-contre-miami/1244106', 'urlToImage': 'https://medias.lequipe.fr/img-photo-jpg/kevin-durant-avec-steve-nash-au-moment-de-sa-sortie-du-terrain-ce-dimanche-j-rassol-usa-today-reu/1500000001477832/0:0,1990:1327-640-427-75/57367.jpg', 'publishedAt': '2021-04-19T07:50:00+00:00', 'content': \"L'ailier texan a été victime d'un coup sur la cuisse gauche lors d'un choc avec Trevor Ariza. Le coach des Nets, Steve Nash, a annoncé à l'issue du match que Durant passera des examens lundi pour sav… [+111 chars]\"}, {'source': {'id': 'lequipe', 'name': \"L'equipe\"}, 'author': \"L'EQUIPE\", 'title': 'Surf\\xa0: Johanne Defay déboulonne Tyler Wright et file en quarts', 'description': \"Johanne Defay s'est qualifiée ce lundi à Narrabeen (Australie) pour les quarts de finale de la 3e manche du circuit pro en éliminant la double championne du monde Tyler Wright.\", 'url': 'https://www.lequipe.fr/Adrenaline/Surf/Actualites/Surf-johanne-defay-deboulonne-tyler-wright-et-file-en-quarts/1244105', 'urlToImage': 'https://medias.lequipe.fr/img-photo-jpg/johanne-defay-ce-lundi-a-narrabeen-c-miers-world-surf-league-via-getty-images/1500000001477829/232:78,1763:1099-640-427-75/62d7c.jpg', 'publishedAt': '2021-04-19T07:34:00+00:00', 'content': 'Après un tour de repêchage parfaitement bien maîtrisé, Johanne Defay a poursuivi sur sa lancée en signant une belle performance en 8es de finale, ce lundi à Narrabeen (Australie), théâtre de la trois… [+1493 chars]'}, {'source': {'id': 'lequipe', 'name': \"L'equipe\"}, 'author': \"L'EQUIPE\", 'title': 'Le projet de Super Ligue  contraire aux valeurs européennes selon un vice-président de la Commission de Bru...', 'description': \"Le projet de Super Ligue porté par une douzaine de clubs parmi les plus riches en Europe est contraire aux valeurs européennes de «\\xa0diversité\\xa0» et d'«\\xa0inclusion\\xa0», a estimé lundi un des vice-présidents de la Commission européenne.\", 'url': 'https://www.lequipe.fr/Football/Actualites/Le-projet-de-super-ligue-contraire-aux-valeurs-europeennes-selon-un-vice-president-de-la-commission-de-bruxelles/1244102', 'urlToImage': 'https://medias.lequipe.fr/img-photo-jpg/real-liverpool-deux-clubs-a-l-origine-de-la-super-ligue-b-cremel-l-equipe/1500000001477822/0:0,1331:1331-640-640-75/fc339.jpg', 'publishedAt': '2021-04-19T07:18:00+00:00', 'content': \"Le projet de Super Ligue porté par une douzaine de clubs parmi les plus riches en Europe est contraire aux valeurs européennes de «\\xa0diversité\\xa0» et d'«\\xa0inclusion\\xa0», a estimé lundi un des vice-présiden… [+445 chars]\"}, {'source': {'id': 'lequipe', 'name': \"L'equipe\"}, 'author': \"L'EQUIPE\", 'title': 'Les fans anglais unis contre la Super Ligue', 'description': 'Les fans des clubs de Premier League concernés par le projet de Super Ligue lancé dimanche ont uni leurs voix pour condamner cette décision.', 'url': 'https://www.lequipe.fr/Football/Actualites/Les-fans-anglais-unis-contre-la-super-ligue/1244099', 'urlToImage': 'https://medias.lequipe.fr/img-photo-jpg/les-fans-de-tottenham-et-de-chelsea-pour-une-fois-sur-la-meme-longueur-d-onde-m-leech-offside-pre/1500000001477821/0:0,1995:1330-640-427-75/a6ee9.jpg', 'publishedAt': '2021-04-19T06:55:00+00:00', 'content': 'Les fans des clubs de Premier League concernés par le projet de Super Ligue (Manchester City et United, Liverpool, Arsenal, Chelsea et Tottenham) lancé dimanche ont uni leurs voix pour condamner cett… [+674 chars]'}, {'source': {'id': 'lequipe', 'name': \"L'equipe\"}, 'author': \"L'EQUIPE\", 'title': 'Stewart Cink remporte le RBC Heritage', 'description': \"Sans grande surprise Stewart Cink s'est imposé au RBC Heritage ce dimanche. Son 70 final lui permettait d'atteindre -19 et de s'imposer avec quatre coups d'avance sur Harold Varner.\", 'url': 'https://www.lequipe.fr/Golf/Actualites/Stewart-cink-remporte-le-rbc-heritage/1244098', 'urlToImage': 'https://medias.lequipe.fr/img-photo-jpg/stewart-cink-est-avec-bryson-dechambeau-le-seul-multiple-vainqueur-cette-saison-p-smith-getty-ima/1500000001477819/251:0,1583:1332-640-640-75/275f3.jpg', 'publishedAt': '2021-04-19T06:45:00+00:00', 'content': \"Le vétéran américain Stewart Cink, 47 ans, a remporté ce dimanche le RBC Heritage à Hilton Head (Caroline du Sud). Avec un total de -19, Cink compte avec quatre coups d'avance sur son compatriote Har… [+1051 chars]\"}, {'source': {'id': 'lequipe', 'name': \"L'equipe\"}, 'author': \"L'EQUIPE\", 'title': 'Super Ligue\\xa0: la FIFA «\\xa0ne peut que désapprouver une Ligue européenne fermée et dissidente\\xa0»', 'description': \"La FIFA a réagi lundi après l'annonce du lancement par douze clubs européens de leur Super Ligue, une compétition privée vouée à supplanter la Ligue des champions.\", 'url': 'https://www.lequipe.fr/Football/Actualites/Super-ligue-la-fifa-ne-peut-que-desapprouver-une-ligue-europeenne-fermee-et-dissidente/1244095', 'urlToImage': 'https://medias.lequipe.fr/img-video-cover/1500000001477824/640/0', 'publishedAt': '2021-04-19T06:28:00+00:00', 'content': \"«\\xa0La FIFA veut clarifier qu'elle se positionne fermement en faveur de la solidarité dans le football et d'un modèle de redistribution équitable\\xa0», écrit dans un communiqué l'instance basée à Zurich. … [+229 chars]\"}, {'source': {'id': 'lequipe', 'name': \"L'equipe\"}, 'author': \"L'EQUIPE\", 'title': 'En NBA, Théo Maledon et Oklahoma City encore battus', 'description': \"Le Thunder a concédé sa dixième défaite de suite, dimanche à Toronto (112-106). Les Sacramento Kings leur ont montré comment faire désormais puisqu'ils ont eux-mêmes stoppé une série de neuf revers en allant gagner à Dallas (107-121).\", 'url': 'https://www.lequipe.fr/Basket/Actualites/En-nba-theo-maledon-et-oklahoma-city-encore-battus/1244094', 'urlToImage': 'https://medias.lequipe.fr/img-photo-jpg/theo-maledon-dimanche-a-toronto-k-klement-usa-today-reuters/1500000001477812/0:0,1997:1331-640-427-75/36ff9.jpg', 'publishedAt': '2021-04-19T06:19:00+00:00', 'content': \"C'est tout sauf une surprise. Avec son effectif très rajeuni, Oklahoma City plonge sans que Théo Maledon ne puisse y faire grand-chose. Le Thunder a toujours été dans le coup à Toronto avec 9 points … [+1590 chars]\"}]\n"
     ]
    }
   ],
   "source": [
    "for elem in list(dic.keys()):\n",
    "    print('##############################################')\n",
    "    print(\"clé: \",elem,\"// values: \", dic[elem])"
   ]
  },
  {
   "cell_type": "code",
   "execution_count": 21,
   "metadata": {
    "scrolled": true
   },
   "outputs": [
    {
     "name": "stdout",
     "output_type": "stream",
     "text": [
      "###############################################\n",
      "(0, {'source': {'id': 'lequipe', 'name': \"L'equipe\"}, 'author': \"L'EQUIPE\", 'title': \"Orlane Kanor victime d'une rupture du tendon d'Achille et forfait pour les Jeux Olympiques\", 'description': \"L'arrière gauche des Bleues Orlane Kanor (23 ans) s'est blessée samedi lors du stage de l'équipe de France. La Messine souffre d'une rupture du tendon d'Achille gauche et manquera les Jeux Olympiques de Tokyo.\", 'url': 'https://www.lequipe.fr/Handball/Actualites/Orlane-kanor-victime-d-une-rupture-du-tendon-d-achille-et-forfait-pour-les-jeux-olympiques/1244112', 'urlToImage': 'https://medias.lequipe.fr/img-photo-jpg/orlane-kanor-a-l-entrainement-avec-les-bleues-jeudi-dernier-s-boue-l-equipe/1500000001477836/211:125,1835:1207-640-427-75/4c326.jpg', 'publishedAt': '2021-04-19T08:22:00+00:00', 'content': \"Après l'arrière droite de Besançon Aïssatou Kouyaté (genou gauche), après la capitaine Siraba Dembélé (tendon d'Achille droit), une autre joueuse de l'équipe de France voit ses rêves olympiques s'env… [+884 chars]\"})\n",
      "###############################################\n",
      "(1, {'source': {'id': 'lequipe', 'name': \"L'equipe\"}, 'author': \"L'EQUIPE\", 'title': 'Brendan Rodgers (Leicester) : «\\xa0Ne gâchez pas ma joie avec la Super Ligue\\xa0»', 'description': \"L'entraîneur des Foxes a refusé d'évoquer la Super Ligue, dimanche en conférence de presse, préférant se concentrer sur la performance de son équipe, qualifiée pour la finale de la Cup après sa victoire face à Southampton (1-0).\", 'url': 'https://www.lequipe.fr/Football/Actualites/Brendan-rodgers-leicester-ne-gachez-pas-ma-joie-avec-la-super-ligue/1244109', 'urlToImage': 'https://medias.lequipe.fr/img-video-cover/1500000001477826/640/0', 'publishedAt': '2021-04-19T08:07:00+00:00', 'content': \"Brendan Rodgers, entraîneur de Leicester (après la victoire face à Southampton, 1-0) : « Pour être honnête, je n'ai pas envie de parler de la Super Ligue. Je ne me concentre que sur Leicester. Ne gâc… [+322 chars]\"})\n",
      "###############################################\n",
      "(2, {'source': {'id': 'lequipe', 'name': \"L'equipe\"}, 'author': \"L'EQUIPE\", 'title': \"Blaise Matuidi et l'Inter Miami battus d'entrée en MLS\", 'description': \"Le Los Angeles Galaxy et Samuel Grandsir se sont imposés sur le terrain de l'Inter Miami de Blaise Matuidi en MLS.\", 'url': 'https://www.lequipe.fr/Football/Actualites/Blaise-matuidi-et-l-inter-miami-battus-d-entree-en-mls/1244107', 'urlToImage': 'https://medias.lequipe.fr/img-photo-jpg/blaise-matuidi-et-l-inter-miami-battus-par-la-galaxy-en-ouverture-de-la-saison-de-mls-s-roberts-u/1500000001477833/0:0,1403:1403-640-640-75/b4675.jpg', 'publishedAt': '2021-04-19T08:03:00+00:00', 'content': \"Onze Français vont évoluer en MLS cette saison. Pour sa découverte de la compétition, l'ancien milieu de terrain brestois Samuel Grandsir s'est imposé avec le Galaxy de Los Angeles sur le terrain de … [+653 chars]\"})\n",
      "###############################################\n",
      "(3, {'source': {'id': 'lequipe', 'name': \"L'equipe\"}, 'author': \"L'EQUIPE\", 'title': 'Examens médicaux pour Kevin Durant (Brooklyn Nets), touché à une cuisse contre Miami', 'description': 'Rapidement sorti dimanche à Miami, Kevin Durant (Brooklyn Nets) doit passer des examens ce lundi pour connaître la gravité de sa blessure à la cuisse gauche.', 'url': 'https://www.lequipe.fr/Basket/Actualites/Examens-medicaux-pour-kevin-durant-brooklyn-nets-touche-a-une-cuisse-contre-miami/1244106', 'urlToImage': 'https://medias.lequipe.fr/img-photo-jpg/kevin-durant-avec-steve-nash-au-moment-de-sa-sortie-du-terrain-ce-dimanche-j-rassol-usa-today-reu/1500000001477832/0:0,1990:1327-640-427-75/57367.jpg', 'publishedAt': '2021-04-19T07:50:00+00:00', 'content': \"L'ailier texan a été victime d'un coup sur la cuisse gauche lors d'un choc avec Trevor Ariza. Le coach des Nets, Steve Nash, a annoncé à l'issue du match que Durant passera des examens lundi pour sav… [+111 chars]\"})\n",
      "###############################################\n",
      "(4, {'source': {'id': 'lequipe', 'name': \"L'equipe\"}, 'author': \"L'EQUIPE\", 'title': 'Surf\\xa0: Johanne Defay déboulonne Tyler Wright et file en quarts', 'description': \"Johanne Defay s'est qualifiée ce lundi à Narrabeen (Australie) pour les quarts de finale de la 3e manche du circuit pro en éliminant la double championne du monde Tyler Wright.\", 'url': 'https://www.lequipe.fr/Adrenaline/Surf/Actualites/Surf-johanne-defay-deboulonne-tyler-wright-et-file-en-quarts/1244105', 'urlToImage': 'https://medias.lequipe.fr/img-photo-jpg/johanne-defay-ce-lundi-a-narrabeen-c-miers-world-surf-league-via-getty-images/1500000001477829/232:78,1763:1099-640-427-75/62d7c.jpg', 'publishedAt': '2021-04-19T07:34:00+00:00', 'content': 'Après un tour de repêchage parfaitement bien maîtrisé, Johanne Defay a poursuivi sur sa lancée en signant une belle performance en 8es de finale, ce lundi à Narrabeen (Australie), théâtre de la trois… [+1493 chars]'})\n",
      "###############################################\n",
      "(5, {'source': {'id': 'lequipe', 'name': \"L'equipe\"}, 'author': \"L'EQUIPE\", 'title': 'Le projet de Super Ligue  contraire aux valeurs européennes selon un vice-président de la Commission de Bru...', 'description': \"Le projet de Super Ligue porté par une douzaine de clubs parmi les plus riches en Europe est contraire aux valeurs européennes de «\\xa0diversité\\xa0» et d'«\\xa0inclusion\\xa0», a estimé lundi un des vice-présidents de la Commission européenne.\", 'url': 'https://www.lequipe.fr/Football/Actualites/Le-projet-de-super-ligue-contraire-aux-valeurs-europeennes-selon-un-vice-president-de-la-commission-de-bruxelles/1244102', 'urlToImage': 'https://medias.lequipe.fr/img-photo-jpg/real-liverpool-deux-clubs-a-l-origine-de-la-super-ligue-b-cremel-l-equipe/1500000001477822/0:0,1331:1331-640-640-75/fc339.jpg', 'publishedAt': '2021-04-19T07:18:00+00:00', 'content': \"Le projet de Super Ligue porté par une douzaine de clubs parmi les plus riches en Europe est contraire aux valeurs européennes de «\\xa0diversité\\xa0» et d'«\\xa0inclusion\\xa0», a estimé lundi un des vice-présiden… [+445 chars]\"})\n",
      "###############################################\n",
      "(6, {'source': {'id': 'lequipe', 'name': \"L'equipe\"}, 'author': \"L'EQUIPE\", 'title': 'Les fans anglais unis contre la Super Ligue', 'description': 'Les fans des clubs de Premier League concernés par le projet de Super Ligue lancé dimanche ont uni leurs voix pour condamner cette décision.', 'url': 'https://www.lequipe.fr/Football/Actualites/Les-fans-anglais-unis-contre-la-super-ligue/1244099', 'urlToImage': 'https://medias.lequipe.fr/img-photo-jpg/les-fans-de-tottenham-et-de-chelsea-pour-une-fois-sur-la-meme-longueur-d-onde-m-leech-offside-pre/1500000001477821/0:0,1995:1330-640-427-75/a6ee9.jpg', 'publishedAt': '2021-04-19T06:55:00+00:00', 'content': 'Les fans des clubs de Premier League concernés par le projet de Super Ligue (Manchester City et United, Liverpool, Arsenal, Chelsea et Tottenham) lancé dimanche ont uni leurs voix pour condamner cett… [+674 chars]'})\n",
      "###############################################\n",
      "(7, {'source': {'id': 'lequipe', 'name': \"L'equipe\"}, 'author': \"L'EQUIPE\", 'title': 'Stewart Cink remporte le RBC Heritage', 'description': \"Sans grande surprise Stewart Cink s'est imposé au RBC Heritage ce dimanche. Son 70 final lui permettait d'atteindre -19 et de s'imposer avec quatre coups d'avance sur Harold Varner.\", 'url': 'https://www.lequipe.fr/Golf/Actualites/Stewart-cink-remporte-le-rbc-heritage/1244098', 'urlToImage': 'https://medias.lequipe.fr/img-photo-jpg/stewart-cink-est-avec-bryson-dechambeau-le-seul-multiple-vainqueur-cette-saison-p-smith-getty-ima/1500000001477819/251:0,1583:1332-640-640-75/275f3.jpg', 'publishedAt': '2021-04-19T06:45:00+00:00', 'content': \"Le vétéran américain Stewart Cink, 47 ans, a remporté ce dimanche le RBC Heritage à Hilton Head (Caroline du Sud). Avec un total de -19, Cink compte avec quatre coups d'avance sur son compatriote Har… [+1051 chars]\"})\n",
      "###############################################\n",
      "(8, {'source': {'id': 'lequipe', 'name': \"L'equipe\"}, 'author': \"L'EQUIPE\", 'title': 'Super Ligue\\xa0: la FIFA «\\xa0ne peut que désapprouver une Ligue européenne fermée et dissidente\\xa0»', 'description': \"La FIFA a réagi lundi après l'annonce du lancement par douze clubs européens de leur Super Ligue, une compétition privée vouée à supplanter la Ligue des champions.\", 'url': 'https://www.lequipe.fr/Football/Actualites/Super-ligue-la-fifa-ne-peut-que-desapprouver-une-ligue-europeenne-fermee-et-dissidente/1244095', 'urlToImage': 'https://medias.lequipe.fr/img-video-cover/1500000001477824/640/0', 'publishedAt': '2021-04-19T06:28:00+00:00', 'content': \"«\\xa0La FIFA veut clarifier qu'elle se positionne fermement en faveur de la solidarité dans le football et d'un modèle de redistribution équitable\\xa0», écrit dans un communiqué l'instance basée à Zurich. … [+229 chars]\"})\n",
      "###############################################\n",
      "(9, {'source': {'id': 'lequipe', 'name': \"L'equipe\"}, 'author': \"L'EQUIPE\", 'title': 'En NBA, Théo Maledon et Oklahoma City encore battus', 'description': \"Le Thunder a concédé sa dixième défaite de suite, dimanche à Toronto (112-106). Les Sacramento Kings leur ont montré comment faire désormais puisqu'ils ont eux-mêmes stoppé une série de neuf revers en allant gagner à Dallas (107-121).\", 'url': 'https://www.lequipe.fr/Basket/Actualites/En-nba-theo-maledon-et-oklahoma-city-encore-battus/1244094', 'urlToImage': 'https://medias.lequipe.fr/img-photo-jpg/theo-maledon-dimanche-a-toronto-k-klement-usa-today-reuters/1500000001477812/0:0,1997:1331-640-427-75/36ff9.jpg', 'publishedAt': '2021-04-19T06:19:00+00:00', 'content': \"C'est tout sauf une surprise. Avec son effectif très rajeuni, Oklahoma City plonge sans que Théo Maledon ne puisse y faire grand-chose. Le Thunder a toujours été dans le coup à Toronto avec 9 points … [+1590 chars]\"})\n"
     ]
    }
   ],
   "source": [
    "# And now we have lists in dictionaries it's json but it's always the same thing\n",
    "# We will discover the information of the article key\n",
    "for elem in enumerate(dic['articles']):\n",
    "    print('###############################################')\n",
    "    print(elem)"
   ]
  },
  {
   "cell_type": "code",
   "execution_count": 22,
   "metadata": {},
   "outputs": [
    {
     "name": "stdout",
     "output_type": "stream",
     "text": [
      " Key :  source Values :  {'id': 'lequipe', 'name': \"L'equipe\"}\n",
      " Key :  author Values :  L'EQUIPE\n",
      " Key :  title Values :  Orlane Kanor victime d'une rupture du tendon d'Achille et forfait pour les Jeux Olympiques\n",
      " Key :  description Values :  L'arrière gauche des Bleues Orlane Kanor (23 ans) s'est blessée samedi lors du stage de l'équipe de France. La Messine souffre d'une rupture du tendon d'Achille gauche et manquera les Jeux Olympiques de Tokyo.\n",
      " Key :  url Values :  https://www.lequipe.fr/Handball/Actualites/Orlane-kanor-victime-d-une-rupture-du-tendon-d-achille-et-forfait-pour-les-jeux-olympiques/1244112\n",
      " Key :  urlToImage Values :  https://medias.lequipe.fr/img-photo-jpg/orlane-kanor-a-l-entrainement-avec-les-bleues-jeudi-dernier-s-boue-l-equipe/1500000001477836/211:125,1835:1207-640-427-75/4c326.jpg\n",
      " Key :  publishedAt Values :  2021-04-19T08:22:00+00:00\n",
      " Key :  content Values :  Après l'arrière droite de Besançon Aïssatou Kouyaté (genou gauche), après la capitaine Siraba Dembélé (tendon d'Achille droit), une autre joueuse de l'équipe de France voit ses rêves olympiques s'env… [+884 chars]\n"
     ]
    }
   ],
   "source": [
    "# So if we keep going, it gives us another dictionary!\n",
    "for elem in dic['articles'][0].keys():\n",
    "    print(' Key : ',elem,'Values : ',dic['articles'][0][elem])"
   ]
  },
  {
   "cell_type": "markdown",
   "metadata": {},
   "source": [
    "### Make a script that allows you to take details of the last ten news from the team or another site. Store them in a nice csv or excel file"
   ]
  },
  {
   "cell_type": "code",
   "execution_count": null,
   "metadata": {},
   "outputs": [],
   "source": []
  }
 ],
 "metadata": {
  "kernelspec": {
   "display_name": "Python 3",
   "language": "python",
   "name": "python3"
  },
  "language_info": {
   "codemirror_mode": {
    "name": "ipython",
    "version": 3
   },
   "file_extension": ".py",
   "mimetype": "text/x-python",
   "name": "python",
   "nbconvert_exporter": "python",
   "pygments_lexer": "ipython3",
   "version": "3.8.5"
  }
 },
 "nbformat": 4,
 "nbformat_minor": 2
}
