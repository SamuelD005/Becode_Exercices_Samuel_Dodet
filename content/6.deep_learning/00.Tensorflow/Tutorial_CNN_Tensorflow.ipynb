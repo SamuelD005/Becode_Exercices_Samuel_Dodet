## Useful links:
- https://machinelearningmastery.com/difference-between-a-batch-and-an-epoch/
- https://adventuresinmachinelearning.com/convolutional-neural-networks-tutorial-tensorflow/
- https://machinelearningmastery.com/introduction-to-regularization-to-reduce-overfitting-and-improve-generalization-error/
  
