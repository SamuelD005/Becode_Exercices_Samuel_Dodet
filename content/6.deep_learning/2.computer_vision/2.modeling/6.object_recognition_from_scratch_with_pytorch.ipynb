{
 "cells": [
  {
   "cell_type": "markdown",
   "metadata": {},
   "source": [
    "# Object recognition in pytorch\n",
    "\n",
    "Pytorch is our trusty counterpart to keras/tensorflow, and since both are in use in the world of **deep learning**, we'll let you have a go with pytorch as well!\n",
    "\n",
    "We'll go through the steps pretty quickly, together!\n",
    "\n",
    "## Examining the data"
   ]
  },
  {
   "cell_type": "code",
   "execution_count": null,
   "metadata": {},
   "outputs": [],
   "source": [
    "!wget -N https://storage.googleapis.com/quickdraw_dataset/full/numpy_bitmap/dog.npy -P ../assets/\n",
    "!wget -N https://storage.googleapis.com/quickdraw_dataset/full/numpy_bitmap/cat.npy -P ../assets/"
   ]
  },
  {
   "cell_type": "code",
   "execution_count": null,
   "metadata": {},
   "outputs": [],
   "source": [
    "import numpy as np\n",
    "from matplotlib import pyplot as plt\n",
    "dogs = np.load(\"../assets/dog.npy\")\n",
    "cats = np.load(\"../assets/cat.npy\")\n",
    "\n",
    "plt.bar([0,1], [dogs.shape[0], cats.shape[0]])\n",
    "plt.title('dataset sizes')\n",
    "plt.xticks([0,1], ['dogs', 'cats'])\n",
    "plt.ylabel('number of samples');"
   ]
  },
  {
   "cell_type": "code",
   "execution_count": null,
   "metadata": {},
   "outputs": [],
   "source": [
    "def plot_raster(image):\n",
    "    plt.imshow(image, cmap=\"gray\")\n",
    "    plt.axis('off')\n",
    "\n",
    "dog_sample = dogs[0].reshape(28,28)\n",
    "plot_raster(dog_sample)"
   ]
  },
  {
   "cell_type": "code",
   "execution_count": null,
   "metadata": {},
   "outputs": [],
   "source": [
    "cat_sample = cats[1].reshape(28,28)\n",
    "plot_raster(cat_sample)"
   ]
  },
  {
   "cell_type": "code",
   "execution_count": null,
   "metadata": {},
   "outputs": [],
   "source": [
    "# balance datasets\n",
    "max_samples = 20000\n",
    "preprocessed_cats = cats[:max_samples].reshape(-1,28,28)\n",
    "preprocessed_dogs = dogs[:max_samples].reshape(-1,28,28)\n",
    "\n",
    "# Normalizing\n",
    "preprocessed_cats = preprocessed_cats/255\n",
    "preprocessed_dogs = preprocessed_dogs/255\n",
    "\n",
    "plt.bar([0,1], [preprocessed_dogs.shape[0], preprocessed_cats.shape[0]])\n",
    "plt.title('dataset sizes')\n",
    "plt.xticks([0,1], ['dogs', 'cats'])\n",
    "plt.ylabel('number of samples');\n",
    "\n",
    "print(preprocessed_dogs[0])"
   ]
  },
  {
   "cell_type": "markdown",
   "metadata": {},
   "source": [
    "## Preprocessing data for pytorch"
   ]
  },
  {
   "cell_type": "code",
   "execution_count": null,
   "metadata": {},
   "outputs": [],
   "source": [
    "import torch\n",
    "from torch.utils.data import DataLoader\n",
    "from sklearn.model_selection import train_test_split\n",
    "\n",
    "data = np.concatenate((preprocessed_cats, preprocessed_dogs))\n",
    "labels = np.concatenate((np.zeros(len(preprocessed_cats)), np.ones(len(preprocessed_dogs))))\n",
    "\n",
    "# include number of channels for pytorch input (amount, channels, height, width)\n",
    "data = np.expand_dims(data, axis=1)\n",
    "\n",
    "# split data in train/val/test set\n",
    "train_val_data, test_data, train_val_labels, test_labels = train_test_split(\n",
    "    data, \n",
    "    labels,\n",
    "    test_size=0.2, \n",
    "    random_state=42, \n",
    "    shuffle=True\n",
    ")\n",
    "\n",
    "train_data, val_data, train_labels, val_labels = train_test_split(\n",
    "    train_val_data, \n",
    "    train_val_labels,\n",
    "    test_size=0.3, \n",
    "    random_state=42, \n",
    "    shuffle=True\n",
    ")\n"
   ]
  },
  {
   "cell_type": "code",
   "execution_count": null,
   "metadata": {},
   "outputs": [],
   "source": [
    "import torch\n",
    "\n",
    "# We select the GPU if we have one, else the CPU\n",
    "device = torch.device(\"cuda:0\" if torch.cuda.is_available() else \"cpu\")\n",
    "print(f\"Primary device is {str(device).upper()}\")\n",
    "\n",
    "# pytorch requires data of tensor format, not ndarrays\n",
    "train_data = torch.tensor(train_data, dtype=torch.float32)\n",
    "val_data = torch.tensor(val_data, dtype=torch.float32)\n",
    "test_data = torch.tensor(test_data, dtype=torch.float32)\n",
    "\n",
    "train_labels = torch.tensor(train_labels, dtype=torch.long)\n",
    "val_labels = torch.tensor(val_labels, dtype=torch.long)\n",
    "test_labels = torch.tensor(test_labels, dtype=torch.long)"
   ]
  },
  {
   "cell_type": "markdown",
   "metadata": {},
   "source": [
    "## Composing and evaluating the model\n",
    "\n",
    "The final model composed in the [keras object recognition example](./3.object_recognition_with_keras.ipynb) seems to perform pretty well, so let's just remake the structure from there!\n",
    "\n",
    "You'll find the model structure a few cells below. This should give you all the information you need to be able to recreate it. Have a go at it!\n",
    "\n",
    "We'll use a `ReLu()` in the Linear layers too, but we **ARE NOT** using `SoftMax()` in the last layer. We are just leaving it be, without any activation function."
   ]
  },
  {
   "cell_type": "code",
   "execution_count": null,
   "metadata": {},
   "outputs": [],
   "source": [
    "import torch.nn as nn\n",
    "\n",
    "class ConvNet(nn.Module):\n",
    "    def __init__(self):\n",
    "        super(ConvNet, self).__init__()\n",
    "        # TO COMPLETE\n",
    "        pass\n",
    "    \n",
    "    def forward(self, x):\n",
    "        # TO COMPLETE\n",
    "        pass"
   ]
  },
  {
   "cell_type": "markdown",
   "metadata": {},
   "source": [
    "The model architecture should look like this when doing `print(model)`:\n",
    "\n",
    "```\n",
    "ConvNet(\n",
    "  (act): ReLU()\n",
    "  (convlayer1): Sequential(\n",
    "    (0): Conv2d(1, 32, kernel_size=(5, 5), stride=(1, 1), padding=(2, 2))\n",
    "    (1): ReLU()\n",
    "    (2): MaxPool2d(kernel_size=2, stride=2, padding=0, dilation=1, ceil_mode=False)\n",
    "  )\n",
    "  (convlayer2): Sequential(\n",
    "    (0): Conv2d(32, 32, kernel_size=(5, 5), stride=(1, 1), padding=(2, 2))\n",
    "    (1): ReLU()\n",
    "    (2): MaxPool2d(kernel_size=2, stride=2, padding=0, dilation=1, ceil_mode=False)\n",
    "  )\n",
    "  (denselayer1): Linear(in_features=1568, out_features=8, bias=True)\n",
    "  (denselayer2): Linear(in_features=8, out_features=4, bias=True)\n",
    "  (denselayer3): Linear(in_features=4, out_features=2, bias=True)\n",
    ")\n",
    "```"
   ]
  },
  {
   "cell_type": "markdown",
   "metadata": {},
   "source": [
    "Like said above, we are **not using a `Softmax()` activation**.\n",
    "Can you find out why ? \n",
    "\n",
    "*Hint: Take a closer look at [`nn.CrossEntropyLoss()`](https://pytorch.org/docs/stable/generated/torch.nn.CrossEntropyLoss.html)*"
   ]
  },
  {
   "cell_type": "markdown",
   "metadata": {},
   "source": [
    "We are going to run the model for `2` epochs, because it is all that is needed.\n",
    "We are going to `CrossEntropyLoss`, with the Adam optimizer and a `learning_rate` of `0.001` and a `batch_size` of `50`.\n",
    "\n",
    "After initializing the `model`, don't forget to upload it to the device `device` using `model.to(device)`"
   ]
  },
  {
   "cell_type": "code",
   "execution_count": null,
   "metadata": {},
   "outputs": [],
   "source": [
    "# TO COMPLETE\n",
    "\n"
   ]
  },
  {
   "cell_type": "markdown",
   "metadata": {},
   "source": [
    "Now that we have defined the model, the optimizer and the criterion, let's setup the training and validation loop.\n",
    "We have already defined the general structure of the training loop, you just have to complete the helper methods that we created."
   ]
  },
  {
   "cell_type": "code",
   "execution_count": null,
   "metadata": {},
   "outputs": [],
   "source": [
    "from typing import Tuple\n",
    "\n",
    "def get_batch(data: torch.tensor, \n",
    "              labels : torch.tensor, \n",
    "              index : int, \n",
    "              batch_size: int, \n",
    "              total_step: int, \n",
    "              device : torch.device)-> Tuple[torch.tensor, torch.tensor]:\n",
    "    \"\"\"\n",
    "    Get a batch of size `batch_size` at the given `index` of the \n",
    "    `data` and `labels`, then upload them to the `device`.\n",
    "    \n",
    "    \n",
    "    Returns\n",
    "    --------\n",
    "    (torch.tensor, torch.tensor)\n",
    "         - Images fed to the model\n",
    "         - Labels of the images\n",
    "    \"\"\"\n",
    "    \n",
    "    # TO COMPLETE\n",
    "    raise NotImplementedError()\n",
    "\n",
    "\n",
    "def forward_pass(model : torch.nn.Module, \n",
    "                 criterion : torch.nn.CrossEntropyLoss, \n",
    "                 images : torch.tensor, \n",
    "                 labels : torch.tensor) -> Tuple[torch.tensor, torch.tensor]:\n",
    "    \"\"\"Pass the `images` through the `model` for the forward pass,\n",
    "    and compute the loss between the predicted values and the `labels`\n",
    "    using the defined `criterion`.\n",
    "    \n",
    "    Returns\n",
    "    --------\n",
    "    (torch.tensor, torch.tensor)\n",
    "         - Prediction of the model\n",
    "         - Loss\n",
    "    \"\"\"\n",
    "\n",
    "    # TO COMPLETE\n",
    "    raise NotImplementedError()\n",
    "\n",
    "\n",
    "def backward_pass(optimizer : torch.optim.Optimizer, loss : torch.tensor) -> None:\n",
    "    \"\"\"\n",
    "    Propagate the `loss` backward in the model and update the\n",
    "    weights using the `optimizer`.\n",
    "    \"\"\"\n",
    "    # TO COMPLETE\n",
    "    raise NotImplementedError()\n",
    "\n",
    "\n",
    "def compute_accuracy(output_data : torch.tensor, labels : torch.tensor) -> float:\n",
    "    \"\"\"\n",
    "    Compute the accuracy between the predicted `output_data`\n",
    "    and the true `labels`.\n",
    "    \n",
    "    Returns\n",
    "    -------\n",
    "    float\n",
    "        Accuracy of the prediction\n",
    "    \"\"\"\n",
    "    # TO COMPLETE\n",
    "    raise NotImplementedError()\n"
   ]
  },
  {
   "cell_type": "code",
   "execution_count": null,
   "metadata": {},
   "outputs": [],
   "source": [
    "# Train the model\n",
    "total_step = len(train_data)\n",
    "train_loss_list = []\n",
    "val_loss_list = []\n",
    "train_acc_list = []\n",
    "val_acc_list = []\n",
    "\n",
    "model.train()\n",
    "\n",
    "for epoch in range(num_epochs):\n",
    "    ##### TRAINING LOOP #####\n",
    "    for index in range(0, total_step, batch_size):\n",
    "        images, labels = get_batch(train_data, train_labels, index, batch_size, total_step, device)\n",
    "        \n",
    "        # Run the forward pass\n",
    "        output_data, loss = forward_pass(model, criterion, images, labels)\n",
    "        train_loss_list.append(loss.item())\n",
    "\n",
    "        backward_pass(optimizer, loss)\n",
    "\n",
    "        # Track the accuracy\n",
    "        accuracy = compute_accuracy(output_data, labels)\n",
    "        train_acc_list.append(accuracy)\n",
    "        \n",
    "        # Print progress every `nb_batches` batches\n",
    "        nb_batches = 100\n",
    "        if index%(batch_size*nb_batches) == 0:\n",
    "            print(f\"Epoch [{epoch + 1}/{num_epochs}],\" \\\n",
    "                    f\"Step [{index + 1}/{total_step}],\" \\\n",
    "                    f\"Loss: {loss.item() :.4f},\" \\\n",
    "                    f\"Accuracy: {accuracy * 100 :.2f}%\")\n",
    "                          \n",
    "\n",
    "    ##### VALIDATION LOOP #####\n",
    "    epoch_val_acc_list = [] # Get the validation accuracy on a per epoch level\n",
    "    epoch_val_loss_list = [] # Get the validation loss on a per epoch level\n",
    "\n",
    "    for index in range(0, len(val_data), batch_size):\n",
    "        images, labels = get_batch(val_data, val_labels, index, batch_size, total_step, device)\n",
    "\n",
    "        output_data, loss = forward_pass(model, criterion, images, labels)\n",
    "        val_loss_list.append(loss.item())\n",
    "        epoch_val_loss_list.append(loss.item())\n",
    "        \n",
    "        # Track the accuracy\n",
    "        accuracy = compute_accuracy(output_data, labels)\n",
    "        val_acc_list.append(accuracy)\n",
    "        epoch_val_acc_list.append(accuracy)\n",
    "        \n",
    "    print(\"VALIDATION SET: \" \\\n",
    "             f\"Loss: {np.mean(epoch_val_loss_list) :.4f},\" \\\n",
    "            f\"Accuracy: {np.mean(epoch_val_acc_list) :.2f}%\" \\\n",
    "         )"
   ]
  },
  {
   "cell_type": "markdown",
   "metadata": {},
   "source": [
    "Below, we defined some helper functions to plot the loss and accuracy, as well as the moving average of it, to reduce the noise in the data. You can adjust the `window` parameter to have the average be more or less smooth."
   ]
  },
  {
   "cell_type": "code",
   "execution_count": null,
   "metadata": {},
   "outputs": [],
   "source": [
    "from matplotlib import pyplot as plt\n",
    "\n",
    "def moving_average(x, w): \n",
    "    \"\"\"Compute the moving average of `x` in a window of `w`\"\"\"\n",
    "    y_axis = np.convolve(x, np.ones(w), 'valid') / w\n",
    "    \n",
    "    # This is a hacky approach, do not use this in production\n",
    "    x_axis = np.linspace(0, num_epochs, len(y_axis))\n",
    "    return x_axis, y_axis\n",
    "\n",
    "def plot_moving_average(train_list, val_list, epochs, ma_window, title):\n",
    "    plt.figure()\n",
    "    train_x_axis = np.linspace(0, epochs, len(train_list))\n",
    "    val_x_axis = np.linspace(0, epochs, len(val_list))\n",
    "    plt.plot(train_x_axis, train_list, label=\"Training set\")\n",
    "    plt.plot(val_x_axis, val_list, label=\"Validation set\")\n",
    "\n",
    "    avg_train_x, avg_train_y = moving_average(train_list, window)\n",
    "    avg_val_x, avg_val_y = moving_average(val_list, window)\n",
    "\n",
    "    plt.plot(avg_train_x, avg_train_y, label=f\"Moving (train) average (w={window})\")\n",
    "    plt.plot(avg_val_x, avg_val_y,  label=f\"Moving (val) average (w={window})\")\n",
    "    \n",
    "    plt.xlabel('Epoch')\n",
    "    plt.ylabel(title)\n",
    "    plt.legend(loc='best')\n",
    "    lower_limit = 0.7 if title == 'Accuracy' else 0 \n",
    "    plt.ylim(lower_limit, 1)\n",
    "    \n",
    "window = 10 # Change the window to have a smoother curve\n",
    "plot_moving_average(train_acc_list, val_acc_list, num_epochs, window, \"Accuracy\")\n",
    "plot_moving_average(train_loss_list, val_loss_list, num_epochs, window, \"Loss\")"
   ]
  },
  {
   "cell_type": "code",
   "execution_count": null,
   "metadata": {},
   "outputs": [],
   "source": [
    "#Evaluate the model on the test set\n",
    "\n",
    "\n"
   ]
  },
  {
   "cell_type": "markdown",
   "metadata": {},
   "source": [
    "That final test score looks mighty fine, but that training curve looks so jittery! Can you guess why this is? Discuss with your colleagues! (hint: batch sizes)"
   ]
  },
  {
   "cell_type": "code",
   "execution_count": null,
   "metadata": {},
   "outputs": [],
   "source": [
    "# Save the model in a `ckpt` file format\n",
    "\n",
    "\n"
   ]
  }
 ],
 "metadata": {
  "kernelspec": {
   "display_name": "Python 3",
   "language": "python",
   "name": "python3"
  },
  "language_info": {
   "codemirror_mode": {
    "name": "ipython",
    "version": 3
   },
   "file_extension": ".py",
   "mimetype": "text/x-python",
   "name": "python",
   "nbconvert_exporter": "python",
   "pygments_lexer": "ipython3",
   "version": "3.8.5"
  }
 },
 "nbformat": 4,
 "nbformat_minor": 4
}
