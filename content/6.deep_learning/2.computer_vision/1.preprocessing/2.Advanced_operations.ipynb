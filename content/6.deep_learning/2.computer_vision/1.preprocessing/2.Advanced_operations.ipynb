{
 "cells": [
  {
   "cell_type": "markdown",
   "metadata": {},
   "source": [
    "# Advanced preprocessing\n",
    "\n",
    "## Morphological operations\n",
    "\n",
    "Let's dive a bit deeper. \n",
    "In order to have clearer images, ready for further processing, we have to clean them. Indeed, there is some \"recurrent noise\" in some images, the kind of noise that you often have to deal with.\n",
    "It can be noise coming from bad quality scanners or the ones that you find on old paper, and many more...\n",
    "\n",
    "To fix that, openCV has a bunch of methods that are very handy. \n",
    "\n",
    "Take the time [to read this](https://docs.opencv.org/master/d9/d61/tutorial_py_morphological_ops.html), you will need it!\n",
    "\n",
    "## Image thresholding\n",
    "\n",
    "Another hot topic in image preprocessing is image thresholding, which is basically deciding if a pixel should be white or black to remove the noise.\n",
    "[Here is the official documentation](https://docs.opencv.org/master/d7/d4d/tutorial_py_thresholding.html) about it.\n",
    "And [a well made article about it](https://medium.com/spinor/a-straightforward-introduction-to-image-thresholding-using-python-f1c085f02d5e).\n",
    "Take the time to read both, they are super useful.\n",
    "\n",
    "## Practice time\n",
    "Now that you start to see how powerful openCV is, let's take a concrete example.\n",
    "You want to detect the most recurrent words in a book. You scan the entire book and you end with pictures like that:\n",
    "\n",
    "<img src=\"./assets/book_original.jpg\" height=\"800\" />\n",
    "\n",
    "Play with openCV and try to get something like that:\n",
    "\n",
    "<img src=\"./assets/book_clean.jpg\" height=\"800\" />\n",
    "\n",
    "It doesn't have to be perfect, the goal here is **to learn how to use opencv**. You **don't need to care about the result**!"
   ]
  },
  {
   "cell_type": "code",
   "execution_count": null,
   "metadata": {},
   "outputs": [],
   "source": [
    "import cv2\n",
    "import numpy as np\n",
    "from matplotlib import pyplot as plt\n",
    "\n",
    "# Change display image size in notebook with matplotlib\n",
    "# ( https://www.mikulskibartosz.name/how-to-change-plot-size-in-jupyter-notebook/ ) \n",
    "plt.rcParams[\"figure.figsize\"] = (20,10)\n",
    "\n",
    "# Open the colored image with openCV \n",
    "# WARNING: openCV works with the BGR(blue, green, red) color map, whereas pyplot works with RGB\n",
    "img_BGR = cv2.imread('assets/book_original.jpg', cv2.IMREAD_COLOR)\n",
    "img_RGB = cv2.cvtColor(img_BGR, cv2.COLOR_BGR2RGB)\n",
    "\n",
    "#We can additionally convert it to grayscale\n",
    "img_GRAYSCALE =  cv2.cvtColor(img_BGR, cv2.COLOR_BGR2GRAY)\n",
    "\n",
    "\n",
    "# Display the image with openCV in notebook\n",
    "# In color\n",
    "plt.figure()\n",
    "plt.axis('off')\n",
    "plt.imshow(img_RGB)\n",
    "\n",
    "# In gray\n",
    "plt.figure()\n",
    "plt.axis('off')\n",
    "plt.imshow(img_GRAYSCALE, cmap='gray') # cmap='gray' is necessary to render it as a grayscale image"
   ]
  },
  {
   "cell_type": "code",
   "execution_count": null,
   "metadata": {},
   "outputs": [],
   "source": [
    "# Clean the image now!\n",
    "\n",
    "\n",
    "\n",
    "\n",
    "\n",
    "\n",
    "\n",
    "\n"
   ]
  }
 ],
 "metadata": {
  "kernelspec": {
   "display_name": "cv",
   "language": "python",
   "name": "cv"
  },
  "language_info": {
   "codemirror_mode": {
    "name": "ipython"
   },
   "file_extension": ".py",
   "mimetype": "text/x-python",
   "name": "python",
   "nbconvert_exporter": "python"
  }
 },
 "nbformat": 4,
 "nbformat_minor": 4
}
